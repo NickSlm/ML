{
 "cells": [
  {
   "cell_type": "code",
   "execution_count": 1,
   "id": "ab139718-a44e-4e99-8b38-667ef8f7567f",
   "metadata": {},
   "outputs": [
    {
     "name": "stderr",
     "output_type": "stream",
     "text": [
      "2024-05-12 16:08:44.199898: I external/local_tsl/tsl/cuda/cudart_stub.cc:31] Could not find cuda drivers on your machine, GPU will not be used.\n",
      "2024-05-12 16:08:44.345044: E external/local_xla/xla/stream_executor/cuda/cuda_dnn.cc:9261] Unable to register cuDNN factory: Attempting to register factory for plugin cuDNN when one has already been registered\n",
      "2024-05-12 16:08:44.345291: E external/local_xla/xla/stream_executor/cuda/cuda_fft.cc:607] Unable to register cuFFT factory: Attempting to register factory for plugin cuFFT when one has already been registered\n",
      "2024-05-12 16:08:44.373425: E external/local_xla/xla/stream_executor/cuda/cuda_blas.cc:1515] Unable to register cuBLAS factory: Attempting to register factory for plugin cuBLAS when one has already been registered\n",
      "2024-05-12 16:08:44.439057: I external/local_tsl/tsl/cuda/cudart_stub.cc:31] Could not find cuda drivers on your machine, GPU will not be used.\n",
      "2024-05-12 16:08:44.440797: I tensorflow/core/platform/cpu_feature_guard.cc:182] This TensorFlow binary is optimized to use available CPU instructions in performance-critical operations.\n",
      "To enable the following instructions: AVX2 FMA, in other operations, rebuild TensorFlow with the appropriate compiler flags.\n",
      "2024-05-12 16:08:45.667036: W tensorflow/compiler/tf2tensorrt/utils/py_utils.cc:38] TF-TRT Warning: Could not find TensorRT\n"
     ]
    }
   ],
   "source": [
    "import numpy as np\n",
    "import tensorflow as tf\n",
    "from tensorflow import keras\n",
    "import matplotlib.pyplot as plt"
   ]
  },
  {
   "cell_type": "code",
   "execution_count": 2,
   "id": "584d13e6-9295-42f5-a1ea-eb21103df3fe",
   "metadata": {},
   "outputs": [],
   "source": [
    "(X_train_full, y_train_full), (X_test, y_test) = keras.datasets.cifar10.load_data()"
   ]
  },
  {
   "cell_type": "code",
   "execution_count": 3,
   "id": "f74dc783-c1ca-4033-b145-c7313de1562b",
   "metadata": {},
   "outputs": [],
   "source": [
    "X_train, y_train = X_train_full[5000:], y_train_full[5000:]\n",
    "X_val, y_val = X_train_full[:5000], y_train_full[:5000]\n",
    "\n",
    "X_train = X_train / 255.\n",
    "X_val = X_val / 255.\n",
    "X_test = X_test / 255."
   ]
  },
  {
   "cell_type": "code",
   "execution_count": 4,
   "id": "8cf63dac-a50c-4cdc-8856-ff7c350846a5",
   "metadata": {},
   "outputs": [],
   "source": [
    "def rounded_accuracy(y_true, y_pred):\n",
    "    return keras.metrics.binary_accuracy(tf.round(y_true), tf.round(y_pred))"
   ]
  },
  {
   "cell_type": "code",
   "execution_count": 5,
   "id": "bf702684-c165-4914-a7dc-c19e665d787c",
   "metadata": {},
   "outputs": [
    {
     "data": {
      "text/plain": [
       "<matplotlib.image.AxesImage at 0x7f318e9efb80>"
      ]
     },
     "execution_count": 5,
     "metadata": {},
     "output_type": "execute_result"
    },
    {
     "data": {
      "image/png": "[encoded data removed]",
      "text/plain": [
       "<Figure size 100x100 with 1 Axes>"
      ]
     },
     "metadata": {},
     "output_type": "display_data"
    }
   ],
   "source": [
    "figure = plt.figure(figsize=(1,1))\n",
    "plt.imshow(X_train[4])"
   ]
  },
  {
   "cell_type": "code",
   "execution_count": 6,
   "id": "256adba4-32a8-4b60-b737-f12b59401926",
   "metadata": {},
   "outputs": [],
   "source": [
    "class Sampling(keras.layers.Layer):\n",
    "    def call(self, inputs):\n",
    "        z_mean, z_sigma = inputs\n",
    "        epsilon = keras.backend.random_normal(tf.shape(z_sigma))\n",
    "        return z_mean + tf.math.exp(z_sigma / 2) * epsilon"
   ]
  },
  {
   "cell_type": "code",
   "execution_count": 7,
   "id": "93d2f80a-93df-4e78-b24d-49a53cf1c7b3",
   "metadata": {},
   "outputs": [
    {
     "name": "stderr",
     "output_type": "stream",
     "text": [
      "2024-05-12 16:08:53.382123: I external/local_xla/xla/stream_executor/cuda/cuda_executor.cc:887] could not open file to read NUMA node: /sys/bus/pci/devices/0000:06:00.0/numa_node\n",
      "Your kernel may have been built without NUMA support.\n",
      "2024-05-12 16:08:53.581294: W tensorflow/core/common_runtime/gpu/gpu_device.cc:2256] Cannot dlopen some GPU libraries. Please make sure the missing libraries mentioned above are installed properly if you would like to use GPU. Follow the guide at https://www.tensorflow.org/install/gpu for how to download and setup the required libraries for your platform.\n",
      "Skipping registering GPU devices...\n"
     ]
    }
   ],
   "source": [
    "INPUT_SHAPE = [32,32,3]\n",
    "CODING_DIMS = 100\n",
    "\n",
    "inputs = keras.layers.Input(shape=INPUT_SHAPE)\n",
    "z = keras.layers.Conv2D(filters=32, kernel_size=3, padding=\"same\", activation=\"selu\")(inputs)\n",
    "z = keras.layers.BatchNormalization()(z)\n",
    "z = keras.layers.MaxPool2D(pool_size=2)(z)\n",
    "z = keras.layers.Conv2D(filters=64, kernel_size=3, padding=\"same\", activation=\"selu\")(z)\n",
    "z = keras.layers.BatchNormalization()(z)\n",
    "z = keras.layers.MaxPool2D(pool_size=2)(z)\n",
    "z = keras.layers.Flatten()(z)\n",
    "z = keras.layers.Dense(512, activation=\"selu\")(z)\n",
    "z = keras.layers.BatchNormalization()(z)\n",
    "z = keras.layers.Dense(256, activation=\"selu\")(z)\n",
    "z = keras.layers.BatchNormalization()(z)\n",
    "z = keras.layers.Dense(128, activation=\"selu\")(z)\n",
    "z = keras.layers.BatchNormalization()(z)\n",
    "z = keras.layers.Dense(CODING_DIMS, activation=\"relu\")(z)\n",
    "codings_mean = keras.layers.Dense(CODING_DIMS)(z)\n",
    "codings_log_var = keras.layers.Dense(CODING_DIMS)(z)\n",
    "codings = Sampling()([codings_mean, codings_log_var])\n",
    "\n",
    "var_encoder = keras.models.Model(inputs=[inputs], outputs=[codings_mean, codings_log_var, codings])"
   ]
  },
  {
   "cell_type": "code",
   "execution_count": 8,
   "id": "92020b83-8b5e-45c7-9870-d6feb4a42fcc",
   "metadata": {},
   "outputs": [],
   "source": [
    "decoder_inputs = keras.layers.Input(shape=[CODING_DIMS])\n",
    "x = keras.layers.Dense(128, activation=\"selu\")(decoder_inputs)\n",
    "x = keras.layers.BatchNormalization()(x)\n",
    "x = keras.layers.Dense(256, activation=\"selu\")(x)\n",
    "x = keras.layers.BatchNormalization()(x)\n",
    "x = keras.layers.Dense(512, activation=\"selu\")(x)\n",
    "x = keras.layers.BatchNormalization()(x)\n",
    "x = keras.layers.Dense(8*8*64, activation=\"selu\")(x)\n",
    "x = keras.layers.Reshape([8,8,64])(x)\n",
    "x = keras.layers.Conv2DTranspose(filters=64, kernel_size=3, strides=2, padding=\"same\", activation=\"selu\")(x)\n",
    "x = keras.layers.BatchNormalization()(x)\n",
    "x = keras.layers.Conv2DTranspose(filters=32, kernel_size=3, strides=2, padding=\"same\", activation=\"selu\")(x)\n",
    "x = keras.layers.BatchNormalization()(x)\n",
    "output = keras.layers.Conv2DTranspose(filters=3, kernel_size=3, padding=\"same\", activation=\"sigmoid\")(x)\n",
    "\n",
    "var_decoder = keras.models.Model(inputs=[decoder_inputs], outputs=[output])"
   ]
  },
  {
   "cell_type": "code",
   "execution_count": 9,
   "id": "298ea774-dc9b-45e4-9555-82afb6131be2",
   "metadata": {},
   "outputs": [],
   "source": [
    "_, _, codings = var_encoder(inputs)\n",
    "reconstructions = var_decoder(codings)\n",
    "variational_ae = keras.models.Model(inputs=[inputs], outputs=[reconstructions])"
   ]
  },
  {
   "cell_type": "code",
   "execution_count": 10,
   "id": "5be142d9-15d1-4378-a780-9a448544ebc6",
   "metadata": {},
   "outputs": [
    {
     "name": "stderr",
     "output_type": "stream",
     "text": [
      "2024-05-12 16:08:55.928238: W external/local_tsl/tsl/framework/cpu_allocator_impl.cc:83] Allocation of 552960000 exceeds 10% of free system memory.\n"
     ]
    },
    {
     "name": "stdout",
     "output_type": "stream",
     "text": [
      "Epoch 1/25\n"
     ]
    },
    {
     "name": "stderr",
     "output_type": "stream",
     "text": [
      "2024-05-12 16:08:57.516731: W external/local_tsl/tsl/framework/cpu_allocator_impl.cc:83] Allocation of 552960000 exceeds 10% of free system memory.\n"
     ]
    },
    {
     "name": "stdout",
     "output_type": "stream",
     "text": [
      "1407/1407 [==============================] - 115s 80ms/step - loss: 0.6289 - rounded_accuracy: 0.7794 - val_loss: 0.6190 - val_rounded_accuracy: 0.7963\n",
      "Epoch 2/25\n",
      "1407/1407 [==============================] - 106s 76ms/step - loss: 0.6161 - rounded_accuracy: 0.8024 - val_loss: 0.6125 - val_rounded_accuracy: 0.8108\n",
      "Epoch 3/25\n",
      "1407/1407 [==============================] - 106s 76ms/step - loss: 0.6120 - rounded_accuracy: 0.8104 - val_loss: 0.6066 - val_rounded_accuracy: 0.8204\n",
      "Epoch 4/25\n",
      "1407/1407 [==============================] - 106s 76ms/step - loss: 0.6103 - rounded_accuracy: 0.8134 - val_loss: 0.6109 - val_rounded_accuracy: 0.8084\n",
      "Epoch 5/25\n",
      "1407/1407 [==============================] - 107s 76ms/step - loss: 0.6091 - rounded_accuracy: 0.8160 - val_loss: 0.6057 - val_rounded_accuracy: 0.8274\n",
      "Epoch 6/25\n",
      "1407/1407 [==============================] - 107s 76ms/step - loss: 0.6079 - rounded_accuracy: 0.8189 - val_loss: 0.6034 - val_rounded_accuracy: 0.8281\n",
      "Epoch 7/25\n",
      "1407/1407 [==============================] - 108s 76ms/step - loss: 0.6069 - rounded_accuracy: 0.8210 - val_loss: 0.6089 - val_rounded_accuracy: 0.8271\n",
      "Epoch 8/25\n",
      "1407/1407 [==============================] - 108s 77ms/step - loss: 0.6063 - rounded_accuracy: 0.8225 - val_loss: 0.6052 - val_rounded_accuracy: 0.8256\n",
      "Epoch 9/25\n",
      "1407/1407 [==============================] - 108s 77ms/step - loss: 0.6055 - rounded_accuracy: 0.8243 - val_loss: 0.6034 - val_rounded_accuracy: 0.8270\n",
      "Epoch 10/25\n",
      "1407/1407 [==============================] - 108s 77ms/step - loss: 0.6051 - rounded_accuracy: 0.8250 - val_loss: 0.6015 - val_rounded_accuracy: 0.8328\n",
      "Epoch 11/25\n",
      "1407/1407 [==============================] - 108s 76ms/step - loss: 0.6049 - rounded_accuracy: 0.8252 - val_loss: 0.6025 - val_rounded_accuracy: 0.8342\n",
      "Epoch 12/25\n",
      "1407/1407 [==============================] - 108s 77ms/step - loss: 0.6047 - rounded_accuracy: 0.8261 - val_loss: 0.6020 - val_rounded_accuracy: 0.8331\n",
      "Epoch 13/25\n",
      "1407/1407 [==============================] - 108s 77ms/step - loss: 0.6043 - rounded_accuracy: 0.8271 - val_loss: 0.6014 - val_rounded_accuracy: 0.8342\n",
      "Epoch 14/25\n",
      "1407/1407 [==============================] - 109s 77ms/step - loss: 0.6040 - rounded_accuracy: 0.8279 - val_loss: 0.6030 - val_rounded_accuracy: 0.8272\n",
      "Epoch 15/25\n",
      "1407/1407 [==============================] - 109s 77ms/step - loss: 0.6037 - rounded_accuracy: 0.8286 - val_loss: 0.6012 - val_rounded_accuracy: 0.8331\n",
      "Epoch 16/25\n",
      "1407/1407 [==============================] - 109s 78ms/step - loss: 0.6035 - rounded_accuracy: 0.8292 - val_loss: 0.6003 - val_rounded_accuracy: 0.8367\n",
      "Epoch 17/25\n",
      "1407/1407 [==============================] - 112s 80ms/step - loss: 0.6033 - rounded_accuracy: 0.8296 - val_loss: 0.6022 - val_rounded_accuracy: 0.8328\n",
      "Epoch 18/25\n",
      "1407/1407 [==============================] - 113s 81ms/step - loss: 0.6031 - rounded_accuracy: 0.8302 - val_loss: 0.5989 - val_rounded_accuracy: 0.8395\n",
      "Epoch 19/25\n",
      "1407/1407 [==============================] - 113s 80ms/step - loss: 0.6029 - rounded_accuracy: 0.8308 - val_loss: 0.6080 - val_rounded_accuracy: 0.8338\n",
      "Epoch 20/25\n",
      "1407/1407 [==============================] - 109s 77ms/step - loss: 0.6026 - rounded_accuracy: 0.8313 - val_loss: 0.5983 - val_rounded_accuracy: 0.8404\n",
      "Epoch 21/25\n",
      "1407/1407 [==============================] - 107s 76ms/step - loss: 0.6026 - rounded_accuracy: 0.8315 - val_loss: 0.5981 - val_rounded_accuracy: 0.8410\n",
      "Epoch 22/25\n",
      "1407/1407 [==============================] - 107s 76ms/step - loss: 0.6025 - rounded_accuracy: 0.8317 - val_loss: 0.6027 - val_rounded_accuracy: 0.8320\n",
      "Epoch 23/25\n",
      "1407/1407 [==============================] - 107s 76ms/step - loss: 0.6023 - rounded_accuracy: 0.8321 - val_loss: 0.5982 - val_rounded_accuracy: 0.8411\n",
      "Epoch 24/25\n",
      "1407/1407 [==============================] - 107s 76ms/step - loss: 0.6021 - rounded_accuracy: 0.8327 - val_loss: 0.5995 - val_rounded_accuracy: 0.8385\n",
      "Epoch 25/25\n",
      "1407/1407 [==============================] - 107s 76ms/step - loss: 0.6021 - rounded_accuracy: 0.8326 - val_loss: 0.5988 - val_rounded_accuracy: 0.8399\n"
     ]
    }
   ],
   "source": [
    "kl_divergence = -0.5 * keras.backend.sum(1 + codings_log_var - keras.backend.exp(codings_log_var) - keras.backend.square(codings_mean), axis=-1)\n",
    "\n",
    "variational_ae.add_loss(keras.backend.mean(kl_divergence) / 3072.)\n",
    "variational_ae.compile(loss=\"binary_crossentropy\", optimizer=\"rmsprop\", metrics=[rounded_accuracy])\n",
    "history = variational_ae.fit(X_train, X_train, epochs=25, batch_size=32,\n",
    "                             validation_data=(X_val, X_val))"
   ]
  },
  {
   "cell_type": "code",
   "execution_count": null,
   "id": "180d1e58-9cdb-4473-9003-1db5789bd11d",
   "metadata": {},
   "outputs": [],
   "source": []
  }
 ],
 "metadata": {
  "kernelspec": {
   "display_name": "Python 3 (ipykernel)",
   "language": "python",
   "name": "python3"
  },
  "language_info": {
   "codemirror_mode": {
    "name": "ipython",
    "version": 3
   },
   "file_extension": ".py",
   "mimetype": "text/x-python",
   "name": "python",
   "nbconvert_exporter": "python",
   "pygments_lexer": "ipython3",
   "version": "3.9.18"
  }
 },
 "nbformat": 4,
 "nbformat_minor": 5
}
