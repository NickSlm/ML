{
 "cells": [
  {
   "cell_type": "code",
   "execution_count": 1,
   "id": "e1243135",
   "metadata": {},
   "outputs": [
    {
     "name": "stderr",
     "output_type": "stream",
     "text": [
      "2024-04-30 14:14:03.602574: I external/local_tsl/tsl/cuda/cudart_stub.cc:31] Could not find cuda drivers on your machine, GPU will not be used.\n",
      "2024-04-30 14:14:03.651628: E external/local_xla/xla/stream_executor/cuda/cuda_dnn.cc:9261] Unable to register cuDNN factory: Attempting to register factory for plugin cuDNN when one has already been registered\n",
      "2024-04-30 14:14:03.651700: E external/local_xla/xla/stream_executor/cuda/cuda_fft.cc:607] Unable to register cuFFT factory: Attempting to register factory for plugin cuFFT when one has already been registered\n",
      "2024-04-30 14:14:03.656278: E external/local_xla/xla/stream_executor/cuda/cuda_blas.cc:1515] Unable to register cuBLAS factory: Attempting to register factory for plugin cuBLAS when one has already been registered\n",
      "2024-04-30 14:14:03.674039: I external/local_tsl/tsl/cuda/cudart_stub.cc:31] Could not find cuda drivers on your machine, GPU will not be used.\n",
      "2024-04-30 14:14:03.675160: I tensorflow/core/platform/cpu_feature_guard.cc:182] This TensorFlow binary is optimized to use available CPU instructions in performance-critical operations.\n",
      "To enable the following instructions: AVX2 FMA, in other operations, rebuild TensorFlow with the appropriate compiler flags.\n",
      "2024-04-30 14:14:04.366083: W tensorflow/compiler/tf2tensorrt/utils/py_utils.cc:38] TF-TRT Warning: Could not find TensorRT\n"
     ]
    }
   ],
   "source": [
    "import numpy as np\n",
    "import matplotlib.pyplot as plt\n",
    "import tensorflow as tf\n",
    "from tensorflow import keras\n",
    "# import tensorflow_datasets as tfds\n",
    "from functools import partial"
   ]
  },
  {
   "cell_type": "code",
   "execution_count": null,
   "id": "aee35ea1",
   "metadata": {},
   "outputs": [],
   "source": []
  },
  {
   "cell_type": "markdown",
   "id": "17f9fed5",
   "metadata": {},
   "source": [
    "# MODEL 1.0"
   ]
  },
  {
   "cell_type": "code",
   "execution_count": 2,
   "id": "4d421c14",
   "metadata": {},
   "outputs": [],
   "source": [
    "(X_train_full, y_train_full), (X_test, y_test) = keras.datasets.mnist.load_data()"
   ]
  },
  {
   "cell_type": "code",
   "execution_count": 16,
   "id": "c1f14784",
   "metadata": {},
   "outputs": [],
   "source": [
    "X_train, y_train = X_train_full[5000:], y_train_full[5000:]\n",
    "X_val, y_val = X_train_full[:5000], y_train_full[:5000]\n",
    "X_train = X_train / 255.\n",
    "X_val = X_val / 255.\n",
    "X_test = X_test / 255.\n",
    "\n",
    "X_train = X_train[..., np.newaxis]\n",
    "X_test = X_test[..., np.newaxis]\n",
    "X_val = X_val[..., np.newaxis]\n",
    "X_train"
   ]
  },
  {
   "cell_type": "code",
   "execution_count": 4,
   "id": "bb993a3a",
   "metadata": {},
   "outputs": [
    {
     "name": "stderr",
     "output_type": "stream",
     "text": [
      "2024-04-30 14:14:05.362013: I external/local_xla/xla/stream_executor/cuda/cuda_executor.cc:887] could not open file to read NUMA node: /sys/bus/pci/devices/0000:06:00.0/numa_node\n",
      "Your kernel may have been built without NUMA support.\n",
      "2024-04-30 14:14:05.387463: W tensorflow/core/common_runtime/gpu/gpu_device.cc:2256] Cannot dlopen some GPU libraries. Please make sure the missing libraries mentioned above are installed properly if you would like to use GPU. Follow the guide at https://www.tensorflow.org/install/gpu for how to download and setup the required libraries for your platform.\n",
      "Skipping registering GPU devices...\n"
     ]
    }
   ],
   "source": [
    "model = keras.models.Sequential()\n",
    "model.add(keras.layers.Conv2D(filters=32, kernel_size=3, \n",
    "                              padding=\"SAME\", input_shape=[28,28,1]))\n",
    "model.add(keras.layers.BatchNormalization())\n",
    "model.add(keras.layers.Activation(\"relu\"))\n",
    "model.add(keras.layers.MaxPooling2D(pool_size=2))\n",
    "\n",
    "model.add(keras.layers.Conv2D(filters=64, kernel_size=3, \n",
    "                              padding=\"same\"))\n",
    "model.add(keras.layers.BatchNormalization())\n",
    "model.add(keras.layers.Activation(\"relu\"))\n",
    "model.add(keras.layers.Conv2D(filters=64, kernel_size=3, \n",
    "                              padding=\"same\"))\n",
    "model.add(keras.layers.BatchNormalization())\n",
    "model.add(keras.layers.Activation(\"relu\"))\n",
    "model.add(keras.layers.MaxPooling2D(pool_size=2))\n",
    "\n",
    "model.add(keras.layers.Flatten())\n",
    "model.add(keras.layers.Dropout(0.25))\n",
    "model.add(keras.layers.Dense(128, activation=\"relu\"))\n",
    "model.add(keras.layers.Dropout(0.5))\n",
    "model.add(keras.layers.Dense(10, activation=\"softmax\"))"
   ]
  },
  {
   "cell_type": "code",
   "execution_count": 5,
   "id": "6bc88947",
   "metadata": {},
   "outputs": [
    {
     "name": "stdout",
     "output_type": "stream",
     "text": [
      "Epoch 1/10\n",
      "1719/1719 [==============================] - 52s 29ms/step - loss: 0.2645 - accuracy: 0.9199 - val_loss: 0.0595 - val_accuracy: 0.9832\n",
      "Epoch 2/10\n",
      "1719/1719 [==============================] - 48s 28ms/step - loss: 0.1153 - accuracy: 0.9664 - val_loss: 0.0470 - val_accuracy: 0.9860\n",
      "Epoch 3/10\n",
      "1719/1719 [==============================] - 48s 28ms/step - loss: 0.0829 - accuracy: 0.9756 - val_loss: 0.0317 - val_accuracy: 0.9900\n",
      "Epoch 4/10\n",
      "1719/1719 [==============================] - 48s 28ms/step - loss: 0.0696 - accuracy: 0.9805 - val_loss: 0.0446 - val_accuracy: 0.9898\n",
      "Epoch 5/10\n",
      "1719/1719 [==============================] - 48s 28ms/step - loss: 0.0573 - accuracy: 0.9831 - val_loss: 0.0312 - val_accuracy: 0.9906\n",
      "Epoch 6/10\n",
      "1719/1719 [==============================] - 48s 28ms/step - loss: 0.0498 - accuracy: 0.9859 - val_loss: 0.0319 - val_accuracy: 0.9930\n",
      "Epoch 7/10\n",
      "1719/1719 [==============================] - 48s 28ms/step - loss: 0.0434 - accuracy: 0.9871 - val_loss: 0.0303 - val_accuracy: 0.9916\n",
      "Epoch 8/10\n",
      "1719/1719 [==============================] - 48s 28ms/step - loss: 0.0355 - accuracy: 0.9897 - val_loss: 0.0255 - val_accuracy: 0.9934\n",
      "Epoch 9/10\n",
      "1719/1719 [==============================] - 48s 28ms/step - loss: 0.0345 - accuracy: 0.9896 - val_loss: 0.0267 - val_accuracy: 0.9928\n",
      "Epoch 10/10\n",
      "1719/1719 [==============================] - 49s 28ms/step - loss: 0.0296 - accuracy: 0.9908 - val_loss: 0.0298 - val_accuracy: 0.9926\n"
     ]
    },
    {
     "data": {
      "text/plain": [
       "<keras.src.callbacks.History at 0x7f120c25fb20>"
      ]
     },
     "execution_count": 5,
     "metadata": {},
     "output_type": "execute_result"
    }
   ],
   "source": [
    "model.compile(loss=\"sparse_categorical_crossentropy\", optimizer=\"nadam\", metrics=[\"accuracy\"])\n",
    "model.fit(X_train, y_train, epochs=10, validation_data=(X_val, y_val))"
   ]
  },
  {
   "cell_type": "code",
   "execution_count": 6,
   "id": "e68de1ea",
   "metadata": {},
   "outputs": [
    {
     "name": "stdout",
     "output_type": "stream",
     "text": [
      "313/313 [==============================] - 2s 7ms/step - loss: 0.0226 - accuracy: 0.9931\n"
     ]
    },
    {
     "data": {
      "text/plain": [
       "[0.022594379261136055, 0.9930999875068665]"
      ]
     },
     "execution_count": 6,
     "metadata": {},
     "output_type": "execute_result"
    }
   ],
   "source": [
    "model.evaluate(X_test,y_test)"
   ]
  },
  {
   "cell_type": "markdown",
   "id": "5ec5ae35",
   "metadata": {},
   "source": [
    "# MODEL 2.0"
   ]
  },
  {
   "cell_type": "code",
   "execution_count": 7,
   "id": "95fe983a",
   "metadata": {},
   "outputs": [],
   "source": [
    "keras.backend.clear_session()"
   ]
  },
  {
   "cell_type": "code",
   "execution_count": 8,
   "id": "9de16d1c",
   "metadata": {},
   "outputs": [],
   "source": [
    "model_2 = keras.models.Sequential([\n",
    "#     conv layer 1\n",
    "    keras.layers.Conv2D(filters=64, kernel_size=5, strides=1, padding=\"same\",\n",
    "                       input_shape=[28,28,1]),\n",
    "    keras.layers.BatchNormalization(),\n",
    "    keras.layers.Activation(\"relu\"),\n",
    "    \n",
    "    keras.layers.MaxPool2D(pool_size=2, padding=\"same\"),\n",
    "    keras.layers.Dropout(rate=0.3),\n",
    "#     conv layer 2\n",
    "    keras.layers.Conv2D(filters=128, kernel_size=3, strides=1, padding=\"same\"),\n",
    "    keras.layers.BatchNormalization(),\n",
    "    keras.layers.Activation(\"relu\"),\n",
    "    \n",
    "    keras.layers.MaxPool2D(pool_size=4, padding=\"same\"),\n",
    "    keras.layers.Dropout(rate=0.3),\n",
    "    keras.layers.Flatten(),\n",
    "    \n",
    "#     hidden layer 3\n",
    "    keras.layers.Dense(256, activation=\"relu\"),\n",
    "    keras.layers.Dropout(rate=0.4),\n",
    "    \n",
    "    keras.layers.Dense(10, activation=\"softmax\")\n",
    "    \n",
    "    \n",
    "])"
   ]
  },
  {
   "cell_type": "code",
   "execution_count": 9,
   "id": "7545fd2a",
   "metadata": {},
   "outputs": [],
   "source": [
    "early_stopping = keras.callbacks.EarlyStopping(\n",
    "    monitor='val_loss',\n",
    "    patience=20,\n",
    "    restore_best_weights=True,\n",
    ")\n",
    "\n",
    "# Reduce learning rate when validation loss plateaus\n",
    "reduce_lr = keras.callbacks.ReduceLROnPlateau(\n",
    "    monitor='val_loss',\n",
    "    factor=0.5,\n",
    "    patience=5\n",
    ")"
   ]
  },
  {
   "cell_type": "code",
   "execution_count": 10,
   "id": "88649ab4",
   "metadata": {},
   "outputs": [],
   "source": [
    "# model_2.compile(loss=\"sparse_categorical_crossentropy\", optimizer=\"nadam\", metrics=[\"accuracy\"])\n",
    "# model_2.fit(X_train, y_train, epochs=20, validation_data=(X_val, y_val), callbacks=[early_stopping, reduce_lr])"
   ]
  },
  {
   "cell_type": "code",
   "execution_count": 11,
   "id": "b78bb8a9",
   "metadata": {},
   "outputs": [],
   "source": [
    "# model_2.evaluate(X_test,y_test)"
   ]
  },
  {
   "cell_type": "code",
   "execution_count": 12,
   "id": "73e87039",
   "metadata": {},
   "outputs": [],
   "source": [
    "# y_pred = np.argmax(model.predict(X_test), axis=1)"
   ]
  },
  {
   "cell_type": "markdown",
   "id": "75e1d952",
   "metadata": {},
   "source": [
    "# MODEL 3.0 WITH AUGMENTED DATA\n",
    "\n"
   ]
  },
  {
   "cell_type": "code",
   "execution_count": 13,
   "id": "df996588",
   "metadata": {},
   "outputs": [],
   "source": [
    "keras.backend.clear_session()"
   ]
  },
  {
   "cell_type": "code",
   "execution_count": 14,
   "id": "aeda6aee",
   "metadata": {},
   "outputs": [],
   "source": [
    "from scipy import ndimage\n",
    "import random\n",
    "\n",
    "def data_augmentation(images, labels):\n",
    "    aug_images = []\n",
    "    aug_labels = []\n",
    "    \n",
    "    for image, label in zip(images, labels):\n",
    "        aug_images.append(image)\n",
    "        aug_labels.append(label)\n",
    "        \n",
    "        # Background image for filling empty pixel\n",
    "        bg_value = np.median(image)\n",
    "        for _ in range(4):\n",
    "            # Rotation\n",
    "            rot_image = ndimage.rotate(image, angle=random.randint(-15, 15), \n",
    "                                       reshape=False, cval=bg_value)\n",
    "            # Shift\n",
    "            shift_image = ndimage.shift(rot_image, shift=np.random.randint(-2, 2, 2), \n",
    "                                        cval=bg_value)\n",
    "            \n",
    "            aug_images.append(shift_image)\n",
    "            aug_labels.append(label)\n",
    "    aug_images = np.array(aug_images)\n",
    "    aug_labels = np.array(aug_labels)\n",
    "    return aug_images, aug_labels"
   ]
  },
  {
   "cell_type": "code",
   "execution_count": 15,
   "id": "c76d6750",
   "metadata": {},
   "outputs": [
    {
     "ename": "KeyboardInterrupt",
     "evalue": "",
     "output_type": "error",
     "traceback": [
      "\u001b[0;31m---------------------------------------------------------------------------\u001b[0m",
      "\u001b[0;31mKeyboardInterrupt\u001b[0m                         Traceback (most recent call last)",
      "Cell \u001b[0;32mIn[15], line 2\u001b[0m\n\u001b[1;32m      1\u001b[0m (X_train, y_train), (X_test, y_test) \u001b[38;5;241m=\u001b[39m tf\u001b[38;5;241m.\u001b[39mkeras\u001b[38;5;241m.\u001b[39mdatasets\u001b[38;5;241m.\u001b[39mmnist\u001b[38;5;241m.\u001b[39mload_data()\n\u001b[0;32m----> 2\u001b[0m X_train, y_train \u001b[38;5;241m=\u001b[39m \u001b[43mdata_augmentation\u001b[49m\u001b[43m(\u001b[49m\u001b[43mX_train\u001b[49m\u001b[43m,\u001b[49m\u001b[43m \u001b[49m\u001b[43my_train\u001b[49m\u001b[43m)\u001b[49m\n\u001b[1;32m      4\u001b[0m \u001b[38;5;66;03m# Convert numpy float type and normalize it\u001b[39;00m\n\u001b[1;32m      5\u001b[0m X_train \u001b[38;5;241m=\u001b[39m X_train\u001b[38;5;241m.\u001b[39mastype(np\u001b[38;5;241m.\u001b[39mfloat32) \u001b[38;5;241m/\u001b[39m \u001b[38;5;241m255.\u001b[39m\n",
      "Cell \u001b[0;32mIn[14], line 19\u001b[0m, in \u001b[0;36mdata_augmentation\u001b[0;34m(images, labels)\u001b[0m\n\u001b[1;32m     16\u001b[0m rot_image \u001b[38;5;241m=\u001b[39m ndimage\u001b[38;5;241m.\u001b[39mrotate(image, angle\u001b[38;5;241m=\u001b[39mrandom\u001b[38;5;241m.\u001b[39mrandint(\u001b[38;5;241m-\u001b[39m\u001b[38;5;241m15\u001b[39m, \u001b[38;5;241m15\u001b[39m), \n\u001b[1;32m     17\u001b[0m                            reshape\u001b[38;5;241m=\u001b[39m\u001b[38;5;28;01mFalse\u001b[39;00m, cval\u001b[38;5;241m=\u001b[39mbg_value)\n\u001b[1;32m     18\u001b[0m \u001b[38;5;66;03m# Shift\u001b[39;00m\n\u001b[0;32m---> 19\u001b[0m shift_image \u001b[38;5;241m=\u001b[39m \u001b[43mndimage\u001b[49m\u001b[38;5;241;43m.\u001b[39;49m\u001b[43mshift\u001b[49m\u001b[43m(\u001b[49m\u001b[43mrot_image\u001b[49m\u001b[43m,\u001b[49m\u001b[43m \u001b[49m\u001b[43mshift\u001b[49m\u001b[38;5;241;43m=\u001b[39;49m\u001b[43mnp\u001b[49m\u001b[38;5;241;43m.\u001b[39;49m\u001b[43mrandom\u001b[49m\u001b[38;5;241;43m.\u001b[39;49m\u001b[43mrandint\u001b[49m\u001b[43m(\u001b[49m\u001b[38;5;241;43m-\u001b[39;49m\u001b[38;5;241;43m2\u001b[39;49m\u001b[43m,\u001b[49m\u001b[43m \u001b[49m\u001b[38;5;241;43m2\u001b[39;49m\u001b[43m,\u001b[49m\u001b[43m \u001b[49m\u001b[38;5;241;43m2\u001b[39;49m\u001b[43m)\u001b[49m\u001b[43m,\u001b[49m\u001b[43m \u001b[49m\n\u001b[1;32m     20\u001b[0m \u001b[43m                            \u001b[49m\u001b[43mcval\u001b[49m\u001b[38;5;241;43m=\u001b[39;49m\u001b[43mbg_value\u001b[49m\u001b[43m)\u001b[49m\n\u001b[1;32m     22\u001b[0m aug_images\u001b[38;5;241m.\u001b[39mappend(shift_image)\n\u001b[1;32m     23\u001b[0m aug_labels\u001b[38;5;241m.\u001b[39mappend(label)\n",
      "File \u001b[0;32m~/miniconda3/envs/tf_env/lib/python3.9/site-packages/scipy/ndimage/_interpolation.py:712\u001b[0m, in \u001b[0;36mshift\u001b[0;34m(input, shift, output, order, mode, cval, prefilter)\u001b[0m\n\u001b[1;32m    710\u001b[0m \u001b[38;5;28;01mif\u001b[39;00m \u001b[38;5;28minput\u001b[39m\u001b[38;5;241m.\u001b[39mndim \u001b[38;5;241m<\u001b[39m \u001b[38;5;241m1\u001b[39m:\n\u001b[1;32m    711\u001b[0m     \u001b[38;5;28;01mraise\u001b[39;00m \u001b[38;5;167;01mRuntimeError\u001b[39;00m(\u001b[38;5;124m'\u001b[39m\u001b[38;5;124minput and output rank must be > 0\u001b[39m\u001b[38;5;124m'\u001b[39m)\n\u001b[0;32m--> 712\u001b[0m complex_output \u001b[38;5;241m=\u001b[39m \u001b[43mnumpy\u001b[49m\u001b[38;5;241;43m.\u001b[39;49m\u001b[43miscomplexobj\u001b[49m(\u001b[38;5;28minput\u001b[39m)\n\u001b[1;32m    713\u001b[0m output \u001b[38;5;241m=\u001b[39m _ni_support\u001b[38;5;241m.\u001b[39m_get_output(output, \u001b[38;5;28minput\u001b[39m,\n\u001b[1;32m    714\u001b[0m                                  complex_output\u001b[38;5;241m=\u001b[39mcomplex_output)\n\u001b[1;32m    715\u001b[0m \u001b[38;5;28;01mif\u001b[39;00m complex_output:\n\u001b[1;32m    716\u001b[0m     \u001b[38;5;66;03m# import under different name to avoid confusion with shift parameter\u001b[39;00m\n",
      "\u001b[0;31mKeyboardInterrupt\u001b[0m: "
     ]
    }
   ],
   "source": [
    "(X_train, y_train), (X_test, y_test) = tf.keras.datasets.mnist.load_data()\n",
    "X_train, y_train = data_augmentation(X_train, y_train)\n",
    "\n",
    "# Convert numpy float type and normalize it\n",
    "X_train = X_train.astype(np.float32) / 255.\n",
    "X_test = X_test.astype(np.float32) / 255.\n",
    "\n",
    "# Convert it to 4D array (or we can use np.expand_dims for dimension expansion)\n",
    "X_train = X_train[..., tf.newaxis]\n",
    "X_test = X_test[..., tf.newaxis]\n",
    "\n",
    "# Build dataset pipeline\n",
    "train_ds = tf.data.Dataset.from_tensor_slices((X_train, y_train)).shuffle(buffer_size=500000).batch(32)\n",
    "test_ds = tf.data.Dataset.from_tensor_slices((X_test, y_test)).batch(32)"
   ]
  },
  {
   "cell_type": "code",
   "execution_count": null,
   "id": "8f38a265",
   "metadata": {},
   "outputs": [],
   "source": [
    "early_stopping = keras.callbacks.EarlyStopping(\n",
    "    monitor='val_loss',\n",
    "    patience=20,\n",
    "    restore_best_weights=True,\n",
    ")\n",
    "\n",
    "# Reduce learning rate when validation loss plateaus\n",
    "reduce_lr = keras.callbacks.ReduceLROnPlateau(\n",
    "    monitor='val_loss',\n",
    "    factor=0.5,\n",
    "    patience=5\n",
    ")"
   ]
  },
  {
   "cell_type": "code",
   "execution_count": null,
   "id": "0e14afcf",
   "metadata": {},
   "outputs": [],
   "source": [
    "model_2.compile(loss=\"sparse_categorical_crossentropy\", optimizer=\"nadam\", metrics=[\"accuracy\"])\n",
    "model_2.fit(train_ds, epochs=10, validation_data=(X_val, y_val), callbacks=[early_stopping, reduce_lr])"
   ]
  },
  {
   "cell_type": "code",
   "execution_count": null,
   "id": "fcf354fe",
   "metadata": {},
   "outputs": [],
   "source": [
    "model_2.evaluate(test_ds)"
   ]
  },
  {
   "cell_type": "code",
   "execution_count": null,
   "id": "d2056f54",
   "metadata": {},
   "outputs": [],
   "source": []
  },
  {
   "cell_type": "code",
   "execution_count": null,
   "id": "7f10a0e2-b121-490a-83c6-8105e5cc52c2",
   "metadata": {},
   "outputs": [],
   "source": []
  }
 ],
 "metadata": {
  "kernelspec": {
   "display_name": "Python 3 (ipykernel)",
   "language": "python",
   "name": "python3"
  },
  "language_info": {
   "codemirror_mode": {
    "name": "ipython",
    "version": 3
   },
   "file_extension": ".py",
   "mimetype": "text/x-python",
   "name": "python",
   "nbconvert_exporter": "python",
   "pygments_lexer": "ipython3",
   "version": "3.9.18"
  }
 },
 "nbformat": 4,
 "nbformat_minor": 5
}
