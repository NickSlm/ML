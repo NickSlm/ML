{
 "cells": [
  {
   "cell_type": "code",
   "execution_count": 11,
   "id": "a280e986",
   "metadata": {},
   "outputs": [],
   "source": [
    "import numpy as np\n",
    "import tensorflow as tf\n",
    "import tensorflow_datasets as tfds\n",
    "from tensorflow import keras\n",
    "from functools import partial"
   ]
  },
  {
   "cell_type": "code",
   "execution_count": 12,
   "id": "2b68a9d4",
   "metadata": {},
   "outputs": [],
   "source": [
    "default_conv2d = partial(keras.layers.Conv2D, kernel_size=3, \n",
    "                         strides=1, padding=\"SAME\")"
   ]
  },
  {
   "cell_type": "code",
   "execution_count": 13,
   "id": "aa73761f",
   "metadata": {},
   "outputs": [],
   "source": [
    "class ResidualUnit(keras.layers.Layer):\n",
    "    def __init__(self, filters, strides=1, activation=\"relu\" ,**kwargs):\n",
    "        super().__init__(**kwargs)\n",
    "        self.filters = filters\n",
    "        self.strides = strides\n",
    "        \n",
    "        self.activation = keras.activations.get(activation)\n",
    "        self.layers = [\n",
    "            default_conv2d(filters=self.filters, strides=self.strides),\n",
    "            keras.layers.BatchNormalization(),\n",
    "            self.activation,\n",
    "            default_conv2d(filters=self.filters),\n",
    "            keras.layers.BatchNormalization()]\n",
    "        self.skip_layers = []\n",
    "        if strides > 1:\n",
    "            self.skip_layers = [\n",
    "                default_conv2d(filters=self.filters, kernel_size=1, strides=self.strides),\n",
    "                keras.layers.BatchNormalization()\n",
    "            ]\n",
    "        \n",
    "    def call(self, inputs):\n",
    "        z = inputs\n",
    "        for layer in self.layers:\n",
    "            z = layer(z)\n",
    "        skip_z = inputs\n",
    "        for layer in self.skip_layers:\n",
    "            skip_z = layer(skip_z)\n",
    "        return self.activation(z + skip_z)"
   ]
  },
  {
   "cell_type": "code",
   "execution_count": 14,
   "id": "e42dcd7b",
   "metadata": {},
   "outputs": [],
   "source": [
    "model = keras.models.Sequential()\n",
    "model.add(keras.layers.Conv2D(filters=64, kernel_size=7, strides=2, input_shape=[224, 224, 3]))\n",
    "model.add(keras.layers.BatchNormalization())\n",
    "model.add(keras.layers.Activation(\"relu\"))\n",
    "model.add(keras.layers.MaxPool2D(pool_size=3, strides=2, padding=\"SAME\"))\n",
    "\n",
    "prev_filter = 64\n",
    "for filter_size in [64] * 3 + [128] * 4 + [256] * 6 + [512] * 3:\n",
    "    strides = 1 if prev_filter == filter_size else 2\n",
    "    model.add(ResidualUnit(filters=filter_size, strides=strides))\n",
    "    prev_filter = filter_size\n",
    "    \n",
    "model.add(keras.layers.GlobalAvgPool2D())\n",
    "model.add(keras.layers.Flatten())\n",
    "model.add(keras.layers.Dense(10, activation=\"softmax\"))"
   ]
  },
  {
   "cell_type": "code",
   "execution_count": 15,
   "id": "06d8a257",
   "metadata": {
    "scrolled": true
   },
   "outputs": [
    {
     "name": "stdout",
     "output_type": "stream",
     "text": [
      "Model: \"sequential_3\"\n",
      "_________________________________________________________________\n",
      " Layer (type)                Output Shape              Param #   \n",
      "=================================================================\n",
      " conv2d_56 (Conv2D)          (None, 109, 109, 64)      9472      \n",
      "                                                                 \n",
      " batch_normalization_56 (Bat  (None, 109, 109, 64)     256       \n",
      " chNormalization)                                                \n",
      "                                                                 \n",
      " activation_3 (Activation)   (None, 109, 109, 64)      0         \n",
      "                                                                 \n",
      " max_pooling2d_3 (MaxPooling  (None, 55, 55, 64)       0         \n",
      " 2D)                                                             \n",
      "                                                                 \n",
      " residual_unit_24 (ResidualU  (None, 55, 55, 64)       74368     \n",
      " nit)                                                            \n",
      "                                                                 \n",
      " residual_unit_25 (ResidualU  (None, 55, 55, 64)       74368     \n",
      " nit)                                                            \n",
      "                                                                 \n",
      " residual_unit_26 (ResidualU  (None, 55, 55, 64)       74368     \n",
      " nit)                                                            \n",
      "                                                                 \n",
      " residual_unit_27 (ResidualU  (None, 28, 28, 128)      231296    \n",
      " nit)                                                            \n",
      "                                                                 \n",
      " residual_unit_28 (ResidualU  (None, 28, 28, 128)      296192    \n",
      " nit)                                                            \n",
      "                                                                 \n",
      " residual_unit_29 (ResidualU  (None, 28, 28, 128)      296192    \n",
      " nit)                                                            \n",
      "                                                                 \n",
      " residual_unit_30 (ResidualU  (None, 28, 28, 128)      296192    \n",
      " nit)                                                            \n",
      "                                                                 \n",
      " residual_unit_31 (ResidualU  (None, 14, 14, 256)      921344    \n",
      " nit)                                                            \n",
      "                                                                 \n",
      " residual_unit_32 (ResidualU  (None, 14, 14, 256)      1182208   \n",
      " nit)                                                            \n",
      "                                                                 \n",
      " residual_unit_33 (ResidualU  (None, 14, 14, 256)      1182208   \n",
      " nit)                                                            \n",
      "                                                                 \n",
      " residual_unit_34 (ResidualU  (None, 14, 14, 256)      1182208   \n",
      " nit)                                                            \n",
      "                                                                 \n",
      " residual_unit_35 (ResidualU  (None, 14, 14, 256)      1182208   \n",
      " nit)                                                            \n",
      "                                                                 \n",
      " residual_unit_36 (ResidualU  (None, 14, 14, 256)      1182208   \n",
      " nit)                                                            \n",
      "                                                                 \n",
      " residual_unit_37 (ResidualU  (None, 7, 7, 512)        3677696   \n",
      " nit)                                                            \n",
      "                                                                 \n",
      " residual_unit_38 (ResidualU  (None, 7, 7, 512)        4723712   \n",
      " nit)                                                            \n",
      "                                                                 \n",
      " residual_unit_39 (ResidualU  (None, 7, 7, 512)        4723712   \n",
      " nit)                                                            \n",
      "                                                                 \n",
      " global_average_pooling2d_1   (None, 512)              0         \n",
      " (GlobalAveragePooling2D)                                        \n",
      "                                                                 \n",
      " flatten_1 (Flatten)         (None, 512)               0         \n",
      "                                                                 \n",
      " dense_1 (Dense)             (None, 10)                5130      \n",
      "                                                                 \n",
      "=================================================================\n",
      "Total params: 21,315,338\n",
      "Trainable params: 21,298,314\n",
      "Non-trainable params: 17,024\n",
      "_________________________________________________________________\n"
     ]
    }
   ],
   "source": [
    "model.summary()"
   ]
  },
  {
   "cell_type": "code",
   "execution_count": null,
   "id": "4fe7d4bd",
   "metadata": {},
   "outputs": [],
   "source": []
  },
  {
   "cell_type": "code",
   "execution_count": null,
   "id": "b2a59735",
   "metadata": {},
   "outputs": [],
   "source": []
  }
 ],
 "metadata": {
  "kernelspec": {
   "display_name": "Python 3 (ipykernel)",
   "language": "python",
   "name": "python3"
  },
  "language_info": {
   "codemirror_mode": {
    "name": "ipython",
    "version": 3
   },
   "file_extension": ".py",
   "mimetype": "text/x-python",
   "name": "python",
   "nbconvert_exporter": "python",
   "pygments_lexer": "ipython3",
   "version": "3.9.17"
  }
 },
 "nbformat": 4,
 "nbformat_minor": 5
}
