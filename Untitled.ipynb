{
 "cells": [
  {
   "cell_type": "code",
   "execution_count": 1,
   "id": "a4f5b1f7",
   "metadata": {},
   "outputs": [],
   "source": [
    "import numpy as np\n",
    "import tensorflow as tf\n",
    "from tensorflow import keras\n",
    "from sklearn.datasets import fetch_california_housing\n",
    "from sklearn.preprocessing import StandardScaler\n",
    "from sklearn.model_selection import train_test_split\n",
    "import os"
   ]
  },
  {
   "cell_type": "code",
   "execution_count": 2,
   "id": "d144ed4d",
   "metadata": {},
   "outputs": [],
   "source": [
    "dataset = fetch_california_housing()\n",
    "X, y = dataset.data, dataset.target\n",
    "\n",
    "X_train_full, X_test, y_train_full, y_test = train_test_split(X, y)\n",
    "X_train, X_val, y_train, y_val = train_test_split(X_train_full, y_train_full)\n",
    "\n",
    "scaler = StandardScaler()\n",
    "# (mean, std) for layer data preprocessing\n",
    "scaler.fit(X_train)\n",
    "X_mean, X_std = scaler.mean_, scaler.scale_"
   ]
  },
  {
   "cell_type": "code",
   "execution_count": 3,
   "id": "79e75114",
   "metadata": {},
   "outputs": [],
   "source": [
    "def split_csv_files(data, header, name_prefix, n_parts=10):\n",
    "    parent_dir = os.path.join(\"datasets\", \"housing\")\n",
    "    dir_path = os.path.join(parent_dir, \"test\")\n",
    "    os.makedirs(dir_path, exist_ok=True)\n",
    "    path_format = os.path.join(dir_path, \"my_{}_{:02d}.csv\")\n",
    "        \n",
    "    file_paths = []\n",
    "    \n",
    "    m = len(data)\n",
    "    for index, part_indices in enumerate(np.array_split(np.arange(m), n_parts)):\n",
    "        part_csv = path_format.format(name_prefix, index)\n",
    "        file_paths.append(part_csv)\n",
    "        \n",
    "        with open(part_csv, \"wt\", encoding=\"utf-8\") as f:\n",
    "            if header is not None:\n",
    "                f.write(header)\n",
    "                f.write(\"\\n\")\n",
    "            for part_index in part_indices:\n",
    "                f.write(\",\".join(repr(col) for col in data[part_index]))\n",
    "                f.write(\"\\n\")\n",
    "    return file_paths"
   ]
  },
  {
   "cell_type": "code",
   "execution_count": 4,
   "id": "53dd9891",
   "metadata": {},
   "outputs": [],
   "source": [
    "train_data = np.c_[X_train, y_train]\n",
    "test_data = np.c_[X_test, y_test]\n",
    "val_data = np.c_[X_val, y_val]\n",
    "\n",
    "header_cols = dataset.feature_names + [\"MedianHouseValues\"]\n",
    "header_cols = ','.join(header_cols)\n",
    "\n",
    "train_filepath = split_csv_files(X_train, header_cols, \"train\", 20)\n",
    "test_filepath = split_csv_files(X_test, header_cols, \"test\")\n",
    "val_filepath = split_csv_files(X_val, header_cols, \"valid\")"
   ]
  },
  {
   "cell_type": "code",
   "execution_count": 5,
   "id": "2cc12677",
   "metadata": {},
   "outputs": [],
   "source": [
    "def preprocess(line, n_inputs=8):\n",
    "    defs = [0.] * n_inputs + [tf.constant([],dtype=tf.float32)]\n",
    "    fields = tf.io.decode_csv(line, record_defaults=defs)\n",
    "    X = tf.stack(fields[:-1])\n",
    "    y = tf.stack(fields[-1:])\n",
    "    return (X - X_mean) / X_std, y"
   ]
  },
  {
   "cell_type": "code",
   "execution_count": 6,
   "id": "f4e7a221",
   "metadata": {},
   "outputs": [],
   "source": [
    "def csv_reader_dataset(filepath, n_cycles, n_threads, n_batch=32):\n",
    "    dataset = tf.data.Dataset.list_files(filepath).repeat(1)\n",
    "    dataset = tf.data.Dataset.interleave(lambda filepath: tf.data.TextLineDataset(filepath).skip(1), \n",
    "                                         num_parallel_calls=n_threads, \n",
    "                                         cycle_length=n_cycles)\n",
    "    dataset = dataset.shuffle(10000)\n",
    "    dataset = dataset.map(preprocess, num_parallel_calls=n_threads)\n",
    "    dataset = dataset.batch(n_batch)\n",
    "    \n",
    "    return dataset.prefetch(1)\n"
   ]
  },
  {
   "cell_type": "code",
   "execution_count": 44,
   "id": "d88474b5",
   "metadata": {
    "scrolled": false
   },
   "outputs": [
    {
     "name": "stdout",
     "output_type": "stream",
     "text": [
      "tf.Tensor([b'2,2,2,2,2,2,2,2' b'3,3,3,3,3,3,3,3'], shape=(2,), dtype=string)\n",
      "tf.Tensor([b'4,4,4,4,4,4,4,4' b'1,1,1,1,1,1,1,1'], shape=(2,), dtype=string)\n",
      "tf.Tensor([b'1,1,1,1,1,1,1,1' b'1,1,1,1,1,1,1,1'], shape=(2,), dtype=string)\n",
      "tf.Tensor([b'2,2,2,2,2,2,2,2' b'2,2,2,2,2,2,2,2'], shape=(2,), dtype=string)\n",
      "tf.Tensor([b'4,4,4,4,4,4,4,4' b'3,3,3,3,3,3,3,3'], shape=(2,), dtype=string)\n",
      "tf.Tensor([b'2,2,2,2,2,2,2,2' b'2,2,2,2,2,2,2,2'], shape=(2,), dtype=string)\n",
      "tf.Tensor([b'4,4,4,4,4,4,4,4' b'1,1,1,1,1,1,1,1'], shape=(2,), dtype=string)\n",
      "tf.Tensor([b'3,3,3,3,3,3,3,3' b'4,4,4,4,4,4,4,4'], shape=(2,), dtype=string)\n",
      "tf.Tensor([b'1,1,1,1,1,1,1,1' b'4,4,4,4,4,4,4,4'], shape=(2,), dtype=string)\n",
      "tf.Tensor([b'3,3,3,3,3,3,3,3' b'3,3,3,3,3,3,3,3'], shape=(2,), dtype=string)\n"
     ]
    }
   ],
   "source": [
    "keras.backend.clear_session()\n",
    "file_paths = [\"datasets\\housing\\my_test_00.scv\",\n",
    "             \"datasets\\housing\\my_test_01.scv\",\n",
    "             \"datasets\\housing\\my_test_02.scv\",\n",
    "             \"datasets\\housing\\my_test_03.scv\",]\n",
    "dataset = tf.data.Dataset.list_files(file_paths).repeat(1)\n",
    "dataset = dataset.interleave(\n",
    "        lambda filepath: tf.data.TextLineDataset(filepath).skip(1),\n",
    "        cycle_length=2)\n",
    "dataset = dataset.shuffle(20)\n",
    "dataset = dataset.batch(2)\n",
    "for file in dataset:\n",
    "    print(file)\n",
    "# for epoch in range(5):\n",
    "#     print(epoch)\n",
    "#     for index, file in enumerate(dataset):\n",
    "#         print(file)"
   ]
  },
  {
   "cell_type": "code",
   "execution_count": null,
   "id": "b2d97d54",
   "metadata": {},
   "outputs": [],
   "source": []
  }
 ],
 "metadata": {
  "kernelspec": {
   "display_name": "Python 3 (ipykernel)",
   "language": "python",
   "name": "python3"
  },
  "language_info": {
   "codemirror_mode": {
    "name": "ipython",
    "version": 3
   },
   "file_extension": ".py",
   "mimetype": "text/x-python",
   "name": "python",
   "nbconvert_exporter": "python",
   "pygments_lexer": "ipython3",
   "version": "3.8.6"
  }
 },
 "nbformat": 4,
 "nbformat_minor": 5
}
