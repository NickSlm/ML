{
 "cells": [
  {
   "cell_type": "code",
   "execution_count": 1,
   "id": "d46bc830-bec8-4c89-b573-44d719328f84",
   "metadata": {},
   "outputs": [
    {
     "name": "stderr",
     "output_type": "stream",
     "text": [
      "2023-09-12 13:53:01.646885: I tensorflow/core/platform/cpu_feature_guard.cc:193] This TensorFlow binary is optimized with oneAPI Deep Neural Network Library (oneDNN) to use the following CPU instructions in performance-critical operations:  AVX2 FMA\n",
      "To enable them in other operations, rebuild TensorFlow with the appropriate compiler flags.\n",
      "2023-09-12 13:53:02.319998: W tensorflow/compiler/xla/stream_executor/platform/default/dso_loader.cc:64] Could not load dynamic library 'libnvinfer.so.7'; dlerror: libnvinfer.so.7: cannot open shared object file: No such file or directory; LD_LIBRARY_PATH: :/home/nick/miniconda3/envs/tf_env/lib/python3.9/site-packages/nvidia/cudnn/lib:/home/nick/miniconda3/envs/tf_env/lib/\n",
      "2023-09-12 13:53:02.320101: W tensorflow/compiler/xla/stream_executor/platform/default/dso_loader.cc:64] Could not load dynamic library 'libnvinfer_plugin.so.7'; dlerror: libnvinfer_plugin.so.7: cannot open shared object file: No such file or directory; LD_LIBRARY_PATH: :/home/nick/miniconda3/envs/tf_env/lib/python3.9/site-packages/nvidia/cudnn/lib:/home/nick/miniconda3/envs/tf_env/lib/\n",
      "2023-09-12 13:53:02.320109: W tensorflow/compiler/tf2tensorrt/utils/py_utils.cc:38] TF-TRT Warning: Cannot dlopen some TensorRT libraries. If you would like to use Nvidia GPU with TensorRT, please make sure the missing libraries mentioned above are installed properly.\n"
     ]
    }
   ],
   "source": [
    "import tensorflow as tf\n",
    "from tensorflow import keras\n",
    "import numpy as np"
   ]
  },
  {
   "cell_type": "code",
   "execution_count": 2,
   "id": "7c6aaaac-a44d-4085-aaf0-118c961e3623",
   "metadata": {},
   "outputs": [],
   "source": [
    "n_steps = 10"
   ]
  },
  {
   "cell_type": "code",
   "execution_count": 3,
   "id": "6f4cbba2-fb91-4a3f-acb6-b27b990d320a",
   "metadata": {},
   "outputs": [],
   "source": [
    "def generate_time_series(batch_size, n_steps):\n",
    "    freq1, freq2, offsets1, offsets2 = np.random.rand(4, batch_size, 1)\n",
    "    time = np.linspace(0, 1, n_steps)\n",
    "    series = 0.5 * np.sin((time - offsets1) * (freq1 * 10 + 10))\n",
    "    series += 0.2 * np.sin((time - offsets2) * (freq2 * 20 + 20))\n",
    "    series += 0.1 * (np.random.rand(batch_size, n_steps) - 0.5)\n",
    "    return series[..., np.newaxis].astype(np.float32)"
   ]
  },
  {
   "cell_type": "code",
   "execution_count": 4,
   "id": "25ddd4d0-1d75-4c4d-b270-0749d6299041",
   "metadata": {},
   "outputs": [],
   "source": [
    "series = generate_time_series(1, n_steps + 2)"
   ]
  },
  {
   "cell_type": "code",
   "execution_count": 5,
   "id": "160778cd-84d9-4723-a85c-270bbcdd86ad",
   "metadata": {},
   "outputs": [
    {
     "data": {
      "text/plain": [
       "array([[[-0.05430937],\n",
       "        [ 0.30010492],\n",
       "        [ 0.38652402],\n",
       "        [-0.5605729 ],\n",
       "        [-0.1160787 ],\n",
       "        [ 0.63613826],\n",
       "        [-0.07958248],\n",
       "        [-0.34874296],\n",
       "        [-0.1570428 ],\n",
       "        [ 0.5382207 ],\n",
       "        [ 0.05309776],\n",
       "        [-0.6087751 ]]], dtype=float32)"
      ]
     },
     "execution_count": 5,
     "metadata": {},
     "output_type": "execute_result"
    }
   ],
   "source": [
    "series"
   ]
  },
  {
   "cell_type": "code",
   "execution_count": 6,
   "id": "700a0d09-cdf2-4068-b916-58eae2aec0e9",
   "metadata": {},
   "outputs": [],
   "source": [
    "X_train, y_train = series[:,:n_steps], series[:,n_steps:]"
   ]
  },
  {
   "cell_type": "code",
   "execution_count": 8,
   "id": "b497a06e-b622-461f-b886-b5770bf2d8f4",
   "metadata": {},
   "outputs": [
    {
     "data": {
      "text/plain": [
       "array([[[ 0.05309776],\n",
       "        [-0.6087751 ]]], dtype=float32)"
      ]
     },
     "execution_count": 8,
     "metadata": {},
     "output_type": "execute_result"
    }
   ],
   "source": [
    "y_train"
   ]
  },
  {
   "cell_type": "code",
   "execution_count": 9,
   "id": "39d0156e-d8ed-454a-955d-f2bf1e7be713",
   "metadata": {},
   "outputs": [
    {
     "data": {
      "text/plain": [
       "array([[[3.5244122e-316, 0.0000000e+000],\n",
       "        [0.0000000e+000, 0.0000000e+000],\n",
       "        [0.0000000e+000, 0.0000000e+000],\n",
       "        [0.0000000e+000, 0.0000000e+000],\n",
       "        [0.0000000e+000, 0.0000000e+000],\n",
       "        [0.0000000e+000, 0.0000000e+000],\n",
       "        [0.0000000e+000, 0.0000000e+000],\n",
       "        [0.0000000e+000, 0.0000000e+000],\n",
       "        [0.0000000e+000, 0.0000000e+000],\n",
       "        [0.0000000e+000, 0.0000000e+000]]])"
      ]
     },
     "execution_count": 9,
     "metadata": {},
     "output_type": "execute_result"
    }
   ],
   "source": [
    "Y = np.empty((1, n_steps, 2))\n",
    "Y"
   ]
  },
  {
   "cell_type": "code",
   "execution_count": 10,
   "id": "3815821d-954e-43b8-af74-969a75bf7f34",
   "metadata": {},
   "outputs": [],
   "source": [
    "for step_ahead in range(1, 3):\n",
    "    print(step_ahead)\n",
    "    Y[:,:, step_ahead - 1] = series[:,step_ahead:step_ahead + n_steps, 0]"
   ]
  },
  {
   "cell_type": "code",
   "execution_count": 11,
   "id": "97adb2c9-c7d4-47b6-8a1c-11f2f3e75669",
   "metadata": {},
   "outputs": [
    {
     "data": {
      "text/plain": [
       "array([[[ 0.30010492,  0.38652402],\n",
       "        [ 0.38652402, -0.56057292],\n",
       "        [-0.56057292, -0.1160787 ],\n",
       "        [-0.1160787 ,  0.63613826],\n",
       "        [ 0.63613826, -0.07958248],\n",
       "        [-0.07958248, -0.34874296],\n",
       "        [-0.34874296, -0.1570428 ],\n",
       "        [-0.1570428 ,  0.5382207 ],\n",
       "        [ 0.5382207 ,  0.05309776],\n",
       "        [ 0.05309776, -0.60877508]]])"
      ]
     },
     "execution_count": 11,
     "metadata": {},
     "output_type": "execute_result"
    }
   ],
   "source": [
    "Y"
   ]
  },
  {
   "cell_type": "code",
   "execution_count": 13,
   "id": "44e71677-ad05-4ca6-9159-6b8b66368786",
   "metadata": {},
   "outputs": [
    {
     "data": {
      "text/plain": [
       "array([[ 0.30010492,  0.38652402, -0.5605729 , -0.1160787 ,  0.63613826,\n",
       "        -0.07958248, -0.34874296, -0.1570428 ,  0.5382207 ,  0.05309776]],\n",
       "      dtype=float32)"
      ]
     },
     "execution_count": 13,
     "metadata": {},
     "output_type": "execute_result"
    }
   ],
   "source": [
    "series[:,1:1 + n_steps, 0]"
   ]
  },
  {
   "cell_type": "code",
   "execution_count": null,
   "id": "05f47c1f-12be-435a-8a8c-25dd92a53c51",
   "metadata": {},
   "outputs": [],
   "source": []
  }
 ],
 "metadata": {
  "kernelspec": {
   "display_name": "Python 3 (ipykernel)",
   "language": "python",
   "name": "python3"
  },
  "language_info": {
   "codemirror_mode": {
    "name": "ipython",
    "version": 3
   },
   "file_extension": ".py",
   "mimetype": "text/x-python",
   "name": "python",
   "nbconvert_exporter": "python",
   "pygments_lexer": "ipython3",
   "version": "3.9.17"
  }
 },
 "nbformat": 4,
 "nbformat_minor": 5
}
