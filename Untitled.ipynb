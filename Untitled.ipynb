{
 "cells": [
  {
   "cell_type": "code",
   "execution_count": 1,
   "id": "2a84d090",
   "metadata": {},
   "outputs": [],
   "source": [
    "import collections\n",
    "import heapq"
   ]
  },
  {
   "cell_type": "code",
   "execution_count": 2,
   "id": "192c5057",
   "metadata": {},
   "outputs": [],
   "source": [
    "n = 4\n",
    "flights = [[0,1,100],[1,2,100],[2,0,100],[1,3,600],[2,3,200]]\n",
    "src = 0\n",
    "dst = 3\n",
    "k = 1"
   ]
  },
  {
   "cell_type": "code",
   "execution_count": 3,
   "id": "ef4a788d",
   "metadata": {},
   "outputs": [],
   "source": [
    "prices = [float(\"inf\")] * n\n",
    "prices[src] = 0"
   ]
  },
  {
   "cell_type": "code",
   "execution_count": 4,
   "id": "8edf2c0c",
   "metadata": {},
   "outputs": [],
   "source": [
    "adjacency = collections.defaultdict(list)\n",
    "\n",
    "for fr, to, weight in flights:\n",
    "    heapq.heappush(adjacency[fr], (weight, to))"
   ]
  },
  {
   "cell_type": "code",
   "execution_count": 5,
   "id": "d471ee00",
   "metadata": {},
   "outputs": [
    {
     "data": {
      "text/plain": [
       "defaultdict(list,\n",
       "            {0: [(100, 1)], 1: [(100, 2), (600, 3)], 2: [(100, 0), (200, 3)]})"
      ]
     },
     "execution_count": 5,
     "metadata": {},
     "output_type": "execute_result"
    }
   ],
   "source": [
    "adjacency"
   ]
  },
  {
   "cell_type": "code",
   "execution_count": 6,
   "id": "b76c1c5d",
   "metadata": {},
   "outputs": [],
   "source": [
    "for i in range(k+1):\n",
    "    prices_copy = prices.copy()\n",
    "    for fr, to, weight in flights:\n",
    "        if prices[src] != float(\"inf\"):\n",
    "            if prices[fr] + weight < prices_copy[to]:\n",
    "                prices_copy[to] = prices[fr] + weight\n",
    "    prices = prices_copy.copy()"
   ]
  },
  {
   "cell_type": "code",
   "execution_count": 7,
   "id": "5cda6d1b",
   "metadata": {},
   "outputs": [
    {
     "data": {
      "text/plain": [
       "[0, 100, 200, 700]"
      ]
     },
     "execution_count": 7,
     "metadata": {},
     "output_type": "execute_result"
    }
   ],
   "source": [
    "prices"
   ]
  },
  {
   "cell_type": "code",
   "execution_count": 8,
   "id": "6053271e",
   "metadata": {},
   "outputs": [
    {
     "data": {
      "text/plain": [
       "700"
      ]
     },
     "execution_count": 8,
     "metadata": {},
     "output_type": "execute_result"
    }
   ],
   "source": [
    "prices[dst]"
   ]
  },
  {
   "cell_type": "code",
   "execution_count": 1,
   "id": "789c9a03",
   "metadata": {},
   "outputs": [],
   "source": [
    "import numpy as np"
   ]
  },
  {
   "cell_type": "code",
   "execution_count": 16,
   "id": "f697b9a7",
   "metadata": {},
   "outputs": [
    {
     "data": {
      "text/plain": [
       "array([[2, 2, 3],\n",
       "       [1, 2, 3],\n",
       "       [1, 2, 3]])"
      ]
     },
     "execution_count": 16,
     "metadata": {},
     "output_type": "execute_result"
    }
   ],
   "source": [
    "matrix = np.array([[2,2,3],[1,2,3],[1,2,3]])\n",
    "matrix"
   ]
  },
  {
   "cell_type": "code",
   "execution_count": 17,
   "id": "656322dd",
   "metadata": {},
   "outputs": [
    {
     "name": "stdout",
     "output_type": "stream",
     "text": [
      "[[1.33333333 2.         3.        ]]\n"
     ]
    }
   ],
   "source": [
    "print(np.mean(matrix, axis=0, keepdims=True))"
   ]
  },
  {
   "cell_type": "code",
   "execution_count": 22,
   "id": "bee05081",
   "metadata": {},
   "outputs": [
    {
     "name": "stdout",
     "output_type": "stream",
     "text": [
      "<class 'str'>\n"
     ]
    }
   ],
   "source": []
  },
  {
   "cell_type": "code",
   "execution_count": null,
   "id": "b719b436",
   "metadata": {},
   "outputs": [],
   "source": []
  },
  {
   "cell_type": "code",
   "execution_count": null,
   "id": "5757c796",
   "metadata": {},
   "outputs": [],
   "source": []
  }
 ],
 "metadata": {
  "kernelspec": {
   "display_name": "Python 3 (ipykernel)",
   "language": "python",
   "name": "python3"
  },
  "language_info": {
   "codemirror_mode": {
    "name": "ipython",
    "version": 3
   },
   "file_extension": ".py",
   "mimetype": "text/x-python",
   "name": "python",
   "nbconvert_exporter": "python",
   "pygments_lexer": "ipython3",
   "version": "3.8.6"
  }
 },
 "nbformat": 4,
 "nbformat_minor": 5
}
