{
 "cells": [
  {
   "cell_type": "code",
   "execution_count": 1,
   "id": "0a00a08a-1ab8-46c0-8564-7d389c70d4c0",
   "metadata": {},
   "outputs": [
    {
     "name": "stderr",
     "output_type": "stream",
     "text": [
      "2024-11-04 16:23:28.247481: I tensorflow/core/platform/cpu_feature_guard.cc:193] This TensorFlow binary is optimized with oneAPI Deep Neural Network Library (oneDNN) to use the following CPU instructions in performance-critical operations:  AVX2 FMA\n",
      "To enable them in other operations, rebuild TensorFlow with the appropriate compiler flags.\n",
      "2024-11-04 16:23:28.921293: W tensorflow/compiler/xla/stream_executor/platform/default/dso_loader.cc:64] Could not load dynamic library 'libnvinfer.so.7'; dlerror: libnvinfer.so.7: cannot open shared object file: No such file or directory; LD_LIBRARY_PATH: :/home/nick/miniconda3/envs/tf_env/lib/python3.9/site-packages/nvidia/cudnn/lib:/home/nick/miniconda3/envs/tf_env/lib/\n",
      "2024-11-04 16:23:28.921391: W tensorflow/compiler/xla/stream_executor/platform/default/dso_loader.cc:64] Could not load dynamic library 'libnvinfer_plugin.so.7'; dlerror: libnvinfer_plugin.so.7: cannot open shared object file: No such file or directory; LD_LIBRARY_PATH: :/home/nick/miniconda3/envs/tf_env/lib/python3.9/site-packages/nvidia/cudnn/lib:/home/nick/miniconda3/envs/tf_env/lib/\n",
      "2024-11-04 16:23:28.921399: W tensorflow/compiler/tf2tensorrt/utils/py_utils.cc:38] TF-TRT Warning: Cannot dlopen some TensorRT libraries. If you would like to use Nvidia GPU with TensorRT, please make sure the missing libraries mentioned above are installed properly.\n"
     ]
    }
   ],
   "source": [
    "import tensorflow as tf\n",
    "from tensorflow import keras\n",
    "import gymnasium\n",
    "from gymnasium.wrappers import AtariPreprocessing\n",
    "from gymnasium.wrappers import FrameStackObservation\n",
    "import ale_py\n",
    "import matplotlib.pyplot as plt\n",
    "import numpy as np"
   ]
  },
  {
   "cell_type": "code",
   "execution_count": 2,
   "id": "233737f7-013c-4f1f-9ccf-895e99209571",
   "metadata": {},
   "outputs": [],
   "source": [
    "# actions = [NOOP, FIRE, RIGHT, LEFT]\n",
    "# step returns [state, reward, terminated, truncated, info]"
   ]
  },
  {
   "cell_type": "code",
   "execution_count": 3,
   "id": "909982d5-357a-42a3-b658-2ec2cf52873a",
   "metadata": {},
   "outputs": [
    {
     "name": "stderr",
     "output_type": "stream",
     "text": [
      "A.L.E: Arcade Learning Environment (version 0.10.1+unknown)\n",
      "[Powered by Stella]\n"
     ]
    }
   ],
   "source": [
    "env = gymnasium.make(\"BreakoutNoFrameskip-v4\", render_mode=\"rgb_array\")"
   ]
  },
  {
   "cell_type": "code",
   "execution_count": 4,
   "id": "2052260f-3098-48fb-998e-a838cb15db71",
   "metadata": {},
   "outputs": [
    {
     "data": {
      "text/plain": [
       "(210, 160, 3)"
      ]
     },
     "execution_count": 4,
     "metadata": {},
     "output_type": "execute_result"
    }
   ],
   "source": [
    "obs, info = env.reset()\n",
    "obs.shape"
   ]
  },
  {
   "cell_type": "code",
   "execution_count": 5,
   "id": "2bf58f29-3045-47d4-b4fb-34390c385bab",
   "metadata": {},
   "outputs": [],
   "source": [
    "class AtariPreprocessingFire(AtariPreprocessing):\n",
    "    def reset(self, **kwargs):\n",
    "        obs, reset_info = super().reset(**kwargs)\n",
    "        super().step(1)\n",
    "        return obs, reset_info\n",
    "    def step(self, action):\n",
    "        self.lives_before_action = self.ale.lives()\n",
    "        obs, rewards, terminated, truncated, info = super().step(action)\n",
    "        done = terminated or truncated\n",
    "        if not done and self.ale.lives() < self.lives_before_action:\n",
    "            super().step(1)\n",
    "        return obs, rewards, terminated, truncated, info"
   ]
  },
  {
   "cell_type": "code",
   "execution_count": 6,
   "id": "506bb123-c230-402a-8c31-0004aa0c09f2",
   "metadata": {},
   "outputs": [
    {
     "name": "stderr",
     "output_type": "stream",
     "text": [
      "WARNING: CPU random generator seem to be failing, disabling hardware random number generation\n",
      "WARNING: RDRND generated: 0xffffffff 0xffffffff 0xffffffff 0xffffffff\n"
     ]
    }
   ],
   "source": [
    "env = AtariPreprocessingFire(env)\n",
    "env = FrameStackObservation(env, stack_size=4)"
   ]
  },
  {
   "cell_type": "code",
   "execution_count": 7,
   "id": "9277a55c-ca13-44bc-b4fe-58a6abb886d2",
   "metadata": {},
   "outputs": [],
   "source": [
    "obs, info = env.reset()"
   ]
  },
  {
   "cell_type": "code",
   "execution_count": 8,
   "id": "e3d03fe4-a5ca-48c3-980c-dad7b0d56617",
   "metadata": {},
   "outputs": [],
   "source": [
    "for _ in range(4):\n",
    "    time_step = env.step(3)"
   ]
  },
  {
   "cell_type": "code",
   "execution_count": 9,
   "id": "cee11bc9-b406-4859-a6a7-42e3b57a5032",
   "metadata": {},
   "outputs": [],
   "source": [
    "state,reward,terminated,truncated,_ = time_step"
   ]
  },
  {
   "cell_type": "code",
   "execution_count": 10,
   "id": "bde1ef87-7f82-4837-96e5-fe630d791e5f",
   "metadata": {},
   "outputs": [],
   "source": [
    "def plot_observation(obs):\n",
    "    obs = obs.astype(np.float32)\n",
    "    img = obs[:3]\n",
    "    current_frame_delta = np.maximum(obs[3] - obs[:3].mean(axis=0), 0.)\n",
    "    img[0] += current_frame_delta\n",
    "    img[2] += current_frame_delta\n",
    "    img = np.clip(img / 150, 0, 1)\n",
    "    img = np.transpose(img, (1,2,0))\n",
    "    plt.imshow(img)"
   ]
  },
  {
   "cell_type": "code",
   "execution_count": 11,
   "id": "01918706-44a8-440d-a6a5-39d5ce63e141",
   "metadata": {},
   "outputs": [],
   "source": [
    "# (channels, height, width)"
   ]
  },
  {
   "cell_type": "code",
   "execution_count": 12,
   "id": "b0efbf55-b8e8-4e9d-b5d5-b6bd7bd7253d",
   "metadata": {},
   "outputs": [],
   "source": [
    "q_net = keras.models.Sequential([\n",
    "    keras.layers.Input(shape=env.observation_space.shape),\n",
    "    keras.layers.Lambda(lambda obs: tf.cast(obs, np.float32) / 255.),\n",
    "    keras.layers.Conv2D(32, (8,8), strides=4, activation=\"relu\", data_format=\"channels_first\"),\n",
    "    keras.layers.Conv2D(64, (4,4), strides=2, activation=\"relu\", data_format=\"channels_first\"),\n",
    "    keras.layers.Conv2D(64, (3,3), strides=1, activation=\"relu\", data_format=\"channels_first\"),\n",
    "    keras.layers.Flatten(),\n",
    "    keras.layers.Dense(512, activation=\"relu\"),\n",
    "    keras.layers.Dense(4)\n",
    "])"
   ]
  },
  {
   "cell_type": "code",
   "execution_count": 13,
   "id": "6cc1c3ab-3d8c-48b0-8f98-0b5164c87695",
   "metadata": {},
   "outputs": [],
   "source": [
    "update_period = 4\n",
    "optimizer = keras.optimizers.RMSprop(learning_rate=2.5e-4, rho=0.95, momentum=0.0, epsilon=1e-5, centered=True)\n",
    "epsilon_fn = keras.optimizers.schedules.PolynomialDecay(initial_learning_rate=1.0,\n",
    "                                          decay_steps=250000 // update_period,\n",
    "                                          end_learning_rate=0.01)"
   ]
  },
  {
   "cell_type": "code",
   "execution_count": 20,
   "id": "78afd72a-5066-47b5-824f-daaee65fe94c",
   "metadata": {},
   "outputs": [],
   "source": [
    "def epsilon_greedy_policy(obs, action_space, epsilon):\n",
    "    if np.random.rand() < epsilon:\n",
    "        return action_space.sample()\n",
    "    else:\n",
    "        q_values = q_net.predict(obs)\n",
    "        return np.argmax(q_values)    "
   ]
  },
  {
   "cell_type": "code",
   "execution_count": null,
   "id": "1b37a091-5e90-4837-ad4a-fa400b9543f2",
   "metadata": {},
   "outputs": [],
   "source": [
    "from collections import deque\n",
    "replay_buffer = deque(maxlen=100000)\n",
    "def sample_experiences():\n",
    "    "
   ]
  },
  {
   "cell_type": "code",
   "execution_count": 15,
   "id": "ec62071c-5e4c-4030-905c-8591378f1764",
   "metadata": {},
   "outputs": [],
   "source": [
    "obs, _ = env.reset()"
   ]
  },
  {
   "cell_type": "code",
   "execution_count": 16,
   "id": "d762055d-1035-4f31-a40c-19ec3922de53",
   "metadata": {},
   "outputs": [
    {
     "data": {
      "text/plain": [
       "<tf.Tensor: shape=(1, 4), dtype=float32, numpy=\n",
       "array([[-0.03705218,  0.00442155, -0.01860621, -0.03340802]],\n",
       "      dtype=float32)>"
      ]
     },
     "execution_count": 16,
     "metadata": {},
     "output_type": "execute_result"
    }
   ],
   "source": [
    "q_net(obs[np.newaxis])"
   ]
  },
  {
   "cell_type": "code",
   "execution_count": 17,
   "id": "94c6ec0b-4d15-442b-8866-61a36f6cae1e",
   "metadata": {},
   "outputs": [],
   "source": [
    "state, rewards, truncated, terminated, _ = env.step(3)"
   ]
  },
  {
   "cell_type": "code",
   "execution_count": 18,
   "id": "35d4dc13-e659-48a2-b89e-95200ab9ae8d",
   "metadata": {},
   "outputs": [
    {
     "data": {
      "text/plain": [
       "<tf.Tensor: shape=(1, 4), dtype=float32, numpy=\n",
       "array([[-0.03859906,  0.00465813, -0.01861539, -0.03358131]],\n",
       "      dtype=float32)>"
      ]
     },
     "execution_count": 18,
     "metadata": {},
     "output_type": "execute_result"
    }
   ],
   "source": [
    "q_net(state[np.newaxis])"
   ]
  },
  {
   "cell_type": "code",
   "execution_count": 19,
   "id": "c7458bc8-8d6d-428c-a392-5f0b242a5086",
   "metadata": {},
   "outputs": [
    {
     "data": {
      "text/plain": [
       "(4, 84, 84)"
      ]
     },
     "execution_count": 19,
     "metadata": {},
     "output_type": "execute_result"
    }
   ],
   "source": [
    "env.observation_space.shape"
   ]
  },
  {
   "cell_type": "code",
   "execution_count": 21,
   "id": "073a5b6d-90c8-4f7b-bd92-9c75eca931cd",
   "metadata": {},
   "outputs": [
    {
     "data": {
      "text/plain": [
       "Box(0, 255, (4, 84, 84), uint8)"
      ]
     },
     "execution_count": 21,
     "metadata": {},
     "output_type": "execute_result"
    }
   ],
   "source": [
    "env.observation_space."
   ]
  },
  {
   "cell_type": "code",
   "execution_count": null,
   "id": "eefbfb95-4960-4e40-a3a0-03283f57f38b",
   "metadata": {},
   "outputs": [],
   "source": []
  }
 ],
 "metadata": {
  "kernelspec": {
   "display_name": "Python 3 (ipykernel)",
   "language": "python",
   "name": "python3"
  },
  "language_info": {
   "codemirror_mode": {
    "name": "ipython",
    "version": 3
   },
   "file_extension": ".py",
   "mimetype": "text/x-python",
   "name": "python",
   "nbconvert_exporter": "python",
   "pygments_lexer": "ipython3",
   "version": "3.9.20"
  }
 },
 "nbformat": 4,
 "nbformat_minor": 5
}
