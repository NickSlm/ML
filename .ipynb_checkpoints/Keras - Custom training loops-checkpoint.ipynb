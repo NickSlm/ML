{
 "cells": [
  {
   "cell_type": "code",
   "execution_count": 1,
   "id": "a0aa8431",
   "metadata": {},
   "outputs": [],
   "source": [
    "import numpy as np\n",
    "import tensorflow as tf\n",
    "from tensorflow import keras\n",
    "from sklearn.datasets import fetch_california_housing\n",
    "from sklearn.model_selection import train_test_split\n",
    "from sklearn.preprocessing import StandardScaler"
   ]
  },
  {
   "cell_type": "code",
   "execution_count": 2,
   "id": "5ab41b85",
   "metadata": {},
   "outputs": [],
   "source": [
    "dataset = fetch_california_housing()\n",
    "X, y = dataset.data, dataset.target\n",
    "\n",
    "X_train_full, X_test, y_train_full, y_test = train_test_split(X, y)\n",
    "X_train, X_val, y_train, y_val = train_test_split(X_train_full, y_train_full)\n",
    "\n",
    "scaler = StandardScaler()\n",
    "X_train = scaler.fit_transform(X_train)\n",
    "X_test = scaler.transform(X_test)\n",
    "X_val = scaler.transform(X_val)"
   ]
  },
  {
   "cell_type": "code",
   "execution_count": 3,
   "id": "80355b1a",
   "metadata": {},
   "outputs": [],
   "source": [
    "model = keras.models.Sequential([\n",
    "    keras.layers.Dense(30, activation=\"elu\", kernel_initializer=\"he_normal\"),\n",
    "    keras.layers.BatchNormalization(),\n",
    "    keras.layers.Dense(1)\n",
    "])"
   ]
  },
  {
   "cell_type": "code",
   "execution_count": 4,
   "id": "44dcb96c",
   "metadata": {},
   "outputs": [],
   "source": [
    "def random_batch(X, y, batch_size=32):\n",
    "    ind = np.random.randint(len(X), size=batch_size)\n",
    "    return X[ind], y[ind]"
   ]
  },
  {
   "cell_type": "code",
   "execution_count": 5,
   "id": "210b61a5",
   "metadata": {},
   "outputs": [],
   "source": [
    "n_epochs = 10\n",
    "batch_size = 32\n",
    "n_steps = len(X_train) // batch_size\n",
    "loss_fn = keras.losses.mean_squared_error\n",
    "optimizer = keras.optimizers.SGD(learning_rate=1e-3)\n",
    "acc_metric = keras.metrics.MeanAbsoluteError()"
   ]
  },
  {
   "cell_type": "code",
   "execution_count": 6,
   "id": "0721a7d2",
   "metadata": {},
   "outputs": [
    {
     "name": "stdout",
     "output_type": "stream",
     "text": [
      "Epoch 1/10\n",
      "11520/11610 [============================>.] - ETA: 0s - acc: 0.9424\n",
      "mean_absolute_error - 0.9179813265800476\n",
      "Epoch 2/10\n",
      "11552/11610 [============================>.] - ETA: 0s - acc: 0.9168\n",
      "mean_absolute_error - 0.9016664028167725\n",
      "Epoch 3/10\n",
      "11552/11610 [============================>.] - ETA: 0s - acc: 0.9172\n",
      "mean_absolute_error - 0.925621509552002\n",
      "Epoch 4/10\n",
      "11552/11610 [============================>.] - ETA: 0s - acc: 0.8997\n",
      "mean_absolute_error - 0.9043298959732056\n",
      "Epoch 5/10\n",
      "11456/11610 [============================>.] - ETA: 0s - acc: 0.9166\n",
      "mean_absolute_error - 0.9145081043243408\n",
      "Epoch 6/10\n",
      "11520/11610 [============================>.] - ETA: 0s - acc: 0.9307\n",
      "mean_absolute_error - 0.9108349680900574\n",
      "Epoch 7/10\n",
      "11552/11610 [============================>.] - ETA: 0s - acc: 0.8824\n",
      "mean_absolute_error - 0.9018570780754089\n",
      "Epoch 8/10\n",
      "11552/11610 [============================>.] - ETA: 0s - acc: 0.9007\n",
      "mean_absolute_error - 0.9098191261291504\n",
      "Epoch 9/10\n",
      "11584/11610 [============================>.] - ETA: 0s - acc: 0.8912\n",
      "mean_absolute_error - 0.888462483882904\n",
      "Epoch 10/10\n",
      "11488/11610 [============================>.] - ETA: 0s - acc: 0.8896\n",
      "mean_absolute_error - 0.9029927253723145\n"
     ]
    }
   ],
   "source": [
    "for epoch in range(1, n_epochs + 1):\n",
    "    print(f\"\\rEpoch {epoch}/{n_epochs}\")\n",
    "    pb_i = keras.utils.Progbar(len(y_train))\n",
    "    for step in range(1, n_steps + 1):\n",
    "        X_batch, y_batch = random_batch(X_train, y_train)\n",
    "        with tf.GradientTape() as g:\n",
    "            y_pred = model(X_batch, training=True)\n",
    "            loss = loss_fn(y_batch, y_pred)\n",
    "        gradients = g.gradient(loss, model.trainable_variables)\n",
    "        optimizer.apply_gradients(zip(gradients, model.trainable_variables))\n",
    "        \n",
    "        \n",
    "        acc_metric.update_state(y_batch, y_pred)\n",
    "        acc = acc_metric.result()\n",
    "        pb_i.add(batch_size, values=[(\"acc\", acc)])\n",
    "        \n",
    "    print(f\"\\n{acc_metric.name} - {acc_metric.result()}\")\n",
    "    acc_metric.reset_states()\n",
    "    "
   ]
  },
  {
   "cell_type": "code",
   "execution_count": null,
   "id": "db27e9f6",
   "metadata": {},
   "outputs": [],
   "source": []
  }
 ],
 "metadata": {
  "kernelspec": {
   "display_name": "Python 3 (ipykernel)",
   "language": "python",
   "name": "python3"
  },
  "language_info": {
   "codemirror_mode": {
    "name": "ipython",
    "version": 3
   },
   "file_extension": ".py",
   "mimetype": "text/x-python",
   "name": "python",
   "nbconvert_exporter": "python",
   "pygments_lexer": "ipython3",
   "version": "3.8.6"
  }
 },
 "nbformat": 4,
 "nbformat_minor": 5
}
