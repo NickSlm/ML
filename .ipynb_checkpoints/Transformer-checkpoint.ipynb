{
 "cells": [
  {
   "cell_type": "code",
   "execution_count": 1,
   "id": "6d46b53a-a4aa-4914-b90b-11c6d620dd90",
   "metadata": {},
   "outputs": [
    {
     "name": "stderr",
     "output_type": "stream",
     "text": [
      "2023-12-11 10:28:02.783568: I external/local_tsl/tsl/cuda/cudart_stub.cc:31] Could not find cuda drivers on your machine, GPU will not be used.\n",
      "2023-12-11 10:28:02.816613: E external/local_xla/xla/stream_executor/cuda/cuda_dnn.cc:9261] Unable to register cuDNN factory: Attempting to register factory for plugin cuDNN when one has already been registered\n",
      "2023-12-11 10:28:02.816646: E external/local_xla/xla/stream_executor/cuda/cuda_fft.cc:607] Unable to register cuFFT factory: Attempting to register factory for plugin cuFFT when one has already been registered\n",
      "2023-12-11 10:28:02.817366: E external/local_xla/xla/stream_executor/cuda/cuda_blas.cc:1515] Unable to register cuBLAS factory: Attempting to register factory for plugin cuBLAS when one has already been registered\n",
      "2023-12-11 10:28:02.822178: I external/local_tsl/tsl/cuda/cudart_stub.cc:31] Could not find cuda drivers on your machine, GPU will not be used.\n",
      "2023-12-11 10:28:02.822677: I tensorflow/core/platform/cpu_feature_guard.cc:182] This TensorFlow binary is optimized to use available CPU instructions in performance-critical operations.\n",
      "To enable the following instructions: AVX2 FMA, in other operations, rebuild TensorFlow with the appropriate compiler flags.\n",
      "2023-12-11 10:28:03.439059: W tensorflow/compiler/tf2tensorrt/utils/py_utils.cc:38] TF-TRT Warning: Could not find TensorRT\n"
     ]
    }
   ],
   "source": [
    "import numpy as np\n",
    "import tensorflow as tf\n",
    "from tensorflow import keras\n",
    "import unicodedata\n",
    "import tensorflow_text as tf_text\n",
    "import re"
   ]
  },
  {
   "cell_type": "markdown",
   "id": "7c719752-ffdf-4e5a-83b6-3eff8418872d",
   "metadata": {},
   "source": [
    "## Positional encoding"
   ]
  },
  {
   "cell_type": "code",
   "execution_count": 17,
   "id": "e9ee81c6-9f3f-43fa-a88e-7ba29566be7e",
   "metadata": {},
   "outputs": [],
   "source": [
    "class PositionalEncoder(keras.layers.Layer):\n",
    "    def __init__(self, max_seq_len, emb_dim, dtype=tf.float32, **kwargs):\n",
    "        super().__init__(dtype=dtype, **kwargs)\n",
    "        if emb_dim % 2 == 1: emb_dim += 1\n",
    "        k, i = np.meshgrid(np.arange(max_seq_len), np.arange(emb_dim // 2))\n",
    "        pos_encoding = np.empty((1, max_seq_len, emb_dim))\n",
    "        pos_encoding[0, :, ::2] = np.sin(k / 10000**(2 * i / emb_dim)).T\n",
    "        pos_encoding[0, :, 1::2] = np.cos(k / 10000**(2 * i / emb_dim)).T\n",
    "        self.positional_embedding = tf.constant(pos_encoding.astype(self.dtype))\n",
    "\n",
    "    def call(self, inputs):\n",
    "        shape = inputs.shape\n",
    "        return inputs + self.positional_embedding[:, :shape[-2], :shape[-1]]"
   ]
  },
  {
   "cell_type": "markdown",
   "id": "ae5cb3ab-7be5-4779-b991-c41ac6b651b2",
   "metadata": {},
   "source": [
    "## Transformer Input Layer"
   ]
  },
  {
   "cell_type": "code",
   "execution_count": 18,
   "id": "89e64dce-487b-453b-ac76-b8d416c46392",
   "metadata": {},
   "outputs": [],
   "source": [
    "vocab_size = 10000; embed_dim = 512; max_seq_len = 500\n",
    "encoder_input = keras.layers.Input(shape=[None], dtype=np.int32)\n",
    "decoder_input = keras.layers.Input(shape=[None], dtype=np.int32)\n",
    "\n",
    "embedding_layer = keras.layers.Embedding(vocab_size, embed_dim)\n",
    "\n",
    "encoder_embeddings = embedding_layer(encoder_input)\n",
    "decoder_embeddings = embedding_layer(decoder_input)\n",
    "\n",
    "positional_encoder = PositionalEncoder(max_seq_len, embed_dim)\n",
    "\n",
    "encoder_in = positional_encoder(encoder_embeddings)\n",
    "decoder_in = positional_encoder(decoder_embeddings)"
   ]
  },
  {
   "cell_type": "code",
   "execution_count": null,
   "id": "7466ad32-a6a9-482f-8516-f2d6989244c2",
   "metadata": {},
   "outputs": [],
   "source": []
  }
 ],
 "metadata": {
  "kernelspec": {
   "display_name": "Python 3 (ipykernel)",
   "language": "python",
   "name": "python3"
  },
  "language_info": {
   "codemirror_mode": {
    "name": "ipython",
    "version": 3
   },
   "file_extension": ".py",
   "mimetype": "text/x-python",
   "name": "python",
   "nbconvert_exporter": "python",
   "pygments_lexer": "ipython3",
   "version": "3.9.18"
  }
 },
 "nbformat": 4,
 "nbformat_minor": 5
}
