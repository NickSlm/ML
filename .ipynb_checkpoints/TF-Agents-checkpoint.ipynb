{
 "cells": [
  {
   "cell_type": "code",
   "execution_count": 22,
   "id": "0a00a08a-1ab8-46c0-8564-7d389c70d4c0",
   "metadata": {},
   "outputs": [],
   "source": [
    "import gymnasium as gym\n",
    "from gymnasium.wrappers import TimeLimit\n",
    "from functools import partial\n",
    "import matplotlib.pyplot as plt\n",
    "from tf_agents.environments import suite_gym, suite_atari\n",
    "from tf_agents.environments.wrappers import ActionRepeat\n",
    "from tf_agents.environments.atari_preprocessing import AtariPreprocessing\n",
    "from tf_agents.environments.atari_wrappers import FrameStack4"
   ]
  },
  {
   "cell_type": "code",
   "execution_count": 3,
   "id": "233737f7-013c-4f1f-9ccf-895e99209571",
   "metadata": {},
   "outputs": [],
   "source": [
    "# actions = [NOOP, FIRE, RIGHT, LEFT]\n",
    "# step returns [state, reward, terminated, truncated, info]"
   ]
  },
  {
   "cell_type": "code",
   "execution_count": 23,
   "id": "d26ef1d0-1ab3-4a7b-a2d2-a3d7ef956e6b",
   "metadata": {},
   "outputs": [],
   "source": [
    "env = suite_atari.load(\"Breakout-v4\", max_episode_steps=27000, gym_env_wrappers=[AtariPreprocessing, FrameStack4])\n"
   ]
  },
  {
   "cell_type": "code",
   "execution_count": 24,
   "id": "930f5dd1-284c-4fef-9621-283a266e9008",
   "metadata": {},
   "outputs": [
    {
     "data": {
      "text/plain": [
       "(84, 84, 4)"
      ]
     },
     "execution_count": 24,
     "metadata": {},
     "output_type": "execute_result"
    }
   ],
   "source": [
    "env.observation_spec().shape"
   ]
  },
  {
   "cell_type": "code",
   "execution_count": 17,
   "id": "3975512b-c574-467e-97dc-b563e4192ea7",
   "metadata": {},
   "outputs": [
    {
     "ename": "AttributeError",
     "evalue": "'TimeStep' object has no attribute 'observation_space'",
     "output_type": "error",
     "traceback": [
      "\u001b[0;31m---------------------------------------------------------------------------\u001b[0m",
      "\u001b[0;31mAttributeError\u001b[0m                            Traceback (most recent call last)",
      "Cell \u001b[0;32mIn[17], line 1\u001b[0m\n\u001b[0;32m----> 1\u001b[0m \u001b[43mobs\u001b[49m\u001b[38;5;241;43m.\u001b[39;49m\u001b[43mobservation_space\u001b[49m()\n",
      "\u001b[0;31mAttributeError\u001b[0m: 'TimeStep' object has no attribute 'observation_space'"
     ]
    }
   ],
   "source": []
  },
  {
   "cell_type": "code",
   "execution_count": null,
   "id": "91c595f5-4c1d-4f45-b2d8-1272a06d9f57",
   "metadata": {},
   "outputs": [],
   "source": []
  }
 ],
 "metadata": {
  "kernelspec": {
   "display_name": "Python 3 (ipykernel)",
   "language": "python",
   "name": "python3"
  },
  "language_info": {
   "codemirror_mode": {
    "name": "ipython",
    "version": 3
   },
   "file_extension": ".py",
   "mimetype": "text/x-python",
   "name": "python",
   "nbconvert_exporter": "python",
   "pygments_lexer": "ipython3",
   "version": "3.9.19"
  }
 },
 "nbformat": 4,
 "nbformat_minor": 5
}
