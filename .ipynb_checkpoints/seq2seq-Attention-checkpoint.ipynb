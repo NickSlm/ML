{
 "cells": [
  {
   "cell_type": "code",
   "execution_count": 1,
   "id": "2282847d-403d-46bc-8f9b-b046e2c4bb18",
   "metadata": {},
   "outputs": [
    {
     "name": "stderr",
     "output_type": "stream",
     "text": [
      "2024-02-29 11:06:58.728543: I external/local_tsl/tsl/cuda/cudart_stub.cc:31] Could not find cuda drivers on your machine, GPU will not be used.\n",
      "2024-02-29 11:06:58.980419: E external/local_xla/xla/stream_executor/cuda/cuda_dnn.cc:9261] Unable to register cuDNN factory: Attempting to register factory for plugin cuDNN when one has already been registered\n",
      "2024-02-29 11:06:58.980547: E external/local_xla/xla/stream_executor/cuda/cuda_fft.cc:607] Unable to register cuFFT factory: Attempting to register factory for plugin cuFFT when one has already been registered\n",
      "2024-02-29 11:06:59.002248: E external/local_xla/xla/stream_executor/cuda/cuda_blas.cc:1515] Unable to register cuBLAS factory: Attempting to register factory for plugin cuBLAS when one has already been registered\n",
      "2024-02-29 11:06:59.068491: I external/local_tsl/tsl/cuda/cudart_stub.cc:31] Could not find cuda drivers on your machine, GPU will not be used.\n",
      "2024-02-29 11:06:59.070915: I tensorflow/core/platform/cpu_feature_guard.cc:182] This TensorFlow binary is optimized to use available CPU instructions in performance-critical operations.\n",
      "To enable the following instructions: AVX2 FMA, in other operations, rebuild TensorFlow with the appropriate compiler flags.\n",
      "2024-02-29 11:07:00.156716: W tensorflow/compiler/tf2tensorrt/utils/py_utils.cc:38] TF-TRT Warning: Could not find TensorRT\n"
     ]
    }
   ],
   "source": [
    "import os\n",
    "import numpy as np\n",
    "from pathlib import Path\n",
    "import tensorflow as tf\n",
    "from tensorflow import keras\n",
    "import tensorflow_text as tf_text\n",
    "from sklearn.model_selection import train_test_split"
   ]
  },
  {
   "cell_type": "code",
   "execution_count": 2,
   "id": "84ecbbcb-c6d1-4018-8854-499227259d78",
   "metadata": {},
   "outputs": [],
   "source": [
    "def get_data(filepath):\n",
    "    with open(filepath, 'r') as f:\n",
    "        lines = f.readlines()\n",
    "    lines = [line.split('\\t') for line in lines]\n",
    "    context = np.array([context for _, context, _ in lines]) \n",
    "    target = np.array([target for target, _, _ in lines])\n",
    "    return context, target"
   ]
  },
  {
   "cell_type": "code",
   "execution_count": 3,
   "id": "e6b30603-38c8-4d5e-bd03-e77f8de89de0",
   "metadata": {},
   "outputs": [],
   "source": [
    "filepath = Path(\"datasets/Languages/heb.txt\")\n",
    "raw_context, raw_target = get_data(filepath)"
   ]
  },
  {
   "cell_type": "code",
   "execution_count": 4,
   "id": "d54e79d8-3b8a-4c58-8883-041390c57901",
   "metadata": {},
   "outputs": [],
   "source": [
    "X_train, X_val, y_train, y_val = train_test_split(raw_context, raw_target, test_size=0.2)"
   ]
  },
  {
   "cell_type": "code",
   "execution_count": 5,
   "id": "409a3f0f-2d68-4c33-8dab-d8b2de8532f0",
   "metadata": {},
   "outputs": [],
   "source": [
    "BATCH_SIZE = 64\n",
    "SHUFFLE_SIZE = len(raw_context)"
   ]
  },
  {
   "cell_type": "code",
   "execution_count": 6,
   "id": "2f595a98-b9ce-4455-bfc3-142317a51ec5",
   "metadata": {},
   "outputs": [
    {
     "name": "stderr",
     "output_type": "stream",
     "text": [
      "2024-02-29 11:07:04.401499: I external/local_xla/xla/stream_executor/cuda/cuda_executor.cc:887] could not open file to read NUMA node: /sys/bus/pci/devices/0000:06:00.0/numa_node\n",
      "Your kernel may have been built without NUMA support.\n",
      "2024-02-29 11:07:04.602064: W tensorflow/core/common_runtime/gpu/gpu_device.cc:2256] Cannot dlopen some GPU libraries. Please make sure the missing libraries mentioned above are installed properly if you would like to use GPU. Follow the guide at https://www.tensorflow.org/install/gpu for how to download and setup the required libraries for your platform.\n",
      "Skipping registering GPU devices...\n"
     ]
    }
   ],
   "source": [
    "train_dataset = tf.data.Dataset.from_tensor_slices((X_train, y_train)).shuffle(SHUFFLE_SIZE).batch(BATCH_SIZE)\n",
    "val_dataset = tf.data.Dataset.from_tensor_slices((X_val, y_val)).shuffle(SHUFFLE_SIZE).batch(BATCH_SIZE)"
   ]
  },
  {
   "cell_type": "code",
   "execution_count": 7,
   "id": "c2b07c76-52d2-4e95-ba38-6e29f9415804",
   "metadata": {},
   "outputs": [],
   "source": [
    "def tf_lower_punct_normalize(text):\n",
    "    text = tf_text.normalize_utf8(text, \"NFKD\")\n",
    "    text = tf.strings.lower(text)\n",
    "    text = tf.strings.regex_replace(text, '[^ a-zא-ת.?!,¿]', '')\n",
    "    text = tf.strings.regex_replace(text, '[.?!,¿]', r' \\0 ')\n",
    "    text = tf.strings.strip(text)\n",
    "\n",
    "    text = tf.strings.join(['[START]', text, '[END]'], separator=' ')\n",
    "    return text\n",
    "    "
   ]
  },
  {
   "cell_type": "code",
   "execution_count": 8,
   "id": "ff2c98e2-a354-48aa-93dd-6d3fe2d51bd7",
   "metadata": {},
   "outputs": [],
   "source": [
    "context_text_processor = keras.layers.TextVectorization(max_tokens=15000 ,standardize=tf_lower_punct_normalize, ragged=True)\n",
    "target_text_processor = keras.layers.TextVectorization(max_tokens=10000, standardize=tf_lower_punct_normalize, ragged=True)"
   ]
  },
  {
   "cell_type": "code",
   "execution_count": 9,
   "id": "b14125ce-13a8-4b09-a812-ce03ee657ff6",
   "metadata": {},
   "outputs": [],
   "source": [
    "context_text_processor.adapt(train_dataset.map(lambda context, target: context))\n",
    "target_text_processor.adapt(train_dataset.map(lambda context, target: target))"
   ]
  },
  {
   "cell_type": "code",
   "execution_count": 10,
   "id": "97c21c97-8070-447d-9cc7-00dd96b05292",
   "metadata": {},
   "outputs": [],
   "source": [
    "context_vocab = context_text_processor.get_vocabulary()\n",
    "target_vocab = target_text_processor.get_vocabulary()"
   ]
  },
  {
   "cell_type": "code",
   "execution_count": 11,
   "id": "71c99edd-685f-4817-87ff-078b42a2ae01",
   "metadata": {},
   "outputs": [],
   "source": [
    "def process_text(context, target):\n",
    "    context = context_text_processor(context).to_tensor()\n",
    "\n",
    "    target = target_text_processor(target)\n",
    "    target_in = target[:, :-1].to_tensor()\n",
    "    target = target[:, 1:].to_tensor()\n",
    "    \n",
    "    return (context, target_in), target"
   ]
  },
  {
   "cell_type": "code",
   "execution_count": 12,
   "id": "e2c07844-1146-4a8a-8aa2-2f758ac5d0e8",
   "metadata": {},
   "outputs": [],
   "source": [
    "train_dataset = train_dataset.map(process_text, tf.data.AUTOTUNE)\n",
    "val_dataset = val_dataset.map(process_text, tf.data.AUTOTUNE)"
   ]
  },
  {
   "cell_type": "code",
   "execution_count": 13,
   "id": "7ecbd2e0-f94f-432d-b5f4-99feae084268",
   "metadata": {},
   "outputs": [
    {
     "name": "stdout",
     "output_type": "stream",
     "text": [
      "tf.Tensor(\n",
      "[[    2    16   553   217     8     3     0     0     0     0     0     0\n",
      "      0     0     0]\n",
      " [    2    45   589    14   177  3575     8     3     0     0     0     0\n",
      "      0     0     0]\n",
      " [    2    14   315   200    49     3     0     0     0     0     0     0\n",
      "      0     0     0]\n",
      " [    2   130     9    24   426    54   635     4     3     0     0     0\n",
      "      0     0     0]\n",
      " [    2   273  1434    32    46 12876     8     3     0     0     0     0\n",
      "      0     0     0]], shape=(5, 15), dtype=int64)\n",
      "tf.Tensor(\n",
      "[[   2  169   95  254   11    0    0    0    0    0    0    0    0]\n",
      " [   2   50  270   20    9  181 3388   11    0    0    0    0    0]\n",
      " [   2    9   37   20   15    4    0    0    0    0    0    0    0]\n",
      " [   2  328   37  678   22 2717    4    0    0    0    0    0    0]\n",
      " [   2   86  108   32  247  718   10 6245   11    0    0    0    0]], shape=(5, 13), dtype=int64)\n",
      "tf.Tensor(\n",
      "[[ 169   95  254   11    3    0    0    0    0    0    0    0    0]\n",
      " [  50  270   20    9  181 3388   11    3    0    0    0    0    0]\n",
      " [   9   37   20   15    4    3    0    0    0    0    0    0    0]\n",
      " [ 328   37  678   22 2717    4    3    0    0    0    0    0    0]\n",
      " [  86  108   32  247  718   10 6245   11    3    0    0    0    0]], shape=(5, 13), dtype=int64)\n"
     ]
    }
   ],
   "source": [
    "for (ex_context, ex_tar_in), ex_tar_out in train_dataset.take(1):\n",
    "    print(ex_context[:5])\n",
    "    print(ex_tar_in[:5])\n",
    "    print(ex_tar_out[:5])"
   ]
  },
  {
   "cell_type": "code",
   "execution_count": 14,
   "id": "2250f236-a2e7-4c28-9dd4-5e7d084a29da",
   "metadata": {},
   "outputs": [],
   "source": [
    "class Encoder(keras.layers.Layer):\n",
    "    def __init__(self, units, text_processor, **kwargs):\n",
    "        super().__init__(**kwargs)\n",
    "        \n",
    "        self.units = units\n",
    "        self.text_processor = text_processor\n",
    "        self.vocab_size = self.text_processor.vocabulary_size()\n",
    "\n",
    "        self.embedding_layer = keras.layers.Embedding(input_dim=self.vocab_size, output_dim=self.units)\n",
    "        self.rnn = keras.layers.Bidirectional(keras.layers.GRU(self.units, \n",
    "                                                               return_sequences=True, \n",
    "                                                               recurrent_initializer='glorot_uniform'), \n",
    "                                              merge_mode=\"sum\")\n",
    "    def call(self, input):\n",
    "        embedding = self.embedding_layer(input)\n",
    "        context = self.rnn(embedding)\n",
    "        return context\n",
    "\n",
    "    def convert_input(self, texts):\n",
    "        texts = tf.convert_to_tensor(texts)\n",
    "        if len(texts.shape) == 0:\n",
    "            texts = tf.convert_to_tensor(texts)[tf.newaxis]\n",
    "        texts = self.text_processor(texts).to_tensor()\n",
    "        context = self(texts)\n",
    "        return context"
   ]
  },
  {
   "cell_type": "code",
   "execution_count": 15,
   "id": "562ffae2-e76b-4ced-aace-608c1b7e1836",
   "metadata": {},
   "outputs": [],
   "source": [
    "class CrossAttention(keras.layers.Layer):\n",
    "    def __init__(self, **kwargs):\n",
    "        super().__init__(**kwargs)\n",
    "        self.mha = tf.keras.layers.MultiHeadAttention(key_dim=256, num_heads=1, **kwargs)\n",
    "        self.normalization_layer = keras.layers.LayerNormalization()\n",
    "        self.add = keras.layers.Add()\n",
    "\n",
    "    def call(self, inputs):\n",
    "        context, x = inputs\n",
    "        attn_output, attn_scores = self.mha(\n",
    "        query=x,\n",
    "        value=context,\n",
    "        return_attention_scores=True)        \n",
    "        self.last_attention_weights = tf.reduce_mean(attn_scores, axis=-1)\n",
    "        x = self.add([x, attn_output])\n",
    "        x = self.normalization_layer(x)\n",
    "        return x"
   ]
  },
  {
   "cell_type": "code",
   "execution_count": 16,
   "id": "fd322a7f-1d0b-4e69-a2fc-ec985ae3fe95",
   "metadata": {},
   "outputs": [],
   "source": [
    "class Decoder(keras.layers.Layer):\n",
    "    def __init__(self, units, text_processor, **kwargs):\n",
    "        super().__init__()\n",
    "\n",
    "        self.units = units\n",
    "        self.text_processor = text_processor\n",
    "        self.vocab_size = self.text_processor.vocabulary_size()\n",
    "        self.text_to_id = keras.layers.StringLookup(vocabulary=self.text_processor.get_vocabulary(), mask_token='', oov_token='[UNK]')\n",
    "        self.id_to_text = keras.layers.StringLookup(vocabulary=self.text_processor.get_vocabulary(), mask_token='', oov_token='[UNK]', invert=True)\n",
    "        \n",
    "        self.start_token = self.text_to_id('[START]')\n",
    "        self.end_token = self.text_to_id('[END]')\n",
    "        \n",
    "        self.embedding_layer = keras.layers.Embedding(input_dim=self.vocab_size, output_dim=self.units)\n",
    "        self.rnn = keras.layers.GRU(self.units, return_sequences=True, return_state=True, recurrent_initializer='glorot_uniform')\n",
    "        self.attention = CrossAttention()\n",
    "        self.output_layer = keras.layers.Dense(self.vocab_size)\n",
    "    \n",
    "    def call(self, inputs, state=None, return_state=False):\n",
    "        context, x_in = inputs\n",
    "        \n",
    "        x = self.embedding_layer(x_in)\n",
    "        x, state = self.rnn(x, initial_state=state)\n",
    "        \n",
    "        x = self.attention((context, x))\n",
    "        self.last_attention_weights = self.attention.last_attention_weights\n",
    "        \n",
    "        logits = self.output_layer(x)\n",
    "\n",
    "        if return_state:\n",
    "            return logits, state\n",
    "        else:\n",
    "            return logits\n",
    "\n",
    "    def get_initial_state(self, context):\n",
    "        batch_size = tf.shape(context)[0]\n",
    "        start_tokens = tf.fill([batch_size, 1], self.start_token)\n",
    "        done = tf.zeros([batch_size, 1], dtype=tf.bool)\n",
    "        embedding = self.embedding_layer(start_tokens)\n",
    "        return start_tokens, done, self.rnn.get_initial_state(embedding)[0]\n",
    "\n",
    "    def get_next_token(self, context, tokens, done, state):\n",
    "        logits, state = self((context, tokens), state, True)\n",
    "\n",
    "        next_token = tf.argmax(logits, axis=-1)\n",
    "\n",
    "        done = done | (next_token == self.end_token)\n",
    "\n",
    "        next_token = tf.where(done, tf.constant(0, dtype=tf.int64), next_token)\n",
    "        \n",
    "        return next_token, done, state\n",
    "\n",
    "    def tokens_to_text(self, tokens):\n",
    "        words = self.id_to_text(tokens)\n",
    "        result = tf.strings.reduce_join(words, axis=-1, separator=' ')\n",
    "        result = tf.strings.regex_replace(result, '^ *\\[START\\] *', '')\n",
    "        result = tf.strings.regex_replace(result, ' *\\[END\\] *$', '')\n",
    "        return result"
   ]
  },
  {
   "cell_type": "code",
   "execution_count": 17,
   "id": "f9d71bc4-d9a3-4ed0-bfcb-cb78e3d643c6",
   "metadata": {},
   "outputs": [],
   "source": [
    "class Translator(keras.models.Model):\n",
    "    def __init__(self, units, context_processor, target_processor, **kwargs):\n",
    "        super().__init__(**kwargs)\n",
    "\n",
    "        \n",
    "        self.encoder = Encoder(units, context_processor)\n",
    "        self.decoder = Decoder(units, target_processor)\n",
    "        \n",
    "    def call(self, inputs):\n",
    "        x, y_in = inputs\n",
    "        context = self.encoder(x)\n",
    "        logits = self.decoder((context, y_in))\n",
    "        \n",
    "        return logits\n",
    "\n",
    "    def translate(self, text):\n",
    "        max_len = 50\n",
    "        context = self.encoder.convert_input(text)\n",
    "\n",
    "        tokens = []\n",
    "        attention_weights = []\n",
    "        \n",
    "        next_tokens, done, state = self.decoder.get_initial_state(context)\n",
    "\n",
    "        for _ in range(max_len):\n",
    "            next_tokens, done, state = self.decoder.get_next_token(context, next_tokens, done, state)\n",
    "            tokens.append(next_tokens)\n",
    "            attention_weights.append(self.decoder.last_attention_weights)\n",
    "            if tf.executing_eagerly() and tf.reduce_all(done):\n",
    "                break\n",
    "\n",
    "        tokens = tf.concat(tokens, axis=-1)\n",
    "        \n",
    "        return self.decoder.tokens_to_text(tokens)"
   ]
  },
  {
   "cell_type": "code",
   "execution_count": 18,
   "id": "fb1f458d-2316-43f3-bcba-e6efb8253d68",
   "metadata": {},
   "outputs": [],
   "source": [
    "def masked_loss(y_true, y_pred):\n",
    "    loss_fn = keras.losses.SparseCategoricalCrossentropy(from_logits=True, reduction='none')\n",
    "    loss = loss_fn(y_true, y_pred)\n",
    "\n",
    "    mask = tf.cast(y_true != 0, loss.dtype)\n",
    "    loss *= mask\n",
    "\n",
    "    return tf.reduce_sum(loss) / tf.reduce_sum(mask)\n",
    "    \n",
    "def masked_acc(y_true, y_pred):\n",
    "    y_pred = tf.argmax(y_pred, axis=-1)\n",
    "    y_pred = tf.cast(y_pred, y_true.dtype)\n",
    "\n",
    "    match = tf.cast(y_pred == y_true, tf.float32)\n",
    "    mask = tf.cast(y_true != 0, tf.float32)\n",
    "\n",
    "    return tf.reduce_sum(match) / tf.reduce_sum(mask)"
   ]
  },
  {
   "cell_type": "code",
   "execution_count": 19,
   "id": "2307fb14-da0f-4507-8753-c6748ea4e33b",
   "metadata": {},
   "outputs": [],
   "source": [
    "model = Translator(256, context_text_processor, target_text_processor)\n",
    "model.compile(loss=masked_loss, optimizer='adam', metrics=[masked_acc])"
   ]
  },
  {
   "cell_type": "code",
   "execution_count": 20,
   "id": "44af1950-149d-420f-b91c-3bb5961d75e4",
   "metadata": {},
   "outputs": [
    {
     "name": "stdout",
     "output_type": "stream",
     "text": [
      "Epoch 1/100\n",
      "100/100 [==============================] - 29s 251ms/step - loss: 5.3732 - masked_acc: 0.2414 - val_loss: 4.4257 - val_masked_acc: 0.3232\n",
      "Epoch 2/100\n",
      "100/100 [==============================] - 25s 249ms/step - loss: 4.1539 - masked_acc: 0.3507 - val_loss: 3.8491 - val_masked_acc: 0.3798\n",
      "Epoch 3/100\n",
      "100/100 [==============================] - 23s 234ms/step - loss: 3.6894 - masked_acc: 0.4109 - val_loss: 3.4729 - val_masked_acc: 0.4271\n",
      "Epoch 4/100\n",
      "100/100 [==============================] - 24s 244ms/step - loss: 3.3387 - masked_acc: 0.4556 - val_loss: 3.1390 - val_masked_acc: 0.4784\n",
      "Epoch 5/100\n",
      "100/100 [==============================] - 26s 258ms/step - loss: 3.0436 - masked_acc: 0.4970 - val_loss: 2.8502 - val_masked_acc: 0.5203\n",
      "Epoch 6/100\n",
      "100/100 [==============================] - 25s 247ms/step - loss: 2.7911 - masked_acc: 0.5333 - val_loss: 2.6566 - val_masked_acc: 0.5378\n",
      "Epoch 7/100\n",
      "100/100 [==============================] - 26s 258ms/step - loss: 2.6285 - masked_acc: 0.5542 - val_loss: 2.4540 - val_masked_acc: 0.5784\n",
      "Epoch 8/100\n",
      "100/100 [==============================] - 26s 259ms/step - loss: 2.4984 - masked_acc: 0.5762 - val_loss: 2.3016 - val_masked_acc: 0.6011\n",
      "Epoch 9/100\n",
      "100/100 [==============================] - 26s 263ms/step - loss: 2.3541 - masked_acc: 0.5963 - val_loss: 2.2529 - val_masked_acc: 0.6084\n",
      "Epoch 10/100\n",
      "100/100 [==============================] - 24s 237ms/step - loss: 2.2357 - masked_acc: 0.6132 - val_loss: 2.2366 - val_masked_acc: 0.6049\n",
      "Epoch 11/100\n",
      "100/100 [==============================] - 24s 240ms/step - loss: 2.1503 - masked_acc: 0.6228 - val_loss: 2.0492 - val_masked_acc: 0.6360\n",
      "Epoch 12/100\n",
      "100/100 [==============================] - 24s 242ms/step - loss: 2.0489 - masked_acc: 0.6399 - val_loss: 1.9903 - val_masked_acc: 0.6456\n",
      "Epoch 13/100\n",
      "100/100 [==============================] - 26s 256ms/step - loss: 1.9514 - masked_acc: 0.6540 - val_loss: 1.9228 - val_masked_acc: 0.6529\n",
      "Epoch 14/100\n",
      "100/100 [==============================] - 25s 252ms/step - loss: 1.9266 - masked_acc: 0.6538 - val_loss: 1.9552 - val_masked_acc: 0.6522\n",
      "Epoch 15/100\n",
      "100/100 [==============================] - 25s 254ms/step - loss: 1.8678 - masked_acc: 0.6638 - val_loss: 1.8458 - val_masked_acc: 0.6640\n",
      "Epoch 16/100\n",
      "100/100 [==============================] - 24s 243ms/step - loss: 1.8039 - masked_acc: 0.6712 - val_loss: 1.6977 - val_masked_acc: 0.6818\n",
      "Epoch 17/100\n",
      "100/100 [==============================] - 24s 235ms/step - loss: 1.4274 - masked_acc: 0.7157 - val_loss: 1.7147 - val_masked_acc: 0.6815\n",
      "Epoch 18/100\n",
      "100/100 [==============================] - 24s 244ms/step - loss: 1.4408 - masked_acc: 0.7119 - val_loss: 1.7142 - val_masked_acc: 0.6780\n",
      "Epoch 19/100\n",
      "100/100 [==============================] - 25s 248ms/step - loss: 1.4425 - masked_acc: 0.7108 - val_loss: 1.7368 - val_masked_acc: 0.6845\n"
     ]
    }
   ],
   "source": [
    "history = model.fit(\n",
    "    train_dataset.repeat(), \n",
    "    epochs=100,\n",
    "    steps_per_epoch = 100,\n",
    "    validation_data=val_dataset,\n",
    "    validation_steps = 20,\n",
    "    callbacks=[\n",
    "        tf.keras.callbacks.EarlyStopping(patience=3)])"
   ]
  },
  {
   "cell_type": "code",
   "execution_count": 21,
   "id": "989dad7c-5f39-4642-b46f-d799fcf10ae1",
   "metadata": {},
   "outputs": [],
   "source": [
    "import matplotlib.pyplot as plt"
   ]
  },
  {
   "cell_type": "code",
   "execution_count": 22,
   "id": "5e504600-bb68-498b-8b15-0959c8adcc34",
   "metadata": {},
   "outputs": [
    {
     "data": {
      "text/plain": [
       "<matplotlib.legend.Legend at 0x7f3f351acb50>"
      ]
     },
     "execution_count": 22,
     "metadata": {},
     "output_type": "execute_result"
    },
    {
     "data": {
      "image/png": "[encoded data removed]",
      "text/plain": [
       "<Figure size 640x480 with 1 Axes>"
      ]
     },
     "metadata": {},
     "output_type": "display_data"
    }
   ],
   "source": [
    "plt.plot(history.history['loss'], label='loss')\n",
    "plt.plot(history.history['val_loss'], label='val_loss')\n",
    "plt.ylim([0, max(plt.ylim())])\n",
    "plt.xlabel('Epoch #')\n",
    "plt.ylabel('CE/token')\n",
    "plt.legend()"
   ]
  },
  {
   "cell_type": "code",
   "execution_count": 23,
   "id": "a5e83088-c0e1-4a3f-ade6-59e16df89ca1",
   "metadata": {},
   "outputs": [
    {
     "data": {
      "text/plain": [
       "<matplotlib.legend.Legend at 0x7f3f341de130>"
      ]
     },
     "execution_count": 23,
     "metadata": {},
     "output_type": "execute_result"
    },
    {
     "data": {
      "image/png": "[encoded data removed]",
      "text/plain": [
       "<Figure size 640x480 with 1 Axes>"
      ]
     },
     "metadata": {},
     "output_type": "display_data"
    }
   ],
   "source": [
    "plt.plot(history.history['masked_acc'], label='accuracy')\n",
    "plt.plot(history.history['val_masked_acc'], label='val_accuracy')\n",
    "plt.ylim([0, max(plt.ylim())])\n",
    "plt.xlabel('Epoch #')\n",
    "plt.ylabel('CE/token')\n",
    "plt.legend()"
   ]
  },
  {
   "cell_type": "code",
   "execution_count": 25,
   "id": "8a6b87f4-e1e2-499d-80ae-4cd8bfcf26b7",
   "metadata": {},
   "outputs": [
    {
     "data": {
      "text/plain": [
       "<tf.Tensor: shape=(1,), dtype=string, numpy=array([b'where are you going ? '], dtype=object)>"
      ]
     },
     "execution_count": 25,
     "metadata": {},
     "output_type": "execute_result"
    }
   ],
   "source": [
    "model.translate(['לאן אתה הולך?'])"
   ]
  },
  {
   "cell_type": "code",
   "execution_count": null,
   "id": "d3d5bc45-77cf-4433-a057-ac2115d6de56",
   "metadata": {},
   "outputs": [],
   "source": []
  }
 ],
 "metadata": {
  "kernelspec": {
   "display_name": "Python 3 (ipykernel)",
   "language": "python",
   "name": "python3"
  },
  "language_info": {
   "codemirror_mode": {
    "name": "ipython",
    "version": 3
   },
   "file_extension": ".py",
   "mimetype": "text/x-python",
   "name": "python",
   "nbconvert_exporter": "python",
   "pygments_lexer": "ipython3",
   "version": "3.9.18"
  }
 },
 "nbformat": 4,
 "nbformat_minor": 5
}
