{
 "cells": [
  {
   "cell_type": "code",
   "execution_count": 1,
   "id": "59c27b45",
   "metadata": {},
   "outputs": [],
   "source": [
    "import numpy as np\n",
    "import tensorflow as tf\n",
    "from tensorflow import keras\n",
    "from sklearn.datasets import fetch_california_housing\n",
    "from sklearn.model_selection import train_test_split\n",
    "from sklearn.preprocessing import StandardScaler\n",
    "import matplotlib.pyplot as plt"
   ]
  },
  {
   "cell_type": "code",
   "execution_count": 2,
   "id": "66617dd4",
   "metadata": {},
   "outputs": [],
   "source": [
    "dataset = fetch_california_housing()\n",
    "X, y = dataset.data, dataset.target"
   ]
  },
  {
   "cell_type": "code",
   "execution_count": 3,
   "id": "d596d55f",
   "metadata": {},
   "outputs": [],
   "source": [
    "X_train_full, X_test, y_train_full, y_test = train_test_split(X, y, random_state=42)\n",
    "X_train, X_val, y_train, y_val = train_test_split(X_train_full, y_train_full, random_state=42)\n",
    "\n",
    "scaler = StandardScaler()\n",
    "\n",
    "X_train_scaled = scaler.fit_transform(X_train)\n",
    "X_test_scaled = scaler.transform(X_test)\n",
    "X_val_scaled = scaler.transform(X_val)"
   ]
  },
  {
   "cell_type": "code",
   "execution_count": 4,
   "id": "daa6a011",
   "metadata": {},
   "outputs": [],
   "source": [
    "class CustomMSE(keras.losses.Loss):\n",
    "    def __init__(self, reduction=\"none\", **kwargs):\n",
    "        self.reduction = reduction\n",
    "        super().__init__(**kwargs)\n",
    "        \n",
    "    def call(self, y_true, y_pred):\n",
    "        return tf.reduce_sum(tf.square(y_true - y_pred)) / tf.cast(len(y_true),dtype=tf.float32)"
   ]
  },
  {
   "cell_type": "code",
   "execution_count": 5,
   "id": "1f9cd9ae",
   "metadata": {},
   "outputs": [],
   "source": [
    "class ResBlock(keras.layers.Layer):\n",
    "    def __init__(self, n_neurons, n_layers, **kwargs):\n",
    "        self.n_neurons = n_neurons\n",
    "        self.n_layers = n_layers\n",
    "        super().__init__(**kwargs)\n",
    "    \n",
    "        self.hidden_layers = [keras.layers.Dense(self.n_neurons, \n",
    "                                                 activation=\"relu\", \n",
    "                                                 kernel_initializer=\"he_normal\") for _ in range(self.n_layers)]\n",
    "    \n",
    "    def call(self, inputs):\n",
    "        Z = inputs\n",
    "        for layer in self.hidden_layers:\n",
    "            Z = layer(Z)\n",
    "        return Z + inputs"
   ]
  },
  {
   "cell_type": "code",
   "execution_count": 6,
   "id": "f8d2763c",
   "metadata": {},
   "outputs": [],
   "source": [
    "class ResRegressor(keras.models.Model):\n",
    "    def __init__(self, out_dim, **kwargs):\n",
    "        self.out_dim = out_dim\n",
    "        super().__init__(**kwargs)\n",
    "        \n",
    "        self.hidden_1 = keras.layers.Dense(64, activation=\"relu\", kernel_initializer=\"he_normal\")\n",
    "        \n",
    "        self.block_1 = ResBlock(64, 2)\n",
    "        self.block_2 = ResBlock(64, 2)\n",
    "        self.block_3 = ResBlock(64, 2)\n",
    "        \n",
    "        self.out = keras.layers.Dense(self.out_dim)\n",
    "    \n",
    "    def call(self, inputs):\n",
    "        Z = self.hidden_1(inputs)\n",
    "        Z = self.block_1(Z)\n",
    "        Z = self.block_2(Z)\n",
    "        Z = self.block_3(Z)\n",
    "        return self.out(Z)"
   ]
  },
  {
   "cell_type": "code",
   "execution_count": 8,
   "id": "433f421d",
   "metadata": {},
   "outputs": [
    {
     "name": "stdout",
     "output_type": "stream",
     "text": [
      "Epoch 1/5\n",
      "363/363 [==============================] - 2s 1ms/step - loss: 1.5478\n",
      "Epoch 2/5\n",
      "363/363 [==============================] - 0s 1ms/step - loss: 1.8883\n",
      "Epoch 3/5\n",
      "363/363 [==============================] - 0s 1ms/step - loss: 1.2278\n",
      "Epoch 4/5\n",
      "363/363 [==============================] - 0s 1ms/step - loss: 0.5019\n",
      "Epoch 5/5\n",
      "363/363 [==============================] - 0s 1ms/step - loss: 0.5214\n"
     ]
    }
   ],
   "source": [
    "model = ResRegressor(1)\n",
    "model.compile(loss=CustomMSE(), optimizer=\"nadam\")\n",
    "history = model.fit(X_train_scaled, y_train, epochs=5)"
   ]
  },
  {
   "cell_type": "code",
   "execution_count": 9,
   "id": "66eb06df",
   "metadata": {},
   "outputs": [
    {
     "data": {
      "text/plain": [
       "{'loss': [1.5477540493011475,\n",
       "  1.888269305229187,\n",
       "  1.2277717590332031,\n",
       "  0.5019476413726807,\n",
       "  0.521431565284729]}"
      ]
     },
     "execution_count": 9,
     "metadata": {},
     "output_type": "execute_result"
    }
   ],
   "source": []
  },
  {
   "cell_type": "code",
   "execution_count": null,
   "id": "f5ef453b",
   "metadata": {},
   "outputs": [],
   "source": []
  }
 ],
 "metadata": {
  "kernelspec": {
   "display_name": "Python 3 (ipykernel)",
   "language": "python",
   "name": "python3"
  },
  "language_info": {
   "codemirror_mode": {
    "name": "ipython",
    "version": 3
   },
   "file_extension": ".py",
   "mimetype": "text/x-python",
   "name": "python",
   "nbconvert_exporter": "python",
   "pygments_lexer": "ipython3",
   "version": "3.8.6"
  }
 },
 "nbformat": 4,
 "nbformat_minor": 5
}
