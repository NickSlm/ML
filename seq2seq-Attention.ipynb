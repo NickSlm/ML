{
 "cells": [
  {
   "cell_type": "code",
   "execution_count": 1,
   "id": "2282847d-403d-46bc-8f9b-b046e2c4bb18",
   "metadata": {},
   "outputs": [
    {
     "name": "stderr",
     "output_type": "stream",
     "text": [
      "2024-02-25 15:16:42.366846: I external/local_tsl/tsl/cuda/cudart_stub.cc:31] Could not find cuda drivers on your machine, GPU will not be used.\n",
      "2024-02-25 15:16:42.702764: E external/local_xla/xla/stream_executor/cuda/cuda_dnn.cc:9261] Unable to register cuDNN factory: Attempting to register factory for plugin cuDNN when one has already been registered\n",
      "2024-02-25 15:16:42.702812: E external/local_xla/xla/stream_executor/cuda/cuda_fft.cc:607] Unable to register cuFFT factory: Attempting to register factory for plugin cuFFT when one has already been registered\n",
      "2024-02-25 15:16:42.771276: E external/local_xla/xla/stream_executor/cuda/cuda_blas.cc:1515] Unable to register cuBLAS factory: Attempting to register factory for plugin cuBLAS when one has already been registered\n",
      "2024-02-25 15:16:42.914218: I external/local_tsl/tsl/cuda/cudart_stub.cc:31] Could not find cuda drivers on your machine, GPU will not be used.\n",
      "2024-02-25 15:16:42.916369: I tensorflow/core/platform/cpu_feature_guard.cc:182] This TensorFlow binary is optimized to use available CPU instructions in performance-critical operations.\n",
      "To enable the following instructions: AVX2 FMA, in other operations, rebuild TensorFlow with the appropriate compiler flags.\n",
      "2024-02-25 15:16:44.073756: W tensorflow/compiler/tf2tensorrt/utils/py_utils.cc:38] TF-TRT Warning: Could not find TensorRT\n"
     ]
    }
   ],
   "source": [
    "import os\n",
    "import numpy as np\n",
    "from pathlib import Path\n",
    "import tensorflow as tf\n",
    "from tensorflow import keras\n",
    "import tensorflow_text as tf_text\n",
    "from sklearn.model_selection import train_test_split"
   ]
  },
  {
   "cell_type": "code",
   "execution_count": 2,
   "id": "84ecbbcb-c6d1-4018-8854-499227259d78",
   "metadata": {},
   "outputs": [],
   "source": [
    "def get_data(filepath):\n",
    "    with open(filepath, 'r') as f:\n",
    "        lines = f.readlines()\n",
    "    lines = [line.split('\\t') for line in lines]\n",
    "    context = np.array([context for _, context, _ in lines]) \n",
    "    target = np.array([target for target, _, _ in lines])\n",
    "    return context, target"
   ]
  },
  {
   "cell_type": "code",
   "execution_count": 3,
   "id": "e6b30603-38c8-4d5e-bd03-e77f8de89de0",
   "metadata": {},
   "outputs": [],
   "source": [
    "filepath = Path(\"datasets/Languages/heb.txt\")\n",
    "raw_context, raw_target = get_data(filepath)"
   ]
  },
  {
   "cell_type": "code",
   "execution_count": 4,
   "id": "d54e79d8-3b8a-4c58-8883-041390c57901",
   "metadata": {},
   "outputs": [],
   "source": [
    "X_train, X_val, y_train, y_val = train_test_split(raw_context, raw_target, test_size=0.2)"
   ]
  },
  {
   "cell_type": "code",
   "execution_count": 5,
   "id": "409a3f0f-2d68-4c33-8dab-d8b2de8532f0",
   "metadata": {},
   "outputs": [],
   "source": [
    "BATCH_SIZE = 64\n",
    "SHUFFLE_SIZE = len(raw_context)"
   ]
  },
  {
   "cell_type": "code",
   "execution_count": 6,
   "id": "2f595a98-b9ce-4455-bfc3-142317a51ec5",
   "metadata": {},
   "outputs": [
    {
     "name": "stderr",
     "output_type": "stream",
     "text": [
      "2024-02-25 15:16:47.400193: I external/local_xla/xla/stream_executor/cuda/cuda_executor.cc:887] could not open file to read NUMA node: /sys/bus/pci/devices/0000:06:00.0/numa_node\n",
      "Your kernel may have been built without NUMA support.\n",
      "2024-02-25 15:16:47.662981: W tensorflow/core/common_runtime/gpu/gpu_device.cc:2256] Cannot dlopen some GPU libraries. Please make sure the missing libraries mentioned above are installed properly if you would like to use GPU. Follow the guide at https://www.tensorflow.org/install/gpu for how to download and setup the required libraries for your platform.\n",
      "Skipping registering GPU devices...\n"
     ]
    }
   ],
   "source": [
    "train_dataset = tf.data.Dataset.from_tensor_slices((X_train, y_train)).shuffle(SHUFFLE_SIZE).batch(BATCH_SIZE)\n",
    "val_dataset = tf.data.Dataset.from_tensor_slices((X_val, y_val)).shuffle(SHUFFLE_SIZE).batch(BATCH_SIZE)"
   ]
  },
  {
   "cell_type": "code",
   "execution_count": 13,
   "id": "c2b07c76-52d2-4e95-ba38-6e29f9415804",
   "metadata": {},
   "outputs": [],
   "source": [
    "def tf_lower_punct_normalize(text):\n",
    "    text = tf_text.normalize_utf8(text, \"NFKD\")\n",
    "    text = tf.strings.lower(text)\n",
    "    text = tf.strings.regex_replace(text, \"[^ a-zא-ת.?!,¿]\", \"\")\n",
    "    text = tf.strings.regex_replace(text, \"[.?!,¿]\", \" \\0 \")\n",
    "    text = tf.strings.strip(text)\n",
    "\n",
    "    text = tf.strings.join(['[START]', text, '[END]'], separator=' ')\n",
    "    return text\n",
    "    "
   ]
  },
  {
   "cell_type": "code",
   "execution_count": 14,
   "id": "ff2c98e2-a354-48aa-93dd-6d3fe2d51bd7",
   "metadata": {},
   "outputs": [],
   "source": [
    "context_text_processor = keras.layers.TextVectorization(max_tokens=15000 ,standardize=tf_lower_punct_normalize, ragged=True)\n",
    "target_text_processor = keras.layers.TextVectorization(max_tokens=10000, standardize=tf_lower_punct_normalize, ragged=True)"
   ]
  },
  {
   "cell_type": "code",
   "execution_count": 15,
   "id": "b14125ce-13a8-4b09-a812-ce03ee657ff6",
   "metadata": {},
   "outputs": [],
   "source": [
    "context_text_processor.adapt(train_dataset.map(lambda context, target: context))\n",
    "target_text_processor.adapt(train_dataset.map(lambda context, target: target))"
   ]
  },
  {
   "cell_type": "code",
   "execution_count": null,
   "id": "97c21c97-8070-447d-9cc7-00dd96b05292",
   "metadata": {},
   "outputs": [],
   "source": []
  }
 ],
 "metadata": {
  "kernelspec": {
   "display_name": "Python 3 (ipykernel)",
   "language": "python",
   "name": "python3"
  },
  "language_info": {
   "codemirror_mode": {
    "name": "ipython",
    "version": 3
   },
   "file_extension": ".py",
   "mimetype": "text/x-python",
   "name": "python",
   "nbconvert_exporter": "python",
   "pygments_lexer": "ipython3",
   "version": "3.9.18"
  }
 },
 "nbformat": 4,
 "nbformat_minor": 5
}
