{
 "cells": [
  {
   "cell_type": "code",
   "execution_count": 1,
   "id": "2282847d-403d-46bc-8f9b-b046e2c4bb18",
   "metadata": {},
   "outputs": [
    {
     "name": "stderr",
     "output_type": "stream",
     "text": [
      "2024-03-03 15:32:01.072373: I external/local_tsl/tsl/cuda/cudart_stub.cc:31] Could not find cuda drivers on your machine, GPU will not be used.\n",
      "2024-03-03 15:32:01.164024: E external/local_xla/xla/stream_executor/cuda/cuda_dnn.cc:9261] Unable to register cuDNN factory: Attempting to register factory for plugin cuDNN when one has already been registered\n",
      "2024-03-03 15:32:01.164079: E external/local_xla/xla/stream_executor/cuda/cuda_fft.cc:607] Unable to register cuFFT factory: Attempting to register factory for plugin cuFFT when one has already been registered\n",
      "2024-03-03 15:32:01.174522: E external/local_xla/xla/stream_executor/cuda/cuda_blas.cc:1515] Unable to register cuBLAS factory: Attempting to register factory for plugin cuBLAS when one has already been registered\n",
      "2024-03-03 15:32:01.208929: I external/local_tsl/tsl/cuda/cudart_stub.cc:31] Could not find cuda drivers on your machine, GPU will not be used.\n",
      "2024-03-03 15:32:01.209758: I tensorflow/core/platform/cpu_feature_guard.cc:182] This TensorFlow binary is optimized to use available CPU instructions in performance-critical operations.\n",
      "To enable the following instructions: AVX2 FMA, in other operations, rebuild TensorFlow with the appropriate compiler flags.\n",
      "2024-03-03 15:32:01.969974: W tensorflow/compiler/tf2tensorrt/utils/py_utils.cc:38] TF-TRT Warning: Could not find TensorRT\n"
     ]
    }
   ],
   "source": [
    "import os\n",
    "import numpy as np\n",
    "from pathlib import Path\n",
    "import tensorflow as tf\n",
    "from tensorflow import keras\n",
    "import tensorflow_text as tf_text\n",
    "from sklearn.model_selection import train_test_split"
   ]
  },
  {
   "cell_type": "code",
   "execution_count": 2,
   "id": "84ecbbcb-c6d1-4018-8854-499227259d78",
   "metadata": {},
   "outputs": [],
   "source": [
    "def get_data(filepath):\n",
    "    with open(filepath, 'r') as f:\n",
    "        lines = f.readlines()\n",
    "    lines = [line.split('\\t') for line in lines]\n",
    "    context = np.array([context for _, context, _ in lines]) \n",
    "    target = np.array([target for target, _, _ in lines])\n",
    "    return context, target"
   ]
  },
  {
   "cell_type": "code",
   "execution_count": 3,
   "id": "e6b30603-38c8-4d5e-bd03-e77f8de89de0",
   "metadata": {},
   "outputs": [],
   "source": [
    "filepath = Path(\"datasets/Languages/heb.txt\")\n",
    "raw_context, raw_target = get_data(filepath)"
   ]
  },
  {
   "cell_type": "code",
   "execution_count": 4,
   "id": "d54e79d8-3b8a-4c58-8883-041390c57901",
   "metadata": {},
   "outputs": [],
   "source": [
    "X_train, X_val, y_train, y_val = train_test_split(raw_context, raw_target, test_size=0.2)"
   ]
  },
  {
   "cell_type": "code",
   "execution_count": 5,
   "id": "409a3f0f-2d68-4c33-8dab-d8b2de8532f0",
   "metadata": {},
   "outputs": [],
   "source": [
    "BATCH_SIZE = 64\n",
    "SHUFFLE_SIZE = len(raw_context)"
   ]
  },
  {
   "cell_type": "code",
   "execution_count": 6,
   "id": "2f595a98-b9ce-4455-bfc3-142317a51ec5",
   "metadata": {},
   "outputs": [
    {
     "name": "stderr",
     "output_type": "stream",
     "text": [
      "2024-03-03 15:32:05.542094: I external/local_xla/xla/stream_executor/cuda/cuda_executor.cc:887] could not open file to read NUMA node: /sys/bus/pci/devices/0000:06:00.0/numa_node\n",
      "Your kernel may have been built without NUMA support.\n",
      "2024-03-03 15:32:05.859512: W tensorflow/core/common_runtime/gpu/gpu_device.cc:2256] Cannot dlopen some GPU libraries. Please make sure the missing libraries mentioned above are installed properly if you would like to use GPU. Follow the guide at https://www.tensorflow.org/install/gpu for how to download and setup the required libraries for your platform.\n",
      "Skipping registering GPU devices...\n"
     ]
    }
   ],
   "source": [
    "train_dataset = tf.data.Dataset.from_tensor_slices((X_train, y_train)).shuffle(SHUFFLE_SIZE).batch(BATCH_SIZE)\n",
    "val_dataset = tf.data.Dataset.from_tensor_slices((X_val, y_val)).shuffle(SHUFFLE_SIZE).batch(BATCH_SIZE)"
   ]
  },
  {
   "cell_type": "code",
   "execution_count": 7,
   "id": "c2b07c76-52d2-4e95-ba38-6e29f9415804",
   "metadata": {},
   "outputs": [],
   "source": [
    "def tf_lower_punct_normalize(text):\n",
    "    text = tf_text.normalize_utf8(text, \"NFKD\")\n",
    "    text = tf.strings.lower(text)\n",
    "    text = tf.strings.regex_replace(text, '[^ a-zא-ת.?!,¿]', '')\n",
    "    text = tf.strings.regex_replace(text, '[.?!,¿]', r' \\0 ')\n",
    "    text = tf.strings.strip(text)\n",
    "\n",
    "    text = tf.strings.join(['[START]', text, '[END]'], separator=' ')\n",
    "    return text\n",
    "    "
   ]
  },
  {
   "cell_type": "code",
   "execution_count": 8,
   "id": "ff2c98e2-a354-48aa-93dd-6d3fe2d51bd7",
   "metadata": {},
   "outputs": [],
   "source": [
    "context_text_processor = keras.layers.TextVectorization(max_tokens=15000 ,standardize=tf_lower_punct_normalize, ragged=True)\n",
    "target_text_processor = keras.layers.TextVectorization(max_tokens=10000, standardize=tf_lower_punct_normalize, ragged=True)"
   ]
  },
  {
   "cell_type": "code",
   "execution_count": 9,
   "id": "b14125ce-13a8-4b09-a812-ce03ee657ff6",
   "metadata": {},
   "outputs": [],
   "source": [
    "context_text_processor.adapt(train_dataset.map(lambda context, target: context))\n",
    "target_text_processor.adapt(train_dataset.map(lambda context, target: target))"
   ]
  },
  {
   "cell_type": "code",
   "execution_count": 10,
   "id": "97c21c97-8070-447d-9cc7-00dd96b05292",
   "metadata": {},
   "outputs": [],
   "source": [
    "context_vocab = context_text_processor.get_vocabulary()\n",
    "target_vocab = target_text_processor.get_vocabulary()"
   ]
  },
  {
   "cell_type": "code",
   "execution_count": 11,
   "id": "71c99edd-685f-4817-87ff-078b42a2ae01",
   "metadata": {},
   "outputs": [],
   "source": [
    "def process_text(context, target):\n",
    "    context = context_text_processor(context).to_tensor()\n",
    "\n",
    "    target = target_text_processor(target)\n",
    "    target_in = target[:, :-1].to_tensor()\n",
    "    target = target[:, 1:].to_tensor()\n",
    "    \n",
    "    return (context, target_in), target"
   ]
  },
  {
   "cell_type": "code",
   "execution_count": 12,
   "id": "e2c07844-1146-4a8a-8aa2-2f758ac5d0e8",
   "metadata": {},
   "outputs": [],
   "source": [
    "train_dataset = train_dataset.map(process_text, tf.data.AUTOTUNE)\n",
    "val_dataset = val_dataset.map(process_text, tf.data.AUTOTUNE)"
   ]
  },
  {
   "cell_type": "code",
   "execution_count": 13,
   "id": "7ecbd2e0-f94f-432d-b5f4-99feae084268",
   "metadata": {},
   "outputs": [
    {
     "name": "stdout",
     "output_type": "stream",
     "text": [
      "tf.Tensor(\n",
      "[[    2    10   147    16  7914     4     3     0     0     0     0]\n",
      " [    2    32  1861    65  1831   701   148     4     3     0     0]\n",
      " [    2   268   399     1     7     3     0     0     0     0     0]\n",
      " [    2    14   162   763   445     4     3     0     0     0     0]\n",
      " [    2  3362  2227    27 11868  8399     4     3     0     0     0]], shape=(5, 11), dtype=int64)\n",
      "tf.Tensor(\n",
      "[[   2  101  579   30    5  476    4    0    0    0    0    0    0]\n",
      " [   2   72   23  409    8   86   59  209    4    0    0    0    0]\n",
      " [   2   85   31    9  882   11    0    0    0    0    0    0    0]\n",
      " [   2    9   24    8  471   22    4    0    0    0    0    0    0]\n",
      " [   2   25 1030   56  338    4    0    0    0    0    0    0    0]], shape=(5, 13), dtype=int64)\n",
      "tf.Tensor(\n",
      "[[ 101  579   30    5  476    4    3    0    0    0    0    0    0]\n",
      " [  72   23  409    8   86   59  209    4    3    0    0    0    0]\n",
      " [  85   31    9  882   11    3    0    0    0    0    0    0    0]\n",
      " [   9   24    8  471   22    4    3    0    0    0    0    0    0]\n",
      " [  25 1030   56  338    4    3    0    0    0    0    0    0    0]], shape=(5, 13), dtype=int64)\n"
     ]
    }
   ],
   "source": [
    "for (ex_context, ex_tar_in), ex_tar_out in train_dataset.take(1):\n",
    "    print(ex_context[:5])\n",
    "    print(ex_tar_in[:5])\n",
    "    print(ex_tar_out[:5])"
   ]
  },
  {
   "cell_type": "code",
   "execution_count": 14,
   "id": "2250f236-a2e7-4c28-9dd4-5e7d084a29da",
   "metadata": {},
   "outputs": [],
   "source": [
    "class Encoder(keras.layers.Layer):\n",
    "    def __init__(self, units, text_processor, **kwargs):\n",
    "        super().__init__(**kwargs)\n",
    "        \n",
    "        self.units = units\n",
    "        self.text_processor = text_processor\n",
    "        self.vocab_size = self.text_processor.vocabulary_size()\n",
    "\n",
    "        self.embedding_layer = keras.layers.Embedding(input_dim=self.vocab_size, output_dim=self.units)\n",
    "        self.rnn = keras.layers.Bidirectional(keras.layers.GRU(self.units, \n",
    "                                                               return_sequences=True, \n",
    "                                                               recurrent_initializer='glorot_uniform'), \n",
    "                                              merge_mode=\"sum\")\n",
    "    def call(self, input):\n",
    "        embedding = self.embedding_layer(input)\n",
    "        context = self.rnn(embedding)\n",
    "        return context\n",
    "\n",
    "    def convert_input(self, texts):\n",
    "        texts = tf.convert_to_tensor(texts)\n",
    "        if len(texts.shape) == 0:\n",
    "            texts = tf.convert_to_tensor(texts)[tf.newaxis]\n",
    "        texts = self.text_processor(texts).to_tensor()\n",
    "        context = self(texts)\n",
    "        return context"
   ]
  },
  {
   "cell_type": "code",
   "execution_count": 15,
   "id": "562ffae2-e76b-4ced-aace-608c1b7e1836",
   "metadata": {},
   "outputs": [],
   "source": [
    "class CrossAttention(keras.layers.Layer):\n",
    "    def __init__(self, **kwargs):\n",
    "        super().__init__(**kwargs)\n",
    "        self.mha = tf.keras.layers.MultiHeadAttention(key_dim=256, num_heads=1, **kwargs)\n",
    "        self.normalization_layer = keras.layers.LayerNormalization()\n",
    "        self.add = keras.layers.Add()\n",
    "\n",
    "    def call(self, inputs):\n",
    "        context, x = inputs\n",
    "        attn_output, attn_scores = self.mha(\n",
    "        query=x,\n",
    "        value=context,\n",
    "        return_attention_scores=True)        \n",
    "        self.last_attention_weights = tf.reduce_mean(attn_scores, axis=1)\n",
    "        x = self.add([x, attn_output])\n",
    "        x = self.normalization_layer(x)\n",
    "        return x"
   ]
  },
  {
   "cell_type": "code",
   "execution_count": 16,
   "id": "fd322a7f-1d0b-4e69-a2fc-ec985ae3fe95",
   "metadata": {},
   "outputs": [],
   "source": [
    "class Decoder(keras.layers.Layer):\n",
    "    def __init__(self, units, text_processor, **kwargs):\n",
    "        super().__init__()\n",
    "\n",
    "        self.units = units\n",
    "        self.text_processor = text_processor\n",
    "        self.vocab_size = self.text_processor.vocabulary_size()\n",
    "        self.text_to_id = keras.layers.StringLookup(vocabulary=self.text_processor.get_vocabulary(), mask_token='', oov_token='[UNK]')\n",
    "        self.id_to_text = keras.layers.StringLookup(vocabulary=self.text_processor.get_vocabulary(), mask_token='', oov_token='[UNK]', invert=True)\n",
    "        \n",
    "        self.start_token = self.text_to_id('[START]')\n",
    "        self.end_token = self.text_to_id('[END]')\n",
    "        \n",
    "        self.embedding_layer = keras.layers.Embedding(input_dim=self.vocab_size, output_dim=self.units)\n",
    "        self.rnn = keras.layers.GRU(self.units, return_sequences=True, return_state=True, recurrent_initializer='glorot_uniform')\n",
    "        self.attention = CrossAttention()\n",
    "        self.output_layer = keras.layers.Dense(self.vocab_size)\n",
    "    \n",
    "    def call(self, inputs, state=None, return_state=False):\n",
    "        context, x_in = inputs\n",
    "        \n",
    "        x = self.embedding_layer(x_in)\n",
    "        x, state = self.rnn(x, initial_state=state)\n",
    "        \n",
    "        x = self.attention((context, x))\n",
    "        self.last_attention_weights = self.attention.last_attention_weights\n",
    "        \n",
    "        logits = self.output_layer(x)\n",
    "\n",
    "        if return_state:\n",
    "            return logits, state\n",
    "        else:\n",
    "            return logits\n",
    "\n",
    "    def get_initial_state(self, context):\n",
    "        batch_size = tf.shape(context)[0]\n",
    "        start_tokens = tf.fill([batch_size, 1], self.start_token)\n",
    "        done = tf.zeros([batch_size, 1], dtype=tf.bool)\n",
    "        embedding = self.embedding_layer(start_tokens)\n",
    "        return start_tokens, done, self.rnn.get_initial_state(embedding)[0]\n",
    "\n",
    "    def get_next_token(self, context, tokens, done, state):\n",
    "        logits, state = self((context, tokens), state, True)\n",
    "\n",
    "        next_token = tf.argmax(logits, axis=-1)\n",
    "\n",
    "        done = done | (next_token == self.end_token)\n",
    "\n",
    "        next_token = tf.where(done, tf.constant(0, dtype=tf.int64), next_token)\n",
    "        \n",
    "        return next_token, done, state\n",
    "\n",
    "    def tokens_to_text(self, tokens):\n",
    "        words = self.id_to_text(tokens)\n",
    "        result = tf.strings.reduce_join(words, axis=-1, separator=' ')\n",
    "        result = tf.strings.regex_replace(result, '^ *\\[START\\] *', '')\n",
    "        result = tf.strings.regex_replace(result, ' *\\[END\\] *$', '')\n",
    "        return result"
   ]
  },
  {
   "cell_type": "code",
   "execution_count": 17,
   "id": "f9d71bc4-d9a3-4ed0-bfcb-cb78e3d643c6",
   "metadata": {},
   "outputs": [],
   "source": [
    "class Translator(keras.models.Model):\n",
    "\n",
    "    @classmethod\n",
    "    def add_method(cls, fun):\n",
    "        setattr(cls, fun.__name__, fun)\n",
    "        return fun\n",
    "    \n",
    "    def __init__(self, units, context_processor, target_processor, **kwargs):\n",
    "        super().__init__(**kwargs)\n",
    "\n",
    "        \n",
    "        self.encoder = Encoder(units, context_processor)\n",
    "        self.decoder = Decoder(units, target_processor)\n",
    "        \n",
    "    def call(self, inputs):\n",
    "        x, y_in = inputs\n",
    "        context = self.encoder(x)\n",
    "        logits = self.decoder((context, y_in))\n",
    "        \n",
    "        return logits\n",
    "\n",
    "    def translate(self, text):\n",
    "        max_len = 50\n",
    "        context = self.encoder.convert_input(text)\n",
    "\n",
    "        tokens = []\n",
    "        attention_weights = []\n",
    "        \n",
    "        next_tokens, done, state = self.decoder.get_initial_state(context)\n",
    "\n",
    "        for _ in range(max_len):\n",
    "            next_tokens, done, state = self.decoder.get_next_token(context, next_tokens, done, state)\n",
    "            \n",
    "            tokens.append(next_tokens)\n",
    "            attention_weights.append(self.decoder.last_attention_weights)\n",
    "            \n",
    "            if tf.executing_eagerly() and tf.reduce_all(done):\n",
    "                break\n",
    "\n",
    "        tokens = tf.concat(tokens, axis=-1)\n",
    "        self.last_attention_weights = tf.concat(attention_weights, axis=1)\n",
    "        \n",
    "        return self.decoder.tokens_to_text(tokens)"
   ]
  },
  {
   "cell_type": "code",
   "execution_count": 18,
   "id": "fb1f458d-2316-43f3-bcba-e6efb8253d68",
   "metadata": {},
   "outputs": [],
   "source": [
    "def masked_loss(y_true, y_pred):\n",
    "    loss_fn = keras.losses.SparseCategoricalCrossentropy(from_logits=True, reduction='none')\n",
    "    loss = loss_fn(y_true, y_pred)\n",
    "\n",
    "    mask = tf.cast(y_true != 0, loss.dtype)\n",
    "    loss *= mask\n",
    "\n",
    "    return tf.reduce_sum(loss) / tf.reduce_sum(mask)\n",
    "    \n",
    "def masked_acc(y_true, y_pred):\n",
    "    y_pred = tf.argmax(y_pred, axis=-1)\n",
    "    y_pred = tf.cast(y_pred, y_true.dtype)\n",
    "\n",
    "    match = tf.cast(y_pred == y_true, tf.float32)\n",
    "    mask = tf.cast(y_true != 0, tf.float32)\n",
    "\n",
    "    return tf.reduce_sum(match) / tf.reduce_sum(mask)"
   ]
  },
  {
   "cell_type": "code",
   "execution_count": 19,
   "id": "2307fb14-da0f-4507-8753-c6748ea4e33b",
   "metadata": {},
   "outputs": [],
   "source": [
    "model = Translator(256, context_text_processor, target_text_processor)\n",
    "model.compile(loss=masked_loss, optimizer='adam', metrics=[masked_acc])"
   ]
  },
  {
   "cell_type": "code",
   "execution_count": 20,
   "id": "44af1950-149d-420f-b91c-3bb5961d75e4",
   "metadata": {},
   "outputs": [
    {
     "name": "stdout",
     "output_type": "stream",
     "text": [
      "Epoch 1/100\n",
      "100/100 [==============================] - 28s 244ms/step - loss: 5.4061 - masked_acc: 0.2303 - val_loss: 4.4995 - val_masked_acc: 0.3151\n",
      "Epoch 2/100\n",
      "100/100 [==============================] - 23s 233ms/step - loss: 4.1710 - masked_acc: 0.3535 - val_loss: 3.8849 - val_masked_acc: 0.3835\n",
      "Epoch 3/100\n",
      "100/100 [==============================] - 24s 236ms/step - loss: 3.7012 - masked_acc: 0.4066 - val_loss: 3.4499 - val_masked_acc: 0.4349\n",
      "Epoch 4/100\n",
      "100/100 [==============================] - 24s 236ms/step - loss: 3.3412 - masked_acc: 0.4573 - val_loss: 3.0493 - val_masked_acc: 0.4960\n",
      "Epoch 5/100\n",
      "100/100 [==============================] - 24s 235ms/step - loss: 3.0421 - masked_acc: 0.4974 - val_loss: 2.8427 - val_masked_acc: 0.5211\n",
      "Epoch 6/100\n",
      "100/100 [==============================] - 24s 242ms/step - loss: 2.8057 - masked_acc: 0.5319 - val_loss: 2.6094 - val_masked_acc: 0.5510\n",
      "Epoch 7/100\n",
      "100/100 [==============================] - 23s 233ms/step - loss: 2.5920 - masked_acc: 0.5625 - val_loss: 2.5035 - val_masked_acc: 0.5685\n",
      "Epoch 8/100\n",
      "100/100 [==============================] - 24s 244ms/step - loss: 2.4354 - masked_acc: 0.5837 - val_loss: 2.3989 - val_masked_acc: 0.5867\n",
      "Epoch 9/100\n",
      "100/100 [==============================] - 24s 237ms/step - loss: 2.3271 - masked_acc: 0.6008 - val_loss: 2.2326 - val_masked_acc: 0.6075\n",
      "Epoch 10/100\n",
      "100/100 [==============================] - 24s 238ms/step - loss: 2.2015 - masked_acc: 0.6176 - val_loss: 2.0734 - val_masked_acc: 0.6304\n",
      "Epoch 11/100\n",
      "100/100 [==============================] - 24s 237ms/step - loss: 2.1039 - masked_acc: 0.6317 - val_loss: 2.0736 - val_masked_acc: 0.6329\n",
      "Epoch 12/100\n",
      "100/100 [==============================] - 24s 237ms/step - loss: 2.0281 - masked_acc: 0.6406 - val_loss: 1.9369 - val_masked_acc: 0.6460\n",
      "Epoch 13/100\n",
      "100/100 [==============================] - 24s 239ms/step - loss: 1.9745 - masked_acc: 0.6498 - val_loss: 1.9356 - val_masked_acc: 0.6513\n",
      "Epoch 14/100\n",
      "100/100 [==============================] - 24s 238ms/step - loss: 1.9009 - masked_acc: 0.6600 - val_loss: 1.8387 - val_masked_acc: 0.6643\n",
      "Epoch 15/100\n",
      "100/100 [==============================] - 24s 244ms/step - loss: 1.8636 - masked_acc: 0.6618 - val_loss: 1.7838 - val_masked_acc: 0.6691\n",
      "Epoch 16/100\n",
      "100/100 [==============================] - 23s 234ms/step - loss: 1.7890 - masked_acc: 0.6738 - val_loss: 1.7768 - val_masked_acc: 0.6697\n",
      "Epoch 17/100\n",
      "100/100 [==============================] - 24s 236ms/step - loss: 1.4314 - masked_acc: 0.7155 - val_loss: 1.6823 - val_masked_acc: 0.6837\n",
      "Epoch 18/100\n",
      "100/100 [==============================] - 24s 239ms/step - loss: 1.4618 - masked_acc: 0.7099 - val_loss: 1.6751 - val_masked_acc: 0.6894\n",
      "Epoch 19/100\n",
      "100/100 [==============================] - 23s 235ms/step - loss: 1.4439 - masked_acc: 0.7130 - val_loss: 1.6860 - val_masked_acc: 0.6821\n",
      "Epoch 20/100\n",
      "100/100 [==============================] - 24s 239ms/step - loss: 1.4271 - masked_acc: 0.7139 - val_loss: 1.6796 - val_masked_acc: 0.6867\n",
      "Epoch 21/100\n",
      "100/100 [==============================] - 25s 250ms/step - loss: 1.4108 - masked_acc: 0.7175 - val_loss: 1.6233 - val_masked_acc: 0.6934\n",
      "Epoch 22/100\n",
      "100/100 [==============================] - 23s 234ms/step - loss: 1.4193 - masked_acc: 0.7167 - val_loss: 1.5852 - val_masked_acc: 0.6956\n",
      "Epoch 23/100\n",
      "100/100 [==============================] - 24s 242ms/step - loss: 1.4011 - masked_acc: 0.7205 - val_loss: 1.6092 - val_masked_acc: 0.6987\n",
      "Epoch 24/100\n",
      "100/100 [==============================] - 24s 236ms/step - loss: 1.4065 - masked_acc: 0.7192 - val_loss: 1.5923 - val_masked_acc: 0.7010\n",
      "Epoch 25/100\n",
      "100/100 [==============================] - 23s 232ms/step - loss: 1.3610 - masked_acc: 0.7248 - val_loss: 1.5568 - val_masked_acc: 0.7027\n",
      "Epoch 26/100\n",
      "100/100 [==============================] - 24s 237ms/step - loss: 1.3752 - masked_acc: 0.7251 - val_loss: 1.4840 - val_masked_acc: 0.7102\n",
      "Epoch 27/100\n",
      "100/100 [==============================] - 24s 237ms/step - loss: 1.3644 - masked_acc: 0.7279 - val_loss: 1.5329 - val_masked_acc: 0.6985\n",
      "Epoch 28/100\n",
      "100/100 [==============================] - 24s 242ms/step - loss: 1.3374 - masked_acc: 0.7303 - val_loss: 1.5331 - val_masked_acc: 0.7134\n",
      "Epoch 29/100\n",
      "100/100 [==============================] - 24s 240ms/step - loss: 1.3277 - masked_acc: 0.7329 - val_loss: 1.5062 - val_masked_acc: 0.7066\n"
     ]
    }
   ],
   "source": [
    "history = model.fit(\n",
    "    train_dataset.repeat(), \n",
    "    epochs=100,\n",
    "    steps_per_epoch = 100,\n",
    "    validation_data=val_dataset,\n",
    "    validation_steps = 20,\n",
    "    callbacks=[\n",
    "        tf.keras.callbacks.EarlyStopping(patience=3)])"
   ]
  },
  {
   "cell_type": "code",
   "execution_count": 21,
   "id": "989dad7c-5f39-4642-b46f-d799fcf10ae1",
   "metadata": {},
   "outputs": [],
   "source": [
    "import matplotlib.pyplot as plt\n",
    "import matplotlib.ticker as ticker"
   ]
  },
  {
   "cell_type": "code",
   "execution_count": 22,
   "id": "5e504600-bb68-498b-8b15-0959c8adcc34",
   "metadata": {},
   "outputs": [
    {
     "data": {
      "text/plain": [
       "<matplotlib.legend.Legend at 0x7ff02c301370>"
      ]
     },
     "execution_count": 22,
     "metadata": {},
     "output_type": "execute_result"
    },
    {
     "data": {
      "image/png": "[encoded data removed]",
      "text/plain": [
       "<Figure size 640x480 with 1 Axes>"
      ]
     },
     "metadata": {},
     "output_type": "display_data"
    }
   ],
   "source": [
    "plt.plot(history.history['loss'], label='loss')\n",
    "plt.plot(history.history['val_loss'], label='val_loss')\n",
    "plt.ylim([0, max(plt.ylim())])\n",
    "plt.xlabel('Epoch #')\n",
    "plt.ylabel('CE/token')\n",
    "plt.legend()"
   ]
  },
  {
   "cell_type": "code",
   "execution_count": 23,
   "id": "a5e83088-c0e1-4a3f-ade6-59e16df89ca1",
   "metadata": {},
   "outputs": [
    {
     "data": {
      "text/plain": [
       "<matplotlib.legend.Legend at 0x7fef4e1cf880>"
      ]
     },
     "execution_count": 23,
     "metadata": {},
     "output_type": "execute_result"
    },
    {
     "data": {
      "image/png": "[encoded data removed]",
      "text/plain": [
       "<Figure size 640x480 with 1 Axes>"
      ]
     },
     "metadata": {},
     "output_type": "display_data"
    }
   ],
   "source": [
    "plt.plot(history.history['masked_acc'], label='accuracy')\n",
    "plt.plot(history.history['val_masked_acc'], label='val_accuracy')\n",
    "plt.ylim([0, max(plt.ylim())])\n",
    "plt.xlabel('Epoch #')\n",
    "plt.ylabel('CE/token')\n",
    "plt.legend()"
   ]
  },
  {
   "cell_type": "code",
   "execution_count": 24,
   "id": "d3d5bc45-77cf-4433-a057-ac2115d6de56",
   "metadata": {},
   "outputs": [],
   "source": [
    "@Translator.add_method\n",
    "def plot_attention(self, text, **kwargs):\n",
    "  assert isinstance(text, str)\n",
    "  output = self.translate([text], **kwargs)\n",
    "  output = output[0].numpy().decode()\n",
    "\n",
    "  attention = self.last_attention_weights[0]\n",
    "  print(attention)\n",
    "  context = tf_lower_punct_normalize(text)\n",
    "  context = context.numpy().decode().split()\n",
    "\n",
    "  output = tf_lower_punct_normalize(output)\n",
    "  output = output.numpy().decode().split()[1:]\n",
    "\n",
    "  fig = plt.figure(figsize=(10, 10))\n",
    "  ax = fig.add_subplot(1, 1, 1)\n",
    "\n",
    "  ax.matshow(attention, cmap='viridis', vmin=0.0)\n",
    "\n",
    "  fontdict = {'fontsize': 14}\n",
    "\n",
    "  ax.set_xticklabels([''] + context, fontdict=fontdict, rotation=90)\n",
    "  ax.set_yticklabels([''] + output, fontdict=fontdict)\n",
    "\n",
    "  ax.xaxis.set_major_locator(ticker.MultipleLocator(1))\n",
    "  ax.yaxis.set_major_locator(ticker.MultipleLocator(1))\n",
    "\n",
    "  ax.set_xlabel('Input text')\n",
    "  ax.set_ylabel('Output text')"
   ]
  },
  {
   "cell_type": "code",
   "execution_count": 25,
   "id": "e206b12d-58dc-43bf-ade1-8517fda5b6be",
   "metadata": {},
   "outputs": [
    {
     "name": "stdout",
     "output_type": "stream",
     "text": [
      "tf.Tensor(\n",
      "[[0.05510607 0.66572106 0.14013186 0.00679368 0.12984557 0.00240165]\n",
      " [0.04247383 0.12589471 0.52098906 0.17893878 0.11232845 0.01937514]\n",
      " [0.02502867 0.01887331 0.7919716  0.1266077  0.01616664 0.02135204]\n",
      " [0.02263617 0.01819432 0.10545713 0.77631956 0.01977407 0.05761878]\n",
      " [0.0627493  0.026366   0.1216875  0.16532263 0.12566273 0.49821177]\n",
      " [0.00898415 0.00133996 0.1249769  0.01791169 0.06536748 0.7814199 ]], shape=(6, 6), dtype=float32)\n"
     ]
    },
    {
     "name": "stderr",
     "output_type": "stream",
     "text": [
      "/tmp/ipykernel_14659/718733778.py:22: UserWarning: set_ticklabels() should only be used with a fixed number of ticks, i.e. after set_ticks() or using a FixedLocator.\n",
      "  ax.set_xticklabels([''] + context, fontdict=fontdict, rotation=90)\n",
      "/tmp/ipykernel_14659/718733778.py:23: UserWarning: set_ticklabels() should only be used with a fixed number of ticks, i.e. after set_ticks() or using a FixedLocator.\n",
      "  ax.set_yticklabels([''] + output, fontdict=fontdict)\n"
     ]
    },
    {
     "data": {
      "image/png": "[encoded data removed]",
      "text/plain": [
       "<Figure size 1000x1000 with 1 Axes>"
      ]
     },
     "metadata": {},
     "output_type": "display_data"
    }
   ],
   "source": [
    "model.plot_attention('לאן אתה הולך?')"
   ]
  },
  {
   "cell_type": "code",
   "execution_count": null,
   "id": "8eb543f1-ba4f-4bb5-b412-25b4cb9dc542",
   "metadata": {},
   "outputs": [],
   "source": []
  }
 ],
 "metadata": {
  "kernelspec": {
   "display_name": "Python 3 (ipykernel)",
   "language": "python",
   "name": "python3"
  },
  "language_info": {
   "codemirror_mode": {
    "name": "ipython",
    "version": 3
   },
   "file_extension": ".py",
   "mimetype": "text/x-python",
   "name": "python",
   "nbconvert_exporter": "python",
   "pygments_lexer": "ipython3",
   "version": "3.9.18"
  }
 },
 "nbformat": 4,
 "nbformat_minor": 5
}
