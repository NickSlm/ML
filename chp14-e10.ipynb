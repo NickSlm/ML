{
 "cells": [
  {
   "cell_type": "code",
   "execution_count": 1,
   "id": "f07ea6fb",
   "metadata": {},
   "outputs": [
    {
     "name": "stderr",
     "output_type": "stream",
     "text": [
      "2023-08-29 10:24:43.877791: I tensorflow/core/platform/cpu_feature_guard.cc:193] This TensorFlow binary is optimized with oneAPI Deep Neural Network Library (oneDNN) to use the following CPU instructions in performance-critical operations:  AVX2 FMA\n",
      "To enable them in other operations, rebuild TensorFlow with the appropriate compiler flags.\n",
      "2023-08-29 10:24:45.635925: W tensorflow/compiler/xla/stream_executor/platform/default/dso_loader.cc:64] Could not load dynamic library 'libnvinfer.so.7'; dlerror: libnvinfer.so.7: cannot open shared object file: No such file or directory; LD_LIBRARY_PATH: :/home/nick/miniconda3/envs/tf_env/lib/python3.9/site-packages/nvidia/cudnn/lib:/home/nick/miniconda3/envs/tf_env/lib/\n",
      "2023-08-29 10:24:45.636124: W tensorflow/compiler/xla/stream_executor/platform/default/dso_loader.cc:64] Could not load dynamic library 'libnvinfer_plugin.so.7'; dlerror: libnvinfer_plugin.so.7: cannot open shared object file: No such file or directory; LD_LIBRARY_PATH: :/home/nick/miniconda3/envs/tf_env/lib/python3.9/site-packages/nvidia/cudnn/lib:/home/nick/miniconda3/envs/tf_env/lib/\n",
      "2023-08-29 10:24:45.636133: W tensorflow/compiler/tf2tensorrt/utils/py_utils.cc:38] TF-TRT Warning: Cannot dlopen some TensorRT libraries. If you would like to use Nvidia GPU with TensorRT, please make sure the missing libraries mentioned above are installed properly.\n",
      "/home/nick/miniconda3/envs/tf_env/lib/python3.9/site-packages/tqdm/auto.py:21: TqdmWarning: IProgress not found. Please update jupyter and ipywidgets. See https://ipywidgets.readthedocs.io/en/stable/user_install.html\n",
      "  from .autonotebook import tqdm as notebook_tqdm\n"
     ]
    }
   ],
   "source": [
    "import numpy as np\n",
    "import matplotlib.pyplot as plt\n",
    "import tensorflow as tf\n",
    "from tensorflow import keras\n",
    "import tensorflow_datasets as tfds\n",
    "from functools import partial\n",
    "import random\n",
    "from scipy import ndimage"
   ]
  },
  {
   "cell_type": "code",
   "execution_count": 2,
   "id": "0381dc62",
   "metadata": {},
   "outputs": [
    {
     "name": "stderr",
     "output_type": "stream",
     "text": [
      "2023-08-29 10:24:47.666171: W tensorflow/core/platform/cloud/google_auth_provider.cc:184] All attempts to get a Google authentication bearer token failed, returning an empty token. Retrieving token from files failed with \"NOT_FOUND: Could not locate the credentials file.\". Retrieving token from GCE failed with \"FAILED_PRECONDITION: Error executing an HTTP request: libcurl code 6 meaning 'Couldn't resolve host name', error details: Could not resolve host: metadata\".\n"
     ]
    },
    {
     "name": "stdout",
     "output_type": "stream",
     "text": [
      "\u001b[1mDownloading and preparing dataset 218.21 MiB (download: 218.21 MiB, generated: 221.83 MiB, total: 440.05 MiB) to /home/nick/tensorflow_datasets/tf_flowers/3.0.1...\u001b[0m\n"
     ]
    },
    {
     "name": "stderr",
     "output_type": "stream",
     "text": [
      "Dl Completed...: 100%|█████████████████████████████████████| 5/5 [00:07<00:00,  1.51s/ file]\n",
      "2023-08-29 10:25:00.710168: I tensorflow/compiler/xla/stream_executor/cuda/cuda_gpu_executor.cc:967] could not open file to read NUMA node: /sys/bus/pci/devices/0000:06:00.0/numa_node\n",
      "Your kernel may have been built without NUMA support.\n"
     ]
    },
    {
     "name": "stdout",
     "output_type": "stream",
     "text": [
      "\u001b[1mDataset tf_flowers downloaded and prepared to /home/nick/tensorflow_datasets/tf_flowers/3.0.1. Subsequent calls will reuse this data.\u001b[0m\n"
     ]
    },
    {
     "name": "stderr",
     "output_type": "stream",
     "text": [
      "2023-08-29 10:25:00.914677: I tensorflow/compiler/xla/stream_executor/cuda/cuda_gpu_executor.cc:967] could not open file to read NUMA node: /sys/bus/pci/devices/0000:06:00.0/numa_node\n",
      "Your kernel may have been built without NUMA support.\n",
      "2023-08-29 10:25:00.914734: I tensorflow/compiler/xla/stream_executor/cuda/cuda_gpu_executor.cc:967] could not open file to read NUMA node: /sys/bus/pci/devices/0000:06:00.0/numa_node\n",
      "Your kernel may have been built without NUMA support.\n",
      "2023-08-29 10:25:00.918287: I tensorflow/core/platform/cpu_feature_guard.cc:193] This TensorFlow binary is optimized with oneAPI Deep Neural Network Library (oneDNN) to use the following CPU instructions in performance-critical operations:  AVX2 FMA\n",
      "To enable them in other operations, rebuild TensorFlow with the appropriate compiler flags.\n",
      "2023-08-29 10:25:00.923070: I tensorflow/compiler/xla/stream_executor/cuda/cuda_gpu_executor.cc:967] could not open file to read NUMA node: /sys/bus/pci/devices/0000:06:00.0/numa_node\n",
      "Your kernel may have been built without NUMA support.\n",
      "2023-08-29 10:25:00.923135: I tensorflow/compiler/xla/stream_executor/cuda/cuda_gpu_executor.cc:967] could not open file to read NUMA node: /sys/bus/pci/devices/0000:06:00.0/numa_node\n",
      "Your kernel may have been built without NUMA support.\n",
      "2023-08-29 10:25:00.923164: I tensorflow/compiler/xla/stream_executor/cuda/cuda_gpu_executor.cc:967] could not open file to read NUMA node: /sys/bus/pci/devices/0000:06:00.0/numa_node\n",
      "Your kernel may have been built without NUMA support.\n",
      "2023-08-29 10:25:02.378274: I tensorflow/compiler/xla/stream_executor/cuda/cuda_gpu_executor.cc:967] could not open file to read NUMA node: /sys/bus/pci/devices/0000:06:00.0/numa_node\n",
      "Your kernel may have been built without NUMA support.\n",
      "2023-08-29 10:25:02.378901: I tensorflow/compiler/xla/stream_executor/cuda/cuda_gpu_executor.cc:967] could not open file to read NUMA node: /sys/bus/pci/devices/0000:06:00.0/numa_node\n",
      "Your kernel may have been built without NUMA support.\n",
      "2023-08-29 10:25:02.378912: I tensorflow/core/common_runtime/gpu/gpu_device.cc:1700] Could not identify NUMA node of platform GPU id 0, defaulting to 0.  Your kernel may not have been built with NUMA support.\n",
      "2023-08-29 10:25:02.378987: I tensorflow/compiler/xla/stream_executor/cuda/cuda_gpu_executor.cc:967] could not open file to read NUMA node: /sys/bus/pci/devices/0000:06:00.0/numa_node\n",
      "Your kernel may have been built without NUMA support.\n",
      "2023-08-29 10:25:02.379404: I tensorflow/core/common_runtime/gpu/gpu_device.cc:1613] Created device /job:localhost/replica:0/task:0/device:GPU:0 with 5891 MB memory:  -> device: 0, name: NVIDIA GeForce RTX 2080 SUPER, pci bus id: 0000:06:00.0, compute capability: 7.5\n"
     ]
    }
   ],
   "source": [
    "(test_set_raw, val_set_raw, train_set_raw), info = tfds.load(\"tf_flowers\", split=[\"train[:10%]\", \"train[10%:25%]\", \"train[25%:]\"], as_supervised=True, with_info=True)"
   ]
  },
  {
   "cell_type": "code",
   "execution_count": 3,
   "id": "8129aa00",
   "metadata": {},
   "outputs": [
    {
     "data": {
      "text/plain": [
       "3670"
      ]
     },
     "execution_count": 3,
     "metadata": {},
     "output_type": "execute_result"
    }
   ],
   "source": [
    "class_names = info.features[\"label\"].names\n",
    "n_classes = info.features[\"label\"].num_classes\n",
    "info.splits[\"train\"].num_examples"
   ]
  },
  {
   "cell_type": "code",
   "execution_count": 4,
   "id": "53ae4225",
   "metadata": {},
   "outputs": [],
   "source": [
    "def preprocess(image, label, augment=False):\n",
    "    if augment:\n",
    "        image = tf.image.random_flip_left_right(image)\n",
    "        image = tf.image.random_brightness(image, max_delta=0.2)\n",
    "        \n",
    "    image = tf.image.resize(image, [256, 256])\n",
    "    image = tf.keras.layers.CenterCrop(224, 224)(image)\n",
    "    image = keras.applications.xception.preprocess_input(image)\n",
    "    return image, label"
   ]
  },
  {
   "cell_type": "code",
   "execution_count": 5,
   "id": "64663a89",
   "metadata": {},
   "outputs": [],
   "source": [
    "train_set = train_set_raw.map(partial(preprocess, augment=True)).batch(32).prefetch(1)\n",
    "test_set = test_set_raw.map(preprocess).batch(32).prefetch(1)\n",
    "val_set = val_set_raw.map(preprocess).batch(32).prefetch(1)"
   ]
  },
  {
   "cell_type": "code",
   "execution_count": 6,
   "id": "4454f0cf",
   "metadata": {},
   "outputs": [
    {
     "name": "stdout",
     "output_type": "stream",
     "text": [
      "Downloading data from https://storage.googleapis.com/tensorflow/keras-applications/xception/xception_weights_tf_dim_ordering_tf_kernels_notop.h5\n",
      "83683744/83683744 [==============================] - 4s 0us/step\n"
     ]
    }
   ],
   "source": [
    "base_model = keras.applications.xception.Xception(weights=\"imagenet\",\n",
    "                                                 include_top=False)\n",
    "\n",
    "for layer in base_model.layers:\n",
    "    layer.trainable = False\n",
    "    \n",
    "avg = keras.layers.GlobalAveragePooling2D()(base_model.output)\n",
    "hidden_l1 = keras.layers.Dense(256, activation=\"relu\")(avg)\n",
    "dropout = keras.layers.Dropout(rate=0.4)(hidden_l1)\n",
    "output = keras.layers.Dense(n_classes, activation=\"softmax\")(dropout)\n",
    "model = keras.models.Model(inputs=base_model.inputs, outputs=output)"
   ]
  },
  {
   "cell_type": "code",
   "execution_count": 7,
   "id": "5d43908e",
   "metadata": {},
   "outputs": [],
   "source": [
    "early_stopping = keras.callbacks.EarlyStopping(\n",
    "    monitor='val_loss',\n",
    "    patience=20,\n",
    "    restore_best_weights=True,\n",
    ")\n",
    "\n",
    "# Reduce learning rate when validation loss plateaus\n",
    "reduce_lr = keras.callbacks.ReduceLROnPlateau(\n",
    "    monitor='val_loss',\n",
    "    factor=0.5,\n",
    "    patience=5\n",
    ")"
   ]
  },
  {
   "cell_type": "code",
   "execution_count": 8,
   "id": "5536c724",
   "metadata": {},
   "outputs": [],
   "source": [
    "model.compile(loss=\"sparse_categorical_crossentropy\", optimizer=\"nadam\", metrics=[\"accuracy\"])"
   ]
  },
  {
   "cell_type": "code",
   "execution_count": 9,
   "id": "6d1ba194",
   "metadata": {},
   "outputs": [
    {
     "name": "stdout",
     "output_type": "stream",
     "text": [
      "Epoch 1/5\n"
     ]
    },
    {
     "name": "stderr",
     "output_type": "stream",
     "text": [
      "2023-08-29 10:25:20.712324: I tensorflow/compiler/xla/stream_executor/cuda/cuda_dnn.cc:428] Loaded cuDNN version 8600\n",
      "2023-08-29 10:25:23.473318: W tensorflow/tsl/framework/bfc_allocator.cc:290] Allocator (GPU_0_bfc) ran out of memory trying to allocate 6.88GiB with freed_by_count=0. The caller indicates that this is not a failure, but this may mean that there could be performance gains if more memory were available.\n",
      "2023-08-29 10:25:23.473400: W tensorflow/tsl/framework/bfc_allocator.cc:290] Allocator (GPU_0_bfc) ran out of memory trying to allocate 6.88GiB with freed_by_count=0. The caller indicates that this is not a failure, but this may mean that there could be performance gains if more memory were available.\n",
      "2023-08-29 10:25:23.523519: I tensorflow/compiler/xla/service/service.cc:173] XLA service 0x2e32f280 initialized for platform CUDA (this does not guarantee that XLA will be used). Devices:\n",
      "2023-08-29 10:25:23.523572: I tensorflow/compiler/xla/service/service.cc:181]   StreamExecutor device (0): NVIDIA GeForce RTX 2080 SUPER, Compute Capability 7.5\n",
      "2023-08-29 10:25:23.562326: I tensorflow/compiler/mlir/tensorflow/utils/dump_mlir_util.cc:268] disabling MLIR crash reproducer, set env var `MLIR_CRASH_REPRODUCER_DIRECTORY` to enable.\n",
      "2023-08-29 10:25:23.874744: I tensorflow/compiler/jit/xla_compilation_cache.cc:477] Compiled cluster using XLA!  This line is logged at most once for the lifetime of the process.\n"
     ]
    },
    {
     "name": "stdout",
     "output_type": "stream",
     "text": [
      "86/86 [==============================] - 22s 90ms/step - loss: 0.5548 - accuracy: 0.8027 - val_loss: 0.4016 - val_accuracy: 0.8621\n",
      "Epoch 2/5\n",
      "86/86 [==============================] - 7s 86ms/step - loss: 0.2995 - accuracy: 0.8903 - val_loss: 0.3755 - val_accuracy: 0.8695\n",
      "Epoch 3/5\n",
      "86/86 [==============================] - 8s 92ms/step - loss: 0.2400 - accuracy: 0.9186 - val_loss: 0.3594 - val_accuracy: 0.8750\n",
      "Epoch 4/5\n",
      "86/86 [==============================] - 8s 92ms/step - loss: 0.1929 - accuracy: 0.9306 - val_loss: 0.3765 - val_accuracy: 0.8713\n",
      "Epoch 5/5\n",
      "86/86 [==============================] - 8s 96ms/step - loss: 0.1593 - accuracy: 0.9484 - val_loss: 0.4013 - val_accuracy: 0.8603\n"
     ]
    }
   ],
   "source": [
    "history = model.fit(train_set,\n",
    "                    steps_per_epoch=int(0.75 * 3670 / 32),\n",
    "                    validation_data=val_set,\n",
    "                    validation_steps=int(0.15 * 3670 / 32),\n",
    "                    epochs=5)"
   ]
  },
  {
   "cell_type": "code",
   "execution_count": 10,
   "id": "64fe218d",
   "metadata": {},
   "outputs": [
    {
     "name": "stdout",
     "output_type": "stream",
     "text": [
      "12/12 [==============================] - 2s 134ms/step - loss: 0.2803 - accuracy: 0.9101\n"
     ]
    },
    {
     "name": "stderr",
     "output_type": "stream",
     "text": [
      "2023-08-29 10:26:05.396226: W tensorflow/tsl/framework/bfc_allocator.cc:290] Allocator (GPU_0_bfc) ran out of memory trying to allocate 6.83GiB with freed_by_count=0. The caller indicates that this is not a failure, but this may mean that there could be performance gains if more memory were available.\n",
      "2023-08-29 10:26:05.396296: W tensorflow/tsl/framework/bfc_allocator.cc:290] Allocator (GPU_0_bfc) ran out of memory trying to allocate 6.83GiB with freed_by_count=0. The caller indicates that this is not a failure, but this may mean that there could be performance gains if more memory were available.\n"
     ]
    },
    {
     "data": {
      "text/plain": [
       "[0.28033891320228577, 0.9100817441940308]"
      ]
     },
     "execution_count": 10,
     "metadata": {},
     "output_type": "execute_result"
    }
   ],
   "source": [
    "model.evaluate(test_set)"
   ]
  },
  {
   "cell_type": "code",
   "execution_count": 11,
   "id": "ea8b6bb9",
   "metadata": {},
   "outputs": [
    {
     "data": {
      "text/plain": [
       "[0.8621323704719543,\n",
       " 0.8694853186607361,\n",
       " 0.875,\n",
       " 0.8713235259056091,\n",
       " 0.8602941036224365]"
      ]
     },
     "execution_count": 11,
     "metadata": {},
     "output_type": "execute_result"
    }
   ],
   "source": [
    "history.history[\"accuracy\"]\n",
    "history.history[\"val_accuracy\"]"
   ]
  },
  {
   "cell_type": "code",
   "execution_count": 12,
   "id": "aa85de4a",
   "metadata": {},
   "outputs": [
    {
     "data": {
      "text/plain": [
       "<matplotlib.legend.Legend at 0x7fb182c0ef10>"
      ]
     },
     "execution_count": 12,
     "metadata": {},
     "output_type": "execute_result"
    },
    {
     "data": {
      "image/png": "[encoded data removed]",
      "text/plain": [
       "<Figure size 800x600 with 1 Axes>"
      ]
     },
     "metadata": {},
     "output_type": "display_data"
    }
   ],
   "source": [
    "epochs = np.arange(5)\n",
    "plt.figure(figsize=(8,6))\n",
    "plt.plot(epochs,history.history[\"accuracy\"],\"o--\", label=\"train_accuracy\")\n",
    "plt.plot(epochs,history.history[\"val_accuracy\"], \"o-\", label=\"val_accuracy\")\n",
    "plt.ylabel(\"accuracy\")\n",
    "plt.xlabel(\"epochs\")\n",
    "plt.axis([0,9,0.8,1])\n",
    "plt.legend()"
   ]
  },
  {
   "cell_type": "code",
   "execution_count": 13,
   "id": "ac8bff20",
   "metadata": {},
   "outputs": [],
   "source": [
    "for layer in base_model.layers:\n",
    "    layer.trainable = True"
   ]
  },
  {
   "cell_type": "code",
   "execution_count": 14,
   "id": "6a712688",
   "metadata": {},
   "outputs": [
    {
     "name": "stdout",
     "output_type": "stream",
     "text": [
      "Epoch 1/40\n"
     ]
    },
    {
     "name": "stderr",
     "output_type": "stream",
     "text": [
      "2023-08-29 10:26:19.460628: W tensorflow/tsl/framework/bfc_allocator.cc:290] Allocator (GPU_0_bfc) ran out of memory trying to allocate 6.78GiB with freed_by_count=0. The caller indicates that this is not a failure, but this may mean that there could be performance gains if more memory were available.\n",
      "2023-08-29 10:26:19.460703: W tensorflow/tsl/framework/bfc_allocator.cc:290] Allocator (GPU_0_bfc) ran out of memory trying to allocate 6.78GiB with freed_by_count=0. The caller indicates that this is not a failure, but this may mean that there could be performance gains if more memory were available.\n",
      "2023-08-29 10:26:19.484723: W tensorflow/tsl/framework/bfc_allocator.cc:290] Allocator (GPU_0_bfc) ran out of memory trying to allocate 6.92GiB with freed_by_count=0. The caller indicates that this is not a failure, but this may mean that there could be performance gains if more memory were available.\n",
      "2023-08-29 10:26:19.484791: W tensorflow/tsl/framework/bfc_allocator.cc:290] Allocator (GPU_0_bfc) ran out of memory trying to allocate 6.92GiB with freed_by_count=0. The caller indicates that this is not a failure, but this may mean that there could be performance gains if more memory were available.\n",
      "2023-08-29 10:26:19.518292: W tensorflow/tsl/framework/bfc_allocator.cc:290] Allocator (GPU_0_bfc) ran out of memory trying to allocate 3.40GiB with freed_by_count=0. The caller indicates that this is not a failure, but this may mean that there could be performance gains if more memory were available.\n",
      "2023-08-29 10:26:19.518359: W tensorflow/tsl/framework/bfc_allocator.cc:290] Allocator (GPU_0_bfc) ran out of memory trying to allocate 3.40GiB with freed_by_count=0. The caller indicates that this is not a failure, but this may mean that there could be performance gains if more memory were available.\n"
     ]
    },
    {
     "name": "stdout",
     "output_type": "stream",
     "text": [
      "86/86 [==============================] - 60s 304ms/step - loss: 0.4347 - accuracy: 0.8576 - val_loss: 2.5315 - val_accuracy: 0.7114\n",
      "Epoch 2/40\n",
      "86/86 [==============================] - 29s 335ms/step - loss: 0.2755 - accuracy: 0.9110 - val_loss: 2.2750 - val_accuracy: 0.7408\n",
      "Epoch 3/40\n",
      "86/86 [==============================] - 29s 342ms/step - loss: 0.2205 - accuracy: 0.9324 - val_loss: 0.8793 - val_accuracy: 0.7849\n",
      "Epoch 4/40\n",
      "86/86 [==============================] - 31s 362ms/step - loss: 0.2030 - accuracy: 0.9393 - val_loss: 0.4134 - val_accuracy: 0.8897\n",
      "Epoch 5/40\n",
      "86/86 [==============================] - 32s 369ms/step - loss: 0.1673 - accuracy: 0.9480 - val_loss: 1.0464 - val_accuracy: 0.8051\n",
      "Epoch 6/40\n",
      "86/86 [==============================] - 32s 371ms/step - loss: 0.1190 - accuracy: 0.9655 - val_loss: 1.0830 - val_accuracy: 0.7610\n",
      "Epoch 7/40\n",
      "86/86 [==============================] - 33s 381ms/step - loss: 0.1312 - accuracy: 0.9629 - val_loss: 0.3200 - val_accuracy: 0.9118\n",
      "Epoch 8/40\n",
      "86/86 [==============================] - 33s 382ms/step - loss: 0.1217 - accuracy: 0.9640 - val_loss: 0.3749 - val_accuracy: 0.8952\n",
      "Epoch 9/40\n",
      "86/86 [==============================] - 33s 383ms/step - loss: 0.0927 - accuracy: 0.9731 - val_loss: 0.4800 - val_accuracy: 0.8640\n",
      "Epoch 10/40\n",
      "86/86 [==============================] - 33s 389ms/step - loss: 0.1012 - accuracy: 0.9724 - val_loss: 0.4557 - val_accuracy: 0.8824\n",
      "Epoch 11/40\n",
      "86/86 [==============================] - 34s 394ms/step - loss: 0.0945 - accuracy: 0.9713 - val_loss: 0.3978 - val_accuracy: 0.9136\n",
      "Epoch 12/40\n",
      "86/86 [==============================] - 34s 397ms/step - loss: 0.0721 - accuracy: 0.9764 - val_loss: 0.5092 - val_accuracy: 0.8658\n",
      "Epoch 13/40\n",
      "86/86 [==============================] - 35s 402ms/step - loss: 0.0818 - accuracy: 0.9786 - val_loss: 1.0601 - val_accuracy: 0.8364\n",
      "Epoch 14/40\n",
      "86/86 [==============================] - 35s 404ms/step - loss: 0.0996 - accuracy: 0.9749 - val_loss: 0.9981 - val_accuracy: 0.8548\n",
      "Epoch 15/40\n",
      "86/86 [==============================] - 35s 406ms/step - loss: 0.0772 - accuracy: 0.9746 - val_loss: 0.5551 - val_accuracy: 0.8750\n",
      "Epoch 16/40\n",
      "86/86 [==============================] - 35s 404ms/step - loss: 0.0579 - accuracy: 0.9818 - val_loss: 0.4903 - val_accuracy: 0.8640\n",
      "Epoch 17/40\n",
      "86/86 [==============================] - 35s 403ms/step - loss: 0.0325 - accuracy: 0.9920 - val_loss: 0.5456 - val_accuracy: 0.8879\n",
      "Epoch 18/40\n",
      "86/86 [==============================] - 35s 407ms/step - loss: 0.0484 - accuracy: 0.9866 - val_loss: 0.4433 - val_accuracy: 0.9007\n",
      "Epoch 19/40\n",
      "86/86 [==============================] - 35s 403ms/step - loss: 0.0289 - accuracy: 0.9909 - val_loss: 2.4742 - val_accuracy: 0.7665\n",
      "Epoch 20/40\n",
      "86/86 [==============================] - 34s 397ms/step - loss: 0.0539 - accuracy: 0.9851 - val_loss: 0.4521 - val_accuracy: 0.9154\n",
      "Epoch 21/40\n",
      "86/86 [==============================] - 34s 397ms/step - loss: 0.0536 - accuracy: 0.9840 - val_loss: 0.5280 - val_accuracy: 0.8695\n",
      "Epoch 22/40\n",
      "86/86 [==============================] - 34s 400ms/step - loss: 0.0394 - accuracy: 0.9880 - val_loss: 0.5923 - val_accuracy: 0.9044\n",
      "Epoch 23/40\n",
      "86/86 [==============================] - 35s 408ms/step - loss: 0.1051 - accuracy: 0.9724 - val_loss: 0.7067 - val_accuracy: 0.8290\n",
      "Epoch 24/40\n",
      "86/86 [==============================] - 35s 408ms/step - loss: 0.0566 - accuracy: 0.9822 - val_loss: 0.3861 - val_accuracy: 0.9044\n",
      "Epoch 25/40\n",
      "86/86 [==============================] - 36s 414ms/step - loss: 0.0444 - accuracy: 0.9873 - val_loss: 0.6522 - val_accuracy: 0.9007\n",
      "Epoch 26/40\n",
      "86/86 [==============================] - 35s 410ms/step - loss: 0.0761 - accuracy: 0.9760 - val_loss: 0.9052 - val_accuracy: 0.8585\n",
      "Epoch 27/40\n",
      "86/86 [==============================] - 36s 416ms/step - loss: 0.0901 - accuracy: 0.9767 - val_loss: 0.8256 - val_accuracy: 0.8640\n",
      "Epoch 28/40\n",
      "86/86 [==============================] - 35s 412ms/step - loss: 0.0431 - accuracy: 0.9876 - val_loss: 0.4504 - val_accuracy: 0.8989\n",
      "Epoch 29/40\n",
      "86/86 [==============================] - 35s 412ms/step - loss: 0.0176 - accuracy: 0.9945 - val_loss: 0.4388 - val_accuracy: 0.9062\n",
      "Epoch 30/40\n",
      "86/86 [==============================] - 35s 411ms/step - loss: 0.0155 - accuracy: 0.9956 - val_loss: 0.4816 - val_accuracy: 0.8934\n",
      "Epoch 31/40\n",
      "86/86 [==============================] - 36s 419ms/step - loss: 0.0099 - accuracy: 0.9982 - val_loss: 0.3895 - val_accuracy: 0.9228\n",
      "Epoch 32/40\n",
      "86/86 [==============================] - 36s 424ms/step - loss: 0.0191 - accuracy: 0.9971 - val_loss: 0.4540 - val_accuracy: 0.9191\n",
      "Epoch 33/40\n",
      "86/86 [==============================] - 36s 415ms/step - loss: 0.0341 - accuracy: 0.9887 - val_loss: 0.9503 - val_accuracy: 0.8529\n",
      "Epoch 34/40\n",
      "86/86 [==============================] - 35s 403ms/step - loss: 0.0803 - accuracy: 0.9804 - val_loss: 0.4870 - val_accuracy: 0.8842\n",
      "Epoch 35/40\n",
      "86/86 [==============================] - 35s 408ms/step - loss: 0.0597 - accuracy: 0.9847 - val_loss: 0.4149 - val_accuracy: 0.9081\n",
      "Epoch 36/40\n",
      "86/86 [==============================] - 36s 423ms/step - loss: 0.0198 - accuracy: 0.9931 - val_loss: 0.5929 - val_accuracy: 0.8860\n",
      "Epoch 37/40\n",
      "86/86 [==============================] - 36s 417ms/step - loss: 0.0266 - accuracy: 0.9891 - val_loss: 0.3855 - val_accuracy: 0.9210\n",
      "Epoch 38/40\n",
      "86/86 [==============================] - 36s 418ms/step - loss: 0.0366 - accuracy: 0.9913 - val_loss: 1.0077 - val_accuracy: 0.8860\n",
      "Epoch 39/40\n",
      "86/86 [==============================] - 35s 412ms/step - loss: 0.0522 - accuracy: 0.9862 - val_loss: 0.5000 - val_accuracy: 0.9062\n",
      "Epoch 40/40\n",
      "86/86 [==============================] - 35s 407ms/step - loss: 0.0337 - accuracy: 0.9869 - val_loss: 0.4249 - val_accuracy: 0.9026\n"
     ]
    }
   ],
   "source": [
    "model.compile(loss=\"sparse_categorical_crossentropy\", optimizer=\"nadam\", metrics=[\"accuracy\"])\n",
    "history = model.fit(train_set,\n",
    "                    steps_per_epoch=int(0.75 * 3670 / 32),\n",
    "                    validation_data=val_set,\n",
    "                    validation_steps=int(0.15 * 3670 / 32),\n",
    "                    epochs=40)"
   ]
  },
  {
   "cell_type": "code",
   "execution_count": 15,
   "id": "86e00bb4",
   "metadata": {},
   "outputs": [
    {
     "name": "stdout",
     "output_type": "stream",
     "text": [
      "12/12 [==============================] - 1s 64ms/step - loss: 0.4458 - accuracy: 0.9155\n"
     ]
    },
    {
     "data": {
      "text/plain": [
       "[0.4458428919315338, 0.9155313372612]"
      ]
     },
     "execution_count": 15,
     "metadata": {},
     "output_type": "execute_result"
    }
   ],
   "source": [
    "model.evaluate(test_set)"
   ]
  },
  {
   "cell_type": "code",
   "execution_count": null,
   "id": "593384cd-a480-4cc3-b6c5-4151d4118397",
   "metadata": {},
   "outputs": [],
   "source": []
  }
 ],
 "metadata": {
  "kernelspec": {
   "display_name": "Python 3 (ipykernel)",
   "language": "python",
   "name": "python3"
  },
  "language_info": {
   "codemirror_mode": {
    "name": "ipython",
    "version": 3
   },
   "file_extension": ".py",
   "mimetype": "text/x-python",
   "name": "python",
   "nbconvert_exporter": "python",
   "pygments_lexer": "ipython3",
   "version": "3.9.17"
  }
 },
 "nbformat": 4,
 "nbformat_minor": 5
}
