{
 "cells": [
  {
   "cell_type": "markdown",
   "metadata": {
    "colab_type": "text",
    "id": "view-in-github"
   },
   "source": [
    "<a href=\"https://colab.research.google.com/github/NickSlm/ml1/blob/main/Sentiment_Analysis.ipynb\" target=\"_parent\"><img src=\"https://colab.research.google.com/assets/colab-badge.svg\" alt=\"Open In Colab\"/></a>"
   ]
  },
  {
   "cell_type": "code",
   "execution_count": 1,
   "metadata": {
    "id": "pCdUlU7Gm_Om"
   },
   "outputs": [
    {
     "name": "stderr",
     "output_type": "stream",
     "text": [
      "2023-12-14 11:58:34.726020: I external/local_tsl/tsl/cuda/cudart_stub.cc:31] Could not find cuda drivers on your machine, GPU will not be used.\n",
      "2023-12-14 11:58:34.765253: E external/local_xla/xla/stream_executor/cuda/cuda_dnn.cc:9261] Unable to register cuDNN factory: Attempting to register factory for plugin cuDNN when one has already been registered\n",
      "2023-12-14 11:58:34.765287: E external/local_xla/xla/stream_executor/cuda/cuda_fft.cc:607] Unable to register cuFFT factory: Attempting to register factory for plugin cuFFT when one has already been registered\n",
      "2023-12-14 11:58:34.766014: E external/local_xla/xla/stream_executor/cuda/cuda_blas.cc:1515] Unable to register cuBLAS factory: Attempting to register factory for plugin cuBLAS when one has already been registered\n",
      "2023-12-14 11:58:34.771425: I external/local_tsl/tsl/cuda/cudart_stub.cc:31] Could not find cuda drivers on your machine, GPU will not be used.\n",
      "2023-12-14 11:58:34.772227: I tensorflow/core/platform/cpu_feature_guard.cc:182] This TensorFlow binary is optimized to use available CPU instructions in performance-critical operations.\n",
      "To enable the following instructions: AVX2 FMA, in other operations, rebuild TensorFlow with the appropriate compiler flags.\n",
      "2023-12-14 11:58:35.408074: W tensorflow/compiler/tf2tensorrt/utils/py_utils.cc:38] TF-TRT Warning: Could not find TensorRT\n",
      "/home/nick/miniconda3/envs/tf_env/lib/python3.9/site-packages/tqdm/auto.py:21: TqdmWarning: IProgress not found. Please update jupyter and ipywidgets. See https://ipywidgets.readthedocs.io/en/stable/user_install.html\n",
      "  from .autonotebook import tqdm as notebook_tqdm\n"
     ]
    }
   ],
   "source": [
    "import numpy as np\n",
    "import tensorflow as tf\n",
    "from tensorflow import keras\n",
    "import tensorflow_datasets as tfds"
   ]
  },
  {
   "cell_type": "code",
   "execution_count": 2,
   "metadata": {
    "id": "bh-mRROQCspp"
   },
   "outputs": [
    {
     "name": "stdout",
     "output_type": "stream",
     "text": [
      "Downloading data from https://storage.googleapis.com/tensorflow/tf-keras-datasets/imdb.npz\n",
      "17464789/17464789 [==============================] - 2s 0us/step\n"
     ]
    }
   ],
   "source": [
    "dataset = keras.datasets.imdb.load_data()"
   ]
  },
  {
   "cell_type": "code",
   "execution_count": 3,
   "metadata": {
    "id": "RPsr_docGzBO"
   },
   "outputs": [],
   "source": [
    "(X_train, y_train), (X_test, y_test) = dataset"
   ]
  },
  {
   "cell_type": "code",
   "execution_count": 4,
   "metadata": {
    "id": "-M_YgHsKG44Y"
   },
   "outputs": [],
   "source": [
    "test_seq = X_train[0][:10]"
   ]
  },
  {
   "cell_type": "code",
   "execution_count": 5,
   "metadata": {
    "id": "jk_-OttSY2A2"
   },
   "outputs": [
    {
     "name": "stdout",
     "output_type": "stream",
     "text": [
      "Downloading data from https://storage.googleapis.com/tensorflow/tf-keras-datasets/imdb_word_index.json\n",
      "1641221/1641221 [==============================] - 1s 1us/step\n"
     ]
    }
   ],
   "source": [
    "word_index = keras.datasets.imdb.get_word_index()"
   ]
  },
  {
   "cell_type": "code",
   "execution_count": 6,
   "metadata": {
    "colab": {
     "base_uri": "https://localhost:8080/",
     "height": 35
    },
    "id": "NBZUcWQfcysa",
    "outputId": "e9d4ef6b-a0ee-484e-9562-5491ac0bd33f"
   },
   "outputs": [
    {
     "data": {
      "text/plain": [
       "'[START] this film was just brilliant casting location scenery story'"
      ]
     },
     "execution_count": 6,
     "metadata": {},
     "output_type": "execute_result"
    }
   ],
   "source": [
    "id_to_word = dict((id_ + 3,word) for word, id_ in word_index.items())\n",
    "id_to_word [1] = \"[START]\"\n",
    "id_to_word [2] = \"[OOV]\"\n",
    "\" \".join(id_to_word[id_] for id_ in test_seq)"
   ]
  },
  {
   "cell_type": "code",
   "execution_count": 7,
   "metadata": {
    "id": "YAKON2Mpqway"
   },
   "outputs": [
    {
     "name": "stderr",
     "output_type": "stream",
     "text": [
      "2023-12-14 11:58:42.287501: W external/local_tsl/tsl/platform/cloud/google_auth_provider.cc:184] All attempts to get a Google authentication bearer token failed, returning an empty token. Retrieving token from files failed with \"NOT_FOUND: Could not locate the credentials file.\". Retrieving token from GCE failed with \"FAILED_PRECONDITION: Error executing an HTTP request: libcurl code 6 meaning 'Couldn't resolve host name', error details: Could not resolve host: metadata.google.internal\".\n"
     ]
    },
    {
     "name": "stdout",
     "output_type": "stream",
     "text": [
      "\u001b[1mDownloading and preparing dataset 80.23 MiB (download: 80.23 MiB, generated: Unknown size, total: 80.23 MiB) to /home/nick/tensorflow_datasets/imdb_reviews/plain_text/1.0.0...\u001b[0m\n"
     ]
    },
    {
     "name": "stderr",
     "output_type": "stream",
     "text": [
      "Dl Completed...: 0 url [00:00, ? url/s]\n",
      "Dl Completed...:   0%|                                                                          | 0/1 [00:00<?, ? url/s]\n",
      "Dl Completed...:   0%|                                                                          | 0/1 [00:00<?, ? url/s]\n",
      "Dl Size...:   0%|                                                                              | 0/80 [00:00<?, ? MiB/s]\u001b[A\n",
      "Dl Completed...:   0%|                                                                          | 0/1 [00:05<?, ? url/s]\u001b[A\n",
      "Dl Size...:   1%|▉                                                                     | 1/80 [00:05<07:33,  5.74s/ MiB]\u001b[A\n",
      "Dl Completed...:   0%|                                                                          | 0/1 [00:07<?, ? url/s]\u001b[A\n",
      "Dl Size...:   2%|█▊                                                                    | 2/80 [00:07<04:31,  3.48s/ MiB]\u001b[A\n",
      "Dl Completed...:   0%|                                                                          | 0/1 [00:08<?, ? url/s]\u001b[A\n",
      "Dl Size...:   4%|██▋                                                                   | 3/80 [00:08<03:12,  2.50s/ MiB]\u001b[A\n",
      "Dl Completed...:   0%|                                                                          | 0/1 [00:09<?, ? url/s]\u001b[A\n",
      "Dl Size...:   5%|███▌                                                                  | 4/80 [00:09<02:23,  1.89s/ MiB]\u001b[A\n",
      "Dl Completed...:   0%|                                                                          | 0/1 [00:10<?, ? url/s]\u001b[A\n",
      "Dl Size...:   6%|████▍                                                                 | 5/80 [00:10<01:45,  1.41s/ MiB]\u001b[A\n",
      "Dl Completed...:   0%|                                                                          | 0/1 [00:11<?, ? url/s]\u001b[A\n",
      "Dl Size...:   8%|█████▎                                                                | 6/80 [00:11<01:23,  1.13s/ MiB]\u001b[A\n",
      "Dl Completed...:   0%|                                                                          | 0/1 [00:11<?, ? url/s]\u001b[A\n",
      "Dl Size...:   9%|██████▏                                                               | 7/80 [00:11<01:04,  1.13 MiB/s]\u001b[A\n",
      "Dl Completed...:   0%|                                                                          | 0/1 [00:11<?, ? url/s]\u001b[A\n",
      "Dl Size...:  10%|███████                                                               | 8/80 [00:11<00:51,  1.39 MiB/s]\u001b[A\n",
      "Dl Completed...:   0%|                                                                          | 0/1 [00:12<?, ? url/s]\u001b[A\n",
      "Dl Size...:  11%|███████▉                                                              | 9/80 [00:12<00:43,  1.63 MiB/s]\u001b[A\n",
      "Dl Completed...:   0%|                                                                          | 0/1 [00:12<?, ? url/s]\u001b[A\n",
      "Dl Size...:  12%|████████▋                                                            | 10/80 [00:12<00:33,  2.07 MiB/s]\u001b[A\n",
      "Dl Completed...:   0%|                                                                          | 0/1 [00:12<?, ? url/s]\u001b[A\n",
      "Dl Size...:  14%|█████████▍                                                           | 11/80 [00:12<00:27,  2.52 MiB/s]\u001b[A\n",
      "Dl Completed...:   0%|                                                                          | 0/1 [00:12<?, ? url/s]\u001b[A\n",
      "Dl Size...:  15%|██████████▎                                                          | 12/80 [00:12<00:23,  2.93 MiB/s]\u001b[A\n",
      "Dl Completed...:   0%|                                                                          | 0/1 [00:13<?, ? url/s]\u001b[A\n",
      "Dl Size...:  16%|███████████▏                                                         | 13/80 [00:13<00:20,  3.24 MiB/s]\u001b[A\n",
      "Dl Completed...:   0%|                                                                          | 0/1 [00:13<?, ? url/s]\u001b[A\n",
      "Dl Size...:  18%|████████████                                                         | 14/80 [00:13<00:17,  3.86 MiB/s]\u001b[A\n",
      "Dl Completed...:   0%|                                                                          | 0/1 [00:13<?, ? url/s]\u001b[A\n",
      "Dl Size...:  19%|████████████▉                                                        | 15/80 [00:13<00:14,  4.34 MiB/s]\u001b[A\n",
      "Dl Completed...:   0%|                                                                          | 0/1 [00:13<?, ? url/s]\u001b[A\n",
      "Dl Size...:  20%|█████████████▊                                                       | 16/80 [00:13<00:13,  4.61 MiB/s]\u001b[A\n",
      "Dl Completed...:   0%|                                                                          | 0/1 [00:13<?, ? url/s]\u001b[A\n",
      "Dl Completed...:   0%|                                                                          | 0/1 [00:13<?, ? url/s]\u001b[A\n",
      "Dl Size...:  22%|███████████████▌                                                     | 18/80 [00:13<00:12,  4.83 MiB/s]\u001b[A\n",
      "Dl Completed...:   0%|                                                                          | 0/1 [00:13<?, ? url/s]\u001b[A\n",
      "Dl Size...:  24%|████████████████▍                                                    | 19/80 [00:13<00:09,  6.37 MiB/s]\u001b[A\n",
      "Dl Completed...:   0%|                                                                          | 0/1 [00:14<?, ? url/s]\u001b[A\n",
      "Dl Completed...:   0%|                                                                          | 0/1 [00:14<?, ? url/s]\u001b[A\n",
      "Dl Size...:  26%|██████████████████                                                   | 21/80 [00:14<00:09,  6.14 MiB/s]\u001b[A\n",
      "Dl Completed...:   0%|                                                                          | 0/1 [00:14<?, ? url/s]\u001b[A\n",
      "Dl Completed...:   0%|                                                                          | 0/1 [00:14<?, ? url/s]\u001b[A\n",
      "Dl Size...:  29%|███████████████████▊                                                 | 23/80 [00:14<00:07,  7.35 MiB/s]\u001b[A\n",
      "Dl Completed...:   0%|                                                                          | 0/1 [00:14<?, ? url/s]\u001b[A\n",
      "Dl Completed...:   0%|                                                                          | 0/1 [00:14<?, ? url/s]\u001b[A\n",
      "Dl Size...:  31%|█████████████████████▌                                               | 25/80 [00:14<00:06,  8.22 MiB/s]\u001b[A\n",
      "Dl Completed...:   0%|                                                                          | 0/1 [00:14<?, ? url/s]\u001b[A\n",
      "Dl Completed...:   0%|                                                                          | 0/1 [00:14<?, ? url/s]\u001b[A\n",
      "Dl Size...:  34%|███████████████████████▎                                             | 27/80 [00:14<00:05,  8.97 MiB/s]\u001b[A\n",
      "Dl Completed...:   0%|                                                                          | 0/1 [00:14<?, ? url/s]\u001b[A\n",
      "Dl Completed...:   0%|                                                                          | 0/1 [00:14<?, ? url/s]\u001b[A\n",
      "Dl Size...:  36%|█████████████████████████                                            | 29/80 [00:14<00:06,  8.47 MiB/s]\u001b[A\n",
      "Dl Completed...:   0%|                                                                          | 0/1 [00:15<?, ? url/s]\u001b[A\n",
      "Dl Completed...:   0%|                                                                          | 0/1 [00:15<?, ? url/s]\u001b[A\n",
      "Dl Size...:  39%|██████████████████████████▋                                          | 31/80 [00:15<00:04, 10.22 MiB/s]\u001b[A\n",
      "Dl Completed...:   0%|                                                                          | 0/1 [00:15<?, ? url/s]\u001b[A\n",
      "Dl Completed...:   0%|                                                                          | 0/1 [00:15<?, ? url/s]\u001b[A\n",
      "Dl Size...:  41%|████████████████████████████▍                                        | 33/80 [00:15<00:05,  9.17 MiB/s]\u001b[A\n",
      "Dl Completed...:   0%|                                                                          | 0/1 [00:15<?, ? url/s]\u001b[A\n",
      "Dl Completed...:   0%|                                                                          | 0/1 [00:15<?, ? url/s]\u001b[A\n",
      "Dl Size...:  44%|██████████████████████████████▏                                      | 35/80 [00:15<00:04,  9.42 MiB/s]\u001b[A\n",
      "Dl Completed...:   0%|                                                                          | 0/1 [00:15<?, ? url/s]\u001b[A\n",
      "Dl Completed...:   0%|                                                                          | 0/1 [00:15<?, ? url/s]\u001b[A\n",
      "Dl Size...:  46%|███████████████████████████████▉                                     | 37/80 [00:15<00:04,  9.59 MiB/s]\u001b[A\n",
      "Dl Completed...:   0%|                                                                          | 0/1 [00:15<?, ? url/s]\u001b[A\n",
      "Dl Completed...:   0%|                                                                          | 0/1 [00:16<?, ? url/s]\u001b[A\n",
      "Dl Size...:  49%|█████████████████████████████████▋                                   | 39/80 [00:16<00:04,  9.77 MiB/s]\u001b[A\n",
      "Dl Completed...:   0%|                                                                          | 0/1 [00:16<?, ? url/s]\u001b[A\n",
      "Dl Completed...:   0%|                                                                          | 0/1 [00:16<?, ? url/s]\u001b[A\n",
      "Dl Size...:  51%|███████████████████████████████████▎                                 | 41/80 [00:16<00:04,  8.90 MiB/s]\u001b[A\n",
      "Dl Completed...:   0%|                                                                          | 0/1 [00:16<?, ? url/s]\u001b[A\n",
      "Dl Completed...:   0%|                                                                          | 0/1 [00:16<?, ? url/s]\u001b[A\n",
      "Dl Completed...:   0%|                                                                          | 0/1 [00:16<?, ? url/s]\u001b[A\n",
      "Dl Size...:  55%|█████████████████████████████████████▉                               | 44/80 [00:16<00:04,  7.36 MiB/s]\u001b[A\n",
      "Dl Completed...:   0%|                                                                          | 0/1 [00:16<?, ? url/s]\u001b[A\n",
      "Dl Completed...:   0%|                                                                          | 0/1 [00:16<?, ? url/s]\u001b[A\n",
      "Dl Size...:  57%|███████████████████████████████████████▋                             | 46/80 [00:16<00:03,  9.31 MiB/s]\u001b[A\n",
      "Dl Completed...:   0%|                                                                          | 0/1 [00:17<?, ? url/s]\u001b[A\n",
      "Dl Size...:  59%|████████████████████████████████████████▌                            | 47/80 [00:17<00:03,  8.59 MiB/s]\u001b[A\n",
      "Dl Completed...:   0%|                                                                          | 0/1 [00:17<?, ? url/s]\u001b[A\n",
      "Dl Size...:  60%|█████████████████████████████████████████▍                           | 48/80 [00:17<00:03,  8.72 MiB/s]\u001b[A\n",
      "Dl Completed...:   0%|                                                                          | 0/1 [00:17<?, ? url/s]\u001b[A\n",
      "Dl Size...:  61%|██████████████████████████████████████████▎                          | 49/80 [00:17<00:03,  7.86 MiB/s]\u001b[A\n",
      "Dl Completed...:   0%|                                                                          | 0/1 [00:17<?, ? url/s]\u001b[A\n",
      "Dl Size...:  62%|███████████████████████████████████████████▏                         | 50/80 [00:17<00:03,  8.22 MiB/s]\u001b[A\n",
      "Dl Completed...:   0%|                                                                          | 0/1 [00:17<?, ? url/s]\u001b[A\n",
      "Dl Size...:  64%|███████████████████████████████████████████▉                         | 51/80 [00:17<00:03,  7.53 MiB/s]\u001b[A\n",
      "Dl Completed...:   0%|                                                                          | 0/1 [00:17<?, ? url/s]\u001b[A\n",
      "Dl Size...:  65%|████████████████████████████████████████████▊                        | 52/80 [00:17<00:03,  7.77 MiB/s]\u001b[A\n",
      "Dl Completed...:   0%|                                                                          | 0/1 [00:17<?, ? url/s]\u001b[A\n",
      "Dl Size...:  66%|█████████████████████████████████████████████▋                       | 53/80 [00:17<00:03,  8.25 MiB/s]\u001b[A\n",
      "Dl Completed...:   0%|                                                                          | 0/1 [00:17<?, ? url/s]\u001b[A\n",
      "Dl Size...:  68%|██████████████████████████████████████████████▌                      | 54/80 [00:17<00:03,  7.31 MiB/s]\u001b[A\n",
      "Dl Completed...:   0%|                                                                          | 0/1 [00:18<?, ? url/s]\u001b[A\n",
      "Dl Size...:  69%|███████████████████████████████████████████████▍                     | 55/80 [00:18<00:03,  7.82 MiB/s]\u001b[A\n",
      "Dl Completed...:   0%|                                                                          | 0/1 [00:18<?, ? url/s]\u001b[A\n",
      "Dl Size...:  70%|████████████████████████████████████████████████▎                    | 56/80 [00:18<00:03,  7.03 MiB/s]\u001b[A\n",
      "Dl Completed...:   0%|                                                                          | 0/1 [00:18<?, ? url/s]\u001b[A\n",
      "Dl Size...:  71%|█████████████████████████████████████████████████▏                   | 57/80 [00:18<00:02,  7.69 MiB/s]\u001b[A\n",
      "Dl Completed...:   0%|                                                                          | 0/1 [00:18<?, ? url/s]\u001b[A\n",
      "Dl Size...:  72%|██████████████████████████████████████████████████                   | 58/80 [00:18<00:02,  8.13 MiB/s]\u001b[A\n",
      "Dl Completed...:   0%|                                                                          | 0/1 [00:18<?, ? url/s]\u001b[A\n",
      "Dl Size...:  74%|██████████████████████████████████████████████████▉                  | 59/80 [00:18<00:02,  7.27 MiB/s]\u001b[A\n",
      "Dl Completed...:   0%|                                                                          | 0/1 [00:18<?, ? url/s]\u001b[A\n",
      "Dl Size...:  75%|███████████████████████████████████████████████████▊                 | 60/80 [00:18<00:02,  7.82 MiB/s]\u001b[A\n",
      "Dl Completed...:   0%|                                                                          | 0/1 [00:18<?, ? url/s]\u001b[A\n",
      "Dl Size...:  76%|████████████████████████████████████████████████████▌                | 61/80 [00:18<00:02,  8.25 MiB/s]\u001b[A\n",
      "Dl Completed...:   0%|                                                                          | 0/1 [00:19<?, ? url/s]\u001b[A\n",
      "Dl Completed...:   0%|                                                                          | 0/1 [00:19<?, ? url/s]\u001b[A\n",
      "Dl Size...:  79%|██████████████████████████████████████████████████████▎              | 63/80 [00:19<00:02,  7.31 MiB/s]\u001b[A\n",
      "Dl Completed...:   0%|                                                                          | 0/1 [00:19<?, ? url/s]\u001b[A\n",
      "Dl Size...:  80%|███████████████████████████████████████████████████████▏             | 64/80 [00:19<00:01,  8.26 MiB/s]\u001b[A\n",
      "Dl Completed...:   0%|                                                                          | 0/1 [00:19<?, ? url/s]\u001b[A\n",
      "Dl Size...:  81%|████████████████████████████████████████████████████████             | 65/80 [00:19<00:01,  7.52 MiB/s]\u001b[A\n",
      "Dl Completed...:   0%|                                                                          | 0/1 [00:19<?, ? url/s]\u001b[A\n",
      "Dl Size...:  82%|████████████████████████████████████████████████████████▉            | 66/80 [00:19<00:01,  7.97 MiB/s]\u001b[A\n",
      "Dl Completed...:   0%|                                                                          | 0/1 [00:19<?, ? url/s]\u001b[A\n",
      "Dl Size...:  84%|█████████████████████████████████████████████████████████▊           | 67/80 [00:19<00:01,  8.38 MiB/s]\u001b[A\n",
      "Dl Completed...:   0%|                                                                          | 0/1 [00:19<?, ? url/s]\u001b[A\n",
      "Dl Completed...:   0%|                                                                          | 0/1 [00:19<?, ? url/s]\u001b[A\n",
      "Dl Size...:  86%|███████████████████████████████████████████████████████████▌         | 69/80 [00:19<00:01,  7.45 MiB/s]\u001b[A\n",
      "Dl Completed...:   0%|                                                                          | 0/1 [00:19<?, ? url/s]\u001b[A\n",
      "Dl Size...:  88%|████████████████████████████████████████████████████████████▍        | 70/80 [00:19<00:01,  8.32 MiB/s]\u001b[A\n",
      "Dl Completed...:   0%|                                                                          | 0/1 [00:20<?, ? url/s]\u001b[A\n",
      "Dl Completed...:   0%|                                                                          | 0/1 [00:20<?, ? url/s]\u001b[A\n",
      "Dl Size...:  90%|██████████████████████████████████████████████████████████████       | 72/80 [00:20<00:01,  7.52 MiB/s]\u001b[A\n",
      "Dl Completed...:   0%|                                                                          | 0/1 [00:20<?, ? url/s]\u001b[A\n",
      "Dl Completed...:   0%|                                                                          | 0/1 [00:20<?, ? url/s]\u001b[A\n",
      "Dl Size...:  92%|███████████████████████████████████████████████████████████████▊     | 74/80 [00:20<00:00,  8.35 MiB/s]\u001b[A\n",
      "Dl Completed...:   0%|                                                                          | 0/1 [00:20<?, ? url/s]\u001b[A\n",
      "Dl Size...:  94%|████████████████████████████████████████████████████████████████▋    | 75/80 [00:20<00:00,  8.01 MiB/s]\u001b[A\n",
      "Dl Completed...:   0%|                                                                          | 0/1 [00:20<?, ? url/s]\u001b[A\n",
      "Dl Completed...:   0%|                                                                          | 0/1 [00:20<?, ? url/s]\u001b[A\n",
      "Dl Size...:  96%|██████████████████████████████████████████████████████████████████▍  | 77/80 [00:20<00:00,  8.21 MiB/s]\u001b[A\n",
      "Dl Completed...:   0%|                                                                          | 0/1 [00:20<?, ? url/s]\u001b[A\n",
      "Dl Size...:  98%|███████████████████████████████████████████████████████████████████▎ | 78/80 [00:20<00:00,  8.00 MiB/s]\u001b[A\n",
      "Dl Completed...:   0%|                                                                          | 0/1 [00:21<?, ? url/s]\u001b[A\n",
      "Dl Completed...:   0%|                                                                          | 0/1 [00:21<?, ? url/s]\u001b[A\n",
      "Dl Completed...: 100%|██████████████████████████████████████████████████████████████████| 1/1 [00:21<00:00, 21.22s/ url]\u001b[A\n",
      "Dl Size...: 100%|█████████████████████████████████████████████████████████████████████| 80/80 [00:21<00:00,  3.77 MiB/s]\u001b[A\n",
      "Dl Completed...: 100%|██████████████████████████████████████████████████████████████████| 1/1 [00:21<00:00, 21.23s/ url]\n",
      "Generating splits...:   0%|                                                                  | 0/3 [00:00<?, ? splits/s]\n",
      "Generating train examples...:   0%|                                                    | 0/25000 [00:00<?, ? examples/s]\u001b[A\n",
      "Generating train examples...:   0%|                                         | 1/25000 [00:01<10:02:46,  1.45s/ examples]\u001b[A\n",
      "Generating train examples...:   3%|█▎                                       | 832/25000 [00:01<00:32, 747.45 examples/s]\u001b[A\n",
      "Generating train examples...:   7%|██▌                                    | 1673/25000 [00:01<00:14, 1619.09 examples/s]\u001b[A\n",
      "Generating train examples...:  10%|███▉                                   | 2492/25000 [00:01<00:08, 2537.44 examples/s]\u001b[A\n",
      "Generating train examples...:  13%|█████▏                                 | 3323/25000 [00:01<00:06, 3497.84 examples/s]\u001b[A\n",
      "Generating train examples...:  17%|██████▍                                | 4138/25000 [00:01<00:04, 4390.61 examples/s]\u001b[A\n",
      "Generating train examples...:  20%|███████▋                               | 4954/25000 [00:02<00:03, 5201.64 examples/s]\u001b[A\n",
      "Generating train examples...:  23%|█████████                              | 5770/25000 [00:02<00:03, 5896.54 examples/s]\u001b[A\n",
      "Generating train examples...:  26%|██████████▎                            | 6584/25000 [00:02<00:02, 6459.54 examples/s]\u001b[A\n",
      "Generating train examples...:  30%|███████████▌                           | 7404/25000 [00:02<00:02, 6918.76 examples/s]\u001b[A\n",
      "Generating train examples...:  33%|████████████▊                          | 8228/25000 [00:02<00:02, 7278.86 examples/s]\u001b[A\n",
      "Generating train examples...:  36%|██████████████                         | 9048/25000 [00:02<00:02, 7536.84 examples/s]\u001b[A\n",
      "Generating train examples...:  39%|███████████████▍                       | 9863/25000 [00:02<00:01, 7666.58 examples/s]\u001b[A\n",
      "Generating train examples...:  43%|████████████████▏                     | 10678/25000 [00:02<00:01, 7802.63 examples/s]\u001b[A\n",
      "Generating train examples...:  46%|█████████████████▍                    | 11501/25000 [00:02<00:01, 7926.76 examples/s]\u001b[A\n",
      "Generating train examples...:  49%|██████████████████▋                   | 12316/25000 [00:02<00:01, 7903.19 examples/s]\u001b[A\n",
      "Generating train examples...:  53%|███████████████████▉                  | 13137/25000 [00:03<00:01, 7991.99 examples/s]\u001b[A\n",
      "Generating train examples...:  56%|█████████████████████▏                | 13948/25000 [00:03<00:01, 8016.84 examples/s]\u001b[A\n",
      "Generating train examples...:  59%|██████████████████████▍               | 14769/25000 [00:03<00:01, 8073.38 examples/s]\u001b[A\n",
      "Generating train examples...:  62%|███████████████████████▋              | 15591/25000 [00:03<00:01, 8116.49 examples/s]\u001b[A\n",
      "Generating train examples...:  66%|████████████████████████▉             | 16414/25000 [00:03<00:01, 8149.47 examples/s]\u001b[A\n",
      "Generating train examples...:  69%|██████████████████████████▏           | 17233/25000 [00:03<00:00, 8158.16 examples/s]\u001b[A\n",
      "Generating train examples...:  72%|███████████████████████████▍          | 18051/25000 [00:03<00:00, 7969.36 examples/s]\u001b[A\n",
      "Generating train examples...:  75%|████████████████████████████▋         | 18851/25000 [00:03<00:00, 7976.67 examples/s]\u001b[A\n",
      "Generating train examples...:  79%|█████████████████████████████▊        | 19651/25000 [00:03<00:00, 7917.26 examples/s]\u001b[A\n",
      "Generating train examples...:  82%|███████████████████████████████       | 20460/25000 [00:03<00:00, 7966.52 examples/s]\u001b[A\n",
      "Generating train examples...:  85%|████████████████████████████████▎     | 21258/25000 [00:04<00:00, 7832.19 examples/s]\u001b[A\n",
      "Generating train examples...:  88%|█████████████████████████████████▌    | 22043/25000 [00:04<00:00, 7774.05 examples/s]\u001b[A\n",
      "Generating train examples...:  91%|██████████████████████████████████▋   | 22845/25000 [00:04<00:00, 7846.20 examples/s]\u001b[A\n",
      "Generating train examples...:  95%|███████████████████████████████████▉  | 23660/25000 [00:04<00:00, 7934.19 examples/s]\u001b[A\n",
      "Generating train examples...:  98%|█████████████████████████████████████▏| 24454/25000 [00:04<00:00, 7863.43 examples/s]\u001b[A\n",
      "                                                                                                                        \u001b[A\n",
      "Shuffling /home/nick/tensorflow_datasets/imdb_reviews/plain_text/1.0.0.incompleteLV4JZI/imdb_reviews-train.tfrecord*...:\u001b[A\n",
      "Generating splits...:  33%|███████████████████▎                                      | 1/3 [00:06<00:13,  6.99s/ splits]\u001b[A\n",
      "Generating test examples...:   0%|                                                     | 0/25000 [00:00<?, ? examples/s]\u001b[A\n",
      "Generating test examples...:   0%|                                           | 1/25000 [00:00<2:18:50,  3.00 examples/s]\u001b[A\n",
      "Generating test examples...:   3%|█▎                                       | 767/25000 [00:00<00:10, 2300.39 examples/s]\u001b[A\n",
      "Generating test examples...:   7%|██▌                                     | 1638/25000 [00:00<00:05, 4223.24 examples/s]\u001b[A\n",
      "Generating test examples...:  10%|███▉                                    | 2499/25000 [00:00<00:04, 5538.12 examples/s]\u001b[A\n",
      "Generating test examples...:  13%|█████▎                                  | 3298/25000 [00:00<00:03, 6271.62 examples/s]\u001b[A\n",
      "Generating test examples...:  16%|██████▌                                 | 4086/25000 [00:00<00:03, 6753.79 examples/s]\u001b[A\n",
      "Generating test examples...:  20%|███████▉                                | 4942/25000 [00:00<00:02, 7295.29 examples/s]\u001b[A\n",
      "Generating test examples...:  23%|█████████▏                              | 5737/25000 [00:01<00:02, 7469.57 examples/s]\u001b[A\n",
      "Generating test examples...:  26%|██████████▌                             | 6563/25000 [00:01<00:02, 7705.57 examples/s]\u001b[A\n",
      "Generating test examples...:  29%|███████████▊                            | 7366/25000 [00:01<00:02, 7756.84 examples/s]\u001b[A\n",
      "Generating test examples...:  33%|█████████████▏                          | 8214/25000 [00:01<00:02, 7971.56 examples/s]\u001b[A\n",
      "Generating test examples...:  36%|██████████████▍                         | 9028/25000 [00:01<00:03, 4322.44 examples/s]\u001b[A\n",
      "Generating test examples...:  40%|███████████████▊                        | 9878/25000 [00:01<00:02, 5102.66 examples/s]\u001b[A\n",
      "Generating test examples...:  43%|████████████████▋                      | 10721/25000 [00:01<00:02, 5803.53 examples/s]\u001b[A\n",
      "Generating test examples...:  46%|█████████████████▉                     | 11462/25000 [00:02<00:02, 6049.02 examples/s]\u001b[A\n",
      "Generating test examples...:  49%|███████████████████                    | 12193/25000 [00:02<00:02, 6356.77 examples/s]\u001b[A\n",
      "Generating test examples...:  52%|████████████████████▏                  | 12918/25000 [00:02<00:01, 6182.12 examples/s]\u001b[A\n",
      "Generating test examples...:  54%|█████████████████████▏                 | 13599/25000 [00:02<00:01, 6062.94 examples/s]\u001b[A\n",
      "Generating test examples...:  57%|██████████████████████▏                | 14249/25000 [00:02<00:01, 6008.18 examples/s]\u001b[A\n",
      "Generating test examples...:  60%|███████████████████████▍               | 15054/25000 [00:02<00:01, 6549.43 examples/s]\u001b[A\n",
      "Generating test examples...:  63%|████████████████████████▋              | 15849/25000 [00:02<00:01, 6932.73 examples/s]\u001b[A\n",
      "Generating test examples...:  67%|█████████████████████████▉             | 16634/25000 [00:02<00:01, 7187.70 examples/s]\u001b[A\n",
      "Generating test examples...:  70%|███████████████████████████▏           | 17437/25000 [00:02<00:01, 7428.27 examples/s]\u001b[A\n",
      "Generating test examples...:  73%|████████████████████████████▍          | 18225/25000 [00:02<00:00, 7557.43 examples/s]\u001b[A\n",
      "Generating test examples...:  76%|█████████████████████████████▋         | 19038/25000 [00:03<00:00, 7722.94 examples/s]\u001b[A\n",
      "Generating test examples...:  79%|██████████████████████████████▉        | 19845/25000 [00:03<00:00, 7824.75 examples/s]\u001b[A\n",
      "Generating test examples...:  83%|████████████████████████████████▏      | 20658/25000 [00:03<00:00, 7913.77 examples/s]\u001b[A\n",
      "Generating test examples...:  86%|█████████████████████████████████▍     | 21474/25000 [00:03<00:00, 7986.73 examples/s]\u001b[A\n",
      "Generating test examples...:  89%|██████████████████████████████████▊    | 22288/25000 [00:03<00:00, 8032.34 examples/s]\u001b[A\n",
      "Generating test examples...:  92%|████████████████████████████████████   | 23094/25000 [00:03<00:00, 7980.93 examples/s]\u001b[A\n",
      "Generating test examples...:  96%|█████████████████████████████████████▎ | 23894/25000 [00:03<00:00, 7930.13 examples/s]\u001b[A\n",
      "Generating test examples...:  99%|██████████████████████████████████████▌| 24689/25000 [00:03<00:00, 7929.69 examples/s]\u001b[A\n",
      "                                                                                                                        \u001b[A\n",
      "Shuffling /home/nick/tensorflow_datasets/imdb_reviews/plain_text/1.0.0.incompleteLV4JZI/imdb_reviews-test.tfrecord*...: \u001b[A\n",
      "Generating splits...:  67%|██████████████████████████████████████▋                   | 2/3 [00:14<00:07,  7.20s/ splits]\u001b[A\n",
      "Generating unsupervised examples...:   0%|                                             | 0/50000 [00:00<?, ? examples/s]\u001b[A\n",
      "Generating unsupervised examples...:   0%|                                  | 1/50000 [00:02<39:23:43,  2.84s/ examples]\u001b[A\n",
      "Generating unsupervised examples...:   2%|▌                                 | 754/50000 [00:02<02:16, 361.38 examples/s]\u001b[A\n",
      "Generating unsupervised examples...:   3%|█                                | 1562/50000 [00:03<00:56, 856.15 examples/s]\u001b[A\n",
      "Generating unsupervised examples...:   5%|█▍                              | 2334/50000 [00:03<00:33, 1431.95 examples/s]\u001b[A\n",
      "Generating unsupervised examples...:   6%|██                              | 3177/50000 [00:03<00:21, 2180.82 examples/s]\u001b[A\n",
      "Generating unsupervised examples...:   8%|██▌                             | 4031/50000 [00:03<00:15, 3023.61 examples/s]\u001b[A\n",
      "Generating unsupervised examples...:  10%|███                             | 4882/50000 [00:03<00:11, 3897.12 examples/s]\u001b[A\n",
      "Generating unsupervised examples...:  11%|███▋                            | 5740/50000 [00:03<00:09, 4764.16 examples/s]\u001b[A\n",
      "Generating unsupervised examples...:  13%|████▏                           | 6558/50000 [00:03<00:08, 5418.16 examples/s]\u001b[A\n",
      "Generating unsupervised examples...:  15%|████▋                           | 7363/50000 [00:03<00:07, 5972.73 examples/s]\u001b[A\n",
      "Generating unsupervised examples...:  16%|█████▏                          | 8160/50000 [00:03<00:06, 6306.49 examples/s]\u001b[A\n",
      "Generating unsupervised examples...:  18%|█████▋                          | 8935/50000 [00:03<00:06, 6554.62 examples/s]\u001b[A\n",
      "Generating unsupervised examples...:  19%|██████▏                         | 9695/50000 [00:04<00:06, 6405.96 examples/s]\u001b[A\n",
      "Generating unsupervised examples...:  21%|██████▍                        | 10409/50000 [00:04<00:06, 6127.98 examples/s]\u001b[A\n",
      "Generating unsupervised examples...:  22%|██████▊                        | 11074/50000 [00:04<00:06, 6141.12 examples/s]\u001b[A\n",
      "Generating unsupervised examples...:  24%|███████▎                       | 11843/50000 [00:04<00:05, 6550.64 examples/s]\u001b[A\n",
      "Generating unsupervised examples...:  25%|███████▊                       | 12603/50000 [00:04<00:05, 6836.72 examples/s]\u001b[A\n",
      "Generating unsupervised examples...:  27%|████████▎                      | 13440/50000 [00:04<00:05, 7267.13 examples/s]\u001b[A\n",
      "Generating unsupervised examples...:  29%|████████▊                      | 14273/50000 [00:04<00:04, 7568.88 examples/s]\u001b[A\n",
      "Generating unsupervised examples...:  30%|█████████▎                     | 15046/50000 [00:04<00:04, 7590.10 examples/s]\u001b[A\n",
      "Generating unsupervised examples...:  32%|█████████▊                     | 15816/50000 [00:04<00:04, 7578.11 examples/s]\u001b[A\n",
      "Generating unsupervised examples...:  33%|██████████▎                    | 16638/50000 [00:05<00:04, 7766.44 examples/s]\u001b[A\n",
      "Generating unsupervised examples...:  35%|██████████▊                    | 17470/50000 [00:05<00:04, 7928.79 examples/s]\u001b[A\n",
      "Generating unsupervised examples...:  37%|███████████▎                   | 18288/50000 [00:05<00:03, 8001.24 examples/s]\u001b[A\n",
      "Generating unsupervised examples...:  38%|███████████▊                   | 19111/50000 [00:05<00:03, 8068.55 examples/s]\u001b[A\n",
      "Generating unsupervised examples...:  40%|████████████▎                  | 19921/50000 [00:05<00:03, 7928.83 examples/s]\u001b[A\n",
      "Generating unsupervised examples...:  41%|████████████▊                  | 20716/50000 [00:05<00:03, 7830.01 examples/s]\u001b[A\n",
      "Generating unsupervised examples...:  43%|█████████████▎                 | 21544/50000 [00:05<00:03, 7962.01 examples/s]\u001b[A\n",
      "Generating unsupervised examples...:  45%|█████████████▊                 | 22342/50000 [00:05<00:03, 7851.07 examples/s]\u001b[A\n",
      "Generating unsupervised examples...:  46%|██████████████▎                | 23129/50000 [00:05<00:03, 7808.35 examples/s]\u001b[A\n",
      "Generating unsupervised examples...:  48%|██████████████▊                | 23949/50000 [00:05<00:03, 7921.41 examples/s]\u001b[A\n",
      "Generating unsupervised examples...:  50%|███████████████▎               | 24778/50000 [00:06<00:03, 8030.11 examples/s]\u001b[A\n",
      "Generating unsupervised examples...:  51%|███████████████▊               | 25582/50000 [00:06<00:03, 7902.83 examples/s]\u001b[A\n",
      "Generating unsupervised examples...:  53%|████████████████▎              | 26374/50000 [00:06<00:03, 7769.25 examples/s]\u001b[A\n",
      "Generating unsupervised examples...:  54%|████████████████▊              | 27152/50000 [00:06<00:02, 7720.48 examples/s]\u001b[A\n",
      "Generating unsupervised examples...:  56%|█████████████████▎             | 27965/50000 [00:06<00:02, 7838.81 examples/s]\u001b[A\n",
      "Generating unsupervised examples...:  57%|█████████████████▊             | 28750/50000 [00:06<00:02, 7735.83 examples/s]\u001b[A\n",
      "Generating unsupervised examples...:  59%|██████████████████▎            | 29525/50000 [00:06<00:02, 7628.48 examples/s]\u001b[A\n",
      "Generating unsupervised examples...:  61%|██████████████████▊            | 30289/50000 [00:06<00:02, 7606.80 examples/s]\u001b[A\n",
      "Generating unsupervised examples...:  62%|███████████████████▎           | 31051/50000 [00:06<00:02, 7549.73 examples/s]\u001b[A\n",
      "Generating unsupervised examples...:  64%|███████████████████▋           | 31807/50000 [00:06<00:02, 7521.65 examples/s]\u001b[A\n",
      "Generating unsupervised examples...:  65%|████████████████████▏          | 32625/50000 [00:07<00:02, 7713.60 examples/s]\u001b[A\n",
      "Generating unsupervised examples...:  67%|████████████████████▋          | 33456/50000 [00:07<00:02, 7888.76 examples/s]\u001b[A\n",
      "Generating unsupervised examples...:  69%|█████████████████████▏         | 34264/50000 [00:07<00:01, 7945.11 examples/s]\u001b[A\n",
      "Generating unsupervised examples...:  70%|█████████████████████▋         | 35066/50000 [00:07<00:01, 7965.19 examples/s]\u001b[A\n",
      "Generating unsupervised examples...:  72%|██████████████████████▏        | 35886/50000 [00:07<00:01, 8033.06 examples/s]\u001b[A\n",
      "Generating unsupervised examples...:  73%|██████████████████████▊        | 36707/50000 [00:07<00:01, 8085.21 examples/s]\u001b[A\n",
      "Generating unsupervised examples...:  75%|███████████████████████▎       | 37516/50000 [00:07<00:01, 7767.18 examples/s]\u001b[A\n",
      "Generating unsupervised examples...:  77%|███████████████████████▋       | 38305/50000 [00:07<00:01, 7800.60 examples/s]\u001b[A\n",
      "Generating unsupervised examples...:  78%|████████████████████████▏      | 39096/50000 [00:07<00:01, 7831.77 examples/s]\u001b[A\n",
      "Generating unsupervised examples...:  80%|████████████████████████▊      | 39925/50000 [00:07<00:01, 7955.75 examples/s]\u001b[A\n",
      "Generating unsupervised examples...:  81%|█████████████████████████▏     | 40722/50000 [00:08<00:01, 7945.51 examples/s]\u001b[A\n",
      "Generating unsupervised examples...:  83%|█████████████████████████▋     | 41531/50000 [00:08<00:01, 7986.86 examples/s]\u001b[A\n",
      "Generating unsupervised examples...:  85%|██████████████████████████▎    | 42346/50000 [00:08<00:00, 8034.01 examples/s]\u001b[A\n",
      "Generating unsupervised examples...:  86%|██████████████████████████▊    | 43150/50000 [00:08<00:00, 8004.57 examples/s]\u001b[A\n",
      "Generating unsupervised examples...:  88%|███████████████████████████▏   | 43951/50000 [00:08<00:00, 7978.33 examples/s]\u001b[A\n",
      "Generating unsupervised examples...:  90%|███████████████████████████▊   | 44762/50000 [00:08<00:00, 8015.56 examples/s]\u001b[A\n",
      "Generating unsupervised examples...:  91%|████████████████████████████▏  | 45564/50000 [00:08<00:00, 7989.24 examples/s]\u001b[A\n",
      "Generating unsupervised examples...:  93%|████████████████████████████▊  | 46375/50000 [00:08<00:00, 8022.74 examples/s]\u001b[A\n",
      "Generating unsupervised examples...:  94%|█████████████████████████████▎ | 47178/50000 [00:08<00:00, 8014.82 examples/s]\u001b[A\n",
      "Generating unsupervised examples...:  96%|█████████████████████████████▋ | 47980/50000 [00:09<00:00, 7929.10 examples/s]\u001b[A\n",
      "Generating unsupervised examples...:  98%|██████████████████████████████▏| 48774/50000 [00:09<00:00, 7920.44 examples/s]\u001b[A\n",
      "Generating unsupervised examples...:  99%|██████████████████████████████▋| 49591/50000 [00:09<00:00, 7994.37 examples/s]\u001b[A\n",
      "                                                                                                                        \u001b[A\n",
      "Shuffling /home/nick/tensorflow_datasets/imdb_reviews/plain_text/1.0.0.incompleteLV4JZI/imdb_reviews-unsupervised.tfreco\u001b[A\n",
      "Shuffling /home/nick/tensorflow_datasets/imdb_reviews/plain_text/1.0.0.incompleteLV4JZI/imdb_reviews-unsupervised.tfreco\u001b[A\n",
      "2023-12-14 11:59:29.316796: I external/local_xla/xla/stream_executor/cuda/cuda_executor.cc:887] could not open file to read NUMA node: /sys/bus/pci/devices/0000:06:00.0/numa_node\n",
      "Your kernel may have been built without NUMA support.\n",
      "2023-12-14 11:59:29.360539: W tensorflow/core/common_runtime/gpu/gpu_device.cc:2256] Cannot dlopen some GPU libraries. Please make sure the missing libraries mentioned above are installed properly if you would like to use GPU. Follow the guide at https://www.tensorflow.org/install/gpu for how to download and setup the required libraries for your platform.\n",
      "Skipping registering GPU devices...\n"
     ]
    },
    {
     "name": "stdout",
     "output_type": "stream",
     "text": [
      "\u001b[1mDataset imdb_reviews downloaded and prepared to /home/nick/tensorflow_datasets/imdb_reviews/plain_text/1.0.0. Subsequent calls will reuse this data.\u001b[0m\n"
     ]
    }
   ],
   "source": [
    "dataset, info = tfds.load(\"imdb_reviews\", as_supervised=True, with_info=True)"
   ]
  },
  {
   "cell_type": "code",
   "execution_count": 8,
   "metadata": {
    "id": "QClzRpn2uQvS"
   },
   "outputs": [],
   "source": [
    "train_size = info.splits[\"train\"].num_examples\n",
    "test_size = info.splits[\"test\"].num_examples"
   ]
  },
  {
   "cell_type": "code",
   "execution_count": 9,
   "metadata": {
    "id": "cRUo9-GVvyhI"
   },
   "outputs": [],
   "source": [
    "def preprocess(X_batch, y_batch):\n",
    "  X_batch = tf.strings.substr(X_batch, 0, 300)\n",
    "  X_batch = tf.strings.regex_replace(X_batch, rb\"<br\\s*/?>\", b\" \")    # replace all <br>, <br/>\n",
    "  X_batch = tf.strings.regex_replace(X_batch, b\"[^a-zA-Z']\", b\" \")\n",
    "  X_batch = tf.strings.split(X_batch)\n",
    "  return X_batch.to_tensor(default_value=b\"<pad>\"), y_batch"
   ]
  },
  {
   "cell_type": "code",
   "execution_count": 10,
   "metadata": {
    "id": "X4YAOqcxKEM3"
   },
   "outputs": [],
   "source": [
    "from collections import Counter"
   ]
  },
  {
   "cell_type": "code",
   "execution_count": 11,
   "metadata": {
    "id": "cp1jS21OLiUU"
   },
   "outputs": [],
   "source": [
    "vocab = Counter()\n",
    "for X_batch, y_batch in dataset[\"train\"].batch(32).map(preprocess):\n",
    "  for review in X_batch:\n",
    "    vocab.update(list(review.numpy()))"
   ]
  },
  {
   "cell_type": "code",
   "execution_count": 12,
   "metadata": {
    "id": "GbDvx0xrL3Zl"
   },
   "outputs": [],
   "source": [
    "n_words = 10000\n",
    "truncated_vocab = [word for word, times in vocab.most_common()[:n_words]]"
   ]
  },
  {
   "cell_type": "code",
   "execution_count": 13,
   "metadata": {
    "id": "QTYB2N5AY8x5"
   },
   "outputs": [],
   "source": [
    "word_ids = tf.range(len(truncated_vocab), dtype=tf.int64)\n",
    "words = tf.constant(truncated_vocab)\n",
    "table_init = tf.lookup.KeyValueTensorInitializer(words, word_ids)\n",
    "oov_buckets = 1000\n",
    "table = tf.lookup.StaticVocabularyTable(table_init, oov_buckets)"
   ]
  },
  {
   "cell_type": "code",
   "execution_count": 14,
   "metadata": {
    "colab": {
     "base_uri": "https://localhost:8080/"
    },
    "id": "6mKoomvcioPS",
    "outputId": "691bc111-e09c-4720-eb94-b092556cc82d"
   },
   "outputs": [
    {
     "data": {
      "text/plain": [
       "<tf.Tensor: shape=(1, 4), dtype=int64, numpy=array([[   22,    12,    11, 10053]])>"
      ]
     },
     "execution_count": 14,
     "metadata": {},
     "output_type": "execute_result"
    }
   ],
   "source": [
    "table.lookup(tf.constant([b\"This movie was faaaaaantastic\".split()]))"
   ]
  },
  {
   "cell_type": "code",
   "execution_count": 15,
   "metadata": {
    "id": "YiSfBjip9fIS"
   },
   "outputs": [],
   "source": [
    "def encode_words(X_batch, y_batch):\n",
    "  return table.lookup(X_batch), y_batch\n",
    "\n",
    "train_set = dataset[\"train\"].batch(32).map(preprocess)\n",
    "train_set = train_set.map(encode_words).prefetch(1)"
   ]
  },
  {
   "cell_type": "code",
   "execution_count": 16,
   "metadata": {
    "id": "DBXrhuDeBL52"
   },
   "outputs": [],
   "source": [
    "model = keras.models.Sequential([\n",
    "    keras.layers.Embedding(n_words + oov_buckets, 128, mask_zero = True, input_shape=[None]),\n",
    "    keras.layers.GRU(128, return_sequences=True),\n",
    "    keras.layers.GRU(128),\n",
    "    keras.layers.Dense(1, activation=\"sigmoid\")\n",
    "])"
   ]
  },
  {
   "cell_type": "markdown",
   "metadata": {
    "id": "okB_ADkc1zuS"
   },
   "source": [
    "Reusing Pretrained Embedding"
   ]
  },
  {
   "cell_type": "code",
   "execution_count": 17,
   "metadata": {
    "id": "zRE1sMYeNF4X"
   },
   "outputs": [],
   "source": [
    "import tensorflow_hub as hub"
   ]
  },
  {
   "cell_type": "code",
   "execution_count": 18,
   "metadata": {
    "id": "E3TzWr3t2JIG"
   },
   "outputs": [],
   "source": [
    "model = keras.models.Sequential([\n",
    "    hub.KerasLayer(\"https://tfhub.dev/google/tf2-preview/nnlm-en-dim50/1\",\n",
    "                   dtype=tf.string, input_shape=[], output_shape=[50]),\n",
    "    keras.layers.Dense(128, activation=\"relu\"),\n",
    "    keras.layers.Dense(1, activation=\"sigmoid\")\n",
    "])\n",
    "model.compile(loss=\"binary_crossentropy\", optimizer=\"adam\", metrics=[\"accuracy\"])"
   ]
  },
  {
   "cell_type": "code",
   "execution_count": 19,
   "metadata": {
    "id": "iE4APKU-2XU4"
   },
   "outputs": [
    {
     "name": "stdout",
     "output_type": "stream",
     "text": [
      "<_PrefetchDataset element_spec=(TensorSpec(shape=(None,), dtype=tf.string, name=None), TensorSpec(shape=(None,), dtype=tf.int64, name=None))>\n"
     ]
    }
   ],
   "source": [
    "datasets, info = tfds.load(\"imdb_reviews\", as_supervised=True, with_info=True)\n",
    "train_size = info.splits[\"train\"].num_examples\n",
    "batch_size = 32\n",
    "train_set = datasets[\"train\"].batch(batch_size).prefetch(1)\n",
    "print(train_set)"
   ]
  },
  {
   "cell_type": "code",
   "execution_count": null,
   "metadata": {
    "colab": {
     "base_uri": "https://localhost:8080/"
    },
    "id": "WvZ2AUd18BsR",
    "outputId": "5c8435c1-0674-4a74-9f51-e89b8e830007"
   },
   "outputs": [
    {
     "name": "stdout",
     "output_type": "stream",
     "text": [
      "Epoch 1/5\n",
      "782/782 [==============================] - 3s 3ms/step - loss: 0.5485 - accuracy: 0.7240\n",
      "Epoch 2/5\n",
      "782/782 [==============================] - 2s 3ms/step - loss: 0.5138 - accuracy: 0.7474\n",
      "Epoch 3/5\n",
      "782/782 [==============================] - 2s 2ms/step - loss: 0.5081 - accuracy: 0.7525\n",
      "Epoch 4/5\n",
      "777/782 [============================>.] - ETA: 0s - loss: 0.5036 - accuracy: 0.7563"
     ]
    }
   ],
   "source": [
    "history = model.fit(train_set, epochs=5)"
   ]
  },
  {
   "cell_type": "code",
   "execution_count": null,
   "metadata": {
    "id": "lx7hVUfS8KNS"
   },
   "outputs": [],
   "source": []
  }
 ],
 "metadata": {
  "colab": {
   "authorship_tag": "ABX9TyNjsxs6ZLVZhJZfr3GIRtHd",
   "include_colab_link": true,
   "provenance": []
  },
  "kernelspec": {
   "display_name": "Python 3 (ipykernel)",
   "language": "python",
   "name": "python3"
  },
  "language_info": {
   "codemirror_mode": {
    "name": "ipython",
    "version": 3
   },
   "file_extension": ".py",
   "mimetype": "text/x-python",
   "name": "python",
   "nbconvert_exporter": "python",
   "pygments_lexer": "ipython3",
   "version": "3.9.17"
  }
 },
 "nbformat": 4,
 "nbformat_minor": 4
}
