{
 "cells": [
  {
   "cell_type": "code",
   "execution_count": 1,
   "id": "104c8997",
   "metadata": {},
   "outputs": [],
   "source": [
    "from sklearn.datasets import fetch_california_housing\n",
    "from sklearn.model_selection import train_test_split\n",
    "from sklearn.preprocessing import StandardScaler"
   ]
  },
  {
   "cell_type": "code",
   "execution_count": 2,
   "id": "76a073de",
   "metadata": {},
   "outputs": [],
   "source": [
    "import numpy as np\n",
    "import matplotlib.pyplot as plt\n",
    "import tensorflow as tf\n",
    "from tensorflow import keras"
   ]
  },
  {
   "cell_type": "code",
   "execution_count": 3,
   "id": "e50e9d8a",
   "metadata": {},
   "outputs": [
    {
     "data": {
      "text/plain": [
       "['MedInc',\n",
       " 'HouseAge',\n",
       " 'AveRooms',\n",
       " 'AveBedrms',\n",
       " 'Population',\n",
       " 'AveOccup',\n",
       " 'Latitude',\n",
       " 'Longitude']"
      ]
     },
     "execution_count": 3,
     "metadata": {},
     "output_type": "execute_result"
    }
   ],
   "source": [
    "dataset = fetch_california_housing()\n",
    "dataset.feature_names"
   ]
  },
  {
   "cell_type": "code",
   "execution_count": 4,
   "id": "b1aca0a6",
   "metadata": {},
   "outputs": [],
   "source": [
    "X, y = dataset.data, dataset.target"
   ]
  },
  {
   "cell_type": "code",
   "execution_count": 5,
   "id": "b18e5167",
   "metadata": {},
   "outputs": [],
   "source": [
    "X_train_full, X_test, y_train_full, y_test = train_test_split(X, y, random_state=42)\n",
    "X_train, X_val, y_train, y_val = train_test_split(X_train_full,  y_train_full, random_state=42)"
   ]
  },
  {
   "cell_type": "code",
   "execution_count": 6,
   "id": "74ecb036",
   "metadata": {},
   "outputs": [],
   "source": [
    "scaler = StandardScaler()\n",
    "scaler.fit(X_train)\n",
    "X_train = scaler.transform(X_train)\n",
    "X_test = scaler.transform(X_test)\n",
    "X_val = scaler.transform(X_val)"
   ]
  },
  {
   "cell_type": "code",
   "execution_count": 7,
   "id": "f9f23cf9",
   "metadata": {},
   "outputs": [],
   "source": [
    "np.random.seed(42)\n",
    "tf.random.set_seed(42)"
   ]
  },
  {
   "cell_type": "code",
   "execution_count": 8,
   "id": "bd380d17",
   "metadata": {},
   "outputs": [
    {
     "name": "stdout",
     "output_type": "stream",
     "text": [
      "Epoch 1/20\n",
      "363/363 [==============================] - 1s 1ms/step - loss: 1.9325 - val_loss: 1.6780\n",
      "Epoch 2/20\n",
      "363/363 [==============================] - 0s 972us/step - loss: 0.8100 - val_loss: 0.7851\n",
      "Epoch 3/20\n",
      "363/363 [==============================] - 0s 1ms/step - loss: 0.7000 - val_loss: 0.7189\n",
      "Epoch 4/20\n",
      "363/363 [==============================] - 0s 1ms/step - loss: 0.6470 - val_loss: 0.5836\n",
      "Epoch 5/20\n",
      "363/363 [==============================] - 0s 1ms/step - loss: 0.6068 - val_loss: 0.5510\n",
      "Epoch 6/20\n",
      "363/363 [==============================] - 0s 970us/step - loss: 0.5749 - val_loss: 0.5388\n",
      "Epoch 7/20\n",
      "363/363 [==============================] - 0s 974us/step - loss: 0.5504 - val_loss: 0.5284\n",
      "Epoch 8/20\n",
      "363/363 [==============================] - 0s 972us/step - loss: 0.5309 - val_loss: 0.4861\n",
      "Epoch 9/20\n",
      "363/363 [==============================] - 0s 968us/step - loss: 0.5129 - val_loss: 0.4754\n",
      "Epoch 10/20\n",
      "363/363 [==============================] - 0s 993us/step - loss: 0.4991 - val_loss: 0.4718\n",
      "Epoch 11/20\n",
      "363/363 [==============================] - 0s 1ms/step - loss: 0.4881 - val_loss: 0.4857\n",
      "Epoch 12/20\n",
      "363/363 [==============================] - 0s 994us/step - loss: 0.4777 - val_loss: 0.4530\n",
      "Epoch 13/20\n",
      "363/363 [==============================] - 0s 968us/step - loss: 0.4697 - val_loss: 0.4304\n",
      "Epoch 14/20\n",
      "363/363 [==============================] - 0s 975us/step - loss: 0.4625 - val_loss: 0.4237\n",
      "Epoch 15/20\n",
      "363/363 [==============================] - 0s 972us/step - loss: 0.4561 - val_loss: 0.4193\n",
      "Epoch 16/20\n",
      "363/363 [==============================] - 0s 956us/step - loss: 0.4506 - val_loss: 0.4131\n",
      "Epoch 17/20\n",
      "363/363 [==============================] - 0s 960us/step - loss: 0.4462 - val_loss: 0.4223\n",
      "Epoch 18/20\n",
      "363/363 [==============================] - 0s 968us/step - loss: 0.4420 - val_loss: 0.4272\n",
      "Epoch 19/20\n",
      "363/363 [==============================] - 0s 1ms/step - loss: 0.4379 - val_loss: 0.4024\n",
      "Epoch 20/20\n",
      "363/363 [==============================] - 0s 981us/step - loss: 0.4349 - val_loss: 0.4200\n"
     ]
    }
   ],
   "source": [
    "model = keras.models.Sequential([\n",
    "    keras.layers.Dense(30, activation=\"relu\", input_shape=X_train.shape[1:]),\n",
    "    keras.layers.Dense(1)])\n",
    "model.compile(loss=\"mean_squared_error\", optimizer=keras.optimizers.SGD(learning_rate=1e-3))\n",
    "history = model.fit(X_train, y_train, epochs=20, validation_data=(X_val, y_val))"
   ]
  },
  {
   "cell_type": "code",
   "execution_count": 9,
   "id": "c386ac15",
   "metadata": {},
   "outputs": [
    {
     "name": "stdout",
     "output_type": "stream",
     "text": [
      "Model: \"sequential\"\n",
      "_________________________________________________________________\n",
      " Layer (type)                Output Shape              Param #   \n",
      "=================================================================\n",
      " dense (Dense)               (None, 30)                270       \n",
      "                                                                 \n",
      " dense_1 (Dense)             (None, 1)                 31        \n",
      "                                                                 \n",
      "=================================================================\n",
      "Total params: 301\n",
      "Trainable params: 301\n",
      "Non-trainable params: 0\n",
      "_________________________________________________________________\n"
     ]
    }
   ],
   "source": [
    "model.summary()"
   ]
  },
  {
   "cell_type": "code",
   "execution_count": null,
   "id": "cbc58d32",
   "metadata": {},
   "outputs": [],
   "source": []
  }
 ],
 "metadata": {
  "kernelspec": {
   "display_name": "Python 3 (ipykernel)",
   "language": "python",
   "name": "python3"
  },
  "language_info": {
   "codemirror_mode": {
    "name": "ipython",
    "version": 3
   },
   "file_extension": ".py",
   "mimetype": "text/x-python",
   "name": "python",
   "nbconvert_exporter": "python",
   "pygments_lexer": "ipython3",
   "version": "3.8.6"
  }
 },
 "nbformat": 4,
 "nbformat_minor": 5
}
