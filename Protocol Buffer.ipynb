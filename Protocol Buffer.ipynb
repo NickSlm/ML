{
 "cells": [
  {
   "cell_type": "code",
   "execution_count": 1,
   "id": "90ebf084",
   "metadata": {},
   "outputs": [
    {
     "name": "stdout",
     "output_type": "stream",
     "text": [
      "Overwriting Employees.proto\n"
     ]
    }
   ],
   "source": [
    "%%writefile Employees.proto\n",
    "syntax = \"proto3\";\n",
    "message Employee{\n",
    "    int32 id = 1;\n",
    "    string name = 2;\n",
    "    repeated string email = 3;\n",
    "    \n",
    "}\n",
    "\n",
    "message Employees{\n",
    "    repeated Employee employees = 1;\n",
    "}"
   ]
  },
  {
   "cell_type": "code",
   "execution_count": 2,
   "id": "54eb5ca5",
   "metadata": {},
   "outputs": [],
   "source": [
    "!protoc Employees.proto --python_out=. --descriptor_set_out=Employees.desc --include_imports"
   ]
  },
  {
   "cell_type": "code",
   "execution_count": 3,
   "id": "91cb2aec",
   "metadata": {},
   "outputs": [],
   "source": [
    "from Employees_pb2 import Employee, Employees"
   ]
  },
  {
   "cell_type": "code",
   "execution_count": 4,
   "id": "3cbebbcc",
   "metadata": {},
   "outputs": [],
   "source": [
    "john = Employee(id=1, name=\"john\", email=[\"john@gmail.com\"])\n",
    "shlonger = Employee(id=2, name=\"shlonger\", email=[\"shlonger@gmail.com\"])"
   ]
  },
  {
   "cell_type": "code",
   "execution_count": 5,
   "id": "86956498",
   "metadata": {},
   "outputs": [
    {
     "data": {
      "text/plain": [
       "id: 2\n",
       "name: \"shlonger\"\n",
       "email: \"shlonger@gmail.com\""
      ]
     },
     "execution_count": 5,
     "metadata": {},
     "output_type": "execute_result"
    }
   ],
   "source": [
    "employees = Employees()\n",
    "employees.employees.append(john)\n",
    "employees.employees.append(shlonger)"
   ]
  },
  {
   "cell_type": "code",
   "execution_count": 6,
   "id": "8c460ff2",
   "metadata": {},
   "outputs": [
    {
     "data": {
      "text/plain": [
       "b'\\n\\x18\\x08\\x01\\x12\\x04john\\x1a\\x0ejohn@gmail.com\\n \\x08\\x02\\x12\\x08shlonger\\x1a\\x12shlonger@gmail.com'"
      ]
     },
     "execution_count": 6,
     "metadata": {},
     "output_type": "execute_result"
    }
   ],
   "source": [
    "employees.SerializeToString()"
   ]
  },
  {
   "cell_type": "code",
   "execution_count": 8,
   "id": "7eadff03",
   "metadata": {},
   "outputs": [],
   "source": [
    "from tensorflow.train import BytesList, FloatList, Int64List\n",
    "from tensorflow.train import Feature, Features, Example"
   ]
  },
  {
   "cell_type": "code",
   "execution_count": 11,
   "id": "f8fa1793",
   "metadata": {},
   "outputs": [],
   "source": [
    "Person = Example(\n",
    "      features = Features(\n",
    "            feature={\n",
    "                \"name\": Feature(bytes_list=BytesList(value=[b\"John\"])),\n",
    "                \"id\": Feature(int64_list=Int64List(value=[1])),\n",
    "                \"emails\": Feature(bytes_list=BytesList(value=[b\"John@gmail.com\"]))\n",
    "            \n",
    "        }\n",
    "    )\n",
    ")\n",
    "  "
   ]
  },
  {
   "cell_type": "code",
   "execution_count": 14,
   "id": "df1797be",
   "metadata": {},
   "outputs": [],
   "source": [
    "import tensorflow as tf"
   ]
  },
  {
   "cell_type": "code",
   "execution_count": null,
   "id": "ea9b07bf",
   "metadata": {},
   "outputs": [],
   "source": [
    "with tf.io.TFRecordWriter(\"my_contacts.tfrecord\") as f:\n",
    "    f.write(Person.SerializeToString())"
   ]
  }
 ],
 "metadata": {
  "kernelspec": {
   "display_name": "Python 3 (ipykernel)",
   "language": "python",
   "name": "python3"
  },
  "language_info": {
   "codemirror_mode": {
    "name": "ipython",
    "version": 3
   },
   "file_extension": ".py",
   "mimetype": "text/x-python",
   "name": "python",
   "nbconvert_exporter": "python",
   "pygments_lexer": "ipython3",
   "version": "3.8.6"
  }
 },
 "nbformat": 4,
 "nbformat_minor": 5
}
