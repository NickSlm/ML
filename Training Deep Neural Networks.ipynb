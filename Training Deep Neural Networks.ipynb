{
 "cells": [
  {
   "cell_type": "code",
   "execution_count": 1,
   "id": "d1d838e8",
   "metadata": {},
   "outputs": [],
   "source": [
    "import os\n",
    "import numpy as np\n",
    "import pandas as pd\n",
    "import tensorflow as tf\n",
    "import keras"
   ]
  },
  {
   "cell_type": "code",
   "execution_count": 2,
   "id": "42f2da2f",
   "metadata": {},
   "outputs": [],
   "source": [
    "from sklearn.model_selection import train_test_split"
   ]
  },
  {
   "cell_type": "code",
   "execution_count": 3,
   "id": "f6bc2d6b",
   "metadata": {},
   "outputs": [],
   "source": [
    "(X_train_full, y_train_full), (X_test, y_test) = keras.datasets.fashion_mnist.load_data()\n",
    "X_train, y_train = X_train_full[5000:], y_train_full[5000:]\n",
    "X_valid, y_valid = X_train_full[:5000], y_train_full[:5000]\n",
    "X_train = X_train / 255.0\n",
    "X_test = X_test / 255.0\n",
    "X_valid = X_valid / 255.0"
   ]
  },
  {
   "cell_type": "markdown",
   "id": "eb4bb844",
   "metadata": {},
   "source": [
    "# Weight Initialization"
   ]
  },
  {
   "cell_type": "code",
   "execution_count": 4,
   "id": "c4a72e3e",
   "metadata": {
    "scrolled": true
   },
   "outputs": [
    {
     "data": {
      "text/plain": [
       "['Constant',\n",
       " 'ConstantV2',\n",
       " 'GlorotNormal',\n",
       " 'GlorotNormalV2',\n",
       " 'GlorotUniform',\n",
       " 'GlorotUniformV2',\n",
       " 'HeNormal',\n",
       " 'HeNormalV2',\n",
       " 'HeUniform',\n",
       " 'HeUniformV2',\n",
       " 'Identity',\n",
       " 'IdentityV2',\n",
       " 'Initializer',\n",
       " 'LOCAL',\n",
       " 'LecunNormal',\n",
       " 'LecunNormalV2',\n",
       " 'LecunUniform',\n",
       " 'LecunUniformV2',\n",
       " 'Ones',\n",
       " 'OnesV2',\n",
       " 'Orthogonal',\n",
       " 'OrthogonalV2',\n",
       " 'RandomNormal',\n",
       " 'RandomNormalV2',\n",
       " 'RandomUniform',\n",
       " 'RandomUniformV2',\n",
       " 'TruncatedNormal',\n",
       " 'TruncatedNormalV2',\n",
       " 'VarianceScaling',\n",
       " 'VarianceScalingV2',\n",
       " 'Zeros',\n",
       " 'ZerosV2',\n",
       " 'constant',\n",
       " 'deserialize',\n",
       " 'generic_utils',\n",
       " 'get',\n",
       " 'glorot_normal',\n",
       " 'glorot_normalV2',\n",
       " 'glorot_uniform',\n",
       " 'glorot_uniformV2',\n",
       " 'he_normal',\n",
       " 'he_normalV2',\n",
       " 'he_uniform',\n",
       " 'he_uniformV2',\n",
       " 'identity',\n",
       " 'init_ops',\n",
       " 'initializer',\n",
       " 'initializers',\n",
       " 'initializers_v1',\n",
       " 'inspect',\n",
       " 'keras_export',\n",
       " 'lecun_normal',\n",
       " 'lecun_normalV2',\n",
       " 'lecun_uniform',\n",
       " 'lecun_uniformV2',\n",
       " 'legacy_serialization',\n",
       " 'normal',\n",
       " 'one',\n",
       " 'ones',\n",
       " 'orthogonal',\n",
       " 'populate_deserializable_objects',\n",
       " 'random_normal',\n",
       " 'random_uniform',\n",
       " 'serialize',\n",
       " 'tf',\n",
       " 'tf2',\n",
       " 'threading',\n",
       " 'truncated_normal',\n",
       " 'uniform',\n",
       " 'variance_scaling',\n",
       " 'zero',\n",
       " 'zeros']"
      ]
     },
     "execution_count": 4,
     "metadata": {},
     "output_type": "execute_result"
    }
   ],
   "source": [
    "[name for name in dir(keras.initializers) if not name.startswith(\"_\")]"
   ]
  },
  {
   "cell_type": "code",
   "execution_count": 5,
   "id": "6acccdb8",
   "metadata": {},
   "outputs": [],
   "source": [
    "# keras.layers.Dense(10, activation=\"relu\", kernel_initializer=\"he_normal\")"
   ]
  },
  {
   "cell_type": "code",
   "execution_count": 6,
   "id": "18ba75fc",
   "metadata": {},
   "outputs": [],
   "source": [
    "# init = keras.initializers.VarianceScaling(scale=2, mode=\"fan_avg\", distribution=\"uniform\")\n",
    "# keras.layers.Dense(10, activation=\"relu\", kernel_initializer=init)"
   ]
  },
  {
   "cell_type": "code",
   "execution_count": 7,
   "id": "087ccba2",
   "metadata": {},
   "outputs": [],
   "source": [
    "model = keras.models.Sequential([\n",
    "    keras.layers.Flatten(input_shape=[28,28]),\n",
    "    keras.layers.Dense(300, kernel_initializer=\"he_normal\"),\n",
    "    keras.layers.LeakyReLU(),\n",
    "    keras.layers.Dense(100, kernel_initializer=\"he_normal\"),\n",
    "    keras.layers.LeakyReLU(),\n",
    "    keras.layers.Dense(10, activation=\"softmax\")\n",
    "])"
   ]
  },
  {
   "cell_type": "code",
   "execution_count": 8,
   "id": "89828713",
   "metadata": {},
   "outputs": [],
   "source": [
    "model.compile(loss=\"sparse_categorical_crossentropy\",\n",
    "             optimizer=keras.optimizers.SGD(learning_rate=1e-3),\n",
    "             metrics=[\"accuracy\"])"
   ]
  },
  {
   "cell_type": "code",
   "execution_count": 9,
   "id": "7dbad61c",
   "metadata": {},
   "outputs": [
    {
     "name": "stdout",
     "output_type": "stream",
     "text": [
      "Epoch 1/10\n",
      "1719/1719 [==============================] - 4s 2ms/step - loss: 1.2592 - accuracy: 0.6036 - val_loss: 0.8758 - val_accuracy: 0.6936\n",
      "Epoch 2/10\n",
      "1719/1719 [==============================] - 3s 2ms/step - loss: 0.7961 - accuracy: 0.7227 - val_loss: 0.7157 - val_accuracy: 0.7534\n",
      "Epoch 3/10\n",
      "1719/1719 [==============================] - 3s 2ms/step - loss: 0.6865 - accuracy: 0.7644 - val_loss: 0.6406 - val_accuracy: 0.7804\n",
      "Epoch 4/10\n",
      "1719/1719 [==============================] - 3s 2ms/step - loss: 0.6260 - accuracy: 0.7870 - val_loss: 0.5921 - val_accuracy: 0.7988\n",
      "Epoch 5/10\n",
      "1719/1719 [==============================] - 3s 2ms/step - loss: 0.5868 - accuracy: 0.8013 - val_loss: 0.5611 - val_accuracy: 0.8054\n",
      "Epoch 6/10\n",
      "1719/1719 [==============================] - 3s 2ms/step - loss: 0.5587 - accuracy: 0.8100 - val_loss: 0.5374 - val_accuracy: 0.8184\n",
      "Epoch 7/10\n",
      "1719/1719 [==============================] - 3s 2ms/step - loss: 0.5374 - accuracy: 0.8164 - val_loss: 0.5190 - val_accuracy: 0.8266\n",
      "Epoch 8/10\n",
      "1719/1719 [==============================] - 3s 2ms/step - loss: 0.5207 - accuracy: 0.8223 - val_loss: 0.5063 - val_accuracy: 0.8276\n",
      "Epoch 9/10\n",
      "1719/1719 [==============================] - 3s 2ms/step - loss: 0.5071 - accuracy: 0.8256 - val_loss: 0.4938 - val_accuracy: 0.8320\n",
      "Epoch 10/10\n",
      "1719/1719 [==============================] - 3s 2ms/step - loss: 0.4956 - accuracy: 0.8290 - val_loss: 0.4815 - val_accuracy: 0.8396\n"
     ]
    }
   ],
   "source": [
    "history = model.fit(X_train, y_train, epochs=10,\n",
    "                    validation_data=(X_valid, y_valid))\n"
   ]
  },
  {
   "cell_type": "markdown",
   "id": "f32255b5",
   "metadata": {},
   "source": [
    "# Batch Normalization"
   ]
  },
  {
   "cell_type": "code",
   "execution_count": 14,
   "id": "755b4a2d",
   "metadata": {},
   "outputs": [],
   "source": [
    "model = keras.models.Sequential([\n",
    "    keras.layers.Flatten(input_shape=[28,28]),\n",
    "    keras.layers.BatchNormalization(),\n",
    "    keras.layers.Dense(300, kernel_initializer=\"he_normal\"),\n",
    "    keras.layers.BatchNormalization(),\n",
    "    keras.layers.Activation(\"relu\"),\n",
    "    keras.layers.Dense(100, kernel_initializer=\"he_normal\"),\n",
    "    keras.layers.BatchNormalization(),\n",
    "    keras.layers.Activation(\"relu\"),\n",
    "    keras.layers.Dense(10, activation=\"softmax\")\n",
    "])"
   ]
  },
  {
   "cell_type": "code",
   "execution_count": 16,
   "id": "0adf61d8",
   "metadata": {},
   "outputs": [
    {
     "name": "stdout",
     "output_type": "stream",
     "text": [
      "Model: \"sequential_2\"\n",
      "_________________________________________________________________\n",
      " Layer (type)                Output Shape              Param #   \n",
      "=================================================================\n",
      " flatten_2 (Flatten)         (None, 784)               0         \n",
      "                                                                 \n",
      " batch_normalization_3 (Batc  (None, 784)              3136      \n",
      " hNormalization)                                                 \n",
      "                                                                 \n",
      " dense_6 (Dense)             (None, 300)               235500    \n",
      "                                                                 \n",
      " batch_normalization_4 (Batc  (None, 300)              1200      \n",
      " hNormalization)                                                 \n",
      "                                                                 \n",
      " activation_2 (Activation)   (None, 300)               0         \n",
      "                                                                 \n",
      " dense_7 (Dense)             (None, 100)               30100     \n",
      "                                                                 \n",
      " batch_normalization_5 (Batc  (None, 100)              400       \n",
      " hNormalization)                                                 \n",
      "                                                                 \n",
      " activation_3 (Activation)   (None, 100)               0         \n",
      "                                                                 \n",
      " dense_8 (Dense)             (None, 10)                1010      \n",
      "                                                                 \n",
      "=================================================================\n",
      "Total params: 271,346\n",
      "Trainable params: 268,978\n",
      "Non-trainable params: 2,368\n",
      "_________________________________________________________________\n"
     ]
    }
   ],
   "source": [
    "model.summary()"
   ]
  },
  {
   "cell_type": "code",
   "execution_count": 11,
   "id": "88310efb",
   "metadata": {},
   "outputs": [],
   "source": [
    "model.compile(loss=\"sparse_categorical_crossentropy\",\n",
    "             optimizer=keras.optimizers.SGD(learning_rate=1e-3),\n",
    "             metrics=[\"accuracy\"])"
   ]
  },
  {
   "cell_type": "code",
   "execution_count": 12,
   "id": "34e4c800",
   "metadata": {},
   "outputs": [
    {
     "name": "stdout",
     "output_type": "stream",
     "text": [
      "Epoch 1/10\n",
      "1719/1719 [==============================] - 5s 3ms/step - loss: 1.1476 - accuracy: 0.6499 - val_loss: 0.7235 - val_accuracy: 0.7776\n",
      "Epoch 2/10\n",
      "1719/1719 [==============================] - 5s 3ms/step - loss: 0.7201 - accuracy: 0.7729 - val_loss: 0.5890 - val_accuracy: 0.8088\n",
      "Epoch 3/10\n",
      "1719/1719 [==============================] - 5s 3ms/step - loss: 0.6233 - accuracy: 0.7963 - val_loss: 0.5285 - val_accuracy: 0.8240\n",
      "Epoch 4/10\n",
      "1719/1719 [==============================] - 6s 3ms/step - loss: 0.5718 - accuracy: 0.8090 - val_loss: 0.4908 - val_accuracy: 0.8356\n",
      "Epoch 5/10\n",
      "1719/1719 [==============================] - 5s 3ms/step - loss: 0.5358 - accuracy: 0.8179 - val_loss: 0.4641 - val_accuracy: 0.8440\n",
      "Epoch 6/10\n",
      "1719/1719 [==============================] - 5s 3ms/step - loss: 0.5119 - accuracy: 0.8241 - val_loss: 0.4457 - val_accuracy: 0.8496\n",
      "Epoch 7/10\n",
      "1719/1719 [==============================] - 5s 3ms/step - loss: 0.4920 - accuracy: 0.8312 - val_loss: 0.4325 - val_accuracy: 0.8550\n",
      "Epoch 8/10\n",
      "1719/1719 [==============================] - 5s 3ms/step - loss: 0.4745 - accuracy: 0.8371 - val_loss: 0.4196 - val_accuracy: 0.8592\n",
      "Epoch 9/10\n",
      "1719/1719 [==============================] - 5s 3ms/step - loss: 0.4635 - accuracy: 0.8391 - val_loss: 0.4093 - val_accuracy: 0.8632\n",
      "Epoch 10/10\n",
      "1719/1719 [==============================] - 5s 3ms/step - loss: 0.4514 - accuracy: 0.8426 - val_loss: 0.4027 - val_accuracy: 0.8658\n"
     ]
    }
   ],
   "source": [
    "history = model.fit(X_train, y_train, epochs=10,\n",
    "                    validation_data=(X_valid, y_valid))"
   ]
  },
  {
   "cell_type": "markdown",
   "id": "5baa0ea2",
   "metadata": {},
   "source": [
    "# Gradient Clipping"
   ]
  },
  {
   "cell_type": "code",
   "execution_count": 17,
   "id": "9ac8ddfd",
   "metadata": {},
   "outputs": [],
   "source": [
    "optimizer = keras.optimizers.SGD(clipvalue=1.0)\n",
    "# optimizer = keras.optimizers.SGD(clipnorm=1.0)\n",
    "model.compile(loss=\"mse\", optimizer=optimizer)"
   ]
  },
  {
   "cell_type": "markdown",
   "id": "023537cb",
   "metadata": {},
   "source": [
    "# Reusing Pretrained Layers"
   ]
  },
  {
   "cell_type": "code",
   "execution_count": 49,
   "id": "0954008c",
   "metadata": {},
   "outputs": [],
   "source": [
    "def split_dataset(X, y):\n",
    "    y_5_or_6 = (y == 5) | (y == 6)\n",
    "    y_A = y[~y_5_or_6]\n",
    "    y_A[y_A > 6] -= 2\n",
    "    y_B = (y[y_5_or_6] == 6).astype(np.float32)\n",
    "    return ((X[~y_5_or_6], y_A),\n",
    "           (X[y_5_or_6], y_B))\n",
    "\n",
    "(X_train_A, y_train_A), (X_train_B, y_train_B) = split_dataset(X_train, y_train)\n",
    "(X_valid_A, y_valid_A), (X_valid_B, y_valid_B) = split_dataset(X_valid, y_valid)\n",
    "(X_test_A, y_test_A), (X_test_B, y_test_B) = split_dataset(X_test, y_test)\n",
    "X_train_B = X_train_B[:200]\n",
    "y_train_B = y_train_B[:200]"
   ]
  },
  {
   "cell_type": "code",
   "execution_count": 50,
   "id": "e0d62b20",
   "metadata": {},
   "outputs": [
    {
     "data": {
      "text/plain": [
       "array([4, 0, 5, 7, 7, 7, 4, 4, 3, 4, 0, 1, 6, 3, 4, 3, 2, 6, 5, 3, 4, 5,\n",
       "       1, 3, 4, 2, 0, 6, 7, 1], dtype=uint8)"
      ]
     },
     "execution_count": 50,
     "metadata": {},
     "output_type": "execute_result"
    }
   ],
   "source": [
    "y_train_A[:30]"
   ]
  },
  {
   "cell_type": "code",
   "execution_count": 51,
   "id": "768fa2a5",
   "metadata": {},
   "outputs": [
    {
     "data": {
      "text/plain": [
       "array([1., 1., 0., 0., 0., 0., 1., 1., 1., 0., 0., 1., 1., 0., 0., 0., 0.,\n",
       "       0., 0., 1., 1., 0., 0., 1., 1., 0., 1., 1., 1., 1.], dtype=float32)"
      ]
     },
     "execution_count": 51,
     "metadata": {},
     "output_type": "execute_result"
    }
   ],
   "source": [
    "y_train_B[:30]"
   ]
  },
  {
   "cell_type": "code",
   "execution_count": 52,
   "id": "8afe0efa",
   "metadata": {},
   "outputs": [],
   "source": [
    "tf.random.set_seed(42)\n",
    "np.random.seed(42)"
   ]
  },
  {
   "cell_type": "code",
   "execution_count": 53,
   "id": "7d27b1a7",
   "metadata": {},
   "outputs": [],
   "source": [
    "model_A = keras.models.Sequential()\n",
    "model_A.add(keras.layers.Flatten(input_shape=[28,28]))\n",
    "for n_hidden in (300, 100, 50, 50, 50):\n",
    "    model_A.add(keras.layers.Dense(n_hidden, activation=\"selu\"))\n",
    "model_A.add(keras.layers.Dense(8, activation=\"softmax\"))"
   ]
  },
  {
   "cell_type": "code",
   "execution_count": 54,
   "id": "0c6872dd",
   "metadata": {},
   "outputs": [],
   "source": [
    "model_A.compile(loss=\"sparse_categorical_crossentropy\",\n",
    "             optimizer=keras.optimizers.SGD(learning_rate=1e-3),\n",
    "             metrics=[\"accuracy\"])"
   ]
  },
  {
   "cell_type": "code",
   "execution_count": 55,
   "id": "72e43631",
   "metadata": {
    "scrolled": true
   },
   "outputs": [
    {
     "name": "stdout",
     "output_type": "stream",
     "text": [
      "Epoch 1/20\n",
      "1375/1375 [==============================] - 3s 2ms/step - loss: 0.6017 - accuracy: 0.8033 - val_loss: 0.3834 - val_accuracy: 0.8692\n",
      "Epoch 2/20\n",
      "1375/1375 [==============================] - 3s 2ms/step - loss: 0.3497 - accuracy: 0.8793 - val_loss: 0.3205 - val_accuracy: 0.8889\n",
      "Epoch 3/20\n",
      "1375/1375 [==============================] - 3s 2ms/step - loss: 0.3120 - accuracy: 0.8908 - val_loss: 0.2916 - val_accuracy: 0.9016\n",
      "Epoch 4/20\n",
      "1375/1375 [==============================] - 3s 2ms/step - loss: 0.2922 - accuracy: 0.8985 - val_loss: 0.2790 - val_accuracy: 0.9058\n",
      "Epoch 5/20\n",
      "1375/1375 [==============================] - 3s 2ms/step - loss: 0.2791 - accuracy: 0.9039 - val_loss: 0.2688 - val_accuracy: 0.9106\n",
      "Epoch 6/20\n",
      "1375/1375 [==============================] - 3s 2ms/step - loss: 0.2692 - accuracy: 0.9074 - val_loss: 0.2635 - val_accuracy: 0.9118\n",
      "Epoch 7/20\n",
      "1375/1375 [==============================] - 3s 2ms/step - loss: 0.2608 - accuracy: 0.9112 - val_loss: 0.2624 - val_accuracy: 0.9111\n",
      "Epoch 8/20\n",
      "1375/1375 [==============================] - 3s 2ms/step - loss: 0.2540 - accuracy: 0.9129 - val_loss: 0.2534 - val_accuracy: 0.9150\n",
      "Epoch 9/20\n",
      "1375/1375 [==============================] - 3s 2ms/step - loss: 0.2486 - accuracy: 0.9148 - val_loss: 0.2509 - val_accuracy: 0.9141\n",
      "Epoch 10/20\n",
      "1375/1375 [==============================] - 3s 2ms/step - loss: 0.2438 - accuracy: 0.9169 - val_loss: 0.2504 - val_accuracy: 0.9123\n",
      "Epoch 11/20\n",
      "1375/1375 [==============================] - 3s 2ms/step - loss: 0.2394 - accuracy: 0.9179 - val_loss: 0.2464 - val_accuracy: 0.9150\n",
      "Epoch 12/20\n",
      "1375/1375 [==============================] - 3s 2ms/step - loss: 0.2354 - accuracy: 0.9202 - val_loss: 0.2442 - val_accuracy: 0.9138\n",
      "Epoch 13/20\n",
      "1375/1375 [==============================] - 3s 2ms/step - loss: 0.2322 - accuracy: 0.9200 - val_loss: 0.2418 - val_accuracy: 0.9131\n",
      "Epoch 14/20\n",
      "1375/1375 [==============================] - 3s 2ms/step - loss: 0.2287 - accuracy: 0.9223 - val_loss: 0.2388 - val_accuracy: 0.9168\n",
      "Epoch 15/20\n",
      "1375/1375 [==============================] - 3s 2ms/step - loss: 0.2260 - accuracy: 0.9231 - val_loss: 0.2428 - val_accuracy: 0.9145\n",
      "Epoch 16/20\n",
      "1375/1375 [==============================] - 3s 2ms/step - loss: 0.2227 - accuracy: 0.9240 - val_loss: 0.2381 - val_accuracy: 0.9193\n",
      "Epoch 17/20\n",
      "1375/1375 [==============================] - 3s 2ms/step - loss: 0.2204 - accuracy: 0.9248 - val_loss: 0.2395 - val_accuracy: 0.9170\n",
      "Epoch 18/20\n",
      "1375/1375 [==============================] - 3s 2ms/step - loss: 0.2175 - accuracy: 0.9255 - val_loss: 0.2422 - val_accuracy: 0.9121\n",
      "Epoch 19/20\n",
      "1375/1375 [==============================] - 3s 2ms/step - loss: 0.2153 - accuracy: 0.9271 - val_loss: 0.2330 - val_accuracy: 0.9195\n",
      "Epoch 20/20\n",
      "1375/1375 [==============================] - 3s 2ms/step - loss: 0.2130 - accuracy: 0.9273 - val_loss: 0.2315 - val_accuracy: 0.9185\n"
     ]
    }
   ],
   "source": [
    "history = model_A.fit(X_train_A, y_train_A,epochs=20,\n",
    "                     validation_data=(X_valid_A, y_valid_A))"
   ]
  },
  {
   "cell_type": "code",
   "execution_count": 56,
   "id": "443616cc",
   "metadata": {},
   "outputs": [],
   "source": [
    "model_A.save(\"my_model_A.h5\")"
   ]
  },
  {
   "cell_type": "code",
   "execution_count": 63,
   "id": "476cc992",
   "metadata": {},
   "outputs": [],
   "source": [
    "model_B = keras.models.Sequential()\n",
    "model_B.add(keras.layers.Flatten(input_shape=[28, 28]))\n",
    "for n_hidden in (300, 100, 50, 50, 50):\n",
    "    model_B.add(keras.layers.Dense(n_hidden, activation=\"selu\"))\n",
    "model_B.add(keras.layers.Dense(1, activation=\"sigmoid\"))"
   ]
  },
  {
   "cell_type": "code",
   "execution_count": 64,
   "id": "0495376c",
   "metadata": {},
   "outputs": [],
   "source": [
    "model_B.compile(loss=\"binary_crossentropy\",\n",
    "               optimizer=keras.optimizers.SGD(learning_rate=1e-3),\n",
    "               metrics=[\"accuracy\"])"
   ]
  },
  {
   "cell_type": "code",
   "execution_count": 65,
   "id": "b382a3f5",
   "metadata": {
    "scrolled": true
   },
   "outputs": [
    {
     "name": "stdout",
     "output_type": "stream",
     "text": [
      "Epoch 1/20\n",
      "7/7 [==============================] - 1s 33ms/step - loss: 0.6385 - accuracy: 0.6350 - val_loss: 0.5697 - val_accuracy: 0.6775\n",
      "Epoch 2/20\n",
      "7/7 [==============================] - 0s 12ms/step - loss: 0.5168 - accuracy: 0.7600 - val_loss: 0.4747 - val_accuracy: 0.7830\n",
      "Epoch 3/20\n",
      "7/7 [==============================] - 0s 13ms/step - loss: 0.4255 - accuracy: 0.8550 - val_loss: 0.4081 - val_accuracy: 0.8529\n",
      "Epoch 4/20\n",
      "7/7 [==============================] - 0s 13ms/step - loss: 0.3612 - accuracy: 0.9000 - val_loss: 0.3566 - val_accuracy: 0.8945\n",
      "Epoch 5/20\n",
      "7/7 [==============================] - 0s 13ms/step - loss: 0.3114 - accuracy: 0.9350 - val_loss: 0.3149 - val_accuracy: 0.9168\n",
      "Epoch 6/20\n",
      "7/7 [==============================] - 0s 12ms/step - loss: 0.2698 - accuracy: 0.9550 - val_loss: 0.2826 - val_accuracy: 0.9270\n",
      "Epoch 7/20\n",
      "7/7 [==============================] - 0s 13ms/step - loss: 0.2389 - accuracy: 0.9550 - val_loss: 0.2570 - val_accuracy: 0.9422\n",
      "Epoch 8/20\n",
      "7/7 [==============================] - 0s 13ms/step - loss: 0.2135 - accuracy: 0.9650 - val_loss: 0.2360 - val_accuracy: 0.9503\n",
      "Epoch 9/20\n",
      "7/7 [==============================] - 0s 14ms/step - loss: 0.1927 - accuracy: 0.9850 - val_loss: 0.2185 - val_accuracy: 0.9584\n",
      "Epoch 10/20\n",
      "7/7 [==============================] - 0s 14ms/step - loss: 0.1752 - accuracy: 0.9950 - val_loss: 0.2037 - val_accuracy: 0.9635\n",
      "Epoch 11/20\n",
      "7/7 [==============================] - 0s 13ms/step - loss: 0.1608 - accuracy: 0.9950 - val_loss: 0.1901 - val_accuracy: 0.9645\n",
      "Epoch 12/20\n",
      "7/7 [==============================] - 0s 13ms/step - loss: 0.1471 - accuracy: 0.9950 - val_loss: 0.1795 - val_accuracy: 0.9665\n",
      "Epoch 13/20\n",
      "7/7 [==============================] - 0s 14ms/step - loss: 0.1362 - accuracy: 0.9950 - val_loss: 0.1699 - val_accuracy: 0.9675\n",
      "Epoch 14/20\n",
      "7/7 [==============================] - 0s 15ms/step - loss: 0.1266 - accuracy: 0.9950 - val_loss: 0.1618 - val_accuracy: 0.9686\n",
      "Epoch 15/20\n",
      "7/7 [==============================] - 0s 14ms/step - loss: 0.1183 - accuracy: 0.9950 - val_loss: 0.1547 - val_accuracy: 0.9696\n",
      "Epoch 16/20\n",
      "7/7 [==============================] - 0s 14ms/step - loss: 0.1112 - accuracy: 0.9950 - val_loss: 0.1484 - val_accuracy: 0.9706\n",
      "Epoch 17/20\n",
      "7/7 [==============================] - 0s 14ms/step - loss: 0.1046 - accuracy: 0.9950 - val_loss: 0.1428 - val_accuracy: 0.9716\n",
      "Epoch 18/20\n",
      "7/7 [==============================] - 0s 13ms/step - loss: 0.0992 - accuracy: 0.9950 - val_loss: 0.1378 - val_accuracy: 0.9736\n",
      "Epoch 19/20\n",
      "7/7 [==============================] - 0s 13ms/step - loss: 0.0939 - accuracy: 0.9950 - val_loss: 0.1329 - val_accuracy: 0.9736\n",
      "Epoch 20/20\n",
      "7/7 [==============================] - 0s 13ms/step - loss: 0.0887 - accuracy: 0.9950 - val_loss: 0.1290 - val_accuracy: 0.9757\n"
     ]
    }
   ],
   "source": [
    "history = model_B.fit(X_train_B, y_train_B, epochs=20,\n",
    "                     validation_data=(X_valid_B, y_valid_B))"
   ]
  },
  {
   "cell_type": "code",
   "execution_count": 66,
   "id": "a863fd77",
   "metadata": {},
   "outputs": [
    {
     "name": "stdout",
     "output_type": "stream",
     "text": [
      "Model: \"sequential_8\"\n",
      "_________________________________________________________________\n",
      " Layer (type)                Output Shape              Param #   \n",
      "=================================================================\n",
      " flatten_8 (Flatten)         (None, 784)               0         \n",
      "                                                                 \n",
      " dense_39 (Dense)            (None, 300)               235500    \n",
      "                                                                 \n",
      " dense_40 (Dense)            (None, 100)               30100     \n",
      "                                                                 \n",
      " dense_41 (Dense)            (None, 50)                5050      \n",
      "                                                                 \n",
      " dense_42 (Dense)            (None, 50)                2550      \n",
      "                                                                 \n",
      " dense_43 (Dense)            (None, 50)                2550      \n",
      "                                                                 \n",
      " dense_44 (Dense)            (None, 1)                 51        \n",
      "                                                                 \n",
      "=================================================================\n",
      "Total params: 275,801\n",
      "Trainable params: 275,801\n",
      "Non-trainable params: 0\n",
      "_________________________________________________________________\n"
     ]
    }
   ],
   "source": [
    "model_B.summary()"
   ]
  },
  {
   "cell_type": "code",
   "execution_count": 68,
   "id": "d4f54ee4",
   "metadata": {},
   "outputs": [
    {
     "data": {
      "text/plain": [
       "[<keras.layers.reshaping.flatten.Flatten at 0x18c7ccd5160>,\n",
       " <keras.layers.core.dense.Dense at 0x18c7c80cd30>,\n",
       " <keras.layers.core.dense.Dense at 0x18c7ccd51f0>,\n",
       " <keras.layers.core.dense.Dense at 0x18c7c0805e0>,\n",
       " <keras.layers.core.dense.Dense at 0x18c7bfafcd0>,\n",
       " <keras.layers.core.dense.Dense at 0x18c7bff8760>,\n",
       " <keras.layers.core.dense.Dense at 0x18c7c83fa30>]"
      ]
     },
     "execution_count": 68,
     "metadata": {},
     "output_type": "execute_result"
    }
   ],
   "source": [
    "model_A.layers"
   ]
  },
  {
   "cell_type": "code",
   "execution_count": null,
   "id": "7cafc8e6",
   "metadata": {},
   "outputs": [],
   "source": []
  }
 ],
 "metadata": {
  "kernelspec": {
   "display_name": "Python 3 (ipykernel)",
   "language": "python",
   "name": "python3"
  },
  "language_info": {
   "codemirror_mode": {
    "name": "ipython",
    "version": 3
   },
   "file_extension": ".py",
   "mimetype": "text/x-python",
   "name": "python",
   "nbconvert_exporter": "python",
   "pygments_lexer": "ipython3",
   "version": "3.8.6"
  }
 },
 "nbformat": 4,
 "nbformat_minor": 5
}
