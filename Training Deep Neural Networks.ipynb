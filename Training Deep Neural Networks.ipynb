{
 "cells": [
  {
   "cell_type": "code",
   "execution_count": 1,
   "id": "d1d838e8",
   "metadata": {},
   "outputs": [],
   "source": [
    "import os\n",
    "import numpy as np\n",
    "import pandas as pd\n",
    "import tensorflow as tf\n",
    "import keras"
   ]
  },
  {
   "cell_type": "code",
   "execution_count": 2,
   "id": "42f2da2f",
   "metadata": {},
   "outputs": [],
   "source": [
    "from sklearn.model_selection import train_test_split"
   ]
  },
  {
   "cell_type": "code",
   "execution_count": 3,
   "id": "f6bc2d6b",
   "metadata": {},
   "outputs": [],
   "source": [
    "(X_train_full, y_train_full), (X_test, y_test) = keras.datasets.fashion_mnist.load_data()\n",
    "X_train, y_train = X_train_full[5000:], y_train_full[5000:]\n",
    "X_valid, y_valid = X_train_full[:5000], y_train_full[:5000]\n",
    "X_train = X_train / 255.0\n",
    "X_test = X_test / 255.0\n",
    "X_valid = X_valid / 255.0"
   ]
  },
  {
   "cell_type": "markdown",
   "id": "eb4bb844",
   "metadata": {},
   "source": [
    "# Weight Initialization"
   ]
  },
  {
   "cell_type": "code",
   "execution_count": 4,
   "id": "c4a72e3e",
   "metadata": {
    "scrolled": true
   },
   "outputs": [
    {
     "data": {
      "text/plain": [
       "['Constant',\n",
       " 'ConstantV2',\n",
       " 'GlorotNormal',\n",
       " 'GlorotNormalV2',\n",
       " 'GlorotUniform',\n",
       " 'GlorotUniformV2',\n",
       " 'HeNormal',\n",
       " 'HeNormalV2',\n",
       " 'HeUniform',\n",
       " 'HeUniformV2',\n",
       " 'Identity',\n",
       " 'IdentityV2',\n",
       " 'Initializer',\n",
       " 'LOCAL',\n",
       " 'LecunNormal',\n",
       " 'LecunNormalV2',\n",
       " 'LecunUniform',\n",
       " 'LecunUniformV2',\n",
       " 'Ones',\n",
       " 'OnesV2',\n",
       " 'Orthogonal',\n",
       " 'OrthogonalV2',\n",
       " 'RandomNormal',\n",
       " 'RandomNormalV2',\n",
       " 'RandomUniform',\n",
       " 'RandomUniformV2',\n",
       " 'TruncatedNormal',\n",
       " 'TruncatedNormalV2',\n",
       " 'VarianceScaling',\n",
       " 'VarianceScalingV2',\n",
       " 'Zeros',\n",
       " 'ZerosV2',\n",
       " 'constant',\n",
       " 'deserialize',\n",
       " 'generic_utils',\n",
       " 'get',\n",
       " 'glorot_normal',\n",
       " 'glorot_normalV2',\n",
       " 'glorot_uniform',\n",
       " 'glorot_uniformV2',\n",
       " 'he_normal',\n",
       " 'he_normalV2',\n",
       " 'he_uniform',\n",
       " 'he_uniformV2',\n",
       " 'identity',\n",
       " 'init_ops',\n",
       " 'initializer',\n",
       " 'initializers',\n",
       " 'initializers_v1',\n",
       " 'inspect',\n",
       " 'keras_export',\n",
       " 'lecun_normal',\n",
       " 'lecun_normalV2',\n",
       " 'lecun_uniform',\n",
       " 'lecun_uniformV2',\n",
       " 'legacy_serialization',\n",
       " 'normal',\n",
       " 'one',\n",
       " 'ones',\n",
       " 'orthogonal',\n",
       " 'populate_deserializable_objects',\n",
       " 'random_normal',\n",
       " 'random_uniform',\n",
       " 'serialize',\n",
       " 'tf',\n",
       " 'tf2',\n",
       " 'threading',\n",
       " 'truncated_normal',\n",
       " 'uniform',\n",
       " 'variance_scaling',\n",
       " 'zero',\n",
       " 'zeros']"
      ]
     },
     "execution_count": 4,
     "metadata": {},
     "output_type": "execute_result"
    }
   ],
   "source": [
    "[name for name in dir(keras.initializers) if not name.startswith(\"_\")]"
   ]
  },
  {
   "cell_type": "code",
   "execution_count": 5,
   "id": "6acccdb8",
   "metadata": {},
   "outputs": [],
   "source": [
    "# keras.layers.Dense(10, activation=\"relu\", kernel_initializer=\"he_normal\")"
   ]
  },
  {
   "cell_type": "code",
   "execution_count": 6,
   "id": "18ba75fc",
   "metadata": {},
   "outputs": [],
   "source": [
    "# init = keras.initializers.VarianceScaling(scale=2, mode=\"fan_avg\", distribution=\"uniform\")\n",
    "# keras.layers.Dense(10, activation=\"relu\", kernel_initializer=init)"
   ]
  },
  {
   "cell_type": "code",
   "execution_count": 7,
   "id": "087ccba2",
   "metadata": {},
   "outputs": [],
   "source": [
    "model = keras.models.Sequential([\n",
    "    keras.layers.Flatten(input_shape=[28,28]),\n",
    "    keras.layers.Dense(300, kernel_initializer=\"he_normal\"),\n",
    "    keras.layers.LeakyReLU(),\n",
    "    keras.layers.Dense(100, kernel_initializer=\"he_normal\"),\n",
    "    keras.layers.LeakyReLU(),\n",
    "    keras.layers.Dense(10, activation=\"softmax\")\n",
    "])"
   ]
  },
  {
   "cell_type": "code",
   "execution_count": 8,
   "id": "89828713",
   "metadata": {},
   "outputs": [],
   "source": [
    "model.compile(loss=\"sparse_categorical_crossentropy\",\n",
    "             optimizer=keras.optimizers.SGD(learning_rate=1e-3),\n",
    "             metrics=[\"accuracy\"])"
   ]
  },
  {
   "cell_type": "code",
   "execution_count": 9,
   "id": "7dbad61c",
   "metadata": {},
   "outputs": [
    {
     "name": "stdout",
     "output_type": "stream",
     "text": [
      "Epoch 1/10\n",
      "1719/1719 [==============================] - 3s 2ms/step - loss: 1.2782 - accuracy: 0.6084 - val_loss: 0.8637 - val_accuracy: 0.7290\n",
      "Epoch 2/10\n",
      "1719/1719 [==============================] - 3s 2ms/step - loss: 0.7819 - accuracy: 0.7514 - val_loss: 0.6962 - val_accuracy: 0.7790\n",
      "Epoch 3/10\n",
      "1719/1719 [==============================] - 3s 2ms/step - loss: 0.6718 - accuracy: 0.7847 - val_loss: 0.6242 - val_accuracy: 0.7974\n",
      "Epoch 4/10\n",
      "1719/1719 [==============================] - 3s 2ms/step - loss: 0.6136 - accuracy: 0.7998 - val_loss: 0.5833 - val_accuracy: 0.8088\n",
      "Epoch 5/10\n",
      "1719/1719 [==============================] - 4s 2ms/step - loss: 0.5761 - accuracy: 0.8099 - val_loss: 0.5542 - val_accuracy: 0.8154\n",
      "Epoch 6/10\n",
      "1719/1719 [==============================] - 4s 2ms/step - loss: 0.5490 - accuracy: 0.8178 - val_loss: 0.5262 - val_accuracy: 0.8270\n",
      "Epoch 7/10\n",
      "1719/1719 [==============================] - 4s 2ms/step - loss: 0.5289 - accuracy: 0.8217 - val_loss: 0.5107 - val_accuracy: 0.8292\n",
      "Epoch 8/10\n",
      "1719/1719 [==============================] - 4s 2ms/step - loss: 0.5130 - accuracy: 0.8273 - val_loss: 0.4968 - val_accuracy: 0.8342\n",
      "Epoch 9/10\n",
      "1719/1719 [==============================] - 3s 2ms/step - loss: 0.5001 - accuracy: 0.8311 - val_loss: 0.4888 - val_accuracy: 0.8368\n",
      "Epoch 10/10\n",
      "1719/1719 [==============================] - 3s 2ms/step - loss: 0.4889 - accuracy: 0.8342 - val_loss: 0.4785 - val_accuracy: 0.8390\n"
     ]
    }
   ],
   "source": [
    "history = model.fit(X_train, y_train, epochs=10, validation_data=(X_valid, y_valid))\n"
   ]
  },
  {
   "cell_type": "markdown",
   "id": "f32255b5",
   "metadata": {},
   "source": [
    "# Batch Normalization"
   ]
  },
  {
   "cell_type": "code",
   "execution_count": 11,
   "id": "755b4a2d",
   "metadata": {},
   "outputs": [],
   "source": [
    "model = keras.models.Sequential([\n",
    "    keras.layers.Flatten(input_shape=[28,28]),\n",
    "    keras.layers.BatchNormalization(),\n",
    "    keras.layers.Dense(300, kernel_initializer=\"he_normal\"),\n",
    "    keras.layers.BatchNormalization(),\n",
    "    keras.layers.Activation(\"relu\"),\n",
    "    keras.layers.Dense(100, kernel_initializer=\"he_normal\"),\n",
    "    keras.layers.BatchNormalization(),\n",
    "    keras.layers.Activation(\"relu\"),\n",
    "    keras.layers.Dense(10, activation=\"softmax\")\n",
    "])"
   ]
  },
  {
   "cell_type": "code",
   "execution_count": 12,
   "id": "88310efb",
   "metadata": {},
   "outputs": [],
   "source": [
    "model.compile(loss=\"sparse_categorical_crossentropy\",\n",
    "             optimizer=keras.optimizers.SGD(learning_rate=1e-3),\n",
    "             metrics=[\"accuracy\"])"
   ]
  },
  {
   "cell_type": "code",
   "execution_count": 13,
   "id": "34e4c800",
   "metadata": {},
   "outputs": [
    {
     "name": "stdout",
     "output_type": "stream",
     "text": [
      "Epoch 1/10\n",
      "1719/1719 [==============================] - 6s 3ms/step - loss: 1.0722 - accuracy: 0.6696 - val_loss: 0.7056 - val_accuracy: 0.7814\n",
      "Epoch 2/10\n",
      "1719/1719 [==============================] - 5s 3ms/step - loss: 0.7020 - accuracy: 0.7753 - val_loss: 0.5830 - val_accuracy: 0.8116\n",
      "Epoch 3/10\n",
      "1719/1719 [==============================] - 5s 3ms/step - loss: 0.6126 - accuracy: 0.7982 - val_loss: 0.5262 - val_accuracy: 0.8256\n",
      "Epoch 4/10\n",
      "1719/1719 [==============================] - 5s 3ms/step - loss: 0.5625 - accuracy: 0.8108 - val_loss: 0.4910 - val_accuracy: 0.8364\n",
      "Epoch 5/10\n",
      "1719/1719 [==============================] - 5s 3ms/step - loss: 0.5327 - accuracy: 0.8169 - val_loss: 0.4669 - val_accuracy: 0.8430\n",
      "Epoch 6/10\n",
      "1719/1719 [==============================] - 5s 3ms/step - loss: 0.5086 - accuracy: 0.8253 - val_loss: 0.4482 - val_accuracy: 0.8508\n",
      "Epoch 7/10\n",
      "1719/1719 [==============================] - 6s 3ms/step - loss: 0.4889 - accuracy: 0.8304 - val_loss: 0.4346 - val_accuracy: 0.8544\n",
      "Epoch 8/10\n",
      "1719/1719 [==============================] - 6s 3ms/step - loss: 0.4769 - accuracy: 0.8356 - val_loss: 0.4222 - val_accuracy: 0.8562\n",
      "Epoch 9/10\n",
      "1719/1719 [==============================] - 6s 3ms/step - loss: 0.4617 - accuracy: 0.8394 - val_loss: 0.4121 - val_accuracy: 0.8576\n",
      "Epoch 10/10\n",
      "1719/1719 [==============================] - 5s 3ms/step - loss: 0.4513 - accuracy: 0.8433 - val_loss: 0.4054 - val_accuracy: 0.8578\n"
     ]
    }
   ],
   "source": [
    "history = model.fit(X_train, y_train, epochs=10, validation_data=(X_valid, y_valid))"
   ]
  },
  {
   "cell_type": "code",
   "execution_count": null,
   "id": "793a7357",
   "metadata": {},
   "outputs": [],
   "source": []
  },
  {
   "cell_type": "code",
   "execution_count": null,
   "id": "9ac8ddfd",
   "metadata": {},
   "outputs": [],
   "source": []
  }
 ],
 "metadata": {
  "kernelspec": {
   "display_name": "Python 3 (ipykernel)",
   "language": "python",
   "name": "python3"
  },
  "language_info": {
   "codemirror_mode": {
    "name": "ipython",
    "version": 3
   },
   "file_extension": ".py",
   "mimetype": "text/x-python",
   "name": "python",
   "nbconvert_exporter": "python",
   "pygments_lexer": "ipython3",
   "version": "3.8.6"
  }
 },
 "nbformat": 4,
 "nbformat_minor": 5
}
