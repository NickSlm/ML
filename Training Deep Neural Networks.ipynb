{
 "cells": [
  {
   "cell_type": "code",
   "execution_count": 1,
   "id": "d1d838e8",
   "metadata": {},
   "outputs": [],
   "source": [
    "import os\n",
    "import numpy as np\n",
    "import pandas as pd\n",
    "import tensorflow as tf\n",
    "import keras"
   ]
  },
  {
   "cell_type": "code",
   "execution_count": 2,
   "id": "42f2da2f",
   "metadata": {},
   "outputs": [],
   "source": [
    "from sklearn.model_selection import train_test_split"
   ]
  },
  {
   "cell_type": "code",
   "execution_count": 3,
   "id": "f6bc2d6b",
   "metadata": {},
   "outputs": [],
   "source": [
    "(X_train_full, y_train_full), (X_test, y_test) = keras.datasets.fashion_mnist.load_data()\n",
    "X_train, y_train = X_train_full[5000:], y_train_full[5000:]\n",
    "X_valid, y_valid = X_train_full[:5000], y_train_full[:5000]\n",
    "X_train = X_train / 255.0\n",
    "X_test = X_test / 255.0\n",
    "X_valid = X_valid / 255.0"
   ]
  },
  {
   "cell_type": "markdown",
   "id": "eb4bb844",
   "metadata": {},
   "source": [
    "# Weight Initialization"
   ]
  },
  {
   "cell_type": "code",
   "execution_count": 4,
   "id": "c4a72e3e",
   "metadata": {
    "scrolled": true
   },
   "outputs": [
    {
     "data": {
      "text/plain": [
       "['Constant',\n",
       " 'ConstantV2',\n",
       " 'GlorotNormal',\n",
       " 'GlorotNormalV2',\n",
       " 'GlorotUniform',\n",
       " 'GlorotUniformV2',\n",
       " 'HeNormal',\n",
       " 'HeNormalV2',\n",
       " 'HeUniform',\n",
       " 'HeUniformV2',\n",
       " 'Identity',\n",
       " 'IdentityV2',\n",
       " 'Initializer',\n",
       " 'LOCAL',\n",
       " 'LecunNormal',\n",
       " 'LecunNormalV2',\n",
       " 'LecunUniform',\n",
       " 'LecunUniformV2',\n",
       " 'Ones',\n",
       " 'OnesV2',\n",
       " 'Orthogonal',\n",
       " 'OrthogonalV2',\n",
       " 'RandomNormal',\n",
       " 'RandomNormalV2',\n",
       " 'RandomUniform',\n",
       " 'RandomUniformV2',\n",
       " 'TruncatedNormal',\n",
       " 'TruncatedNormalV2',\n",
       " 'VarianceScaling',\n",
       " 'VarianceScalingV2',\n",
       " 'Zeros',\n",
       " 'ZerosV2',\n",
       " 'constant',\n",
       " 'deserialize',\n",
       " 'generic_utils',\n",
       " 'get',\n",
       " 'glorot_normal',\n",
       " 'glorot_normalV2',\n",
       " 'glorot_uniform',\n",
       " 'glorot_uniformV2',\n",
       " 'he_normal',\n",
       " 'he_normalV2',\n",
       " 'he_uniform',\n",
       " 'he_uniformV2',\n",
       " 'identity',\n",
       " 'init_ops',\n",
       " 'initializer',\n",
       " 'initializers',\n",
       " 'initializers_v1',\n",
       " 'inspect',\n",
       " 'keras_export',\n",
       " 'lecun_normal',\n",
       " 'lecun_normalV2',\n",
       " 'lecun_uniform',\n",
       " 'lecun_uniformV2',\n",
       " 'legacy_serialization',\n",
       " 'normal',\n",
       " 'one',\n",
       " 'ones',\n",
       " 'orthogonal',\n",
       " 'populate_deserializable_objects',\n",
       " 'random_normal',\n",
       " 'random_uniform',\n",
       " 'serialize',\n",
       " 'tf',\n",
       " 'tf2',\n",
       " 'threading',\n",
       " 'truncated_normal',\n",
       " 'uniform',\n",
       " 'variance_scaling',\n",
       " 'zero',\n",
       " 'zeros']"
      ]
     },
     "execution_count": 4,
     "metadata": {},
     "output_type": "execute_result"
    }
   ],
   "source": [
    "[name for name in dir(keras.initializers) if not name.startswith(\"_\")]"
   ]
  },
  {
   "cell_type": "code",
   "execution_count": 5,
   "id": "6acccdb8",
   "metadata": {},
   "outputs": [],
   "source": [
    "# keras.layers.Dense(10, activation=\"relu\", kernel_initializer=\"he_normal\")"
   ]
  },
  {
   "cell_type": "code",
   "execution_count": 6,
   "id": "18ba75fc",
   "metadata": {},
   "outputs": [],
   "source": [
    "# init = keras.initializers.VarianceScaling(scale=2, mode=\"fan_avg\", distribution=\"uniform\")\n",
    "# keras.layers.Dense(10, activation=\"relu\", kernel_initializer=init)"
   ]
  },
  {
   "cell_type": "code",
   "execution_count": 7,
   "id": "087ccba2",
   "metadata": {},
   "outputs": [],
   "source": [
    "model = keras.models.Sequential([\n",
    "    keras.layers.Flatten(input_shape=[28,28]),\n",
    "    keras.layers.Dense(300, kernel_initializer=\"he_normal\"),\n",
    "    keras.layers.LeakyReLU(),\n",
    "    keras.layers.Dense(100, kernel_initializer=\"he_normal\"),\n",
    "    keras.layers.LeakyReLU(),\n",
    "    keras.layers.Dense(10, activation=\"softmax\")\n",
    "])"
   ]
  },
  {
   "cell_type": "code",
   "execution_count": 8,
   "id": "89828713",
   "metadata": {},
   "outputs": [],
   "source": [
    "model.compile(loss=\"sparse_categorical_crossentropy\",\n",
    "             optimizer=keras.optimizers.SGD(learning_rate=1e-3),\n",
    "             metrics=[\"accuracy\"])"
   ]
  },
  {
   "cell_type": "code",
   "execution_count": 9,
   "id": "7dbad61c",
   "metadata": {},
   "outputs": [
    {
     "name": "stdout",
     "output_type": "stream",
     "text": [
      "Epoch 1/10\n",
      "1719/1719 [==============================] - 4s 2ms/step - loss: 1.2469 - accuracy: 0.6183 - val_loss: 0.8610 - val_accuracy: 0.7190\n",
      "Epoch 2/10\n",
      "1719/1719 [==============================] - 3s 2ms/step - loss: 0.7831 - accuracy: 0.7425 - val_loss: 0.7047 - val_accuracy: 0.7710\n",
      "Epoch 3/10\n",
      "1719/1719 [==============================] - 3s 2ms/step - loss: 0.6776 - accuracy: 0.7769 - val_loss: 0.6387 - val_accuracy: 0.7932\n",
      "Epoch 4/10\n",
      "1719/1719 [==============================] - 3s 2ms/step - loss: 0.6210 - accuracy: 0.7946 - val_loss: 0.5934 - val_accuracy: 0.8080\n",
      "Epoch 5/10\n",
      "1719/1719 [==============================] - 3s 2ms/step - loss: 0.5844 - accuracy: 0.8073 - val_loss: 0.5629 - val_accuracy: 0.8168\n",
      "Epoch 6/10\n",
      "1719/1719 [==============================] - 3s 2ms/step - loss: 0.5577 - accuracy: 0.8136 - val_loss: 0.5417 - val_accuracy: 0.8200\n",
      "Epoch 7/10\n",
      "1719/1719 [==============================] - 3s 2ms/step - loss: 0.5369 - accuracy: 0.8199 - val_loss: 0.5282 - val_accuracy: 0.8252\n",
      "Epoch 8/10\n",
      "1719/1719 [==============================] - 4s 2ms/step - loss: 0.5210 - accuracy: 0.8247 - val_loss: 0.5082 - val_accuracy: 0.8330\n",
      "Epoch 9/10\n",
      "1719/1719 [==============================] - 3s 2ms/step - loss: 0.5076 - accuracy: 0.8281 - val_loss: 0.4976 - val_accuracy: 0.8338\n",
      "Epoch 10/10\n",
      "1719/1719 [==============================] - 3s 2ms/step - loss: 0.4965 - accuracy: 0.8309 - val_loss: 0.4868 - val_accuracy: 0.8402\n"
     ]
    }
   ],
   "source": [
    "history = model.fit(X_train, y_train, epochs=10,\n",
    "                    validation_data=(X_valid, y_valid))\n"
   ]
  },
  {
   "cell_type": "markdown",
   "id": "f32255b5",
   "metadata": {},
   "source": [
    "# Batch Normalization"
   ]
  },
  {
   "cell_type": "code",
   "execution_count": 10,
   "id": "755b4a2d",
   "metadata": {},
   "outputs": [],
   "source": [
    "model = keras.models.Sequential([\n",
    "    keras.layers.Flatten(input_shape=[28,28]),\n",
    "    keras.layers.BatchNormalization(),\n",
    "    keras.layers.Dense(300, kernel_initializer=\"he_normal\"),\n",
    "    keras.layers.BatchNormalization(),\n",
    "    keras.layers.Activation(\"relu\"),\n",
    "    keras.layers.Dense(100, kernel_initializer=\"he_normal\"),\n",
    "    keras.layers.BatchNormalization(),\n",
    "    keras.layers.Activation(\"relu\"),\n",
    "    keras.layers.Dense(10, activation=\"softmax\")\n",
    "])"
   ]
  },
  {
   "cell_type": "code",
   "execution_count": 11,
   "id": "0adf61d8",
   "metadata": {},
   "outputs": [
    {
     "name": "stdout",
     "output_type": "stream",
     "text": [
      "Model: \"sequential_1\"\n",
      "_________________________________________________________________\n",
      " Layer (type)                Output Shape              Param #   \n",
      "=================================================================\n",
      " flatten_1 (Flatten)         (None, 784)               0         \n",
      "                                                                 \n",
      " batch_normalization (BatchN  (None, 784)              3136      \n",
      " ormalization)                                                   \n",
      "                                                                 \n",
      " dense_3 (Dense)             (None, 300)               235500    \n",
      "                                                                 \n",
      " batch_normalization_1 (Batc  (None, 300)              1200      \n",
      " hNormalization)                                                 \n",
      "                                                                 \n",
      " activation (Activation)     (None, 300)               0         \n",
      "                                                                 \n",
      " dense_4 (Dense)             (None, 100)               30100     \n",
      "                                                                 \n",
      " batch_normalization_2 (Batc  (None, 100)              400       \n",
      " hNormalization)                                                 \n",
      "                                                                 \n",
      " activation_1 (Activation)   (None, 100)               0         \n",
      "                                                                 \n",
      " dense_5 (Dense)             (None, 10)                1010      \n",
      "                                                                 \n",
      "=================================================================\n",
      "Total params: 271,346\n",
      "Trainable params: 268,978\n",
      "Non-trainable params: 2,368\n",
      "_________________________________________________________________\n"
     ]
    }
   ],
   "source": [
    "model.summary()"
   ]
  },
  {
   "cell_type": "code",
   "execution_count": 12,
   "id": "88310efb",
   "metadata": {},
   "outputs": [],
   "source": [
    "model.compile(loss=\"sparse_categorical_crossentropy\",\n",
    "             optimizer=keras.optimizers.SGD(learning_rate=1e-3),\n",
    "             metrics=[\"accuracy\"])"
   ]
  },
  {
   "cell_type": "code",
   "execution_count": 13,
   "id": "34e4c800",
   "metadata": {},
   "outputs": [
    {
     "name": "stdout",
     "output_type": "stream",
     "text": [
      "Epoch 1/10\n",
      "1719/1719 [==============================] - 5s 3ms/step - loss: 1.1386 - accuracy: 0.6504 - val_loss: 0.7560 - val_accuracy: 0.7598\n",
      "Epoch 2/10\n",
      "1719/1719 [==============================] - 5s 3ms/step - loss: 0.7350 - accuracy: 0.7647 - val_loss: 0.6175 - val_accuracy: 0.8038\n",
      "Epoch 3/10\n",
      "1719/1719 [==============================] - 5s 3ms/step - loss: 0.6376 - accuracy: 0.7907 - val_loss: 0.5518 - val_accuracy: 0.8206\n",
      "Epoch 4/10\n",
      "1719/1719 [==============================] - 5s 3ms/step - loss: 0.5857 - accuracy: 0.8051 - val_loss: 0.5123 - val_accuracy: 0.8296\n",
      "Epoch 5/10\n",
      "1719/1719 [==============================] - 5s 3ms/step - loss: 0.5484 - accuracy: 0.8140 - val_loss: 0.4859 - val_accuracy: 0.8338\n",
      "Epoch 6/10\n",
      "1719/1719 [==============================] - 5s 3ms/step - loss: 0.5253 - accuracy: 0.8218 - val_loss: 0.4665 - val_accuracy: 0.8410\n",
      "Epoch 7/10\n",
      "1719/1719 [==============================] - 5s 3ms/step - loss: 0.5064 - accuracy: 0.8269 - val_loss: 0.4500 - val_accuracy: 0.8468\n",
      "Epoch 8/10\n",
      "1719/1719 [==============================] - 5s 3ms/step - loss: 0.4886 - accuracy: 0.8326 - val_loss: 0.4367 - val_accuracy: 0.8506\n",
      "Epoch 9/10\n",
      "1719/1719 [==============================] - 5s 3ms/step - loss: 0.4736 - accuracy: 0.8353 - val_loss: 0.4259 - val_accuracy: 0.8534\n",
      "Epoch 10/10\n",
      "1719/1719 [==============================] - 5s 3ms/step - loss: 0.4625 - accuracy: 0.8388 - val_loss: 0.4162 - val_accuracy: 0.8550\n"
     ]
    }
   ],
   "source": [
    "history = model.fit(X_train, y_train, epochs=10,\n",
    "                    validation_data=(X_valid, y_valid))"
   ]
  },
  {
   "cell_type": "markdown",
   "id": "5baa0ea2",
   "metadata": {},
   "source": [
    "# Gradient Clipping"
   ]
  },
  {
   "cell_type": "code",
   "execution_count": 14,
   "id": "9ac8ddfd",
   "metadata": {},
   "outputs": [],
   "source": [
    "optimizer = keras.optimizers.SGD(clipvalue=1.0)\n",
    "# optimizer = keras.optimizers.SGD(clipnorm=1.0)\n",
    "model.compile(loss=\"mse\", optimizer=optimizer)"
   ]
  },
  {
   "cell_type": "markdown",
   "id": "023537cb",
   "metadata": {},
   "source": [
    "# Reusing Pretrained Layers"
   ]
  },
  {
   "cell_type": "code",
   "execution_count": 15,
   "id": "0954008c",
   "metadata": {},
   "outputs": [],
   "source": [
    "def split_dataset(X, y):\n",
    "    y_5_or_6 = (y == 5) | (y == 6)\n",
    "    y_A = y[~y_5_or_6]\n",
    "    y_A[y_A > 6] -= 2\n",
    "    y_B = (y[y_5_or_6] == 6).astype(np.float32)\n",
    "    return ((X[~y_5_or_6], y_A),\n",
    "           (X[y_5_or_6], y_B))\n",
    "\n",
    "(X_train_A, y_train_A), (X_train_B, y_train_B) = split_dataset(X_train, y_train)\n",
    "(X_valid_A, y_valid_A), (X_valid_B, y_valid_B) = split_dataset(X_valid, y_valid)\n",
    "(X_test_A, y_test_A), (X_test_B, y_test_B) = split_dataset(X_test, y_test)\n",
    "X_train_B = X_train_B[:200]\n",
    "y_train_B = y_train_B[:200]"
   ]
  },
  {
   "cell_type": "code",
   "execution_count": 16,
   "id": "e0d62b20",
   "metadata": {},
   "outputs": [
    {
     "data": {
      "text/plain": [
       "array([4, 0, 5, 7, 7, 7, 4, 4, 3, 4, 0, 1, 6, 3, 4, 3, 2, 6, 5, 3, 4, 5,\n",
       "       1, 3, 4, 2, 0, 6, 7, 1], dtype=uint8)"
      ]
     },
     "execution_count": 16,
     "metadata": {},
     "output_type": "execute_result"
    }
   ],
   "source": [
    "y_train_A[:30]"
   ]
  },
  {
   "cell_type": "code",
   "execution_count": 17,
   "id": "768fa2a5",
   "metadata": {},
   "outputs": [
    {
     "data": {
      "text/plain": [
       "array([1., 1., 0., 0., 0., 0., 1., 1., 1., 0., 0., 1., 1., 0., 0., 0., 0.,\n",
       "       0., 0., 1., 1., 0., 0., 1., 1., 0., 1., 1., 1., 1.], dtype=float32)"
      ]
     },
     "execution_count": 17,
     "metadata": {},
     "output_type": "execute_result"
    }
   ],
   "source": [
    "y_train_B[:30]"
   ]
  },
  {
   "cell_type": "code",
   "execution_count": 18,
   "id": "8afe0efa",
   "metadata": {},
   "outputs": [],
   "source": [
    "tf.random.set_seed(42)\n",
    "np.random.seed(42)"
   ]
  },
  {
   "cell_type": "code",
   "execution_count": 19,
   "id": "7d27b1a7",
   "metadata": {},
   "outputs": [],
   "source": [
    "model_A = keras.models.Sequential()\n",
    "model_A.add(keras.layers.Flatten(input_shape=[28,28]))\n",
    "for n_hidden in (300, 100, 50, 50, 50):\n",
    "    model_A.add(keras.layers.Dense(n_hidden, activation=\"selu\"))\n",
    "model_A.add(keras.layers.Dense(8, activation=\"softmax\"))"
   ]
  },
  {
   "cell_type": "code",
   "execution_count": 20,
   "id": "0c6872dd",
   "metadata": {},
   "outputs": [],
   "source": [
    "model_A.compile(loss=\"sparse_categorical_crossentropy\",\n",
    "             optimizer=keras.optimizers.SGD(learning_rate=1e-3),\n",
    "             metrics=[\"accuracy\"])"
   ]
  },
  {
   "cell_type": "code",
   "execution_count": 21,
   "id": "72e43631",
   "metadata": {
    "scrolled": true
   },
   "outputs": [
    {
     "name": "stdout",
     "output_type": "stream",
     "text": [
      "Epoch 1/20\n",
      "1375/1375 [==============================] - 3s 2ms/step - loss: 0.5524 - accuracy: 0.8242 - val_loss: 0.3585 - val_accuracy: 0.8757\n",
      "Epoch 2/20\n",
      "1375/1375 [==============================] - 3s 2ms/step - loss: 0.3467 - accuracy: 0.8804 - val_loss: 0.3119 - val_accuracy: 0.8919\n",
      "Epoch 3/20\n",
      "1375/1375 [==============================] - 3s 2ms/step - loss: 0.3122 - accuracy: 0.8918 - val_loss: 0.2874 - val_accuracy: 0.9036\n",
      "Epoch 4/20\n",
      "1375/1375 [==============================] - 3s 2ms/step - loss: 0.2933 - accuracy: 0.8985 - val_loss: 0.2749 - val_accuracy: 0.9071\n",
      "Epoch 5/20\n",
      "1375/1375 [==============================] - 3s 2ms/step - loss: 0.2802 - accuracy: 0.9029 - val_loss: 0.2633 - val_accuracy: 0.9121\n",
      "Epoch 6/20\n",
      "1375/1375 [==============================] - 3s 2ms/step - loss: 0.2705 - accuracy: 0.9066 - val_loss: 0.2608 - val_accuracy: 0.9138\n",
      "Epoch 7/20\n",
      "1375/1375 [==============================] - 3s 3ms/step - loss: 0.2624 - accuracy: 0.9087 - val_loss: 0.2553 - val_accuracy: 0.9116\n",
      "Epoch 8/20\n",
      "1375/1375 [==============================] - 3s 3ms/step - loss: 0.2559 - accuracy: 0.9114 - val_loss: 0.2509 - val_accuracy: 0.9183\n",
      "Epoch 9/20\n",
      "1375/1375 [==============================] - 4s 3ms/step - loss: 0.2504 - accuracy: 0.9142 - val_loss: 0.2460 - val_accuracy: 0.9195\n",
      "Epoch 10/20\n",
      "1375/1375 [==============================] - 3s 3ms/step - loss: 0.2458 - accuracy: 0.9162 - val_loss: 0.2443 - val_accuracy: 0.9183\n",
      "Epoch 11/20\n",
      "1375/1375 [==============================] - 3s 2ms/step - loss: 0.2415 - accuracy: 0.9170 - val_loss: 0.2390 - val_accuracy: 0.9215\n",
      "Epoch 12/20\n",
      "1375/1375 [==============================] - 3s 2ms/step - loss: 0.2374 - accuracy: 0.9187 - val_loss: 0.2415 - val_accuracy: 0.9200\n",
      "Epoch 13/20\n",
      "1375/1375 [==============================] - 3s 2ms/step - loss: 0.2340 - accuracy: 0.9201 - val_loss: 0.2346 - val_accuracy: 0.9218\n",
      "Epoch 14/20\n",
      "1375/1375 [==============================] - 3s 2ms/step - loss: 0.2306 - accuracy: 0.9212 - val_loss: 0.2352 - val_accuracy: 0.9220\n",
      "Epoch 15/20\n",
      "1375/1375 [==============================] - 3s 2ms/step - loss: 0.2276 - accuracy: 0.9219 - val_loss: 0.2356 - val_accuracy: 0.9213\n",
      "Epoch 16/20\n",
      "1375/1375 [==============================] - 3s 2ms/step - loss: 0.2244 - accuracy: 0.9231 - val_loss: 0.2314 - val_accuracy: 0.9230\n",
      "Epoch 17/20\n",
      "1375/1375 [==============================] - 3s 2ms/step - loss: 0.2220 - accuracy: 0.9247 - val_loss: 0.2380 - val_accuracy: 0.9223\n",
      "Epoch 18/20\n",
      "1375/1375 [==============================] - 3s 2ms/step - loss: 0.2189 - accuracy: 0.9245 - val_loss: 0.2364 - val_accuracy: 0.9188\n",
      "Epoch 19/20\n",
      "1375/1375 [==============================] - 3s 2ms/step - loss: 0.2167 - accuracy: 0.9252 - val_loss: 0.2283 - val_accuracy: 0.9225\n",
      "Epoch 20/20\n",
      "1375/1375 [==============================] - 3s 2ms/step - loss: 0.2144 - accuracy: 0.9264 - val_loss: 0.2299 - val_accuracy: 0.9215\n"
     ]
    }
   ],
   "source": [
    "history = model_A.fit(X_train_A, y_train_A,epochs=20,\n",
    "                     validation_data=(X_valid_A, y_valid_A))"
   ]
  },
  {
   "cell_type": "code",
   "execution_count": 22,
   "id": "443616cc",
   "metadata": {},
   "outputs": [],
   "source": [
    "model_A.save(\"my_model_A.h5\")"
   ]
  },
  {
   "cell_type": "code",
   "execution_count": 23,
   "id": "476cc992",
   "metadata": {},
   "outputs": [],
   "source": [
    "model_B = keras.models.Sequential()\n",
    "model_B.add(keras.layers.Flatten(input_shape=[28, 28]))\n",
    "for n_hidden in (300, 100, 50, 50, 50):\n",
    "    model_B.add(keras.layers.Dense(n_hidden, activation=\"selu\"))\n",
    "model_B.add(keras.layers.Dense(1, activation=\"sigmoid\"))"
   ]
  },
  {
   "cell_type": "code",
   "execution_count": 24,
   "id": "0495376c",
   "metadata": {},
   "outputs": [],
   "source": [
    "model_B.compile(loss=\"binary_crossentropy\",\n",
    "               optimizer=keras.optimizers.SGD(learning_rate=1e-3),\n",
    "               metrics=[\"accuracy\"])"
   ]
  },
  {
   "cell_type": "code",
   "execution_count": 25,
   "id": "b382a3f5",
   "metadata": {
    "scrolled": true
   },
   "outputs": [
    {
     "name": "stdout",
     "output_type": "stream",
     "text": [
      "Epoch 1/20\n",
      "7/7 [==============================] - 0s 30ms/step - loss: 0.3994 - accuracy: 0.9200 - val_loss: 0.3128 - val_accuracy: 0.9249\n",
      "Epoch 2/20\n",
      "7/7 [==============================] - 0s 12ms/step - loss: 0.3013 - accuracy: 0.9500 - val_loss: 0.2621 - val_accuracy: 0.9513\n",
      "Epoch 3/20\n",
      "7/7 [==============================] - 0s 13ms/step - loss: 0.2512 - accuracy: 0.9750 - val_loss: 0.2277 - val_accuracy: 0.9635\n",
      "Epoch 4/20\n",
      "7/7 [==============================] - 0s 13ms/step - loss: 0.2170 - accuracy: 0.9900 - val_loss: 0.2013 - val_accuracy: 0.9706\n",
      "Epoch 5/20\n",
      "7/7 [==============================] - 0s 13ms/step - loss: 0.1912 - accuracy: 0.9900 - val_loss: 0.1816 - val_accuracy: 0.9716\n",
      "Epoch 6/20\n",
      "7/7 [==============================] - 0s 13ms/step - loss: 0.1701 - accuracy: 0.9900 - val_loss: 0.1653 - val_accuracy: 0.9757\n",
      "Epoch 7/20\n",
      "7/7 [==============================] - 0s 13ms/step - loss: 0.1542 - accuracy: 0.9900 - val_loss: 0.1532 - val_accuracy: 0.9787\n",
      "Epoch 8/20\n",
      "7/7 [==============================] - 0s 13ms/step - loss: 0.1411 - accuracy: 0.9950 - val_loss: 0.1426 - val_accuracy: 0.9817\n",
      "Epoch 9/20\n",
      "7/7 [==============================] - 0s 12ms/step - loss: 0.1300 - accuracy: 0.9950 - val_loss: 0.1331 - val_accuracy: 0.9838\n",
      "Epoch 10/20\n",
      "7/7 [==============================] - 0s 13ms/step - loss: 0.1202 - accuracy: 0.9950 - val_loss: 0.1254 - val_accuracy: 0.9838\n",
      "Epoch 11/20\n",
      "7/7 [==============================] - 0s 13ms/step - loss: 0.1124 - accuracy: 0.9950 - val_loss: 0.1179 - val_accuracy: 0.9858\n",
      "Epoch 12/20\n",
      "7/7 [==============================] - 0s 12ms/step - loss: 0.1050 - accuracy: 0.9950 - val_loss: 0.1119 - val_accuracy: 0.9868\n",
      "Epoch 13/20\n",
      "7/7 [==============================] - 0s 13ms/step - loss: 0.0987 - accuracy: 0.9950 - val_loss: 0.1067 - val_accuracy: 0.9868\n",
      "Epoch 14/20\n",
      "7/7 [==============================] - 0s 13ms/step - loss: 0.0934 - accuracy: 0.9950 - val_loss: 0.1018 - val_accuracy: 0.9878\n",
      "Epoch 15/20\n",
      "7/7 [==============================] - 0s 12ms/step - loss: 0.0885 - accuracy: 0.9950 - val_loss: 0.0974 - val_accuracy: 0.9878\n",
      "Epoch 16/20\n",
      "7/7 [==============================] - 0s 12ms/step - loss: 0.0842 - accuracy: 0.9950 - val_loss: 0.0937 - val_accuracy: 0.9878\n",
      "Epoch 17/20\n",
      "7/7 [==============================] - 0s 12ms/step - loss: 0.0804 - accuracy: 0.9950 - val_loss: 0.0901 - val_accuracy: 0.9878\n",
      "Epoch 18/20\n",
      "7/7 [==============================] - 0s 13ms/step - loss: 0.0770 - accuracy: 0.9950 - val_loss: 0.0870 - val_accuracy: 0.9878\n",
      "Epoch 19/20\n",
      "7/7 [==============================] - 0s 13ms/step - loss: 0.0735 - accuracy: 0.9950 - val_loss: 0.0839 - val_accuracy: 0.9899\n",
      "Epoch 20/20\n",
      "7/7 [==============================] - 0s 12ms/step - loss: 0.0703 - accuracy: 0.9950 - val_loss: 0.0813 - val_accuracy: 0.9909\n"
     ]
    }
   ],
   "source": [
    "history = model_B.fit(X_train_B, y_train_B, epochs=20,\n",
    "                     validation_data=(X_valid_B, y_valid_B))"
   ]
  },
  {
   "cell_type": "code",
   "execution_count": 26,
   "id": "a863fd77",
   "metadata": {},
   "outputs": [
    {
     "name": "stdout",
     "output_type": "stream",
     "text": [
      "Model: \"sequential_3\"\n",
      "_________________________________________________________________\n",
      " Layer (type)                Output Shape              Param #   \n",
      "=================================================================\n",
      " flatten_3 (Flatten)         (None, 784)               0         \n",
      "                                                                 \n",
      " dense_12 (Dense)            (None, 300)               235500    \n",
      "                                                                 \n",
      " dense_13 (Dense)            (None, 100)               30100     \n",
      "                                                                 \n",
      " dense_14 (Dense)            (None, 50)                5050      \n",
      "                                                                 \n",
      " dense_15 (Dense)            (None, 50)                2550      \n",
      "                                                                 \n",
      " dense_16 (Dense)            (None, 50)                2550      \n",
      "                                                                 \n",
      " dense_17 (Dense)            (None, 1)                 51        \n",
      "                                                                 \n",
      "=================================================================\n",
      "Total params: 275,801\n",
      "Trainable params: 275,801\n",
      "Non-trainable params: 0\n",
      "_________________________________________________________________\n"
     ]
    }
   ],
   "source": [
    "model_B.summary()"
   ]
  },
  {
   "cell_type": "code",
   "execution_count": 27,
   "id": "7cafc8e6",
   "metadata": {},
   "outputs": [],
   "source": [
    "model_A = keras.models.load_model(\"my_model_A.h5\")\n",
    "model_A_clone = keras.models.clone_model(model_A)\n",
    "model_A_clone.set_weights(model_A.get_weights())"
   ]
  },
  {
   "cell_type": "code",
   "execution_count": 28,
   "id": "ab6c3b3f",
   "metadata": {},
   "outputs": [],
   "source": [
    "model_B_on_A = keras.models.Sequential(model_A_clone.layers[:-2])\n",
    "model_B_on_A.add(keras.layers.Dense(1, activation=\"sigmoid\"))"
   ]
  },
  {
   "cell_type": "code",
   "execution_count": 29,
   "id": "85d3c263",
   "metadata": {
    "scrolled": true
   },
   "outputs": [
    {
     "name": "stdout",
     "output_type": "stream",
     "text": [
      "Epoch 1/4\n",
      "7/7 [==============================] - 0s 28ms/step - loss: 0.5555 - accuracy: 0.7400 - val_loss: 0.5189 - val_accuracy: 0.7688\n",
      "Epoch 2/4\n",
      "7/7 [==============================] - 0s 12ms/step - loss: 0.5043 - accuracy: 0.7650 - val_loss: 0.4755 - val_accuracy: 0.8266\n",
      "Epoch 3/4\n",
      "7/7 [==============================] - 0s 12ms/step - loss: 0.4606 - accuracy: 0.8550 - val_loss: 0.4391 - val_accuracy: 0.8702\n",
      "Epoch 4/4\n",
      "7/7 [==============================] - 0s 12ms/step - loss: 0.4241 - accuracy: 0.9000 - val_loss: 0.4070 - val_accuracy: 0.8955\n"
     ]
    }
   ],
   "source": [
    "for layer in model_B_on_A.layers[:-2]:\n",
    "    layer.trainable = False\n",
    "    \n",
    "model_B_on_A.compile(loss=\"binary_crossentropy\",\n",
    "                     optimizer=keras.optimizers.SGD(learning_rate=1e-3),\n",
    "                     metrics=[\"accuracy\"]\n",
    "                    )\n",
    "history = model_B_on_A.fit(X_train_B, y_train_B, epochs=4, \n",
    "                          validation_data=(X_valid_B, y_valid_B))"
   ]
  },
  {
   "cell_type": "code",
   "execution_count": 30,
   "id": "9777ac9e",
   "metadata": {
    "scrolled": true
   },
   "outputs": [
    {
     "name": "stdout",
     "output_type": "stream",
     "text": [
      "Epoch 1/16\n",
      "7/7 [==============================] - 0s 29ms/step - loss: 0.3705 - accuracy: 0.9300 - val_loss: 0.3304 - val_accuracy: 0.9503\n",
      "Epoch 2/16\n",
      "7/7 [==============================] - 0s 13ms/step - loss: 0.3012 - accuracy: 0.9500 - val_loss: 0.2809 - val_accuracy: 0.9645\n",
      "Epoch 3/16\n",
      "7/7 [==============================] - 0s 13ms/step - loss: 0.2541 - accuracy: 0.9650 - val_loss: 0.2458 - val_accuracy: 0.9686\n",
      "Epoch 4/16\n",
      "7/7 [==============================] - 0s 12ms/step - loss: 0.2209 - accuracy: 0.9850 - val_loss: 0.2189 - val_accuracy: 0.9706\n",
      "Epoch 5/16\n",
      "7/7 [==============================] - 0s 13ms/step - loss: 0.1952 - accuracy: 0.9950 - val_loss: 0.1983 - val_accuracy: 0.9757\n",
      "Epoch 6/16\n",
      "7/7 [==============================] - 0s 14ms/step - loss: 0.1752 - accuracy: 0.9950 - val_loss: 0.1819 - val_accuracy: 0.9767\n",
      "Epoch 7/16\n",
      "7/7 [==============================] - 0s 13ms/step - loss: 0.1594 - accuracy: 0.9950 - val_loss: 0.1686 - val_accuracy: 0.9787\n",
      "Epoch 8/16\n",
      "7/7 [==============================] - 0s 12ms/step - loss: 0.1461 - accuracy: 1.0000 - val_loss: 0.1573 - val_accuracy: 0.9787\n",
      "Epoch 9/16\n",
      "7/7 [==============================] - 0s 13ms/step - loss: 0.1349 - accuracy: 1.0000 - val_loss: 0.1470 - val_accuracy: 0.9828\n",
      "Epoch 10/16\n",
      "7/7 [==============================] - 0s 13ms/step - loss: 0.1250 - accuracy: 1.0000 - val_loss: 0.1388 - val_accuracy: 0.9838\n",
      "Epoch 11/16\n",
      "7/7 [==============================] - 0s 13ms/step - loss: 0.1168 - accuracy: 1.0000 - val_loss: 0.1312 - val_accuracy: 0.9838\n",
      "Epoch 12/16\n",
      "7/7 [==============================] - 0s 13ms/step - loss: 0.1094 - accuracy: 1.0000 - val_loss: 0.1249 - val_accuracy: 0.9838\n",
      "Epoch 13/16\n",
      "7/7 [==============================] - 0s 13ms/step - loss: 0.1030 - accuracy: 1.0000 - val_loss: 0.1193 - val_accuracy: 0.9838\n",
      "Epoch 14/16\n",
      "7/7 [==============================] - 0s 12ms/step - loss: 0.0975 - accuracy: 1.0000 - val_loss: 0.1142 - val_accuracy: 0.9848\n",
      "Epoch 15/16\n",
      "7/7 [==============================] - 0s 12ms/step - loss: 0.0925 - accuracy: 1.0000 - val_loss: 0.1094 - val_accuracy: 0.9848\n",
      "Epoch 16/16\n",
      "7/7 [==============================] - 0s 12ms/step - loss: 0.0879 - accuracy: 1.0000 - val_loss: 0.1055 - val_accuracy: 0.9848\n"
     ]
    }
   ],
   "source": [
    "for layer in model_B_on_A.layers[:-2]:\n",
    "    layer.trainable = True\n",
    "\n",
    "model_B_on_A.compile(loss=\"binary_crossentropy\",\n",
    "                    optimizer = keras.optimizers.SGD(learning_rate=1e-3),\n",
    "                    metrics=[\"accuracy\"])\n",
    "history = model_B_on_A.fit(X_train_B, y_train_B, epochs=16,\n",
    "                          validation_data=(X_valid_B, y_valid_B))"
   ]
  },
  {
   "cell_type": "code",
   "execution_count": 31,
   "id": "7d6f1e99",
   "metadata": {},
   "outputs": [
    {
     "name": "stdout",
     "output_type": "stream",
     "text": [
      "63/63 [==============================] - 0s 1ms/step - loss: 0.0849 - accuracy: 0.9895\n"
     ]
    },
    {
     "data": {
      "text/plain": [
       "[0.08491554111242294, 0.9894999861717224]"
      ]
     },
     "execution_count": 31,
     "metadata": {},
     "output_type": "execute_result"
    }
   ],
   "source": [
    "model_B.evaluate(X_test_B, y_test_B)"
   ]
  },
  {
   "cell_type": "code",
   "execution_count": 32,
   "id": "f4db3881",
   "metadata": {},
   "outputs": [
    {
     "name": "stdout",
     "output_type": "stream",
     "text": [
      "63/63 [==============================] - 0s 1ms/step - loss: 0.1067 - accuracy: 0.9865\n"
     ]
    },
    {
     "data": {
      "text/plain": [
       "[0.10669814795255661, 0.9865000247955322]"
      ]
     },
     "execution_count": 32,
     "metadata": {},
     "output_type": "execute_result"
    }
   ],
   "source": [
    "model_B_on_A.evaluate(X_test_B, y_test_B)"
   ]
  },
  {
   "cell_type": "code",
   "execution_count": 33,
   "id": "92ea6325",
   "metadata": {},
   "outputs": [
    {
     "data": {
      "text/plain": [
       "1.0000706999292999"
      ]
     },
     "execution_count": 33,
     "metadata": {},
     "output_type": "execute_result"
    }
   ],
   "source": [
    "(100 - 0.983) / (100 - 0.99)"
   ]
  },
  {
   "cell_type": "markdown",
   "id": "34749b87",
   "metadata": {},
   "source": [
    "# Momentum optimization"
   ]
  },
  {
   "cell_type": "code",
   "execution_count": 34,
   "id": "57be22e0",
   "metadata": {},
   "outputs": [],
   "source": [
    "optimizer = keras.optimizers.SGD(learning_rate=1e-3, momentum=0.9)"
   ]
  },
  {
   "cell_type": "markdown",
   "id": "9729e813",
   "metadata": {},
   "source": [
    "# Nesterov Accelerated Gradient (NAG)"
   ]
  },
  {
   "cell_type": "code",
   "execution_count": 35,
   "id": "91c200f1",
   "metadata": {},
   "outputs": [],
   "source": [
    "optimizer = keras.optimizers.SGD(learning_rate=1e-3, momentum=0.9, nesterov=True)"
   ]
  },
  {
   "cell_type": "markdown",
   "id": "913c841f",
   "metadata": {},
   "source": [
    "# AdaGrad\n",
    "* Bad at reaching global optimum in neural network models"
   ]
  },
  {
   "cell_type": "code",
   "execution_count": 36,
   "id": "6e376362",
   "metadata": {},
   "outputs": [],
   "source": [
    "optimizer = keras.optimizers.Adagrad(learning_rate=1e-3)"
   ]
  },
  {
   "cell_type": "markdown",
   "id": "e4e0d833",
   "metadata": {},
   "source": [
    "# RMSProp\n",
    "* Fixes the convergance problem of AdaGrad to global optimum by accumulating\n",
    "  only the gradients from most recent iterations by using exponential decay"
   ]
  },
  {
   "cell_type": "code",
   "execution_count": 37,
   "id": "bd7e5c58",
   "metadata": {},
   "outputs": [],
   "source": [
    "optimizer = keras.optimizers.RMSprop(learning_rate=1e-3)"
   ]
  },
  {
   "cell_type": "markdown",
   "id": "d400468c",
   "metadata": {},
   "source": [
    "# Adam Optimization\n",
    "* Combination of both RMSProp and Momentum optimization "
   ]
  },
  {
   "cell_type": "code",
   "execution_count": 38,
   "id": "6ebff4c5",
   "metadata": {},
   "outputs": [],
   "source": [
    "optimizer = keras.optimizers.Adam(learning_rate=1e-3)"
   ]
  },
  {
   "cell_type": "markdown",
   "id": "92f9ad83",
   "metadata": {},
   "source": [
    "# Learning Rate Scheduling"
   ]
  },
  {
   "cell_type": "code",
   "execution_count": 39,
   "id": "fe0bd1c5",
   "metadata": {},
   "outputs": [],
   "source": [
    "pixel_mean = np.mean(X_train, axis=0, keepdims=True)\n",
    "pixel_std = np.std(X_train, axis=0, keepdims=True)\n",
    "X_train_scaled = (X_train - pixel_mean) / pixel_std\n",
    "X_valid_scaled = (X_valid - pixel_mean) / pixel_std\n",
    "X_test_scaled = (X_test - pixel_mean) / pixel_std"
   ]
  },
  {
   "cell_type": "code",
   "execution_count": 40,
   "id": "7073d53e",
   "metadata": {},
   "outputs": [],
   "source": [
    "optimizer = keras.optimizers.SGD(learning_rate=1e-3, decay=1e-4)"
   ]
  },
  {
   "cell_type": "code",
   "execution_count": 41,
   "id": "7ec8591a",
   "metadata": {
    "scrolled": true
   },
   "outputs": [
    {
     "name": "stdout",
     "output_type": "stream",
     "text": [
      "Epoch 1/25\n",
      "1719/1719 [==============================] - 4s 2ms/step - loss: 0.7180 - accuracy: 0.7526 - val_loss: 0.5423 - val_accuracy: 0.8172\n",
      "Epoch 2/25\n",
      "1719/1719 [==============================] - 3s 2ms/step - loss: 0.5116 - accuracy: 0.8217 - val_loss: 0.4894 - val_accuracy: 0.8344\n",
      "Epoch 3/25\n",
      "1719/1719 [==============================] - 4s 2ms/step - loss: 0.4733 - accuracy: 0.8356 - val_loss: 0.4685 - val_accuracy: 0.8416\n",
      "Epoch 4/25\n",
      "1719/1719 [==============================] - 4s 2ms/step - loss: 0.4524 - accuracy: 0.8423 - val_loss: 0.4521 - val_accuracy: 0.8462\n",
      "Epoch 5/25\n",
      "1719/1719 [==============================] - 4s 2ms/step - loss: 0.4382 - accuracy: 0.8480 - val_loss: 0.4430 - val_accuracy: 0.8504\n",
      "Epoch 6/25\n",
      "1719/1719 [==============================] - 4s 2ms/step - loss: 0.4278 - accuracy: 0.8514 - val_loss: 0.4360 - val_accuracy: 0.8528\n",
      "Epoch 7/25\n",
      "1719/1719 [==============================] - 4s 2ms/step - loss: 0.4196 - accuracy: 0.8546 - val_loss: 0.4290 - val_accuracy: 0.8546\n",
      "Epoch 8/25\n",
      "1719/1719 [==============================] - 4s 2ms/step - loss: 0.4130 - accuracy: 0.8571 - val_loss: 0.4260 - val_accuracy: 0.8542\n",
      "Epoch 9/25\n",
      "1719/1719 [==============================] - 4s 2ms/step - loss: 0.4076 - accuracy: 0.8590 - val_loss: 0.4210 - val_accuracy: 0.8548\n",
      "Epoch 10/25\n",
      "1719/1719 [==============================] - 4s 2ms/step - loss: 0.4027 - accuracy: 0.8607 - val_loss: 0.4177 - val_accuracy: 0.8568\n",
      "Epoch 11/25\n",
      "1719/1719 [==============================] - 4s 2ms/step - loss: 0.3986 - accuracy: 0.8615 - val_loss: 0.4147 - val_accuracy: 0.8596\n",
      "Epoch 12/25\n",
      "1719/1719 [==============================] - 4s 2ms/step - loss: 0.3951 - accuracy: 0.8628 - val_loss: 0.4126 - val_accuracy: 0.8588\n",
      "Epoch 13/25\n",
      "1719/1719 [==============================] - 4s 2ms/step - loss: 0.3919 - accuracy: 0.8643 - val_loss: 0.4097 - val_accuracy: 0.8586\n",
      "Epoch 14/25\n",
      "1719/1719 [==============================] - 4s 2ms/step - loss: 0.3890 - accuracy: 0.8648 - val_loss: 0.4086 - val_accuracy: 0.8596\n",
      "Epoch 15/25\n",
      "1719/1719 [==============================] - 4s 2ms/step - loss: 0.3863 - accuracy: 0.8656 - val_loss: 0.4066 - val_accuracy: 0.8610\n",
      "Epoch 16/25\n",
      "1719/1719 [==============================] - 4s 2ms/step - loss: 0.3839 - accuracy: 0.8664 - val_loss: 0.4049 - val_accuracy: 0.8616\n",
      "Epoch 17/25\n",
      "1719/1719 [==============================] - 4s 2ms/step - loss: 0.3817 - accuracy: 0.8668 - val_loss: 0.4033 - val_accuracy: 0.8606\n",
      "Epoch 18/25\n",
      "1719/1719 [==============================] - 4s 2ms/step - loss: 0.3796 - accuracy: 0.8679 - val_loss: 0.4016 - val_accuracy: 0.8622\n",
      "Epoch 19/25\n",
      "1719/1719 [==============================] - 4s 2ms/step - loss: 0.3778 - accuracy: 0.8681 - val_loss: 0.4004 - val_accuracy: 0.8646\n",
      "Epoch 20/25\n",
      "1719/1719 [==============================] - 4s 2ms/step - loss: 0.3760 - accuracy: 0.8690 - val_loss: 0.3994 - val_accuracy: 0.8624\n",
      "Epoch 21/25\n",
      "1719/1719 [==============================] - 4s 2ms/step - loss: 0.3742 - accuracy: 0.8694 - val_loss: 0.3984 - val_accuracy: 0.8622\n",
      "Epoch 22/25\n",
      "1719/1719 [==============================] - 4s 2ms/step - loss: 0.3726 - accuracy: 0.8699 - val_loss: 0.3971 - val_accuracy: 0.8638\n",
      "Epoch 23/25\n",
      "1719/1719 [==============================] - 4s 2ms/step - loss: 0.3712 - accuracy: 0.8703 - val_loss: 0.3968 - val_accuracy: 0.8642\n",
      "Epoch 24/25\n",
      "1719/1719 [==============================] - 4s 2ms/step - loss: 0.3698 - accuracy: 0.8711 - val_loss: 0.3948 - val_accuracy: 0.8636\n",
      "Epoch 25/25\n",
      "1719/1719 [==============================] - 4s 2ms/step - loss: 0.3685 - accuracy: 0.8714 - val_loss: 0.3945 - val_accuracy: 0.8650\n"
     ]
    }
   ],
   "source": [
    "model = keras.models.Sequential([\n",
    "    keras.layers.Flatten(input_shape=[28,28]),\n",
    "    keras.layers.Dense(300, activation=\"selu\", kernel_initializer=\"lecun_normal\"),\n",
    "    keras.layers.Dense(100, activation=\"selu\", kernel_initializer=\"lecun_normal\"),\n",
    "    keras.layers.Dense(10, activation=\"softmax\")\n",
    "])\n",
    "model.compile(loss=\"sparse_categorical_crossentropy\", optimizer=optimizer,metrics=[\"accuracy\"])\n",
    "\n",
    "history = model.fit(X_train_scaled, y_train, epochs=25,\n",
    "                    validation_data=(X_valid_scaled, y_valid))"
   ]
  },
  {
   "cell_type": "code",
   "execution_count": 42,
   "id": "52dfe09d",
   "metadata": {},
   "outputs": [],
   "source": [
    "import matplotlib.pyplot as plt\n",
    "import math"
   ]
  },
  {
   "cell_type": "code",
   "execution_count": 43,
   "id": "52016ee9",
   "metadata": {},
   "outputs": [
    {
     "name": "stdout",
     "output_type": "stream",
     "text": [
      "[0.001      0.00085332 0.00074416 0.00065976 0.00059256 0.00053778\n",
      " 0.00049227 0.00045386 0.00042102 0.0003926  0.00036778 0.00034591\n",
      " 0.0003265  0.00030915 0.00029355 0.00027945 0.00026664 0.00025495\n",
      " 0.00024425 0.00023441 0.00022533 0.00021692 0.00020913 0.00020187\n",
      " 0.0001951 ]\n"
     ]
    },
    {
     "data": {
      "text/plain": [
       "[<matplotlib.lines.Line2D at 0x17563382b50>]"
      ]
     },
     "execution_count": 43,
     "metadata": {},
     "output_type": "execute_result"
    },
    {
     "data": {
      "image/png": "[encoded data removed]",
      "text/plain": [
       "<Figure size 640x480 with 1 Axes>"
      ]
     },
     "metadata": {},
     "output_type": "display_data"
    }
   ],
   "source": [
    "lr0 = 1e-3\n",
    "decay = 1e-4\n",
    "epochs = np.arange(25)\n",
    "batch_size = 32\n",
    "n_steps_per_epoch = math.ceil(len(X_train) / batch_size)\n",
    "lrs = lr0 / (1 + decay * epochs * n_steps_per_epoch)\n",
    "print(lrs)\n",
    "plt.plot(epochs, lrs, \"o--\")"
   ]
  },
  {
   "cell_type": "markdown",
   "id": "aeb4d16e",
   "metadata": {},
   "source": [
    "# Exponential Scheduling"
   ]
  },
  {
   "cell_type": "markdown",
   "id": "e98ffad0",
   "metadata": {},
   "source": [
    "lr = lr0 * 0.1^(epoch /s)"
   ]
  },
  {
   "cell_type": "code",
   "execution_count": 44,
   "id": "ee073429",
   "metadata": {},
   "outputs": [],
   "source": [
    "def exponential_decay(lr0, s):\n",
    "    def exponential_decay_fn(epoch):\n",
    "        return lr0 * 0.1**(epoch / s)\n",
    "    return exponential_decay_fn\n",
    "\n",
    "exponential_decay_fn = exponential_decay(1e-2, s=20)"
   ]
  },
  {
   "cell_type": "code",
   "execution_count": 45,
   "id": "8ce4525f",
   "metadata": {},
   "outputs": [],
   "source": [
    "model = keras.models.Sequential([\n",
    "    keras.layers.Flatten(input_shape=[28,28]),\n",
    "    keras.layers.Dense(300, activation=\"selu\", kernel_initializer=\"lecun_normal\"),\n",
    "    keras.layers.Dense(100, activation=\"selu\", kernel_initializer=\"lecun_normal\"),\n",
    "    keras.layers.Dense(10, activation=\"softmax\")\n",
    "])\n",
    "model.compile(loss=\"sparse_categorical_crossentropy\", optimizer=\"nadam\", metrics=[\"accuracy\"])\n",
    "n_epochs = 25"
   ]
  },
  {
   "cell_type": "code",
   "execution_count": 46,
   "id": "68255087",
   "metadata": {},
   "outputs": [
    {
     "name": "stdout",
     "output_type": "stream",
     "text": [
      "Epoch 1/25\n",
      "1719/1719 [==============================] - 6s 3ms/step - loss: 0.7506 - accuracy: 0.7779 - val_loss: 0.7136 - val_accuracy: 0.8056 - lr: 0.0100\n",
      "Epoch 2/25\n",
      "1719/1719 [==============================] - 6s 3ms/step - loss: 0.6444 - accuracy: 0.8053 - val_loss: 0.6322 - val_accuracy: 0.7988 - lr: 0.0089\n",
      "Epoch 3/25\n",
      "1719/1719 [==============================] - 6s 3ms/step - loss: 0.6242 - accuracy: 0.8080 - val_loss: 0.6915 - val_accuracy: 0.7588 - lr: 0.0079\n",
      "Epoch 4/25\n",
      "1719/1719 [==============================] - 6s 3ms/step - loss: 0.5637 - accuracy: 0.8295 - val_loss: 0.6943 - val_accuracy: 0.8194 - lr: 0.0071\n",
      "Epoch 5/25\n",
      "1719/1719 [==============================] - 6s 3ms/step - loss: 0.5256 - accuracy: 0.8368 - val_loss: 0.5176 - val_accuracy: 0.8382 - lr: 0.0063\n",
      "Epoch 6/25\n",
      "1719/1719 [==============================] - 6s 3ms/step - loss: 0.4722 - accuracy: 0.8522 - val_loss: 0.5127 - val_accuracy: 0.8528 - lr: 0.0056\n",
      "Epoch 7/25\n",
      "1719/1719 [==============================] - 6s 3ms/step - loss: 0.4285 - accuracy: 0.8637 - val_loss: 0.4956 - val_accuracy: 0.8524 - lr: 0.0050\n",
      "Epoch 8/25\n",
      "1719/1719 [==============================] - 6s 3ms/step - loss: 0.3787 - accuracy: 0.8752 - val_loss: 0.5312 - val_accuracy: 0.8410 - lr: 0.0045\n",
      "Epoch 9/25\n",
      "1719/1719 [==============================] - 6s 3ms/step - loss: 0.3751 - accuracy: 0.8793 - val_loss: 0.5209 - val_accuracy: 0.8462 - lr: 0.0040\n",
      "Epoch 10/25\n",
      "1719/1719 [==============================] - 6s 3ms/step - loss: 0.3394 - accuracy: 0.8865 - val_loss: 0.5320 - val_accuracy: 0.8794 - lr: 0.0035\n",
      "Epoch 11/25\n",
      "1719/1719 [==============================] - 6s 3ms/step - loss: 0.3155 - accuracy: 0.8943 - val_loss: 0.4403 - val_accuracy: 0.8722 - lr: 0.0032\n",
      "Epoch 12/25\n",
      "1719/1719 [==============================] - 6s 3ms/step - loss: 0.2874 - accuracy: 0.9028 - val_loss: 0.4470 - val_accuracy: 0.8802 - lr: 0.0028\n",
      "Epoch 13/25\n",
      "1719/1719 [==============================] - 6s 3ms/step - loss: 0.2739 - accuracy: 0.9069 - val_loss: 0.4534 - val_accuracy: 0.8784 - lr: 0.0025\n",
      "Epoch 14/25\n",
      "1719/1719 [==============================] - 6s 3ms/step - loss: 0.2520 - accuracy: 0.9120 - val_loss: 0.4401 - val_accuracy: 0.8828 - lr: 0.0022\n",
      "Epoch 15/25\n",
      "1719/1719 [==============================] - 6s 3ms/step - loss: 0.2364 - accuracy: 0.9187 - val_loss: 0.4551 - val_accuracy: 0.8780 - lr: 0.0020\n",
      "Epoch 16/25\n",
      "1719/1719 [==============================] - 6s 3ms/step - loss: 0.2192 - accuracy: 0.9244 - val_loss: 0.4527 - val_accuracy: 0.8798 - lr: 0.0018\n",
      "Epoch 17/25\n",
      "1719/1719 [==============================] - 6s 3ms/step - loss: 0.2037 - accuracy: 0.9306 - val_loss: 0.4854 - val_accuracy: 0.8838 - lr: 0.0016\n",
      "Epoch 18/25\n",
      "1719/1719 [==============================] - 6s 3ms/step - loss: 0.1894 - accuracy: 0.9347 - val_loss: 0.4986 - val_accuracy: 0.8892 - lr: 0.0014\n",
      "Epoch 19/25\n",
      "1719/1719 [==============================] - 6s 3ms/step - loss: 0.1768 - accuracy: 0.9395 - val_loss: 0.4811 - val_accuracy: 0.8892 - lr: 0.0013\n",
      "Epoch 20/25\n",
      "1719/1719 [==============================] - 6s 3ms/step - loss: 0.1652 - accuracy: 0.9433 - val_loss: 0.4715 - val_accuracy: 0.8914 - lr: 0.0011\n",
      "Epoch 21/25\n",
      "1719/1719 [==============================] - 6s 3ms/step - loss: 0.1532 - accuracy: 0.9480 - val_loss: 0.5117 - val_accuracy: 0.8870 - lr: 0.0010\n",
      "Epoch 22/25\n",
      "1719/1719 [==============================] - 6s 3ms/step - loss: 0.1432 - accuracy: 0.9521 - val_loss: 0.5246 - val_accuracy: 0.8932 - lr: 8.9125e-04\n",
      "Epoch 23/25\n",
      "1719/1719 [==============================] - 6s 3ms/step - loss: 0.1362 - accuracy: 0.9548 - val_loss: 0.5645 - val_accuracy: 0.8894 - lr: 7.9433e-04\n",
      "Epoch 24/25\n",
      "1719/1719 [==============================] - 6s 3ms/step - loss: 0.1264 - accuracy: 0.9582 - val_loss: 0.5811 - val_accuracy: 0.8880 - lr: 7.0795e-04\n",
      "Epoch 25/25\n",
      "1719/1719 [==============================] - 6s 3ms/step - loss: 0.1198 - accuracy: 0.9615 - val_loss: 0.5827 - val_accuracy: 0.8916 - lr: 6.3096e-04\n"
     ]
    }
   ],
   "source": [
    "lr_scheduler = keras.callbacks.LearningRateScheduler(exponential_decay_fn)\n",
    "history = model.fit(X_train_scaled, y_train, epochs=n_epochs, \n",
    "                   validation_data=(X_valid_scaled, y_valid),\n",
    "                   callbacks=[lr_scheduler])"
   ]
  },
  {
   "cell_type": "code",
   "execution_count": 47,
   "id": "cd82301d",
   "metadata": {
    "scrolled": true
   },
   "outputs": [
    {
     "data": {
      "text/plain": [
       "[<matplotlib.lines.Line2D at 0x17563575460>]"
      ]
     },
     "execution_count": 47,
     "metadata": {},
     "output_type": "execute_result"
    },
    {
     "data": {
      "image/png": "[encoded data removed]",
      "text/plain": [
       "<Figure size 640x480 with 1 Axes>"
      ]
     },
     "metadata": {},
     "output_type": "display_data"
    }
   ],
   "source": [
    "plt.plot(history.epoch, history.history[\"lr\"], \"o--\")"
   ]
  },
  {
   "cell_type": "markdown",
   "id": "eec42e68",
   "metadata": {},
   "source": [
    "# One-Cycle Scheduler"
   ]
  },
  {
   "cell_type": "code",
   "execution_count": 52,
   "id": "ee2ac924",
   "metadata": {},
   "outputs": [],
   "source": [
    "K = keras.backend"
   ]
  },
  {
   "cell_type": "code",
   "execution_count": 53,
   "id": "6a1f60c4",
   "metadata": {},
   "outputs": [],
   "source": [
    "class OneCycleScheduler(keras.callbacks.Callback):\n",
    "    def __init__(self, iterations, max_rate, start_rate=None,\n",
    "                 last_iterations=None, last_rate=None):\n",
    "        self.iterations = iterations\n",
    "        self.max_rate = max_rate\n",
    "        self.start_rate = start_rate or max_rate / 10\n",
    "        self.last_iterations = last_iterations or iterations // 10 + 1\n",
    "        self.half_iteration = (iterations - self.last_iterations) // 2\n",
    "        self.last_rate = last_rate or self.start_rate / 1000\n",
    "        self.iteration = 0\n",
    "    def _interpolate(self, iter1, iter2, rate1, rate2):\n",
    "        return ((rate2 - rate1) * (self.iteration - iter1)\n",
    "                / (iter2 - iter1) + rate1)\n",
    "    def on_batch_begin(self, batch, logs):\n",
    "        if self.iteration < self.half_iteration:\n",
    "            rate = self._interpolate(0, self.half_iteration, self.start_rate, self.max_rate)\n",
    "        elif self.iteration < 2 * self.half_iteration:\n",
    "            rate = self._interpolate(self.half_iteration, 2 * self.half_iteration,\n",
    "                                     self.max_rate, self.start_rate)\n",
    "        else:\n",
    "            rate = self._interpolate(2 * self.half_iteration, self.iterations,\n",
    "                                     self.start_rate, self.last_rate)\n",
    "        self.iteration += 1\n",
    "        K.set_value(self.model.optimizer.learning_rate, rate)"
   ]
  },
  {
   "cell_type": "code",
   "execution_count": 54,
   "id": "cc7633f1",
   "metadata": {},
   "outputs": [
    {
     "name": "stdout",
     "output_type": "stream",
     "text": [
      "Epoch 1/25\n",
      "1719/1719 [==============================] - 6s 4ms/step - loss: 0.5991 - accuracy: 0.8419 - val_loss: 0.6531 - val_accuracy: 0.8592\n",
      "Epoch 2/25\n",
      "1719/1719 [==============================] - 6s 4ms/step - loss: 1.2038 - accuracy: 0.6508 - val_loss: 1.4808 - val_accuracy: 0.5566\n",
      "Epoch 3/25\n",
      "1719/1719 [==============================] - 6s 4ms/step - loss: 1.8794 - accuracy: 0.3800 - val_loss: 1.8856 - val_accuracy: 0.3212\n",
      "Epoch 4/25\n",
      "1719/1719 [==============================] - 6s 4ms/step - loss: 2.0937 - accuracy: 0.2769 - val_loss: 2.2410 - val_accuracy: 0.1726\n",
      "Epoch 5/25\n",
      "1719/1719 [==============================] - 6s 3ms/step - loss: 2.4702 - accuracy: 0.1403 - val_loss: 2.4327 - val_accuracy: 0.0984\n",
      "Epoch 6/25\n",
      "1719/1719 [==============================] - 6s 4ms/step - loss: 2.5366 - accuracy: 0.0999 - val_loss: 2.5472 - val_accuracy: 0.0988\n",
      "Epoch 7/25\n",
      "1719/1719 [==============================] - 6s 4ms/step - loss: 2.5868 - accuracy: 0.1017 - val_loss: 2.6228 - val_accuracy: 0.1012\n",
      "Epoch 8/25\n",
      "1719/1719 [==============================] - 6s 4ms/step - loss: 2.6625 - accuracy: 0.1016 - val_loss: 2.7465 - val_accuracy: 0.1002\n",
      "Epoch 9/25\n",
      "1719/1719 [==============================] - 6s 3ms/step - loss: 2.7488 - accuracy: 0.1002 - val_loss: 3.0946 - val_accuracy: 0.1024\n",
      "Epoch 10/25\n",
      "1719/1719 [==============================] - 6s 3ms/step - loss: 2.8209 - accuracy: 0.1017 - val_loss: 2.9422 - val_accuracy: 0.1012\n",
      "Epoch 11/25\n",
      "1719/1719 [==============================] - 6s 3ms/step - loss: 2.9208 - accuracy: 0.1011 - val_loss: 3.2480 - val_accuracy: 0.0914\n",
      "Epoch 12/25\n",
      "1719/1719 [==============================] - 6s 4ms/step - loss: 2.9580 - accuracy: 0.0999 - val_loss: 2.7238 - val_accuracy: 0.0914\n",
      "Epoch 13/25\n",
      "1719/1719 [==============================] - 6s 4ms/step - loss: 2.8127 - accuracy: 0.0996 - val_loss: 3.4327 - val_accuracy: 0.0976\n",
      "Epoch 14/25\n",
      "1719/1719 [==============================] - 7s 4ms/step - loss: 2.7285 - accuracy: 0.0990 - val_loss: 2.5351 - val_accuracy: 0.0986\n",
      "Epoch 15/25\n",
      "1719/1719 [==============================] - 7s 4ms/step - loss: 2.6654 - accuracy: 0.1005 - val_loss: 2.9458 - val_accuracy: 0.1024\n",
      "Epoch 16/25\n",
      "1719/1719 [==============================] - 6s 4ms/step - loss: 2.5999 - accuracy: 0.1000 - val_loss: 3.0668 - val_accuracy: 0.0914\n",
      "Epoch 17/25\n",
      "1719/1719 [==============================] - 6s 3ms/step - loss: 2.5494 - accuracy: 0.0983 - val_loss: 2.9589 - val_accuracy: 0.0914\n",
      "Epoch 18/25\n",
      "1719/1719 [==============================] - 6s 4ms/step - loss: 2.5025 - accuracy: 0.1001 - val_loss: 2.5164 - val_accuracy: 0.1112\n",
      "Epoch 19/25\n",
      "1719/1719 [==============================] - 7s 4ms/step - loss: 2.4644 - accuracy: 0.0998 - val_loss: 2.5673 - val_accuracy: 0.1012\n",
      "Epoch 20/25\n",
      "1719/1719 [==============================] - 7s 4ms/step - loss: 2.4346 - accuracy: 0.1023 - val_loss: 2.4176 - val_accuracy: 0.0980\n",
      "Epoch 21/25\n",
      "1719/1719 [==============================] - 7s 4ms/step - loss: 2.4117 - accuracy: 0.0999 - val_loss: 2.3839 - val_accuracy: 0.1024\n",
      "Epoch 22/25\n",
      "1719/1719 [==============================] - 6s 4ms/step - loss: 2.3879 - accuracy: 0.1002 - val_loss: 2.3662 - val_accuracy: 0.0976\n",
      "Epoch 23/25\n",
      "1719/1719 [==============================] - 6s 4ms/step - loss: 2.3612 - accuracy: 0.1027 - val_loss: 2.3308 - val_accuracy: 0.1024\n",
      "Epoch 24/25\n",
      "1719/1719 [==============================] - 6s 4ms/step - loss: 2.3436 - accuracy: 0.0995 - val_loss: 2.3137 - val_accuracy: 0.0914\n",
      "Epoch 25/25\n",
      "1719/1719 [==============================] - 6s 4ms/step - loss: 2.3198 - accuracy: 0.0992 - val_loss: 2.3049 - val_accuracy: 0.0980\n"
     ]
    }
   ],
   "source": [
    "n_epochs = 25\n",
    "onecycle = OneCycleScheduler(math.ceil(len(X_train) / batch_size) * n_epochs, max_rate=0.05)\n",
    "history = model.fit(X_train_scaled, y_train, epochs=n_epochs, batch_size=batch_size,\n",
    "                    validation_data=(X_valid_scaled, y_valid),\n",
    "                    callbacks=[onecycle])"
   ]
  },
  {
   "cell_type": "markdown",
   "id": "7552a7c3",
   "metadata": {},
   "source": [
    "# Avoiding Overfitting Through Regularization"
   ]
  },
  {
   "cell_type": "markdown",
   "id": "29a15a3f",
   "metadata": {},
   "source": [
    "# ℓ1 and ℓ2 regularization"
   ]
  },
  {
   "cell_type": "code",
   "execution_count": 55,
   "id": "35dd3f55",
   "metadata": {},
   "outputs": [],
   "source": [
    "layer = keras.layers.Dense(100, activation=\"elu\",\n",
    "                           kernel_initializer=\"he_normal\",\n",
    "                           kernel_regularizer=keras.regularizers.l2(0.01))\n",
    "# or l1(0.1) for ℓ1 regularization with a factor of 0.1\n",
    "# or l1_l2(0.1, 0.01) for both ℓ1 and ℓ2 regularization, with factors 0.1 and 0.01 respectively"
   ]
  },
  {
   "cell_type": "code",
   "execution_count": 62,
   "id": "d6ac682a",
   "metadata": {},
   "outputs": [
    {
     "name": "stdout",
     "output_type": "stream",
     "text": [
      "Epoch 1/2\n",
      "1719/1719 [==============================] - 6s 3ms/step - loss: 1.5897 - accuracy: 0.8128 - val_loss: 0.7097 - val_accuracy: 0.8412\n",
      "Epoch 2/2\n",
      "1719/1719 [==============================] - 6s 3ms/step - loss: 0.7184 - accuracy: 0.8283 - val_loss: 0.6895 - val_accuracy: 0.8358\n"
     ]
    }
   ],
   "source": [
    "model = keras.models.Sequential([\n",
    "    keras.layers.Flatten(input_shape=[28,28]),\n",
    "    keras.layers.Dense(300, activation=\"elu\", kernel_initializer=\"he_normal\",\n",
    "                      kernel_regularizer=keras.regularizers.l2(1e-2)),\n",
    "    keras.layers.Dense(100, activation=\"elu\", kernel_initializer=\"he_normal\",\n",
    "                      kernel_regularizer=keras.regularizers.l2(1e-2)),\n",
    "    keras.layers.Dense(10, activation=\"softmax\",\n",
    "                      kernel_regularizer=keras.regularizers.l2(1e-2)),\n",
    "    \n",
    "])\n",
    "model.compile(loss=\"sparse_categorical_crossentropy\", optimizer=\"nadam\", metrics=[\"accuracy\"])\n",
    "history = model.fit(X_train_scaled, y_train, epochs=2, validation_data=(X_valid_scaled, y_valid))"
   ]
  },
  {
   "cell_type": "markdown",
   "id": "5431d40d",
   "metadata": {},
   "source": [
    "###### Instead of repeating the regularizer hyperparameter on every layer with can use functools partial once "
   ]
  },
  {
   "cell_type": "code",
   "execution_count": 63,
   "id": "df42d477",
   "metadata": {},
   "outputs": [],
   "source": [
    "from functools import partial"
   ]
  },
  {
   "cell_type": "code",
   "execution_count": 65,
   "id": "b1b4d6a2",
   "metadata": {},
   "outputs": [
    {
     "name": "stdout",
     "output_type": "stream",
     "text": [
      "Epoch 1/2\n",
      "1719/1719 [==============================] - 6s 3ms/step - loss: 1.6492 - accuracy: 0.8141 - val_loss: 0.7060 - val_accuracy: 0.8398\n",
      "Epoch 2/2\n",
      "1719/1719 [==============================] - 6s 3ms/step - loss: 0.7190 - accuracy: 0.8286 - val_loss: 0.6918 - val_accuracy: 0.8370\n"
     ]
    }
   ],
   "source": [
    "regularized_dense = partial(keras.layers.Dense,\n",
    "                           activation=\"elu\",\n",
    "                           kernel_initializer=\"he_normal\",\n",
    "                           kernel_regularizer=keras.regularizers.l2(1e-2))\n",
    "\n",
    "model = keras.models.Sequential([\n",
    "    keras.layers.Flatten(input_shape=[28,28]),\n",
    "    regularized_dense(300),\n",
    "    regularized_dense(100),\n",
    "    regularized_dense(10, activation=\"softmax\")\n",
    "])\n",
    "\n",
    "model.compile(loss=\"sparse_categorical_crossentropy\", optimizer=\"nadam\", metrics=[\"accuracy\"])\n",
    "history = model.fit(X_train_scaled, y_train, epochs=2, \n",
    "                   validation_data=(X_valid_scaled, y_valid))"
   ]
  },
  {
   "cell_type": "code",
   "execution_count": null,
   "id": "86c249de",
   "metadata": {},
   "outputs": [],
   "source": []
  }
 ],
 "metadata": {
  "kernelspec": {
   "display_name": "Python 3 (ipykernel)",
   "language": "python",
   "name": "python3"
  },
  "language_info": {
   "codemirror_mode": {
    "name": "ipython",
    "version": 3
   },
   "file_extension": ".py",
   "mimetype": "text/x-python",
   "name": "python",
   "nbconvert_exporter": "python",
   "pygments_lexer": "ipython3",
   "version": "3.8.6"
  }
 },
 "nbformat": 4,
 "nbformat_minor": 5
}
