{
 "cells": [
  {
   "cell_type": "code",
   "execution_count": 1,
   "id": "96eaf858",
   "metadata": {},
   "outputs": [],
   "source": [
    "import numpy as np\n",
    "import tensorflow as tf\n",
    "from tensorflow import keras"
   ]
  },
  {
   "cell_type": "code",
   "execution_count": 2,
   "id": "7738f8ab",
   "metadata": {},
   "outputs": [],
   "source": [
    "from sklearn.datasets import fetch_california_housing\n",
    "from sklearn.model_selection import train_test_split\n",
    "from sklearn.preprocessing import StandardScaler"
   ]
  },
  {
   "cell_type": "code",
   "execution_count": 3,
   "id": "7c8734c7",
   "metadata": {},
   "outputs": [],
   "source": [
    "housing = fetch_california_housing()\n",
    "X, y = housing.data, housing.target"
   ]
  },
  {
   "cell_type": "code",
   "execution_count": 4,
   "id": "b1318f69",
   "metadata": {},
   "outputs": [],
   "source": [
    "X_train_full, X_test, y_train_full, y_test = train_test_split(X, y, random_state=42)\n",
    "X_train, X_val, y_train, y_val = train_test_split(X_train_full, y_train_full, random_state=42)"
   ]
  },
  {
   "cell_type": "code",
   "execution_count": 13,
   "id": "c6b51961",
   "metadata": {},
   "outputs": [],
   "source": [
    "scaler = StandardScaler()\n",
    "X_train = scaler.fit_transform(X_train)\n",
    "X_test = scaler.transform(X_test)\n",
    "X_val = scaler.transform(X_val)"
   ]
  },
  {
   "cell_type": "code",
   "execution_count": 6,
   "id": "76d10507",
   "metadata": {},
   "outputs": [],
   "source": [
    "np.random.seed(42)\n",
    "tf.random.set_seed(42)"
   ]
  },
  {
   "cell_type": "code",
   "execution_count": 7,
   "id": "d24d59d1",
   "metadata": {},
   "outputs": [],
   "source": [
    "input_ = keras.layers.Input(shape=X_train.shape[1:])\n",
    "hidden_1 = keras.layers.Dense(30, activation=\"relu\")(input_)\n",
    "hidden_2 = keras.layers.Dense(30, activation=\"relu\")(hidden_1)\n",
    "concat = keras.layers.Concatenate()([input_, hidden_2])\n",
    "output = keras.layers.Dense(1)(concat)\n",
    "model = keras.models.Model(inputs=[input_], outputs=[output])"
   ]
  },
  {
   "cell_type": "code",
   "execution_count": 8,
   "id": "286301b5",
   "metadata": {},
   "outputs": [
    {
     "name": "stdout",
     "output_type": "stream",
     "text": [
      "Model: \"model\"\n",
      "__________________________________________________________________________________________________\n",
      " Layer (type)                   Output Shape         Param #     Connected to                     \n",
      "==================================================================================================\n",
      " input_1 (InputLayer)           [(None, 8)]          0           []                               \n",
      "                                                                                                  \n",
      " dense (Dense)                  (None, 30)           270         ['input_1[0][0]']                \n",
      "                                                                                                  \n",
      " dense_1 (Dense)                (None, 30)           930         ['dense[0][0]']                  \n",
      "                                                                                                  \n",
      " concatenate (Concatenate)      (None, 38)           0           ['input_1[0][0]',                \n",
      "                                                                  'dense_1[0][0]']                \n",
      "                                                                                                  \n",
      " dense_2 (Dense)                (None, 1)            39          ['concatenate[0][0]']            \n",
      "                                                                                                  \n",
      "==================================================================================================\n",
      "Total params: 1,239\n",
      "Trainable params: 1,239\n",
      "Non-trainable params: 0\n",
      "__________________________________________________________________________________________________\n"
     ]
    }
   ],
   "source": [
    "model.summary()"
   ]
  },
  {
   "cell_type": "code",
   "execution_count": 10,
   "id": "cdebc8ac",
   "metadata": {},
   "outputs": [
    {
     "name": "stdout",
     "output_type": "stream",
     "text": [
      "Epoch 1/20\n",
      "363/363 [==============================] - 1s 1ms/step - loss: 0.4153 - val_loss: 0.4142\n",
      "Epoch 2/20\n",
      "363/363 [==============================] - 0s 983us/step - loss: 0.4119 - val_loss: 0.4956\n",
      "Epoch 3/20\n",
      "363/363 [==============================] - 0s 981us/step - loss: 0.4090 - val_loss: 0.4509\n",
      "Epoch 4/20\n",
      "363/363 [==============================] - 0s 954us/step - loss: 0.4060 - val_loss: 0.4046\n",
      "Epoch 5/20\n",
      "363/363 [==============================] - 0s 979us/step - loss: 0.4033 - val_loss: 0.4067\n",
      "Epoch 6/20\n",
      "363/363 [==============================] - 0s 985us/step - loss: 0.4006 - val_loss: 0.4667\n",
      "Epoch 7/20\n",
      "363/363 [==============================] - 0s 978us/step - loss: 0.3985 - val_loss: 0.4042\n",
      "Epoch 8/20\n",
      "363/363 [==============================] - 0s 963us/step - loss: 0.3962 - val_loss: 0.3940\n",
      "Epoch 9/20\n",
      "363/363 [==============================] - 0s 990us/step - loss: 0.3940 - val_loss: 0.4240\n",
      "Epoch 10/20\n",
      "363/363 [==============================] - 0s 982us/step - loss: 0.3919 - val_loss: 0.4600\n",
      "Epoch 11/20\n",
      "363/363 [==============================] - 0s 989us/step - loss: 0.3903 - val_loss: 0.3730\n",
      "Epoch 12/20\n",
      "363/363 [==============================] - 0s 965us/step - loss: 0.3881 - val_loss: 0.5319\n",
      "Epoch 13/20\n",
      "363/363 [==============================] - 0s 1ms/step - loss: 0.3870 - val_loss: 0.4088\n",
      "Epoch 14/20\n",
      "363/363 [==============================] - 0s 1ms/step - loss: 0.3849 - val_loss: 0.3809\n",
      "Epoch 15/20\n",
      "363/363 [==============================] - 0s 1ms/step - loss: 0.3832 - val_loss: 0.4141\n",
      "Epoch 16/20\n",
      "363/363 [==============================] - 0s 1ms/step - loss: 0.3817 - val_loss: 0.3850\n",
      "Epoch 17/20\n",
      "363/363 [==============================] - 0s 1ms/step - loss: 0.3803 - val_loss: 0.4469\n",
      "Epoch 18/20\n",
      "363/363 [==============================] - 0s 1ms/step - loss: 0.3791 - val_loss: 0.4093\n",
      "Epoch 19/20\n",
      "363/363 [==============================] - 0s 1ms/step - loss: 0.3773 - val_loss: 0.4116\n",
      "Epoch 20/20\n",
      "363/363 [==============================] - 0s 1ms/step - loss: 0.3763 - val_loss: 0.5015\n",
      "162/162 [==============================] - 0s 683us/step - loss: 0.3683\n"
     ]
    }
   ],
   "source": [
    "model.compile(loss=\"mean_squared_error\",optimizer=keras.optimizers.SGD(learning_rate=1e-3))\n",
    "history = model.fit(X_train, y_train, epochs=20, validation_data=(X_val, y_val))\n",
    "mse_test = model.evaluate(X_test, y_test)"
   ]
  },
  {
   "cell_type": "code",
   "execution_count": 11,
   "id": "6f1c571e",
   "metadata": {},
   "outputs": [
    {
     "data": {
      "text/plain": [
       "0.36833456158638"
      ]
     },
     "execution_count": 11,
     "metadata": {},
     "output_type": "execute_result"
    }
   ],
   "source": [
    "mse_test"
   ]
  },
  {
   "cell_type": "code",
   "execution_count": 16,
   "id": "114d4b34",
   "metadata": {},
   "outputs": [],
   "source": [
    "input_a = keras.layers.Input(shape=[5], name=\"wide_input\")\n",
    "input_b = keras.layers.Input(shape=[6], name=\"deep_input\")\n",
    "hidden_1 = keras.layers.Dense(30, activation=\"relu\")(input_b)\n",
    "hidden_2 = keras.layers.Dense(30, activation=\"relu\")(hidden_1)\n",
    "conc = keras.layers.Concatenate()([input_a, hidden_2])\n",
    "output = keras.layers.Dense(1, name=\"output\")(conc)\n",
    "model = keras.Model(inputs=[input_a, input_b], outputs=output)"
   ]
  },
  {
   "cell_type": "code",
   "execution_count": 38,
   "id": "e59ccc81",
   "metadata": {},
   "outputs": [
    {
     "name": "stdout",
     "output_type": "stream",
     "text": [
      "Epoch 1/20\n",
      "363/363 [==============================] - 1s 1ms/step - loss: 0.4231 - val_loss: 0.4034\n",
      "Epoch 2/20\n",
      "363/363 [==============================] - 0s 1ms/step - loss: 0.4217 - val_loss: 0.4064\n",
      "Epoch 3/20\n",
      "363/363 [==============================] - 0s 1ms/step - loss: 0.4197 - val_loss: 0.4028\n",
      "Epoch 4/20\n",
      "363/363 [==============================] - 0s 1ms/step - loss: 0.4179 - val_loss: 0.4035\n",
      "Epoch 5/20\n",
      "363/363 [==============================] - 0s 1ms/step - loss: 0.4168 - val_loss: 0.3968\n",
      "Epoch 6/20\n",
      "363/363 [==============================] - 0s 1ms/step - loss: 0.4149 - val_loss: 0.3967\n",
      "Epoch 7/20\n",
      "363/363 [==============================] - 0s 1ms/step - loss: 0.4137 - val_loss: 0.3955\n",
      "Epoch 8/20\n",
      "363/363 [==============================] - 0s 1ms/step - loss: 0.4125 - val_loss: 0.3902\n",
      "Epoch 9/20\n",
      "363/363 [==============================] - 0s 1ms/step - loss: 0.4109 - val_loss: 0.3903\n",
      "Epoch 10/20\n",
      "363/363 [==============================] - 0s 1ms/step - loss: 0.4097 - val_loss: 0.3905\n",
      "Epoch 11/20\n",
      "363/363 [==============================] - 0s 1ms/step - loss: 0.4089 - val_loss: 0.3880\n",
      "Epoch 12/20\n",
      "363/363 [==============================] - 0s 1ms/step - loss: 0.4077 - val_loss: 0.3883\n",
      "Epoch 13/20\n",
      "363/363 [==============================] - 0s 1ms/step - loss: 0.4065 - val_loss: 0.3890\n",
      "Epoch 14/20\n",
      "363/363 [==============================] - 0s 1ms/step - loss: 0.4055 - val_loss: 0.3844\n",
      "Epoch 15/20\n",
      "363/363 [==============================] - 0s 1ms/step - loss: 0.4045 - val_loss: 0.3829\n",
      "Epoch 16/20\n",
      "363/363 [==============================] - 0s 1ms/step - loss: 0.4034 - val_loss: 0.3799\n",
      "Epoch 17/20\n",
      "363/363 [==============================] - 0s 1ms/step - loss: 0.4026 - val_loss: 0.3810\n",
      "Epoch 18/20\n",
      "363/363 [==============================] - 0s 1ms/step - loss: 0.4018 - val_loss: 0.3783\n",
      "Epoch 19/20\n",
      "363/363 [==============================] - 0s 1ms/step - loss: 0.4007 - val_loss: 0.3775\n",
      "Epoch 20/20\n",
      "363/363 [==============================] - 0s 1ms/step - loss: 0.4001 - val_loss: 0.3806\n",
      "162/162 [==============================] - 0s 832us/step - loss: 0.3940\n"
     ]
    }
   ],
   "source": [
    "model.compile(loss=\"mse\", optimizer=keras.optimizers.SGD(learning_rate=1e-3))\n",
    "\n",
    "X_train_A, X_train_B = X_train[:,:5], X_train[:,2:]\n",
    "X_test_A, X_test_B = X_test[:,:5], X_test[:,2:]\n",
    "X_val_A, X_val_B = X_val[:,:5], X_val[:,2:]\n",
    "X_new_A, X_new_B = X_test_A[:3], X_test_B[:3]\n",
    "\n",
    "history = model.fit((X_train_A, X_train_B), y_train, epochs=20,\n",
    "                    validation_data=((X_val_A, X_val_B), y_val))\n",
    "mse_test = model.evaluate((X_test_A,X_test_B), y_test)"
   ]
  },
  {
   "cell_type": "code",
   "execution_count": 41,
   "id": "cee426f1",
   "metadata": {},
   "outputs": [],
   "source": [
    "input_A = keras.layers.Input(shape=[5], name=\"wide_input\") \n",
    "input_B = keras.layers.Input(shape=[6], name=\"deep_input\")\n",
    "hidden_1 = keras.layers.Dense(30, activation=\"relu\")(input_B)\n",
    "hidden_2 = keras.layers.Dense(30, activation=\"relu\")(hidden_1)\n",
    "concat = keras.layers.Concatenate()([hidden_1, input_A])\n",
    "output = keras.layers.Dense(1, name=\"main_output\")(concat)\n",
    "aux = keras.layers.Dense(1, name=\"Aux_output\")(hidden_2)\n",
    "\n",
    "model = keras.Model(inputs=[input_A, input_B], outputs=[output, aux])\n",
    "model.compile(loss=[\"mse\",\"mse\"], loss_weights=[0.9, 0.1], optimizer=keras.optimizers.SGD(learning_rate=1e-3))"
   ]
  },
  {
   "cell_type": "code",
   "execution_count": 45,
   "id": "fdedc42b",
   "metadata": {},
   "outputs": [
    {
     "name": "stdout",
     "output_type": "stream",
     "text": [
      "Epoch 1/20\n",
      "363/363 [==============================] - 1s 1ms/step - loss: 1.0216 - main_output_loss: 0.8210 - Aux_output_loss: 2.8276 - val_loss: 1.6974 - val_main_output_loss: 0.7584 - val_Aux_output_loss: 10.1488\n",
      "Epoch 2/20\n",
      "363/363 [==============================] - 0s 1ms/step - loss: 0.8134 - main_output_loss: 0.6768 - Aux_output_loss: 2.0433 - val_loss: 1.6543 - val_main_output_loss: 0.6620 - val_Aux_output_loss: 10.5855\n",
      "Epoch 3/20\n",
      "363/363 [==============================] - 0s 1ms/step - loss: 0.7325 - main_output_loss: 0.6257 - Aux_output_loss: 1.6939 - val_loss: 1.5103 - val_main_output_loss: 0.6405 - val_Aux_output_loss: 9.3380\n",
      "Epoch 4/20\n",
      "363/363 [==============================] - 0s 1ms/step - loss: 0.6856 - main_output_loss: 0.5927 - Aux_output_loss: 1.5214 - val_loss: 1.2510 - val_main_output_loss: 0.5748 - val_Aux_output_loss: 7.3366\n",
      "Epoch 5/20\n",
      "363/363 [==============================] - 0s 1ms/step - loss: 0.6520 - main_output_loss: 0.5673 - Aux_output_loss: 1.4144 - val_loss: 1.0383 - val_main_output_loss: 0.5462 - val_Aux_output_loss: 5.4673\n",
      "Epoch 6/20\n",
      "363/363 [==============================] - 0s 1ms/step - loss: 0.6273 - main_output_loss: 0.5481 - Aux_output_loss: 1.3400 - val_loss: 0.8763 - val_main_output_loss: 0.5306 - val_Aux_output_loss: 3.9878\n",
      "Epoch 7/20\n",
      "363/363 [==============================] - 0s 1ms/step - loss: 0.6075 - main_output_loss: 0.5327 - Aux_output_loss: 1.2810 - val_loss: 0.7559 - val_main_output_loss: 0.5142 - val_Aux_output_loss: 2.9314\n",
      "Epoch 8/20\n",
      "363/363 [==============================] - 0s 1ms/step - loss: 0.5922 - main_output_loss: 0.5211 - Aux_output_loss: 1.2327 - val_loss: 0.6769 - val_main_output_loss: 0.4989 - val_Aux_output_loss: 2.2782\n",
      "Epoch 9/20\n",
      "363/363 [==============================] - 0s 1ms/step - loss: 0.5785 - main_output_loss: 0.5101 - Aux_output_loss: 1.1939 - val_loss: 0.6200 - val_main_output_loss: 0.4873 - val_Aux_output_loss: 1.8144\n",
      "Epoch 10/20\n",
      "363/363 [==============================] - 0s 1ms/step - loss: 0.5671 - main_output_loss: 0.5013 - Aux_output_loss: 1.1596 - val_loss: 0.5785 - val_main_output_loss: 0.4761 - val_Aux_output_loss: 1.5005\n",
      "Epoch 11/20\n",
      "363/363 [==============================] - 0s 1ms/step - loss: 0.5579 - main_output_loss: 0.4945 - Aux_output_loss: 1.1288 - val_loss: 0.5650 - val_main_output_loss: 0.4783 - val_Aux_output_loss: 1.3449\n",
      "Epoch 12/20\n",
      "363/363 [==============================] - 0s 1ms/step - loss: 0.5494 - main_output_loss: 0.4880 - Aux_output_loss: 1.1013 - val_loss: 0.5395 - val_main_output_loss: 0.4649 - val_Aux_output_loss: 1.2104\n",
      "Epoch 13/20\n",
      "363/363 [==============================] - 0s 1ms/step - loss: 0.5419 - main_output_loss: 0.4827 - Aux_output_loss: 1.0754 - val_loss: 0.5295 - val_main_output_loss: 0.4625 - val_Aux_output_loss: 1.1328\n",
      "Epoch 14/20\n",
      "363/363 [==============================] - 0s 1ms/step - loss: 0.5353 - main_output_loss: 0.4780 - Aux_output_loss: 1.0512 - val_loss: 0.5194 - val_main_output_loss: 0.4576 - val_Aux_output_loss: 1.0756\n",
      "Epoch 15/20\n",
      "363/363 [==============================] - 0s 1ms/step - loss: 0.5292 - main_output_loss: 0.4738 - Aux_output_loss: 1.0284 - val_loss: 0.5167 - val_main_output_loss: 0.4590 - val_Aux_output_loss: 1.0356\n",
      "Epoch 16/20\n",
      "363/363 [==============================] - 0s 1ms/step - loss: 0.5239 - main_output_loss: 0.4702 - Aux_output_loss: 1.0066 - val_loss: 0.5055 - val_main_output_loss: 0.4506 - val_Aux_output_loss: 0.9997\n",
      "Epoch 17/20\n",
      "363/363 [==============================] - 0s 1ms/step - loss: 0.5186 - main_output_loss: 0.4667 - Aux_output_loss: 0.9862 - val_loss: 0.5038 - val_main_output_loss: 0.4515 - val_Aux_output_loss: 0.9741\n",
      "Epoch 18/20\n",
      "363/363 [==============================] - 0s 1ms/step - loss: 0.5141 - main_output_loss: 0.4639 - Aux_output_loss: 0.9658 - val_loss: 0.5029 - val_main_output_loss: 0.4531 - val_Aux_output_loss: 0.9516\n",
      "Epoch 19/20\n",
      "363/363 [==============================] - 0s 1ms/step - loss: 0.5093 - main_output_loss: 0.4607 - Aux_output_loss: 0.9468 - val_loss: 0.4941 - val_main_output_loss: 0.4458 - val_Aux_output_loss: 0.9293\n",
      "Epoch 20/20\n",
      "363/363 [==============================] - 0s 1ms/step - loss: 0.5056 - main_output_loss: 0.4586 - Aux_output_loss: 0.9289 - val_loss: 0.5117 - val_main_output_loss: 0.4674 - val_Aux_output_loss: 0.9097\n"
     ]
    }
   ],
   "source": [
    "history = model.fit([X_train_A, X_train_B], [y_train, y_train], epochs=20, validation_data=([X_val_A, X_val_B], [y_val,y_val]))"
   ]
  },
  {
   "cell_type": "code",
   "execution_count": null,
   "id": "6e8c3fca",
   "metadata": {},
   "outputs": [],
   "source": []
  }
 ],
 "metadata": {
  "kernelspec": {
   "display_name": "Python 3 (ipykernel)",
   "language": "python",
   "name": "python3"
  },
  "language_info": {
   "codemirror_mode": {
    "name": "ipython",
    "version": 3
   },
   "file_extension": ".py",
   "mimetype": "text/x-python",
   "name": "python",
   "nbconvert_exporter": "python",
   "pygments_lexer": "ipython3",
   "version": "3.8.6"
  }
 },
 "nbformat": 4,
 "nbformat_minor": 5
}
