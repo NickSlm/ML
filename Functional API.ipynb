{
 "cells": [
  {
   "cell_type": "code",
   "execution_count": 1,
   "id": "96eaf858",
   "metadata": {},
   "outputs": [],
   "source": [
    "import numpy as np\n",
    "import tensorflow as tf\n",
    "from tensorflow import keras"
   ]
  },
  {
   "cell_type": "code",
   "execution_count": 2,
   "id": "7738f8ab",
   "metadata": {},
   "outputs": [],
   "source": [
    "from sklearn.datasets import fetch_california_housing\n",
    "from sklearn.model_selection import train_test_split\n",
    "from sklearn.preprocessing import StandardScaler"
   ]
  },
  {
   "cell_type": "code",
   "execution_count": 3,
   "id": "7c8734c7",
   "metadata": {},
   "outputs": [],
   "source": [
    "housing = fetch_california_housing()\n",
    "X, y = housing.data, housing.target"
   ]
  },
  {
   "cell_type": "code",
   "execution_count": 4,
   "id": "b1318f69",
   "metadata": {},
   "outputs": [],
   "source": [
    "X_train_full, X_test, y_train_full, y_test = train_test_split(X, y, random_state=42)\n",
    "X_train, X_val, y_train, y_val = train_test_split(X_train_full, y_train_full, random_state=42)"
   ]
  },
  {
   "cell_type": "code",
   "execution_count": 5,
   "id": "c6b51961",
   "metadata": {},
   "outputs": [],
   "source": [
    "scaler = StandardScaler()\n",
    "X_train = scaler.fit_transform(X_train)\n",
    "X_test = scaler.transform(X_test)\n",
    "X_val = scaler.transform(X_val)"
   ]
  },
  {
   "cell_type": "code",
   "execution_count": 6,
   "id": "76d10507",
   "metadata": {},
   "outputs": [],
   "source": [
    "np.random.seed(42)\n",
    "tf.random.set_seed(42)"
   ]
  },
  {
   "cell_type": "code",
   "execution_count": 7,
   "id": "d24d59d1",
   "metadata": {},
   "outputs": [],
   "source": [
    "input_ = keras.layers.Input(shape=X_train.shape[1:])\n",
    "hidden_1 = keras.layers.Dense(30, activation=\"relu\")(input_)\n",
    "hidden_2 = keras.layers.Dense(30, activation=\"relu\")(hidden_1)\n",
    "concat = keras.layers.Concatenate()([input_, hidden_2])\n",
    "output = keras.layers.Dense(1)(concat)\n",
    "model = keras.models.Model(inputs=[input_], outputs=[output])"
   ]
  },
  {
   "cell_type": "code",
   "execution_count": 8,
   "id": "286301b5",
   "metadata": {},
   "outputs": [
    {
     "name": "stdout",
     "output_type": "stream",
     "text": [
      "Model: \"model\"\n",
      "__________________________________________________________________________________________________\n",
      " Layer (type)                   Output Shape         Param #     Connected to                     \n",
      "==================================================================================================\n",
      " input_1 (InputLayer)           [(None, 8)]          0           []                               \n",
      "                                                                                                  \n",
      " dense (Dense)                  (None, 30)           270         ['input_1[0][0]']                \n",
      "                                                                                                  \n",
      " dense_1 (Dense)                (None, 30)           930         ['dense[0][0]']                  \n",
      "                                                                                                  \n",
      " concatenate (Concatenate)      (None, 38)           0           ['input_1[0][0]',                \n",
      "                                                                  'dense_1[0][0]']                \n",
      "                                                                                                  \n",
      " dense_2 (Dense)                (None, 1)            39          ['concatenate[0][0]']            \n",
      "                                                                                                  \n",
      "==================================================================================================\n",
      "Total params: 1,239\n",
      "Trainable params: 1,239\n",
      "Non-trainable params: 0\n",
      "__________________________________________________________________________________________________\n"
     ]
    }
   ],
   "source": [
    "model.summary()"
   ]
  },
  {
   "cell_type": "code",
   "execution_count": 9,
   "id": "cdebc8ac",
   "metadata": {},
   "outputs": [
    {
     "name": "stdout",
     "output_type": "stream",
     "text": [
      "Epoch 1/20\n",
      "363/363 [==============================] - 1s 1ms/step - loss: 1.8333 - val_loss: 0.8100\n",
      "Epoch 2/20\n",
      "363/363 [==============================] - 0s 960us/step - loss: 0.7368 - val_loss: 1.2105\n",
      "Epoch 3/20\n",
      "363/363 [==============================] - 0s 950us/step - loss: 0.6707 - val_loss: 0.6022\n",
      "Epoch 4/20\n",
      "363/363 [==============================] - 0s 952us/step - loss: 0.6100 - val_loss: 0.5598\n",
      "Epoch 5/20\n",
      "363/363 [==============================] - 0s 943us/step - loss: 0.5697 - val_loss: 0.5408\n",
      "Epoch 6/20\n",
      "363/363 [==============================] - 0s 935us/step - loss: 0.5357 - val_loss: 0.5050\n",
      "Epoch 7/20\n",
      "363/363 [==============================] - 0s 928us/step - loss: 0.5110 - val_loss: 0.4754\n",
      "Epoch 8/20\n",
      "363/363 [==============================] - 0s 941us/step - loss: 0.4907 - val_loss: 0.4879\n",
      "Epoch 9/20\n",
      "363/363 [==============================] - 0s 943us/step - loss: 0.4741 - val_loss: 0.4403\n",
      "Epoch 10/20\n",
      "363/363 [==============================] - 0s 946us/step - loss: 0.4615 - val_loss: 0.4400\n",
      "Epoch 11/20\n",
      "363/363 [==============================] - 0s 950us/step - loss: 0.4516 - val_loss: 0.4308\n",
      "Epoch 12/20\n",
      "363/363 [==============================] - 0s 943us/step - loss: 0.4435 - val_loss: 0.4404\n",
      "Epoch 13/20\n",
      "363/363 [==============================] - 0s 932us/step - loss: 0.4368 - val_loss: 0.4325\n",
      "Epoch 14/20\n",
      "363/363 [==============================] - 0s 946us/step - loss: 0.4313 - val_loss: 0.4033\n",
      "Epoch 15/20\n",
      "363/363 [==============================] - 0s 953us/step - loss: 0.4263 - val_loss: 0.4327\n",
      "Epoch 16/20\n",
      "363/363 [==============================] - 0s 956us/step - loss: 0.4223 - val_loss: 0.4010\n",
      "Epoch 17/20\n",
      "363/363 [==============================] - 0s 952us/step - loss: 0.4183 - val_loss: 0.4593\n",
      "Epoch 18/20\n",
      "363/363 [==============================] - 0s 946us/step - loss: 0.4152 - val_loss: 0.4235\n",
      "Epoch 19/20\n",
      "363/363 [==============================] - 0s 946us/step - loss: 0.4117 - val_loss: 0.4060\n",
      "Epoch 20/20\n",
      "363/363 [==============================] - 0s 932us/step - loss: 0.4087 - val_loss: 0.4925\n",
      "162/162 [==============================] - 0s 665us/step - loss: 0.3995\n"
     ]
    }
   ],
   "source": [
    "model.compile(loss=\"mean_squared_error\",optimizer=keras.optimizers.SGD(learning_rate=1e-3))\n",
    "history = model.fit(X_train, y_train, epochs=20, validation_data=(X_val, y_val))\n",
    "mse_test = model.evaluate(X_test, y_test)"
   ]
  },
  {
   "cell_type": "code",
   "execution_count": 10,
   "id": "6f1c571e",
   "metadata": {},
   "outputs": [
    {
     "data": {
      "text/plain": [
       "0.3994797468185425"
      ]
     },
     "execution_count": 10,
     "metadata": {},
     "output_type": "execute_result"
    }
   ],
   "source": [
    "mse_test"
   ]
  },
  {
   "cell_type": "code",
   "execution_count": 11,
   "id": "114d4b34",
   "metadata": {},
   "outputs": [],
   "source": [
    "input_a = keras.layers.Input(shape=[5], name=\"wide_input\")\n",
    "input_b = keras.layers.Input(shape=[6], name=\"deep_input\")\n",
    "hidden_1 = keras.layers.Dense(30, activation=\"relu\")(input_b)\n",
    "hidden_2 = keras.layers.Dense(30, activation=\"relu\")(hidden_1)\n",
    "conc = keras.layers.Concatenate()([input_a, hidden_2])\n",
    "output = keras.layers.Dense(1, name=\"output\")(conc)\n",
    "model = keras.Model(inputs=[input_a, input_b], outputs=output)"
   ]
  },
  {
   "cell_type": "code",
   "execution_count": 12,
   "id": "e59ccc81",
   "metadata": {},
   "outputs": [
    {
     "name": "stdout",
     "output_type": "stream",
     "text": [
      "Epoch 1/20\n",
      "363/363 [==============================] - 1s 1ms/step - loss: 1.9527 - val_loss: 1.9374\n",
      "Epoch 2/20\n",
      "363/363 [==============================] - 0s 1ms/step - loss: 0.8153 - val_loss: 0.7890\n",
      "Epoch 3/20\n",
      "363/363 [==============================] - 0s 972us/step - loss: 0.7026 - val_loss: 0.6710\n",
      "Epoch 4/20\n",
      "363/363 [==============================] - 0s 981us/step - loss: 0.6511 - val_loss: 0.5954\n",
      "Epoch 5/20\n",
      "363/363 [==============================] - 0s 1ms/step - loss: 0.6132 - val_loss: 0.5617\n",
      "Epoch 6/20\n",
      "363/363 [==============================] - 0s 977us/step - loss: 0.5822 - val_loss: 0.5390\n",
      "Epoch 7/20\n",
      "363/363 [==============================] - 0s 985us/step - loss: 0.5558 - val_loss: 0.5226\n",
      "Epoch 8/20\n",
      "363/363 [==============================] - 0s 982us/step - loss: 0.5339 - val_loss: 0.4922\n",
      "Epoch 9/20\n",
      "363/363 [==============================] - 0s 968us/step - loss: 0.5151 - val_loss: 0.4778\n",
      "Epoch 10/20\n",
      "363/363 [==============================] - 0s 988us/step - loss: 0.4994 - val_loss: 0.4705\n",
      "Epoch 11/20\n",
      "363/363 [==============================] - 0s 971us/step - loss: 0.4865 - val_loss: 0.4528\n",
      "Epoch 12/20\n",
      "363/363 [==============================] - 0s 974us/step - loss: 0.4754 - val_loss: 0.4507\n",
      "Epoch 13/20\n",
      "363/363 [==============================] - 0s 964us/step - loss: 0.4662 - val_loss: 0.4348\n",
      "Epoch 14/20\n",
      "363/363 [==============================] - 0s 968us/step - loss: 0.4587 - val_loss: 0.4338\n",
      "Epoch 15/20\n",
      "363/363 [==============================] - 0s 988us/step - loss: 0.4525 - val_loss: 0.4214\n",
      "Epoch 16/20\n",
      "363/363 [==============================] - 0s 972us/step - loss: 0.4476 - val_loss: 0.4232\n",
      "Epoch 17/20\n",
      "363/363 [==============================] - 0s 979us/step - loss: 0.4435 - val_loss: 0.4138\n",
      "Epoch 18/20\n",
      "363/363 [==============================] - 0s 971us/step - loss: 0.4404 - val_loss: 0.4107\n",
      "Epoch 19/20\n",
      "363/363 [==============================] - 0s 961us/step - loss: 0.4371 - val_loss: 0.4078\n",
      "Epoch 20/20\n",
      "363/363 [==============================] - 0s 978us/step - loss: 0.4348 - val_loss: 0.4178\n",
      "162/162 [==============================] - 0s 699us/step - loss: 0.4272\n"
     ]
    }
   ],
   "source": [
    "model.compile(loss=\"mse\", optimizer=keras.optimizers.SGD(learning_rate=1e-3))\n",
    "\n",
    "X_train_A, X_train_B = X_train[:,:5], X_train[:,2:]\n",
    "X_test_A, X_test_B = X_test[:,:5], X_test[:,2:]\n",
    "X_val_A, X_val_B = X_val[:,:5], X_val[:,2:]\n",
    "X_new_A, X_new_B = X_test_A[:3], X_test_B[:3]\n",
    "\n",
    "history = model.fit((X_train_A, X_train_B), y_train, epochs=20,\n",
    "                    validation_data=((X_val_A, X_val_B), y_val))\n",
    "mse_test = model.evaluate((X_test_A,X_test_B), y_test)"
   ]
  },
  {
   "cell_type": "code",
   "execution_count": 83,
   "id": "cee426f1",
   "metadata": {},
   "outputs": [],
   "source": [
    "input_A = keras.layers.Input(shape=[5], name=\"wide_input\") \n",
    "input_B = keras.layers.Input(shape=[6], name=\"deep_input\")\n",
    "hidden_1 = keras.layers.Dense(30, activation=\"relu\")(input_B)\n",
    "hidden_2 = keras.layers.Dense(30, activation=\"relu\")(hidden_1)\n",
    "concat = keras.layers.Concatenate()([hidden_1, input_A])\n",
    "output = keras.layers.Dense(1, name=\"main_output\")(concat)\n",
    "aux = keras.layers.Dense(1, name=\"Aux_output\")(hidden_2)\n",
    "\n",
    "model = keras.Model(inputs=[input_A, input_B], outputs=[output, aux])\n",
    "model.compile(loss=[\"mse\",\"mse\"], loss_weights=[0.9, 0.1], optimizer=keras.optimizers.SGD(learning_rate=1e-3))"
   ]
  },
  {
   "cell_type": "code",
   "execution_count": 84,
   "id": "fdedc42b",
   "metadata": {},
   "outputs": [
    {
     "name": "stdout",
     "output_type": "stream",
     "text": [
      "Epoch 1/20\n",
      "363/363 [==============================] - 1s 1ms/step - loss: 2.4908 - main_output_loss: 2.3486 - Aux_output_loss: 3.7708 - val_loss: 2.8425 - val_main_output_loss: 2.4047 - val_Aux_output_loss: 6.7835\n",
      "Epoch 2/20\n",
      "363/363 [==============================] - 0s 1ms/step - loss: 0.9238 - main_output_loss: 0.7406 - Aux_output_loss: 2.5723 - val_loss: 1.5554 - val_main_output_loss: 0.9803 - val_Aux_output_loss: 6.7307\n",
      "Epoch 3/20\n",
      "363/363 [==============================] - 0s 1ms/step - loss: 0.7768 - main_output_loss: 0.6404 - Aux_output_loss: 2.0045 - val_loss: 1.1709 - val_main_output_loss: 0.6045 - val_Aux_output_loss: 6.2688\n",
      "Epoch 4/20\n",
      "363/363 [==============================] - 0s 1ms/step - loss: 0.7060 - main_output_loss: 0.5957 - Aux_output_loss: 1.6987 - val_loss: 1.0423 - val_main_output_loss: 0.5431 - val_Aux_output_loss: 5.5356\n",
      "Epoch 5/20\n",
      "363/363 [==============================] - 0s 1ms/step - loss: 0.6589 - main_output_loss: 0.5641 - Aux_output_loss: 1.5126 - val_loss: 0.9198 - val_main_output_loss: 0.5134 - val_Aux_output_loss: 4.5773\n",
      "Epoch 6/20\n",
      "363/363 [==============================] - 0s 1ms/step - loss: 0.6238 - main_output_loss: 0.5387 - Aux_output_loss: 1.3894 - val_loss: 0.8181 - val_main_output_loss: 0.4932 - val_Aux_output_loss: 3.7419\n",
      "Epoch 7/20\n",
      "363/363 [==============================] - 0s 1ms/step - loss: 0.5969 - main_output_loss: 0.5188 - Aux_output_loss: 1.2997 - val_loss: 0.7366 - val_main_output_loss: 0.4769 - val_Aux_output_loss: 3.0745\n",
      "Epoch 8/20\n",
      "363/363 [==============================] - 0s 1ms/step - loss: 0.5762 - main_output_loss: 0.5039 - Aux_output_loss: 1.2273 - val_loss: 0.6734 - val_main_output_loss: 0.4621 - val_Aux_output_loss: 2.5750\n",
      "Epoch 9/20\n",
      "363/363 [==============================] - 0s 1ms/step - loss: 0.5597 - main_output_loss: 0.4918 - Aux_output_loss: 1.1712 - val_loss: 0.6241 - val_main_output_loss: 0.4515 - val_Aux_output_loss: 2.1776\n",
      "Epoch 10/20\n",
      "363/363 [==============================] - 0s 1ms/step - loss: 0.5467 - main_output_loss: 0.4826 - Aux_output_loss: 1.1238 - val_loss: 0.5855 - val_main_output_loss: 0.4433 - val_Aux_output_loss: 1.8656\n",
      "Epoch 11/20\n",
      "363/363 [==============================] - 0s 1ms/step - loss: 0.5363 - main_output_loss: 0.4756 - Aux_output_loss: 1.0831 - val_loss: 0.5581 - val_main_output_loss: 0.4385 - val_Aux_output_loss: 1.6344\n",
      "Epoch 12/20\n",
      "363/363 [==============================] - 0s 1ms/step - loss: 0.5277 - main_output_loss: 0.4698 - Aux_output_loss: 1.0486 - val_loss: 0.5373 - val_main_output_loss: 0.4349 - val_Aux_output_loss: 1.4590\n",
      "Epoch 13/20\n",
      "363/363 [==============================] - 0s 1ms/step - loss: 0.5203 - main_output_loss: 0.4651 - Aux_output_loss: 1.0169 - val_loss: 0.5228 - val_main_output_loss: 0.4342 - val_Aux_output_loss: 1.3202\n",
      "Epoch 14/20\n",
      "363/363 [==============================] - 0s 1ms/step - loss: 0.5140 - main_output_loss: 0.4613 - Aux_output_loss: 0.9882 - val_loss: 0.5113 - val_main_output_loss: 0.4334 - val_Aux_output_loss: 1.2127\n",
      "Epoch 15/20\n",
      "363/363 [==============================] - 0s 1ms/step - loss: 0.5086 - main_output_loss: 0.4581 - Aux_output_loss: 0.9627 - val_loss: 0.5025 - val_main_output_loss: 0.4334 - val_Aux_output_loss: 1.1250\n",
      "Epoch 16/20\n",
      "363/363 [==============================] - 0s 1ms/step - loss: 0.5038 - main_output_loss: 0.4554 - Aux_output_loss: 0.9393 - val_loss: 0.4958 - val_main_output_loss: 0.4337 - val_Aux_output_loss: 1.0541\n",
      "Epoch 17/20\n",
      "363/363 [==============================] - 0s 1ms/step - loss: 0.4996 - main_output_loss: 0.4532 - Aux_output_loss: 0.9173 - val_loss: 0.4911 - val_main_output_loss: 0.4345 - val_Aux_output_loss: 1.0001\n",
      "Epoch 18/20\n",
      "363/363 [==============================] - 0s 1ms/step - loss: 0.4956 - main_output_loss: 0.4510 - Aux_output_loss: 0.8969 - val_loss: 0.4864 - val_main_output_loss: 0.4344 - val_Aux_output_loss: 0.9545\n",
      "Epoch 19/20\n",
      "363/363 [==============================] - 0s 1ms/step - loss: 0.4918 - main_output_loss: 0.4489 - Aux_output_loss: 0.8778 - val_loss: 0.4840 - val_main_output_loss: 0.4358 - val_Aux_output_loss: 0.9180\n",
      "Epoch 20/20\n",
      "363/363 [==============================] - 0s 1ms/step - loss: 0.4888 - main_output_loss: 0.4475 - Aux_output_loss: 0.8608 - val_loss: 0.4854 - val_main_output_loss: 0.4410 - val_Aux_output_loss: 0.8853\n"
     ]
    }
   ],
   "source": [
    "history = model.fit([X_train_A, X_train_B], [y_train, y_train], epochs=20, validation_data=([X_val_A, X_val_B], [y_val,y_val]))"
   ]
  },
  {
   "cell_type": "code",
   "execution_count": 85,
   "id": "6e8c3fca",
   "metadata": {},
   "outputs": [],
   "source": [
    "class WideAndDeepModel(keras.models.Model):\n",
    "    def __init__(self, units, activation, **kwargs):\n",
    "        super().__init__(**kwargs)\n",
    "        self.hidden1 = keras.layers.Dense(units, activation=activation)\n",
    "        self.hidden2 = keras.layers.Dense(units, activation=activation)\n",
    "        self.main_output = keras.layers.Dense(1)\n",
    "        self.aux_output = keras.layers.Dense(1)\n",
    "    \n",
    "    def call(self, inputs):\n",
    "        input_A, input_B = inputs\n",
    "        hidden1 = self.hidden1(input_B)\n",
    "        hidden2 = self.hidden2(hidden1)\n",
    "        concat = keras.layers.Concatenate()([input_A, hidden2])\n",
    "        main_output = self.main_output(concat)\n",
    "        aux_output = self.aux_output(hidden2)\n",
    "        return main_output, aux_output"
   ]
  },
  {
   "cell_type": "code",
   "execution_count": 86,
   "id": "41674af0",
   "metadata": {},
   "outputs": [],
   "source": [
    "model = WideAndDeepModel(units=30, activation=\"relu\")"
   ]
  },
  {
   "cell_type": "code",
   "execution_count": 87,
   "id": "f8b5ea0f",
   "metadata": {},
   "outputs": [
    {
     "name": "stdout",
     "output_type": "stream",
     "text": [
      "Epoch 1/10\n",
      "363/363 [==============================] - 1s 1ms/step - loss: 2.5713 - output_1_loss: 2.4145 - output_2_loss: 3.9825 - val_loss: 1.3851 - val_output_1_loss: 1.0531 - val_output_2_loss: 4.3731\n",
      "Epoch 2/10\n",
      "363/363 [==============================] - 0s 1ms/step - loss: 1.0573 - output_1_loss: 0.8730 - output_2_loss: 2.7165 - val_loss: 1.1553 - val_output_1_loss: 0.7471 - val_output_2_loss: 4.8285\n",
      "Epoch 3/10\n",
      "363/363 [==============================] - 0s 1ms/step - loss: 0.8471 - output_1_loss: 0.7092 - output_2_loss: 2.0880 - val_loss: 1.1293 - val_output_1_loss: 0.6798 - val_output_2_loss: 5.1746\n",
      "Epoch 4/10\n",
      "363/363 [==============================] - 0s 1ms/step - loss: 0.7586 - output_1_loss: 0.6463 - output_2_loss: 1.7689 - val_loss: 1.0581 - val_output_1_loss: 0.6147 - val_output_2_loss: 5.0492\n",
      "Epoch 5/10\n",
      "363/363 [==============================] - 0s 1ms/step - loss: 0.7068 - output_1_loss: 0.6082 - output_2_loss: 1.5939 - val_loss: 0.9899 - val_output_1_loss: 0.5811 - val_output_2_loss: 4.6694\n",
      "Epoch 6/10\n",
      "363/363 [==============================] - 0s 1ms/step - loss: 0.6694 - output_1_loss: 0.5788 - output_2_loss: 1.4849 - val_loss: 0.9418 - val_output_1_loss: 0.5724 - val_output_2_loss: 4.2661\n",
      "Epoch 7/10\n",
      "363/363 [==============================] - 0s 1ms/step - loss: 0.6399 - output_1_loss: 0.5546 - output_2_loss: 1.4076 - val_loss: 0.9090 - val_output_1_loss: 0.5881 - val_output_2_loss: 3.7974\n",
      "Epoch 8/10\n",
      "363/363 [==============================] - 0s 1ms/step - loss: 0.6156 - output_1_loss: 0.5343 - output_2_loss: 1.3475 - val_loss: 0.8177 - val_output_1_loss: 0.5307 - val_output_2_loss: 3.4011\n",
      "Epoch 9/10\n",
      "363/363 [==============================] - 0s 1ms/step - loss: 0.5944 - output_1_loss: 0.5161 - output_2_loss: 1.2993 - val_loss: 0.7603 - val_output_1_loss: 0.5085 - val_output_2_loss: 3.0264\n",
      "Epoch 10/10\n",
      "363/363 [==============================] - 0s 1ms/step - loss: 0.5767 - output_1_loss: 0.5011 - output_2_loss: 1.2569 - val_loss: 0.7185 - val_output_1_loss: 0.5001 - val_output_2_loss: 2.6840\n"
     ]
    }
   ],
   "source": [
    "model.compile(loss=\"mse\", loss_weights=[0.9, 0.1], optimizer=keras.optimizers.SGD(learning_rate=1e-3))\n",
    "history = model.fit((X_train_A, X_train_B), (y_train, y_train), epochs=10,\n",
    "                    validation_data=((X_val_A, X_val_B), (y_val, y_val)))"
   ]
  },
  {
   "cell_type": "code",
   "execution_count": 88,
   "id": "e6325ab7",
   "metadata": {},
   "outputs": [
    {
     "name": "stdout",
     "output_type": "stream",
     "text": [
      "162/162 [==============================] - 0s 779us/step - loss: 0.5716 - output_1_loss: 0.4972 - output_2_loss: 1.2407\n"
     ]
    }
   ],
   "source": [
    "eval_results = model.evaluate([X_test_A, X_test_B],[y_test, y_test])"
   ]
  }
 ],
 "metadata": {
  "kernelspec": {
   "display_name": "Python 3 (ipykernel)",
   "language": "python",
   "name": "python3"
  },
  "language_info": {
   "codemirror_mode": {
    "name": "ipython",
    "version": 3
   },
   "file_extension": ".py",
   "mimetype": "text/x-python",
   "name": "python",
   "nbconvert_exporter": "python",
   "pygments_lexer": "ipython3",
   "version": "3.8.6"
  }
 },
 "nbformat": 4,
 "nbformat_minor": 5
}
