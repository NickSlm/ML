{
 "cells": [
  {
   "cell_type": "code",
   "execution_count": 1,
   "id": "e4d250c3",
   "metadata": {},
   "outputs": [],
   "source": [
    "import os\n",
    "import numpy as np\n",
    "import matplotlib.pyplot as plt\n",
    "import tensorflow as tf\n",
    "import keras\n",
    "from sklearn.model_selection import train_test_split"
   ]
  },
  {
   "cell_type": "code",
   "execution_count": 2,
   "id": "367b90b1",
   "metadata": {},
   "outputs": [],
   "source": [
    "np.random.seed(42)"
   ]
  },
  {
   "cell_type": "code",
   "execution_count": 3,
   "id": "b22daab3",
   "metadata": {},
   "outputs": [],
   "source": [
    "dataset =  keras.datasets.cifar10.load_data()"
   ]
  },
  {
   "cell_type": "code",
   "execution_count": 4,
   "id": "a2cf604d",
   "metadata": {},
   "outputs": [],
   "source": [
    "(X_train_full, y_train_full), (X_test, y_test) = dataset"
   ]
  },
  {
   "cell_type": "code",
   "execution_count": 5,
   "id": "ed272d6f",
   "metadata": {},
   "outputs": [],
   "source": [
    "X_train = X_train_full[5000:]\n",
    "y_train = y_train_full[5000:]\n",
    "X_val = X_train_full[:5000]\n",
    "y_val = y_train_full[:5000]"
   ]
  },
  {
   "cell_type": "code",
   "execution_count": 6,
   "id": "a05fe582",
   "metadata": {},
   "outputs": [],
   "source": [
    "keras.backend.clear_session()\n",
    "tf.random.set_seed(42)\n",
    "np.random.seed(42)\n",
    "\n",
    "model = keras.models.Sequential()\n",
    "model.add(keras.layers.Flatten(input_shape=[32,32,3]))\n",
    "for i in range(20):\n",
    "    model.add(keras.layers.Dense(100, activation=\"elu\", kernel_initializer=\"he_normal\"))\n",
    "model.add(keras.layers.Dense(10, activation=\"softmax\"))"
   ]
  },
  {
   "cell_type": "code",
   "execution_count": 7,
   "id": "bd483538",
   "metadata": {},
   "outputs": [],
   "source": [
    "optimizer = keras.optimizers.Nadam(learning_rate=5e-5)\n",
    "model.compile(loss=\"sparse_categorical_crossentropy\", optimizer=optimizer, metrics=[\"accuracy\"])"
   ]
  },
  {
   "cell_type": "code",
   "execution_count": 8,
   "id": "92aca7f8",
   "metadata": {},
   "outputs": [],
   "source": [
    "run_index = 1\n",
    "run_logdir = os.path.join(os.curdir, \"my_cifar10_logs\", \"run_{:03d}\".format(run_index))"
   ]
  },
  {
   "cell_type": "code",
   "execution_count": 9,
   "id": "628a01c6",
   "metadata": {
    "scrolled": false
   },
   "outputs": [],
   "source": [
    "tb_cb = keras.callbacks.TensorBoard(run_logdir)\n",
    "cp_cb = keras.callbacks.ModelCheckpoint(\"my_cifar10_model.h5\", save_best_only=True)\n",
    "es_cb = keras.callbacks.EarlyStopping(patience=20)"
   ]
  },
  {
   "cell_type": "code",
   "execution_count": 10,
   "id": "b084b969",
   "metadata": {
    "scrolled": false
   },
   "outputs": [
    {
     "name": "stdout",
     "output_type": "stream",
     "text": [
      "Epoch 1/100\n",
      "1407/1407 [==============================] - 14s 8ms/step - loss: 4.1307 - accuracy: 0.1760 - val_loss: 2.1629 - val_accuracy: 0.2166\n",
      "Epoch 2/100\n",
      "1407/1407 [==============================] - 11s 8ms/step - loss: 2.0330 - accuracy: 0.2531 - val_loss: 2.0325 - val_accuracy: 0.2436\n",
      "Epoch 3/100\n",
      "1407/1407 [==============================] - 11s 8ms/step - loss: 1.9243 - accuracy: 0.2901 - val_loss: 1.9423 - val_accuracy: 0.2888\n",
      "Epoch 4/100\n",
      "1407/1407 [==============================] - 11s 8ms/step - loss: 1.8517 - accuracy: 0.3213 - val_loss: 1.9690 - val_accuracy: 0.2928\n",
      "Epoch 5/100\n",
      "1407/1407 [==============================] - 11s 8ms/step - loss: 1.7867 - accuracy: 0.3462 - val_loss: 1.7983 - val_accuracy: 0.3424\n",
      "Epoch 6/100\n",
      "1407/1407 [==============================] - 11s 8ms/step - loss: 1.7379 - accuracy: 0.3694 - val_loss: 1.7342 - val_accuracy: 0.3660\n",
      "Epoch 7/100\n",
      "1407/1407 [==============================] - 11s 8ms/step - loss: 1.6966 - accuracy: 0.3849 - val_loss: 1.6840 - val_accuracy: 0.3916\n",
      "Epoch 8/100\n",
      "1407/1407 [==============================] - 11s 8ms/step - loss: 1.6585 - accuracy: 0.3992 - val_loss: 1.6490 - val_accuracy: 0.4072\n",
      "Epoch 9/100\n",
      "1407/1407 [==============================] - 11s 8ms/step - loss: 1.6275 - accuracy: 0.4108 - val_loss: 1.6193 - val_accuracy: 0.4090\n",
      "Epoch 10/100\n",
      "1407/1407 [==============================] - 11s 8ms/step - loss: 1.5996 - accuracy: 0.4250 - val_loss: 1.6373 - val_accuracy: 0.4048\n",
      "Epoch 11/100\n",
      "1407/1407 [==============================] - 11s 8ms/step - loss: 1.5719 - accuracy: 0.4335 - val_loss: 1.6346 - val_accuracy: 0.4040\n",
      "Epoch 12/100\n",
      "1407/1407 [==============================] - 11s 8ms/step - loss: 1.5502 - accuracy: 0.4412 - val_loss: 1.6141 - val_accuracy: 0.4182\n",
      "Epoch 13/100\n",
      "1407/1407 [==============================] - 11s 8ms/step - loss: 1.5343 - accuracy: 0.4458 - val_loss: 1.6010 - val_accuracy: 0.4224\n",
      "Epoch 14/100\n",
      "1407/1407 [==============================] - 11s 8ms/step - loss: 1.5175 - accuracy: 0.4538 - val_loss: 1.5497 - val_accuracy: 0.4342\n",
      "Epoch 15/100\n",
      "1407/1407 [==============================] - 11s 8ms/step - loss: 1.5002 - accuracy: 0.4607 - val_loss: 1.5615 - val_accuracy: 0.4366\n",
      "Epoch 16/100\n",
      "1407/1407 [==============================] - 11s 8ms/step - loss: 1.4815 - accuracy: 0.4673 - val_loss: 1.5420 - val_accuracy: 0.4534\n",
      "Epoch 17/100\n",
      "1407/1407 [==============================] - 11s 8ms/step - loss: 1.4691 - accuracy: 0.4707 - val_loss: 1.5507 - val_accuracy: 0.4430\n",
      "Epoch 18/100\n",
      "1407/1407 [==============================] - 11s 8ms/step - loss: 1.4538 - accuracy: 0.4763 - val_loss: 1.5458 - val_accuracy: 0.4460\n",
      "Epoch 19/100\n",
      "1407/1407 [==============================] - 11s 8ms/step - loss: 1.4411 - accuracy: 0.4818 - val_loss: 1.5351 - val_accuracy: 0.4444\n",
      "Epoch 20/100\n",
      "1407/1407 [==============================] - 11s 8ms/step - loss: 1.4282 - accuracy: 0.4874 - val_loss: 1.5741 - val_accuracy: 0.4380\n",
      "Epoch 21/100\n",
      "1407/1407 [==============================] - 11s 8ms/step - loss: 1.4146 - accuracy: 0.4914 - val_loss: 1.5670 - val_accuracy: 0.4380\n",
      "Epoch 22/100\n",
      "1407/1407 [==============================] - 11s 8ms/step - loss: 1.4030 - accuracy: 0.4962 - val_loss: 1.5331 - val_accuracy: 0.4470\n",
      "Epoch 23/100\n",
      "1407/1407 [==============================] - 11s 8ms/step - loss: 1.3913 - accuracy: 0.5014 - val_loss: 1.5285 - val_accuracy: 0.4594\n",
      "Epoch 24/100\n",
      "1407/1407 [==============================] - 11s 8ms/step - loss: 1.3791 - accuracy: 0.5031 - val_loss: 1.5161 - val_accuracy: 0.4638\n",
      "Epoch 25/100\n",
      "1407/1407 [==============================] - 11s 8ms/step - loss: 1.3693 - accuracy: 0.5094 - val_loss: 1.4906 - val_accuracy: 0.4730\n",
      "Epoch 26/100\n",
      "1407/1407 [==============================] - 11s 8ms/step - loss: 1.3550 - accuracy: 0.5137 - val_loss: 1.5510 - val_accuracy: 0.4492\n",
      "Epoch 27/100\n",
      "1407/1407 [==============================] - 11s 8ms/step - loss: 1.3483 - accuracy: 0.5146 - val_loss: 1.4921 - val_accuracy: 0.4734\n",
      "Epoch 28/100\n",
      "1407/1407 [==============================] - 11s 8ms/step - loss: 1.3360 - accuracy: 0.5207 - val_loss: 1.5235 - val_accuracy: 0.4602\n",
      "Epoch 29/100\n",
      "1407/1407 [==============================] - 11s 8ms/step - loss: 1.3277 - accuracy: 0.5239 - val_loss: 1.4951 - val_accuracy: 0.4744\n",
      "Epoch 30/100\n",
      "1407/1407 [==============================] - 11s 8ms/step - loss: 1.3177 - accuracy: 0.5269 - val_loss: 1.5598 - val_accuracy: 0.4502\n",
      "Epoch 31/100\n",
      "1407/1407 [==============================] - 11s 8ms/step - loss: 1.3088 - accuracy: 0.5293 - val_loss: 1.5694 - val_accuracy: 0.4494\n",
      "Epoch 32/100\n",
      "1407/1407 [==============================] - 11s 8ms/step - loss: 1.3003 - accuracy: 0.5342 - val_loss: 1.5211 - val_accuracy: 0.4684\n",
      "Epoch 33/100\n",
      "1407/1407 [==============================] - 11s 8ms/step - loss: 1.2909 - accuracy: 0.5387 - val_loss: 1.5017 - val_accuracy: 0.4740\n",
      "Epoch 34/100\n",
      "1407/1407 [==============================] - 11s 8ms/step - loss: 1.2844 - accuracy: 0.5399 - val_loss: 1.4970 - val_accuracy: 0.4792\n",
      "Epoch 35/100\n",
      "1407/1407 [==============================] - 11s 8ms/step - loss: 1.2731 - accuracy: 0.5404 - val_loss: 1.5289 - val_accuracy: 0.4656\n",
      "Epoch 36/100\n",
      "1407/1407 [==============================] - 11s 8ms/step - loss: 1.2659 - accuracy: 0.5454 - val_loss: 1.5369 - val_accuracy: 0.4674\n",
      "Epoch 37/100\n",
      "1407/1407 [==============================] - 11s 8ms/step - loss: 1.2580 - accuracy: 0.5466 - val_loss: 1.5126 - val_accuracy: 0.4738\n",
      "Epoch 38/100\n",
      "1407/1407 [==============================] - 11s 8ms/step - loss: 1.2496 - accuracy: 0.5512 - val_loss: 1.5063 - val_accuracy: 0.4786\n",
      "Epoch 39/100\n",
      "1407/1407 [==============================] - 11s 8ms/step - loss: 1.2393 - accuracy: 0.5560 - val_loss: 1.5344 - val_accuracy: 0.4678\n",
      "Epoch 40/100\n",
      "1407/1407 [==============================] - 11s 8ms/step - loss: 1.2358 - accuracy: 0.5582 - val_loss: 1.5538 - val_accuracy: 0.4574\n",
      "Epoch 41/100\n",
      "1407/1407 [==============================] - 11s 8ms/step - loss: 1.2257 - accuracy: 0.5595 - val_loss: 1.5259 - val_accuracy: 0.4768\n",
      "Epoch 42/100\n",
      "1407/1407 [==============================] - 11s 8ms/step - loss: 1.2183 - accuracy: 0.5627 - val_loss: 1.5131 - val_accuracy: 0.4700\n",
      "Epoch 43/100\n",
      "1407/1407 [==============================] - 11s 8ms/step - loss: 1.2071 - accuracy: 0.5661 - val_loss: 1.5190 - val_accuracy: 0.4714\n",
      "Epoch 44/100\n",
      "1407/1407 [==============================] - 11s 8ms/step - loss: 1.2016 - accuracy: 0.5673 - val_loss: 1.5490 - val_accuracy: 0.4694\n",
      "Epoch 45/100\n",
      "1407/1407 [==============================] - 11s 8ms/step - loss: 1.1931 - accuracy: 0.5706 - val_loss: 1.5270 - val_accuracy: 0.4784\n"
     ]
    }
   ],
   "source": [
    "history = model.fit(X_train, y_train, epochs=100,\n",
    "                    validation_data=(X_val, y_val),\n",
    "                    callbacks=[tb_cb, cp_cb, es_cb])"
   ]
  },
  {
   "cell_type": "code",
   "execution_count": 11,
   "id": "97af9bed",
   "metadata": {},
   "outputs": [],
   "source": [
    "model_01 = keras.models.load_model(\"my_cifar10_model.h5\")"
   ]
  },
  {
   "cell_type": "code",
   "execution_count": 12,
   "id": "48ff3fbc",
   "metadata": {},
   "outputs": [
    {
     "name": "stdout",
     "output_type": "stream",
     "text": [
      "157/157 [==============================] - 0s 2ms/step - loss: 1.4906 - accuracy: 0.4730\n"
     ]
    },
    {
     "data": {
      "text/plain": [
       "[1.4906166791915894, 0.4729999899864197]"
      ]
     },
     "execution_count": 12,
     "metadata": {},
     "output_type": "execute_result"
    }
   ],
   "source": [
    "model_01.evaluate(X_val, y_val)"
   ]
  },
  {
   "cell_type": "code",
   "execution_count": 13,
   "id": "86897af7",
   "metadata": {},
   "outputs": [],
   "source": [
    "keras.backend.clear_session()\n",
    "tf.random.set_seed(42)\n",
    "np.random.seed(42)"
   ]
  },
  {
   "cell_type": "code",
   "execution_count": 14,
   "id": "880f195c",
   "metadata": {},
   "outputs": [],
   "source": [
    "model = keras.models.Sequential()\n",
    "\n",
    "model.add(keras.layers.Flatten(input_shape=[32,32,3]))\n",
    "model.add(keras.layers.BatchNormalization())\n",
    "\n",
    "for _ in range(20):\n",
    "    model.add(keras.layers.Dense(100, kernel_initializer=\"he_normal\"))\n",
    "    model.add(keras.layers.BatchNormalization())\n",
    "    model.add(keras.layers.Activation(\"elu\"))\n",
    "\n",
    "model.add(keras.layers.Dense(10, activation=\"softmax\"))"
   ]
  },
  {
   "cell_type": "code",
   "execution_count": 15,
   "id": "a373c508",
   "metadata": {},
   "outputs": [],
   "source": [
    "optimizer = keras.optimizers.Nadam(learning_rate=5e-4)\n",
    "model.compile(loss=\"sparse_categorical_crossentropy\", optimizer=optimizer, metrics=[\"accuracy\"])"
   ]
  },
  {
   "cell_type": "code",
   "execution_count": 16,
   "id": "700edd56",
   "metadata": {},
   "outputs": [],
   "source": [
    "checkpoint_cb = keras.callbacks.ModelCheckpoint(\"my_cifar10_cb_model.h5\",save_best_only=True)\n",
    "early_stopping_cb = keras.callbacks.EarlyStopping(patience=20)\n",
    "run_index = 1 # increment every time you train the model\n",
    "run_logdir = os.path.join(os.curdir, \"my_cifar10_logs\", \"run_bn_{:03d}\".format(run_index))\n",
    "tensorboard_cb = keras.callbacks.TensorBoard(run_logdir)"
   ]
  },
  {
   "cell_type": "code",
   "execution_count": 17,
   "id": "3b2f6a29",
   "metadata": {
    "scrolled": true
   },
   "outputs": [
    {
     "name": "stdout",
     "output_type": "stream",
     "text": [
      "Epoch 1/100\n",
      "1407/1407 [==============================] - 23s 12ms/step - loss: 1.8388 - accuracy: 0.3412 - val_loss: 1.6662 - val_accuracy: 0.3978\n",
      "Epoch 2/100\n",
      "1407/1407 [==============================] - 17s 12ms/step - loss: 1.6642 - accuracy: 0.4085 - val_loss: 1.5766 - val_accuracy: 0.4418\n",
      "Epoch 3/100\n",
      "1407/1407 [==============================] - 17s 12ms/step - loss: 1.5948 - accuracy: 0.4326 - val_loss: 1.5287 - val_accuracy: 0.4468\n",
      "Epoch 4/100\n",
      "1407/1407 [==============================] - 17s 12ms/step - loss: 1.5477 - accuracy: 0.4510 - val_loss: 1.5142 - val_accuracy: 0.4638\n",
      "Epoch 5/100\n",
      "1407/1407 [==============================] - 17s 12ms/step - loss: 1.5041 - accuracy: 0.4665 - val_loss: 1.4390 - val_accuracy: 0.4820\n",
      "Epoch 6/100\n",
      "1407/1407 [==============================] - 17s 12ms/step - loss: 1.4670 - accuracy: 0.4802 - val_loss: 1.4285 - val_accuracy: 0.4892\n",
      "Epoch 7/100\n",
      "1407/1407 [==============================] - 17s 12ms/step - loss: 1.4320 - accuracy: 0.4906 - val_loss: 1.4120 - val_accuracy: 0.4934\n",
      "Epoch 8/100\n",
      "1407/1407 [==============================] - 17s 12ms/step - loss: 1.4061 - accuracy: 0.5027 - val_loss: 1.3874 - val_accuracy: 0.5070\n",
      "Epoch 9/100\n",
      "1407/1407 [==============================] - 17s 12ms/step - loss: 1.3848 - accuracy: 0.5116 - val_loss: 1.3636 - val_accuracy: 0.5172\n",
      "Epoch 10/100\n",
      "1407/1407 [==============================] - 17s 12ms/step - loss: 1.3622 - accuracy: 0.5154 - val_loss: 1.3507 - val_accuracy: 0.5230\n",
      "Epoch 11/100\n",
      "1407/1407 [==============================] - 17s 12ms/step - loss: 1.3419 - accuracy: 0.5248 - val_loss: 1.3590 - val_accuracy: 0.5196\n",
      "Epoch 12/100\n",
      "1407/1407 [==============================] - 17s 12ms/step - loss: 1.3186 - accuracy: 0.5339 - val_loss: 1.3902 - val_accuracy: 0.5060\n",
      "Epoch 13/100\n",
      "1407/1407 [==============================] - 19s 14ms/step - loss: 1.2997 - accuracy: 0.5404 - val_loss: 1.3670 - val_accuracy: 0.5166\n",
      "Epoch 14/100\n",
      "1407/1407 [==============================] - 19s 13ms/step - loss: 1.2818 - accuracy: 0.5429 - val_loss: 1.3469 - val_accuracy: 0.5306\n",
      "Epoch 15/100\n",
      "1407/1407 [==============================] - 19s 13ms/step - loss: 1.2652 - accuracy: 0.5539 - val_loss: 1.3735 - val_accuracy: 0.5174\n",
      "Epoch 16/100\n",
      "1407/1407 [==============================] - 19s 13ms/step - loss: 1.2507 - accuracy: 0.5584 - val_loss: 1.3652 - val_accuracy: 0.5234\n",
      "Epoch 17/100\n",
      "1407/1407 [==============================] - 19s 13ms/step - loss: 1.2357 - accuracy: 0.5626 - val_loss: 1.3137 - val_accuracy: 0.5380\n",
      "Epoch 18/100\n",
      "1407/1407 [==============================] - 19s 13ms/step - loss: 1.2211 - accuracy: 0.5684 - val_loss: 1.3477 - val_accuracy: 0.5342\n",
      "Epoch 19/100\n",
      "1407/1407 [==============================] - 19s 13ms/step - loss: 1.2060 - accuracy: 0.5715 - val_loss: 1.3280 - val_accuracy: 0.5376\n",
      "Epoch 20/100\n",
      "1407/1407 [==============================] - 19s 13ms/step - loss: 1.1941 - accuracy: 0.5786 - val_loss: 1.3600 - val_accuracy: 0.5202\n",
      "Epoch 21/100\n",
      "1407/1407 [==============================] - 19s 13ms/step - loss: 1.1763 - accuracy: 0.5850 - val_loss: 1.3615 - val_accuracy: 0.5234\n",
      "Epoch 22/100\n",
      "1407/1407 [==============================] - 19s 13ms/step - loss: 1.1632 - accuracy: 0.5890 - val_loss: 1.3452 - val_accuracy: 0.5268\n",
      "Epoch 23/100\n",
      "1407/1407 [==============================] - 19s 13ms/step - loss: 1.1565 - accuracy: 0.5928 - val_loss: 1.3328 - val_accuracy: 0.5378\n",
      "Epoch 24/100\n",
      "1407/1407 [==============================] - 18s 13ms/step - loss: 1.1383 - accuracy: 0.5975 - val_loss: 1.3301 - val_accuracy: 0.5400\n",
      "Epoch 25/100\n",
      "1407/1407 [==============================] - 19s 13ms/step - loss: 1.1311 - accuracy: 0.5992 - val_loss: 1.3492 - val_accuracy: 0.5358\n",
      "Epoch 26/100\n",
      "1407/1407 [==============================] - 19s 13ms/step - loss: 1.1170 - accuracy: 0.6047 - val_loss: 1.3451 - val_accuracy: 0.5266\n",
      "Epoch 27/100\n",
      "1407/1407 [==============================] - 19s 13ms/step - loss: 1.1039 - accuracy: 0.6124 - val_loss: 1.3303 - val_accuracy: 0.5406\n",
      "Epoch 28/100\n",
      "1407/1407 [==============================] - 19s 13ms/step - loss: 1.0979 - accuracy: 0.6139 - val_loss: 1.3698 - val_accuracy: 0.5296\n",
      "Epoch 29/100\n",
      "1407/1407 [==============================] - 19s 13ms/step - loss: 1.0894 - accuracy: 0.6158 - val_loss: 1.3303 - val_accuracy: 0.5394\n",
      "Epoch 30/100\n",
      "1407/1407 [==============================] - 19s 13ms/step - loss: 1.0719 - accuracy: 0.6194 - val_loss: 1.3544 - val_accuracy: 0.5332\n",
      "Epoch 31/100\n",
      "1407/1407 [==============================] - 19s 13ms/step - loss: 1.0600 - accuracy: 0.6257 - val_loss: 1.3502 - val_accuracy: 0.5394\n",
      "Epoch 32/100\n",
      "1407/1407 [==============================] - 19s 13ms/step - loss: 1.0494 - accuracy: 0.6297 - val_loss: 1.3710 - val_accuracy: 0.5332\n",
      "Epoch 33/100\n",
      "1407/1407 [==============================] - 19s 13ms/step - loss: 1.0432 - accuracy: 0.6318 - val_loss: 1.3454 - val_accuracy: 0.5430\n",
      "Epoch 34/100\n",
      "1407/1407 [==============================] - 19s 13ms/step - loss: 1.0313 - accuracy: 0.6360 - val_loss: 1.3540 - val_accuracy: 0.5390\n",
      "Epoch 35/100\n",
      "1407/1407 [==============================] - 19s 13ms/step - loss: 1.0210 - accuracy: 0.6408 - val_loss: 1.3701 - val_accuracy: 0.5368\n",
      "Epoch 36/100\n",
      "1407/1407 [==============================] - 19s 13ms/step - loss: 1.0168 - accuracy: 0.6406 - val_loss: 1.3654 - val_accuracy: 0.5390\n",
      "Epoch 37/100\n",
      "1407/1407 [==============================] - 19s 13ms/step - loss: 0.9985 - accuracy: 0.6470 - val_loss: 1.3567 - val_accuracy: 0.5414\n"
     ]
    }
   ],
   "source": [
    "history = model.fit(X_train, y_train, epochs=100, \n",
    "                   validation_data=(X_val, y_val),\n",
    "                   callbacks=[checkpoint_cb,early_stopping_cb,tensorboard_cb])"
   ]
  },
  {
   "cell_type": "code",
   "execution_count": 18,
   "id": "8315ebc1",
   "metadata": {},
   "outputs": [
    {
     "name": "stdout",
     "output_type": "stream",
     "text": [
      "157/157 [==============================] - 0s 3ms/step - loss: 1.3567 - accuracy: 0.5414\n"
     ]
    },
    {
     "data": {
      "text/plain": [
       "[1.356709599494934, 0.5414000153541565]"
      ]
     },
     "execution_count": 18,
     "metadata": {},
     "output_type": "execute_result"
    }
   ],
   "source": [
    "model.evaluate(X_val, y_val)"
   ]
  },
  {
   "cell_type": "code",
   "execution_count": 19,
   "id": "296c3e9a",
   "metadata": {},
   "outputs": [],
   "source": [
    "keras.backend.clear_session()\n",
    "tf.random.set_seed(42)\n",
    "np.random.seed(42)"
   ]
  },
  {
   "cell_type": "code",
   "execution_count": 20,
   "id": "683aea93",
   "metadata": {},
   "outputs": [],
   "source": [
    "pixel_mean = np.mean(X_train, axis=0, keepdims=True)\n",
    "pixel_std = np.std(X_train, axis=0, keepdims=True)\n",
    "X_train_scaled = (X_train - pixel_mean) / pixel_std\n",
    "X_test_scaled = (X_test - pixel_mean) / pixel_std\n",
    "X_val_scaled = (X_val - pixel_mean) / pixel_std"
   ]
  },
  {
   "cell_type": "code",
   "execution_count": 21,
   "id": "c780c639",
   "metadata": {},
   "outputs": [],
   "source": [
    "model = keras.models.Sequential()\n",
    "\n",
    "model.add(keras.layers.Flatten(input_shape=[32,32,3]))\n",
    "for _ in range(20):\n",
    "    model.add(keras.layers.Dense(100, activation=\"selu\", kernel_initializer=\"lecun_normal\"))\n",
    "model.add(keras.layers.Dense(10, activation=\"softmax\"))"
   ]
  },
  {
   "cell_type": "code",
   "execution_count": 22,
   "id": "017961c9",
   "metadata": {},
   "outputs": [],
   "source": [
    "optimizer = keras.optimizers.Nadam(learning_rate=7e-4)\n",
    "model.compile(loss=\"sparse_categorical_crossentropy\", \n",
    "              optimizer=optimizer, \n",
    "              metrics=[\"accuracy\"])"
   ]
  },
  {
   "cell_type": "code",
   "execution_count": 23,
   "id": "66479890",
   "metadata": {
    "scrolled": true
   },
   "outputs": [
    {
     "name": "stdout",
     "output_type": "stream",
     "text": [
      "Epoch 1/100\n",
      "1407/1407 [==============================] - 14s 9ms/step - loss: 1.9145 - accuracy: 0.3093 - val_loss: 1.7808 - val_accuracy: 0.3590\n",
      "Epoch 2/100\n",
      "1407/1407 [==============================] - 12s 8ms/step - loss: 1.6957 - accuracy: 0.3980 - val_loss: 1.7935 - val_accuracy: 0.3508\n",
      "Epoch 3/100\n",
      "1407/1407 [==============================] - 12s 9ms/step - loss: 1.6009 - accuracy: 0.4337 - val_loss: 1.6514 - val_accuracy: 0.4242\n",
      "Epoch 4/100\n",
      "1407/1407 [==============================] - 12s 9ms/step - loss: 1.5388 - accuracy: 0.4596 - val_loss: 1.6812 - val_accuracy: 0.4086\n",
      "Epoch 5/100\n",
      "1407/1407 [==============================] - 12s 8ms/step - loss: 1.4869 - accuracy: 0.4779 - val_loss: 1.6583 - val_accuracy: 0.4306\n",
      "Epoch 6/100\n",
      "1407/1407 [==============================] - 12s 9ms/step - loss: 1.4357 - accuracy: 0.4978 - val_loss: 1.5328 - val_accuracy: 0.4608\n",
      "Epoch 7/100\n",
      "1407/1407 [==============================] - 12s 9ms/step - loss: 1.3978 - accuracy: 0.5096 - val_loss: 1.5399 - val_accuracy: 0.4572\n",
      "Epoch 8/100\n",
      "1407/1407 [==============================] - 12s 9ms/step - loss: 1.3584 - accuracy: 0.5267 - val_loss: 1.4861 - val_accuracy: 0.4862\n",
      "Epoch 9/100\n",
      "1407/1407 [==============================] - 12s 8ms/step - loss: 1.3264 - accuracy: 0.5397 - val_loss: 1.4777 - val_accuracy: 0.4794\n",
      "Epoch 10/100\n",
      "1407/1407 [==============================] - 12s 8ms/step - loss: 1.2936 - accuracy: 0.5521 - val_loss: 1.5070 - val_accuracy: 0.4958\n",
      "Epoch 11/100\n",
      "1407/1407 [==============================] - 12s 8ms/step - loss: 1.2654 - accuracy: 0.5639 - val_loss: 1.5556 - val_accuracy: 0.4854\n",
      "Epoch 12/100\n",
      "1407/1407 [==============================] - 12s 8ms/step - loss: 1.2365 - accuracy: 0.5718 - val_loss: 1.4903 - val_accuracy: 0.4964\n",
      "Epoch 13/100\n",
      "1407/1407 [==============================] - 12s 9ms/step - loss: 1.2151 - accuracy: 0.5790 - val_loss: 1.5143 - val_accuracy: 0.5018\n",
      "Epoch 14/100\n",
      "1407/1407 [==============================] - 12s 9ms/step - loss: 1.1826 - accuracy: 0.5933 - val_loss: 1.4843 - val_accuracy: 0.5012\n",
      "Epoch 15/100\n",
      "1407/1407 [==============================] - 12s 8ms/step - loss: 1.1619 - accuracy: 0.5997 - val_loss: 1.5297 - val_accuracy: 0.5008\n",
      "Epoch 16/100\n",
      "1407/1407 [==============================] - 12s 8ms/step - loss: 1.1369 - accuracy: 0.6106 - val_loss: 1.5662 - val_accuracy: 0.5004\n",
      "Epoch 17/100\n",
      "1407/1407 [==============================] - 12s 8ms/step - loss: 1.1224 - accuracy: 0.6180 - val_loss: 1.5700 - val_accuracy: 0.4870\n",
      "Epoch 18/100\n",
      "1407/1407 [==============================] - 12s 8ms/step - loss: 1.0999 - accuracy: 0.6223 - val_loss: 1.5296 - val_accuracy: 0.4972\n",
      "Epoch 19/100\n",
      "1407/1407 [==============================] - 12s 8ms/step - loss: 1.0922 - accuracy: 0.6265 - val_loss: 1.5711 - val_accuracy: 0.5052\n",
      "Epoch 20/100\n",
      "1407/1407 [==============================] - 12s 8ms/step - loss: 1.0602 - accuracy: 0.6371 - val_loss: 1.5476 - val_accuracy: 0.5076\n",
      "Epoch 21/100\n",
      "1407/1407 [==============================] - 12s 8ms/step - loss: 1.0439 - accuracy: 0.6448 - val_loss: 1.5638 - val_accuracy: 0.4988\n",
      "Epoch 22/100\n",
      "1407/1407 [==============================] - 12s 8ms/step - loss: 1.0266 - accuracy: 0.6510 - val_loss: 1.5975 - val_accuracy: 0.5064\n",
      "Epoch 23/100\n",
      "1407/1407 [==============================] - 12s 8ms/step - loss: 1.0087 - accuracy: 0.6576 - val_loss: 1.5946 - val_accuracy: 0.5026\n",
      "Epoch 24/100\n",
      "1407/1407 [==============================] - 12s 8ms/step - loss: 0.9951 - accuracy: 0.6635 - val_loss: 1.5375 - val_accuracy: 0.5000\n",
      "Epoch 25/100\n",
      "1407/1407 [==============================] - 12s 8ms/step - loss: 0.9766 - accuracy: 0.6680 - val_loss: 1.5832 - val_accuracy: 0.5048\n",
      "Epoch 26/100\n",
      "1407/1407 [==============================] - 12s 8ms/step - loss: 0.9565 - accuracy: 0.6780 - val_loss: 1.6034 - val_accuracy: 0.5026\n",
      "Epoch 27/100\n",
      "1407/1407 [==============================] - 12s 8ms/step - loss: 0.9552 - accuracy: 0.6770 - val_loss: 1.5670 - val_accuracy: 0.5112\n",
      "Epoch 28/100\n",
      "1407/1407 [==============================] - 11s 8ms/step - loss: 0.9648 - accuracy: 0.6772 - val_loss: 1.5726 - val_accuracy: 0.5052\n",
      "Epoch 29/100\n",
      "1407/1407 [==============================] - 11s 8ms/step - loss: 0.9178 - accuracy: 0.6894 - val_loss: 1.6132 - val_accuracy: 0.4986\n"
     ]
    }
   ],
   "source": [
    "early_stopping_cb = keras.callbacks.EarlyStopping(patience=20)\n",
    "model_checkpoint_cb = keras.callbacks.ModelCheckpoint(\"my_cifar10_selu_model.h5\", save_best_only=True)\n",
    "run_index = 1\n",
    "run_logdir = os.path.join(os.curdir, \"my_cifar10_logs\", \"run_selu_{:03d}\".format(run_index))\n",
    "tensorboard_cb = keras.callbacks.TensorBoard(run_logdir)\n",
    "callbacks = [early_stopping_cb, model_checkpoint_cb, tensorboard_cb]\n",
    "\n",
    "history = model.fit(X_train_scaled, y_train, \n",
    "                    epochs=100,\n",
    "                    validation_data=(X_val_scaled, y_val),\n",
    "                    callbacks=callbacks)"
   ]
  },
  {
   "cell_type": "code",
   "execution_count": 24,
   "id": "32aae562",
   "metadata": {},
   "outputs": [
    {
     "name": "stdout",
     "output_type": "stream",
     "text": [
      "157/157 [==============================] - 0s 2ms/step - loss: 1.6132 - accuracy: 0.4986\n"
     ]
    },
    {
     "data": {
      "text/plain": [
       "[1.6131893396377563, 0.4986000061035156]"
      ]
     },
     "execution_count": 24,
     "metadata": {},
     "output_type": "execute_result"
    }
   ],
   "source": [
    "model.evaluate(X_val_scaled, y_val)"
   ]
  },
  {
   "cell_type": "code",
   "execution_count": 25,
   "id": "28303a3a",
   "metadata": {},
   "outputs": [],
   "source": [
    "keras.backend.clear_session()\n",
    "tf.random.set_seed(42)\n",
    "np.random.seed(42)"
   ]
  },
  {
   "cell_type": "code",
   "execution_count": 26,
   "id": "fa7a12ab",
   "metadata": {},
   "outputs": [],
   "source": [
    "model = keras.models.Sequential()\n",
    "\n",
    "model.add(keras.layers.Flatten(input_shape=[32, 32, 3]))\n",
    "for _ in range(20):\n",
    "    model.add(keras.layers.Dense(100, activation=\"selu\", kernel_initializer=\"lecun_normal\"))\n",
    "model.add(keras.layers.AlphaDropout(rate=0.1))\n",
    "model.add(keras.layers.Dense(10, activation=\"softmax\"))"
   ]
  },
  {
   "cell_type": "code",
   "execution_count": 27,
   "id": "bd255647",
   "metadata": {},
   "outputs": [],
   "source": [
    "optimizer = keras.optimizers.Nadam(learning_rate=5e-4)\n",
    "model.compile(loss=\"sparse_categorical_crossentropy\", optimizer=optimizer, metrics=[\"accuracy\"])"
   ]
  },
  {
   "cell_type": "code",
   "execution_count": 28,
   "id": "4177cc21",
   "metadata": {
    "scrolled": true
   },
   "outputs": [
    {
     "name": "stdout",
     "output_type": "stream",
     "text": [
      "Epoch 1/100\n",
      "1407/1407 [==============================] - 14s 8ms/step - loss: 1.9004 - accuracy: 0.3255 - val_loss: 1.7892 - val_accuracy: 0.3836\n",
      "Epoch 2/100\n",
      "1407/1407 [==============================] - 11s 8ms/step - loss: 1.6715 - accuracy: 0.4092 - val_loss: 1.6773 - val_accuracy: 0.4144\n",
      "Epoch 3/100\n",
      "1407/1407 [==============================] - 11s 8ms/step - loss: 1.5782 - accuracy: 0.4451 - val_loss: 1.6189 - val_accuracy: 0.4338\n",
      "Epoch 4/100\n",
      "1407/1407 [==============================] - 11s 8ms/step - loss: 1.5146 - accuracy: 0.4680 - val_loss: 1.5944 - val_accuracy: 0.4490\n",
      "Epoch 5/100\n",
      "1407/1407 [==============================] - 11s 8ms/step - loss: 1.4566 - accuracy: 0.4909 - val_loss: 1.6150 - val_accuracy: 0.4480\n",
      "Epoch 6/100\n",
      "1407/1407 [==============================] - 11s 8ms/step - loss: 1.4126 - accuracy: 0.5078 - val_loss: 1.5146 - val_accuracy: 0.4780\n",
      "Epoch 7/100\n",
      "1407/1407 [==============================] - 11s 8ms/step - loss: 1.3624 - accuracy: 0.5256 - val_loss: 1.5519 - val_accuracy: 0.4810\n",
      "Epoch 8/100\n",
      "1407/1407 [==============================] - 12s 9ms/step - loss: 1.3249 - accuracy: 0.5398 - val_loss: 1.4945 - val_accuracy: 0.4876\n",
      "Epoch 9/100\n",
      "1407/1407 [==============================] - 12s 9ms/step - loss: 1.2876 - accuracy: 0.5553 - val_loss: 1.5401 - val_accuracy: 0.4860\n",
      "Epoch 10/100\n",
      "1407/1407 [==============================] - 12s 9ms/step - loss: 1.2551 - accuracy: 0.5684 - val_loss: 1.5546 - val_accuracy: 0.4880\n",
      "Epoch 11/100\n",
      "1407/1407 [==============================] - 12s 9ms/step - loss: 1.2278 - accuracy: 0.5766 - val_loss: 1.5699 - val_accuracy: 0.4958\n",
      "Epoch 12/100\n",
      "1407/1407 [==============================] - 12s 9ms/step - loss: 1.1976 - accuracy: 0.5891 - val_loss: 1.4810 - val_accuracy: 0.5100\n",
      "Epoch 13/100\n",
      "1407/1407 [==============================] - 12s 9ms/step - loss: 1.1690 - accuracy: 0.5986 - val_loss: 1.5756 - val_accuracy: 0.5038\n",
      "Epoch 14/100\n",
      "1407/1407 [==============================] - 12s 9ms/step - loss: 1.1431 - accuracy: 0.6060 - val_loss: 1.5474 - val_accuracy: 0.5120\n",
      "Epoch 15/100\n",
      "1407/1407 [==============================] - 12s 9ms/step - loss: 1.1091 - accuracy: 0.6208 - val_loss: 1.6065 - val_accuracy: 0.4956\n",
      "Epoch 16/100\n",
      "1407/1407 [==============================] - 12s 9ms/step - loss: 1.0963 - accuracy: 0.6243 - val_loss: 1.5718 - val_accuracy: 0.5196\n",
      "Epoch 17/100\n",
      "1407/1407 [==============================] - 12s 8ms/step - loss: 1.0768 - accuracy: 0.6284 - val_loss: 1.6215 - val_accuracy: 0.5088\n",
      "Epoch 18/100\n",
      "1407/1407 [==============================] - 12s 9ms/step - loss: 1.0518 - accuracy: 0.6394 - val_loss: 1.6345 - val_accuracy: 0.5018\n",
      "Epoch 19/100\n",
      "1407/1407 [==============================] - 12s 9ms/step - loss: 1.0270 - accuracy: 0.6486 - val_loss: 1.6688 - val_accuracy: 0.5062\n",
      "Epoch 20/100\n",
      "1407/1407 [==============================] - 12s 9ms/step - loss: 1.0068 - accuracy: 0.6529 - val_loss: 1.6999 - val_accuracy: 0.5086\n",
      "Epoch 21/100\n",
      "1407/1407 [==============================] - 12s 9ms/step - loss: 0.9917 - accuracy: 0.6620 - val_loss: 1.7586 - val_accuracy: 0.5106\n",
      "Epoch 22/100\n",
      "1407/1407 [==============================] - 12s 8ms/step - loss: 0.9648 - accuracy: 0.6709 - val_loss: 1.6720 - val_accuracy: 0.5164\n",
      "Epoch 23/100\n",
      "1407/1407 [==============================] - 12s 8ms/step - loss: 0.9466 - accuracy: 0.6761 - val_loss: 1.7070 - val_accuracy: 0.5076\n",
      "Epoch 24/100\n",
      "1407/1407 [==============================] - 12s 8ms/step - loss: 0.9353 - accuracy: 0.6804 - val_loss: 1.6983 - val_accuracy: 0.5178\n",
      "Epoch 25/100\n",
      "1407/1407 [==============================] - 12s 8ms/step - loss: 0.9077 - accuracy: 0.6900 - val_loss: 1.7548 - val_accuracy: 0.5198\n",
      "Epoch 26/100\n",
      "1407/1407 [==============================] - 12s 8ms/step - loss: 0.8936 - accuracy: 0.6983 - val_loss: 1.7998 - val_accuracy: 0.5088\n",
      "Epoch 27/100\n",
      "1407/1407 [==============================] - 12s 8ms/step - loss: 0.8833 - accuracy: 0.7031 - val_loss: 1.7433 - val_accuracy: 0.5094\n",
      "Epoch 28/100\n",
      "1407/1407 [==============================] - 12s 8ms/step - loss: 0.8603 - accuracy: 0.7056 - val_loss: 1.7908 - val_accuracy: 0.5106\n",
      "Epoch 29/100\n",
      "1407/1407 [==============================] - 12s 8ms/step - loss: 0.8497 - accuracy: 0.7127 - val_loss: 1.9190 - val_accuracy: 0.5002\n",
      "Epoch 30/100\n",
      "1407/1407 [==============================] - 12s 8ms/step - loss: 0.8420 - accuracy: 0.7160 - val_loss: 1.9169 - val_accuracy: 0.5164\n",
      "Epoch 31/100\n",
      "1407/1407 [==============================] - 12s 8ms/step - loss: 0.8343 - accuracy: 0.7183 - val_loss: 1.8114 - val_accuracy: 0.5110\n",
      "Epoch 32/100\n",
      "1407/1407 [==============================] - 12s 8ms/step - loss: 0.8128 - accuracy: 0.7268 - val_loss: 1.8542 - val_accuracy: 0.5056\n"
     ]
    }
   ],
   "source": [
    "early_stopping_cb = keras.callbacks.EarlyStopping(patience=20)\n",
    "checkpoint_cb = keras.callbacks.ModelCheckpoint(\"my_cifar10_adropout_model.h5\", save_best_only=True)\n",
    "callbacks = [early_stopping_cb, checkpoint_cb]\n",
    "history = model.fit(X_train_scaled, y_train, \n",
    "                   epochs=100,\n",
    "                   validation_data=(X_val_scaled, y_val),\n",
    "                   callbacks=callbacks)"
   ]
  },
  {
   "cell_type": "code",
   "execution_count": 29,
   "id": "bb81be02",
   "metadata": {},
   "outputs": [
    {
     "name": "stdout",
     "output_type": "stream",
     "text": [
      "157/157 [==============================] - 0s 2ms/step - loss: 1.8542 - accuracy: 0.5056\n"
     ]
    },
    {
     "data": {
      "text/plain": [
       "[1.8542146682739258, 0.5055999755859375]"
      ]
     },
     "execution_count": 29,
     "metadata": {},
     "output_type": "execute_result"
    }
   ],
   "source": [
    "model.evaluate(X_val_scaled, y_val)"
   ]
  },
  {
   "cell_type": "code",
   "execution_count": 30,
   "id": "49cbecac",
   "metadata": {},
   "outputs": [],
   "source": [
    "class MCAlphaDropout(keras.layers.AlphaDropout):\n",
    "    def call(self, inputs):\n",
    "        return super().call(inputs, training=True)"
   ]
  },
  {
   "cell_type": "code",
   "execution_count": 31,
   "id": "ec4d5f62",
   "metadata": {},
   "outputs": [],
   "source": [
    "mc_model = keras.models.Sequential([\n",
    "    MCAlphaDropout(layer.rate) if isinstance(layer, keras.layers.AlphaDropout) else layer\n",
    "    for layer in model.layers\n",
    "])"
   ]
  },
  {
   "cell_type": "code",
   "execution_count": 32,
   "id": "d297900c",
   "metadata": {},
   "outputs": [],
   "source": [
    "def mc_dropout_predict_probas(mc_model, X, n_samples=10):\n",
    "    Y_probas = [mc_model.predict(X) for sample in range(n_samples)]\n",
    "    return np.mean(Y_probas, axis=0)\n",
    "\n",
    "def mc_dropout_predict_classes(mc_model, X, n_samples=10):\n",
    "    Y_probas = mc_dropout_predict_probas(mc_model, X, n_samples)\n",
    "    return np.argmax(Y_probas, axis=1)"
   ]
  },
  {
   "cell_type": "code",
   "execution_count": 33,
   "id": "c1454a9a",
   "metadata": {},
   "outputs": [
    {
     "name": "stdout",
     "output_type": "stream",
     "text": [
      "157/157 [==============================] - 0s 2ms/step\n",
      "157/157 [==============================] - 0s 2ms/step\n",
      "157/157 [==============================] - 0s 2ms/step\n",
      "157/157 [==============================] - 0s 2ms/step\n",
      "157/157 [==============================] - 0s 2ms/step\n",
      "157/157 [==============================] - 0s 2ms/step\n",
      "157/157 [==============================] - 0s 2ms/step\n",
      "157/157 [==============================] - 0s 2ms/step\n",
      "157/157 [==============================] - 0s 2ms/step\n",
      "157/157 [==============================] - 0s 2ms/step\n"
     ]
    },
    {
     "data": {
      "text/plain": [
       "0.5058"
      ]
     },
     "execution_count": 33,
     "metadata": {},
     "output_type": "execute_result"
    }
   ],
   "source": [
    "keras.backend.clear_session()\n",
    "tf.random.set_seed(42)\n",
    "np.random.seed(42)\n",
    "\n",
    "y_pred = mc_dropout_predict_classes(mc_model, X_val_scaled)\n",
    "accuracy = np.mean(y_pred == y_val[:, 0])\n",
    "accuracy"
   ]
  },
  {
   "cell_type": "code",
   "execution_count": 34,
   "id": "7a0ce980",
   "metadata": {},
   "outputs": [],
   "source": [
    "def mc_dropout_predict_probas(model, X, n_samples=10):\n",
    "    y_probas = [model.predict(X) for _ in range(n_samples)]\n",
    "    return np.mean(y_probas, axis=0)\n",
    "def mc_dropout_predict_classes(model, X, n_samples=10):\n",
    "    y_probas = mc_dropout_predict_probas(model, X, n_samples)\n",
    "    return np.argmax(y_probas, axis=1)"
   ]
  },
  {
   "cell_type": "code",
   "execution_count": 35,
   "id": "8da68afb",
   "metadata": {},
   "outputs": [],
   "source": [
    "keras.backend.clear_session()\n",
    "tf.random.set_seed(42)\n",
    "np.random.seed(42)"
   ]
  },
  {
   "cell_type": "code",
   "execution_count": 36,
   "id": "01193822",
   "metadata": {},
   "outputs": [
    {
     "name": "stdout",
     "output_type": "stream",
     "text": [
      "157/157 [==============================] - 0s 2ms/step\n",
      "157/157 [==============================] - 0s 2ms/step\n",
      "157/157 [==============================] - 0s 2ms/step\n",
      "157/157 [==============================] - 0s 2ms/step\n",
      "157/157 [==============================] - 0s 2ms/step\n",
      "157/157 [==============================] - 0s 2ms/step\n",
      "157/157 [==============================] - 0s 2ms/step\n",
      "157/157 [==============================] - 0s 2ms/step\n",
      "157/157 [==============================] - 0s 2ms/step\n",
      "157/157 [==============================] - 0s 2ms/step\n"
     ]
    }
   ],
   "source": [
    "y_pred = mc_dropout_predict_classes(mc_model, X_val_scaled)"
   ]
  },
  {
   "cell_type": "code",
   "execution_count": 37,
   "id": "81f43ca6",
   "metadata": {},
   "outputs": [
    {
     "data": {
      "text/plain": [
       "array([6, 9, 9, ..., 5, 4, 6], dtype=uint8)"
      ]
     },
     "execution_count": 37,
     "metadata": {},
     "output_type": "execute_result"
    }
   ],
   "source": [
    "accuracy = np.mean(y_pred == y_val[:, 0])\n",
    "accuracy\n",
    "y_val[:, 0]"
   ]
  },
  {
   "cell_type": "code",
   "execution_count": 38,
   "id": "3290f3a3",
   "metadata": {},
   "outputs": [],
   "source": [
    "import math\n",
    "keras.backend.clear_session()\n",
    "tf.random.set_seed(42)\n",
    "np.random.seed(42)"
   ]
  },
  {
   "cell_type": "code",
   "execution_count": 39,
   "id": "94eed477",
   "metadata": {},
   "outputs": [],
   "source": [
    "K = keras.backend\n",
    "\n",
    "class ExponentialLearningRate(keras.callbacks.Callback):\n",
    "    def __init__(self, factor):\n",
    "        self.factor = factor\n",
    "        self.rates = []\n",
    "        self.losses = []\n",
    "    \n",
    "    def on_batch_end(self, batch, logs):\n",
    "        self.rates.append(K.get_value(self.model.optimizer.learning_rate))\n",
    "        self.losses.append(logs[\"loss\"])\n",
    "        K.set_value(self.model.optimizer.learning_rate, self.model.optimizer.learning_rate * self.factor)\n",
    "\n",
    "def find_learning_rate(model, X, y, epochs=1, batch_size=32, min_rate=10**-5, max_rate=10):\n",
    "    init_weights = model.get_weights()\n",
    "    iterations = math.ceil(len(X) / batch_size) * epochs\n",
    "    factor = np.exp(np.log(max_rate / min_rate) / iterations)\n",
    "    init_lr = K.get_value(model.optimizer.learning_rate)\n",
    "    K.set_value(model.optimizer.learning_rate, min_rate)\n",
    "    exp_lr = ExponentialLearningRate(factor)\n",
    "    history = model.fit(X, y, epochs=epochs, batch_size=batch_size,\n",
    "                        callbacks=[exp_lr])\n",
    "    K.set_value(model.optimizer.learning_rate, init_lr)\n",
    "    model.set_weights(init_weights)\n",
    "    return exp_lr.rates, exp_lr.losses\n",
    "\n",
    "def plot_lr_vs_loss(rates, losses):\n",
    "    plt.plot(rates, losses)\n",
    "    plt.gca().set_xscale('log')\n",
    "    plt.hlines(min(losses), min(rates), max(rates))\n",
    "    plt.axis([min(rates), max(rates), min(losses), (losses[0] + min(losses)) / 2])\n",
    "    plt.xlabel(\"Learning rate\")\n",
    "    plt.ylabel(\"Loss\")"
   ]
  },
  {
   "cell_type": "code",
   "execution_count": 40,
   "id": "6797c05a",
   "metadata": {},
   "outputs": [],
   "source": [
    "model = keras.models.Sequential()\n",
    "\n",
    "model.add(keras.layers.Flatten(input_shape=[32,32,3]))\n",
    "for _ in range(20):\n",
    "    model.add(keras.layers.Dense(100, activation=\"selu\", \n",
    "                                 kernel_initializer=\"lecun_normal\"))\n",
    "model.add(keras.layers.AlphaDropout(rate=0.1))\n",
    "model.add(keras.layers.Dense(10, activation=\"softmax\"))\n",
    "\n",
    "optimizer = keras.optimizers.SGD(learning_rate=1e-3)\n",
    "model.compile(loss=\"sparse_categorical_crossentropy\", \n",
    "              optimizer=optimizer, \n",
    "              metrics=[\"accuracy\"])"
   ]
  },
  {
   "cell_type": "code",
   "execution_count": 41,
   "id": "25b09943",
   "metadata": {},
   "outputs": [
    {
     "name": "stdout",
     "output_type": "stream",
     "text": [
      "352/352 [==============================] - 4s 9ms/step - loss: nan - accuracy: 0.1451\n"
     ]
    },
    {
     "data": {
      "text/plain": [
       "(9.999999747378752e-06,\n",
       " 9.615227699279785,\n",
       " 2.581674575805664,\n",
       " 3.883039270128523)"
      ]
     },
     "execution_count": 41,
     "metadata": {},
     "output_type": "execute_result"
    },
    {
     "data": {
      "image/png": "[encoded data removed]",
      "text/plain": [
       "<Figure size 640x480 with 1 Axes>"
      ]
     },
     "metadata": {},
     "output_type": "display_data"
    }
   ],
   "source": [
    "batch_size = 128\n",
    "rates, losses = find_learning_rate(model, X_train_scaled, y_train, epochs=1, batch_size=batch_size)\n",
    "plot_lr_vs_loss(rates, losses)\n",
    "plt.axis([min(rates), max(rates), min(losses),(losses[0] + min(losses)) / 1.4])"
   ]
  },
  {
   "cell_type": "code",
   "execution_count": 43,
   "id": "9277e8a6",
   "metadata": {},
   "outputs": [],
   "source": [
    "keras.backend.clear_session()\n",
    "tf.random.set_seed(42)\n",
    "np.random.seed(42)"
   ]
  },
  {
   "cell_type": "code",
   "execution_count": 44,
   "id": "a8196c07",
   "metadata": {},
   "outputs": [],
   "source": [
    "class OneCycleScheduler(keras.callbacks.Callback):\n",
    "    def __init__(self, iterations, max_rate, start_rate=None,\n",
    "                 last_iterations=None, last_rate=None):\n",
    "        self.iterations = iterations\n",
    "        self.max_rate = max_rate\n",
    "        self.start_rate = start_rate or max_rate / 10\n",
    "        self.last_iterations = last_iterations or iterations // 10 + 1\n",
    "        self.half_iteration = (iterations - self.last_iterations) // 2\n",
    "        self.last_rate = last_rate or self.start_rate / 1000\n",
    "        self.iteration = 0\n",
    "    def _interpolate(self, iter1, iter2, rate1, rate2):\n",
    "        return ((rate2 - rate1) * (self.iteration - iter1)\n",
    "                / (iter2 - iter1) + rate1)\n",
    "    def on_batch_begin(self, batch, logs):\n",
    "        if self.iteration < self.half_iteration:\n",
    "            rate = self._interpolate(0, self.half_iteration, self.start_rate, self.max_rate)\n",
    "        elif self.iteration < 2 * self.half_iteration:\n",
    "            rate = self._interpolate(self.half_iteration, 2 * self.half_iteration,\n",
    "                                     self.max_rate, self.start_rate)\n",
    "        else:\n",
    "            rate = self._interpolate(2 * self.half_iteration, self.iterations,\n",
    "                                     self.start_rate, self.last_rate)\n",
    "        self.iteration += 1\n",
    "        K.set_value(self.model.optimizer.learning_rate, rate)"
   ]
  },
  {
   "cell_type": "code",
   "execution_count": 45,
   "id": "09a5f201",
   "metadata": {},
   "outputs": [],
   "source": [
    "model = keras.models.Sequential()\n",
    "\n",
    "model.add(keras.layers.Flatten(input_shape=[32,32,3]))\n",
    "for _ in range(20):\n",
    "    model.add(keras.layers.Dense(100, activation=\"selu\", kernel_initializer=\"lecun_normal\"))\n",
    "model.add(keras.layers.AlphaDropout(rate=0.1))\n",
    "model.add(keras.layers.Dense(10, activation=\"softmax\"))\n",
    "\n",
    "optimizer = keras.optimizers.SGD(learning_rate=1e-3)\n",
    "model.compile(loss=\"sparse_categorical_crossentropy\", \n",
    "              optimizer=optimizer, \n",
    "              metrics=[\"accuracy\"])"
   ]
  },
  {
   "cell_type": "code",
   "execution_count": 47,
   "id": "c05e3c51",
   "metadata": {},
   "outputs": [
    {
     "name": "stdout",
     "output_type": "stream",
     "text": [
      "Epoch 1/15\n",
      "352/352 [==============================] - 4s 10ms/step - loss: 2.0681 - accuracy: 0.2820 - val_loss: 1.7649 - val_accuracy: 0.3724\n",
      "Epoch 2/15\n",
      "352/352 [==============================] - 3s 9ms/step - loss: 1.7472 - accuracy: 0.3773 - val_loss: 1.6514 - val_accuracy: 0.4128\n",
      "Epoch 3/15\n",
      "352/352 [==============================] - 3s 9ms/step - loss: 1.6215 - accuracy: 0.4213 - val_loss: 1.6351 - val_accuracy: 0.4282\n",
      "Epoch 4/15\n",
      "352/352 [==============================] - 3s 9ms/step - loss: 1.5524 - accuracy: 0.4484 - val_loss: 1.6113 - val_accuracy: 0.4364\n",
      "Epoch 5/15\n",
      "352/352 [==============================] - 3s 9ms/step - loss: 1.5063 - accuracy: 0.4664 - val_loss: 1.6787 - val_accuracy: 0.4342\n",
      "Epoch 6/15\n",
      "352/352 [==============================] - 3s 9ms/step - loss: 1.4676 - accuracy: 0.4784 - val_loss: 1.5594 - val_accuracy: 0.4568\n",
      "Epoch 7/15\n",
      "352/352 [==============================] - 3s 9ms/step - loss: 1.4296 - accuracy: 0.4923 - val_loss: 1.5865 - val_accuracy: 0.4482\n",
      "Epoch 8/15\n",
      "352/352 [==============================] - 3s 9ms/step - loss: 1.3581 - accuracy: 0.5179 - val_loss: 1.5405 - val_accuracy: 0.4762\n",
      "Epoch 9/15\n",
      "352/352 [==============================] - 3s 9ms/step - loss: 1.2851 - accuracy: 0.5450 - val_loss: 1.5419 - val_accuracy: 0.4864\n",
      "Epoch 10/15\n",
      "352/352 [==============================] - 3s 9ms/step - loss: 1.2185 - accuracy: 0.5673 - val_loss: 1.5524 - val_accuracy: 0.4940\n",
      "Epoch 11/15\n",
      "352/352 [==============================] - 3s 9ms/step - loss: 1.1468 - accuracy: 0.5934 - val_loss: 1.5514 - val_accuracy: 0.5026\n",
      "Epoch 12/15\n",
      "352/352 [==============================] - 3s 9ms/step - loss: 1.0791 - accuracy: 0.6154 - val_loss: 1.4919 - val_accuracy: 0.5154\n",
      "Epoch 13/15\n",
      "352/352 [==============================] - 3s 9ms/step - loss: 1.0078 - accuracy: 0.6398 - val_loss: 1.5250 - val_accuracy: 0.5212\n",
      "Epoch 14/15\n",
      "352/352 [==============================] - 3s 9ms/step - loss: 0.9456 - accuracy: 0.6623 - val_loss: 1.5285 - val_accuracy: 0.5222\n",
      "Epoch 15/15\n",
      "352/352 [==============================] - 3s 9ms/step - loss: 0.9036 - accuracy: 0.6781 - val_loss: 1.5613 - val_accuracy: 0.5330\n"
     ]
    }
   ],
   "source": [
    "n_epochs = 15\n",
    "one_cycle_cb = OneCycleScheduler(math.ceil(len(X_train_scaled) / batch_size) * n_epochs, max_rate=0.05)\n",
    "\n",
    "history = model.fit(X_train_scaled, y_train, \n",
    "                    epochs=n_epochs, batch_size=batch_size,\n",
    "                    validation_data=(X_val_scaled, y_val), \n",
    "                    callbacks=[one_cycle_cb])"
   ]
  },
  {
   "cell_type": "code",
   "execution_count": null,
   "id": "5953e257",
   "metadata": {},
   "outputs": [],
   "source": []
  }
 ],
 "metadata": {
  "kernelspec": {
   "display_name": "Python 3 (ipykernel)",
   "language": "python",
   "name": "python3"
  },
  "language_info": {
   "codemirror_mode": {
    "name": "ipython",
    "version": 3
   },
   "file_extension": ".py",
   "mimetype": "text/x-python",
   "name": "python",
   "nbconvert_exporter": "python",
   "pygments_lexer": "ipython3",
   "version": "3.8.6"
  }
 },
 "nbformat": 4,
 "nbformat_minor": 5
}
