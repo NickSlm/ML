{
 "cells": [
  {
   "cell_type": "code",
   "execution_count": 1,
   "id": "52e837a9-18c9-4269-a93a-fcd768608bb5",
   "metadata": {},
   "outputs": [],
   "source": [
    "import numpy as np\n",
    "from pathlib import Path\n",
    "import os"
   ]
  },
  {
   "cell_type": "code",
   "execution_count": 2,
   "id": "7fd963dd-eb76-4812-a240-22b3e7435ff8",
   "metadata": {},
   "outputs": [],
   "source": [
    "REBER_VOCAB = {\n",
    "    0: 'B',\n",
    "    1: 'T',\n",
    "    2: 'P',\n",
    "    3: 'S',\n",
    "    4: 'X',\n",
    "    5: 'V',\n",
    "    6: 'E',\n",
    "              }\n",
    "\n",
    "default_reber = {\n",
    "    0 : [('B', 1)],\n",
    "    1 : [('T', 2), ('P', 3)],\n",
    "    2 : [('S', 2), ('X', 4)],\n",
    "    3 : [('T', 3), ('V', 5)],\n",
    "    4 : [('X', 3), ('S', 6)],\n",
    "    5 : [('P', 4), ('V', 6)],\n",
    "    6 : [('E', None)]\n",
    "         }\n",
    "\n",
    "embedded_reber = {\n",
    "    0 : [('B', 1)], \n",
    "    1 : [('T', 2), ('P', 3)],\n",
    "    2 : [(default_reber, 4)],\n",
    "    3 : [(default_reber, 5)],\n",
    "    4 : [('T', 6)],\n",
    "    5 : [('P', 6)],\n",
    "    6 : [('E', None)]\n",
    "                 }"
   ]
  },
  {
   "cell_type": "code",
   "execution_count": 3,
   "id": "ff4f3277-a165-48a5-b97b-c0e6fc8df113",
   "metadata": {},
   "outputs": [],
   "source": [
    "def generate_string(grammar):\n",
    "    state = 0\n",
    "    output = []\n",
    "    while state is not None:\n",
    "        rnd_index = np.random.randint(len(grammar[state]))\n",
    "        char, state = grammar[state][rnd_index]\n",
    "        if isinstance(char, dict):\n",
    "            char = generate_string(char)\n",
    "        output.append(char)\n",
    "    return ''.join(output)\n",
    "\n",
    "def generate_error_string(grammar):\n",
    "    legal_string = generate_string(grammar)\n",
    "    illegal_string = list(legal_string)\n",
    "    rnd_indices = np.random.randint(len(illegal_string), size=np.random.randint(len(illegal_string)))    \n",
    "    for i in rnd_indices:\n",
    "        illegal_string[i] = REBER_VOCAB[np.random.randint(7)]\n",
    "    return ''.join(legal_string), ''.join(illegal_string)"
   ]
  },
  {
   "cell_type": "code",
   "execution_count": 4,
   "id": "ad177e60-a161-4a4d-ade9-df7e571fe1f8",
   "metadata": {},
   "outputs": [],
   "source": [
    "legal_strings = []\n",
    "illegal_strings = []\n",
    "for _ in range(15000):\n",
    "    legal_string, illegal_string = generate_error_string(embedded_reber)\n",
    "    legal_strings.append(legal_string)\n",
    "    illegal_strings.append(illegal_string)"
   ]
  },
  {
   "cell_type": "code",
   "execution_count": 5,
   "id": "832e6cbf-a36d-4cd5-9a20-49449daecd4a",
   "metadata": {},
   "outputs": [],
   "source": [
    "dataset_dir = os.path.join('datasets', 'reber_grammar')\n",
    "file_path = os.path.join(dataset_dir, \"reber_strings.txt\")\n",
    "with open(file_path, 'w') as file:\n",
    "    for legal_string in legal_strings:\n",
    "        file.write(legal_string + ' ' + \"legal\")\n",
    "        file.write('\\n')\n",
    "    for illegal_string in illegal_strings:\n",
    "        file.write(illegal_string + '  '+ \"illegal\")\n",
    "        file.write('\\n')"
   ]
  }
 ],
 "metadata": {
  "kernelspec": {
   "display_name": "Python 3 (ipykernel)",
   "language": "python",
   "name": "python3"
  },
  "language_info": {
   "codemirror_mode": {
    "name": "ipython",
    "version": 3
   },
   "file_extension": ".py",
   "mimetype": "text/x-python",
   "name": "python",
   "nbconvert_exporter": "python",
   "pygments_lexer": "ipython3",
   "version": "3.9.17"
  }
 },
 "nbformat": 4,
 "nbformat_minor": 5
}
