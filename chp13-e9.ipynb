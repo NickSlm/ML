{
 "cells": [
  {
   "cell_type": "code",
   "execution_count": 1,
   "id": "8ff596c2",
   "metadata": {},
   "outputs": [],
   "source": [
    "import os\n",
    "import numpy as np\n",
    "import pandas as pd\n",
    "import tensorflow as tf\n",
    "import matplotlib.pyplot as plt\n",
    "from contextlib import ExitStack\n",
    "from tensorflow import keras\n",
    "from tensorflow.train import BytesList, FloatList, Int64List\n",
    "from tensorflow.train import Features, Feature, Example\n",
    "from sklearn.preprocessing import StandardScaler\n",
    "from sklearn.model_selection import train_test_split\n",
    "from keras.datasets import fashion_mnist"
   ]
  },
  {
   "cell_type": "code",
   "execution_count": 2,
   "id": "84d8663c",
   "metadata": {},
   "outputs": [],
   "source": [
    "(X_train_full, y_train_full), (X_test, y_test) = fashion_mnist.load_data()\n",
    "X_train, y_train = X_train_full[5000:], y_train_full[5000:]\n",
    "X_val, y_val = X_train_full[:5000], y_train_full[:5000]"
   ]
  },
  {
   "cell_type": "code",
   "execution_count": 3,
   "id": "1d70b227",
   "metadata": {},
   "outputs": [],
   "source": [
    "keras.backend.clear_session()"
   ]
  },
  {
   "cell_type": "code",
   "execution_count": 4,
   "id": "08b2c535",
   "metadata": {},
   "outputs": [],
   "source": [
    "train_dataset = tf.data.Dataset.from_tensor_slices((X_train, y_train)).shuffle(buffer_size=len(X_train))\n",
    "val_dataset = tf.data.Dataset.from_tensor_slices((X_val, y_val))\n",
    "test_dataset = tf.data.Dataset.from_tensor_slices((X_test, y_test))"
   ]
  },
  {
   "cell_type": "code",
   "execution_count": 5,
   "id": "0c836fbc",
   "metadata": {},
   "outputs": [],
   "source": [
    "def create_dir(dir_prefix):\n",
    "    \"\"\"\n",
    "    \"\"\"\n",
    "    dir_path = os.path.join(\"datasets\", dir_prefix)\n",
    "    os.makedirs(dir_path, exist_ok=True)\n",
    "    return dir_path"
   ]
  },
  {
   "cell_type": "code",
   "execution_count": 6,
   "id": "74917f49",
   "metadata": {},
   "outputs": [],
   "source": [
    "def create_proto_example(image, label):\n",
    "    \"\"\"\n",
    "    \"\"\"\n",
    "    image = tf.io.serialize_tensor(image)\n",
    "    return Example(features=Features(feature={\n",
    "        \"image\": Feature(bytes_list=BytesList(value=[image.numpy()])),\n",
    "        \"label\": Feature(int64_list=Int64List(value=[label]))\n",
    "    }))"
   ]
  },
  {
   "cell_type": "code",
   "execution_count": 7,
   "id": "4254902a",
   "metadata": {},
   "outputs": [],
   "source": [
    "def write_tfrecords(name, dataset, n_shards=10):\n",
    "    \"\"\"\n",
    "    \"\"\"\n",
    "    paths = [\"{}-{:05d}-of-{:05d}.tfrecord\".format(name, index, n_shards)\n",
    "             for index in range(1, n_shards + 1)]\n",
    "    with ExitStack() as stack:\n",
    "        writers = [stack.enter_context(tf.io.TFRecordWriter(path))\n",
    "                   for path in paths]\n",
    "        for index, (image, label) in dataset.enumerate():\n",
    "            shard = index % n_shards\n",
    "            example = create_proto_example(image, label)\n",
    "            writers[shard].write(example.SerializeToString())\n",
    "    return paths"
   ]
  },
  {
   "cell_type": "code",
   "execution_count": 9,
   "id": "426296b5",
   "metadata": {},
   "outputs": [],
   "source": [
    "dir_path = create_dir(\"fashion_mnist\")\n",
    "train_filepaths = write_tfrecords(os.path.join(dir_path,\"train_dataset\"), train_dataset)\n",
    "valid_filepaths = write_tfrecords(os.path.join(dir_path,\"val_dataset\"), val_dataset)\n",
    "test_filepaths = write_tfrecords(os.path.join(dir_path,\"test_dataset\"), test_dataset)"
   ]
  },
  {
   "cell_type": "code",
   "execution_count": 17,
   "id": "e664f2bf",
   "metadata": {},
   "outputs": [],
   "source": [
    "def preprocess(tfrecord):\n",
    "    features_description = {\n",
    "        \"image\": tf.io.FixedLenFeature([], tf.string, default_value=\"\"),\n",
    "        \"label\": tf.io.FixedLenFeature([], tf.int64, default_value=-1)\n",
    "    }\n",
    "    \n",
    "    example = tf.io.parse_single_example(tfrecord, features_description)\n",
    "    image = tf.io.parse_tensor(example[\"image\"], out_type=tf.uint8)\n",
    "    image = tf.reshape(image, [28,28])\n",
    "    return image, example[\"label\"]\n",
    "\n",
    "def mnist_dataset(filepaths, buffer_size=None, n_threads=5, batch_size=32):\n",
    "    dataset = tf.data.TFRecordDataset(filepaths)\n",
    "    dataset = dataset.map(preprocess, num_parallel_calls=n_threads)\n",
    "    if buffer_size:\n",
    "        dataset = dataset.shuffle(buffer_size=buffer_size)\n",
    "    dataset = dataset.batch(batch_size=batch_size)\n",
    "    return dataset.prefetch(1)"
   ]
  },
  {
   "cell_type": "code",
   "execution_count": 28,
   "id": "58cedab6",
   "metadata": {},
   "outputs": [],
   "source": [
    "train_dataset = mnist_dataset(train_filepaths, buffer_size=len(X_train))\n",
    "test_dataset = mnist_dataset(test_filepaths)\n",
    "val_dataset = mnist_dataset(valid_filepaths)"
   ]
  },
  {
   "cell_type": "code",
   "execution_count": null,
   "id": "23edc714",
   "metadata": {},
   "outputs": [],
   "source": []
  }
 ],
 "metadata": {
  "kernelspec": {
   "display_name": "Python 3 (ipykernel)",
   "language": "python",
   "name": "python3"
  },
  "language_info": {
   "codemirror_mode": {
    "name": "ipython",
    "version": 3
   },
   "file_extension": ".py",
   "mimetype": "text/x-python",
   "name": "python",
   "nbconvert_exporter": "python",
   "pygments_lexer": "ipython3",
   "version": "3.8.6"
  }
 },
 "nbformat": 4,
 "nbformat_minor": 5
}
