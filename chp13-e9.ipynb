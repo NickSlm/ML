{
 "cells": [
  {
   "cell_type": "code",
   "execution_count": 1,
   "id": "8ff596c2",
   "metadata": {},
   "outputs": [],
   "source": [
    "import os\n",
    "import numpy as np\n",
    "import pandas as pd\n",
    "import tensorflow as tf\n",
    "import matplotlib.pyplot as plt\n",
    "from contextlib import ExitStack\n",
    "from tensorflow import keras\n",
    "from tensorflow.train import BytesList, FloatList, Int64List\n",
    "from tensorflow.train import Features, Feature, Example\n",
    "from sklearn.preprocessing import StandardScaler\n",
    "from sklearn.model_selection import train_test_split\n",
    "from keras.datasets import fashion_mnist"
   ]
  },
  {
   "cell_type": "code",
   "execution_count": 2,
   "id": "84d8663c",
   "metadata": {},
   "outputs": [],
   "source": [
    "(X_train_full, y_train_full), (X_test, y_test) = fashion_mnist.load_data()\n",
    "X_train, y_train = X_train_full[5000:], y_train_full[5000:]\n",
    "X_val, y_val = X_train_full[:5000], y_train_full[:5000]"
   ]
  },
  {
   "cell_type": "code",
   "execution_count": 3,
   "id": "1d70b227",
   "metadata": {},
   "outputs": [],
   "source": [
    "keras.backend.clear_session()"
   ]
  },
  {
   "cell_type": "code",
   "execution_count": 4,
   "id": "08b2c535",
   "metadata": {},
   "outputs": [],
   "source": [
    "train_dataset = tf.data.Dataset.from_tensor_slices((X_train, y_train)).shuffle(buffer_size=len(X_train))\n",
    "val_dataset = tf.data.Dataset.from_tensor_slices((X_val, y_val))\n",
    "test_dataset = tf.data.Dataset.from_tensor_slices((X_test, y_test))"
   ]
  },
  {
   "cell_type": "code",
   "execution_count": 5,
   "id": "0c836fbc",
   "metadata": {},
   "outputs": [],
   "source": [
    "def create_dir(dir_prefix):\n",
    "    \"\"\"\n",
    "    \"\"\"\n",
    "    dir_path = os.path.join(\"datasets\", dir_prefix)\n",
    "    os.makedirs(dir_path, exist_ok=True)\n",
    "    return dir_path"
   ]
  },
  {
   "cell_type": "code",
   "execution_count": 6,
   "id": "74917f49",
   "metadata": {},
   "outputs": [],
   "source": [
    "def create_proto_example(image, label):\n",
    "    \"\"\"\n",
    "    \"\"\"\n",
    "    image = tf.io.serialize_tensor(image)\n",
    "    return Example(features=Features(feature={\n",
    "        \"image\": Feature(bytes_list=BytesList(value=[image.numpy()])),\n",
    "        \"label\": Feature(int64_list=Int64List(value=[label]))\n",
    "    }))"
   ]
  },
  {
   "cell_type": "code",
   "execution_count": 7,
   "id": "4254902a",
   "metadata": {},
   "outputs": [],
   "source": [
    "def write_tfrecords(name, dataset, n_shards=10):\n",
    "    \"\"\"\n",
    "    \"\"\"\n",
    "    paths = [\"{}-{:05d}-of-{:05d}.tfrecord\".format(name, index, n_shards)\n",
    "             for index in range(1, n_shards + 1)]\n",
    "    with ExitStack() as stack:\n",
    "        writers = [stack.enter_context(tf.io.TFRecordWriter(path))\n",
    "                   for path in paths]\n",
    "        for index, (image, label) in dataset.enumerate():\n",
    "            shard = index % n_shards\n",
    "            example = create_proto_example(image, label)\n",
    "            writers[shard].write(example.SerializeToString())\n",
    "    return paths"
   ]
  },
  {
   "cell_type": "code",
   "execution_count": 8,
   "id": "426296b5",
   "metadata": {},
   "outputs": [],
   "source": [
    "dir_path = create_dir(\"fashion_mnist\")\n",
    "train_filepaths = write_tfrecords(os.path.join(dir_path,\"train_dataset\"), train_dataset)\n",
    "valid_filepaths = write_tfrecords(os.path.join(dir_path,\"val_dataset\"), val_dataset)\n",
    "test_filepaths = write_tfrecords(os.path.join(dir_path,\"test_dataset\"), test_dataset)"
   ]
  },
  {
   "cell_type": "code",
   "execution_count": 9,
   "id": "e664f2bf",
   "metadata": {},
   "outputs": [],
   "source": [
    "def preprocess(tfrecord):\n",
    "    features_description = {\n",
    "        \"image\": tf.io.FixedLenFeature([], tf.string, default_value=\"\"),\n",
    "        \"label\": tf.io.FixedLenFeature([], tf.int64, default_value=-1)\n",
    "    }\n",
    "    \n",
    "    example = tf.io.parse_single_example(tfrecord, features_description)\n",
    "    image = tf.io.parse_tensor(example[\"image\"], out_type=tf.uint8)\n",
    "    image = tf.reshape(image, [28,28])\n",
    "    return image, example[\"label\"]\n",
    "\n",
    "def mnist_dataset(filepaths, buffer_size=None, n_threads=5, batch_size=32):\n",
    "    dataset = tf.data.TFRecordDataset(filepaths)\n",
    "    dataset = dataset.map(preprocess, num_parallel_calls=n_threads)\n",
    "    if buffer_size:\n",
    "        dataset = dataset.shuffle(buffer_size=buffer_size)\n",
    "    dataset = dataset.batch(batch_size=batch_size)\n",
    "    return dataset.prefetch(1)"
   ]
  },
  {
   "cell_type": "code",
   "execution_count": 10,
   "id": "58cedab6",
   "metadata": {},
   "outputs": [],
   "source": [
    "train_dataset = mnist_dataset(train_filepaths, buffer_size=len(X_train))\n",
    "test_dataset = mnist_dataset(test_filepaths)\n",
    "val_dataset = mnist_dataset(valid_filepaths)"
   ]
  },
  {
   "cell_type": "code",
   "execution_count": 11,
   "id": "b653325f",
   "metadata": {},
   "outputs": [],
   "source": [
    "# Strip the label from the dataset\n",
    "sample_dataset_batches = train_dataset.take(100).map(lambda image, label: image)\n",
    "sample_dataset = np.concatenate(list(sample_dataset_batches), axis=0).astype(np.float32)\n",
    "\n",
    "standardization = keras.layers.Normalization(input_shape=[28,28])\n",
    "standardization.adapt(sample_dataset)\n",
    "\n",
    "model = keras.models.Sequential()\n",
    "model.add(standardization)\n",
    "model.add(keras.layers.Flatten())\n",
    "model.add(keras.layers.Dense(100, activation=\"relu\"))\n",
    "model.add(keras.layers.Dense(10, activation=\"softmax\"))"
   ]
  },
  {
   "cell_type": "code",
   "execution_count": 12,
   "id": "6f70d869",
   "metadata": {},
   "outputs": [],
   "source": [
    "model.compile(loss=\"sparse_categorical_crossentropy\", \n",
    "              optimizer=\"nadam\", metrics=[\"accuracy\"])"
   ]
  },
  {
   "cell_type": "code",
   "execution_count": 13,
   "id": "5c216667",
   "metadata": {},
   "outputs": [],
   "source": [
    "from datetime import datetime\n"
   ]
  },
  {
   "cell_type": "code",
   "execution_count": 14,
   "id": "29a53e07",
   "metadata": {
    "scrolled": true
   },
   "outputs": [
    {
     "name": "stdout",
     "output_type": "stream",
     "text": [
      "Epoch 1/5\n",
      "1719/1719 [==============================] - 5s 2ms/step - loss: 0.4451 - accuracy: 0.8409 - val_loss: 0.3615 - val_accuracy: 0.8740\n",
      "Epoch 2/5\n",
      "1719/1719 [==============================] - 4s 2ms/step - loss: 0.3333 - accuracy: 0.8783 - val_loss: 0.3413 - val_accuracy: 0.8774\n",
      "Epoch 3/5\n",
      "1719/1719 [==============================] - 4s 2ms/step - loss: 0.2985 - accuracy: 0.8899 - val_loss: 0.3302 - val_accuracy: 0.8830\n",
      "Epoch 4/5\n",
      "1719/1719 [==============================] - 4s 2ms/step - loss: 0.2744 - accuracy: 0.8985 - val_loss: 0.3279 - val_accuracy: 0.8896\n",
      "Epoch 5/5\n",
      "1719/1719 [==============================] - 4s 2ms/step - loss: 0.2530 - accuracy: 0.9067 - val_loss: 0.3261 - val_accuracy: 0.8864\n"
     ]
    },
    {
     "data": {
      "text/plain": [
       "<keras.callbacks.History at 0x27c467904c0>"
      ]
     },
     "execution_count": 14,
     "metadata": {},
     "output_type": "execute_result"
    }
   ],
   "source": [
    "log_dir = os.path.join(\"my_logs\", \n",
    "                       \"run_\" + datetime.now().strftime(\"%Y%m%d_%H%M%S\"))\n",
    "\n",
    "tensorboard_cb = tf.keras.callbacks.TensorBoard(\n",
    "    log_dir=log_dir, histogram_freq=1, profile_batch=10)\n",
    "\n",
    "model.fit(train_dataset, epochs=5, validation_data=val_dataset, callbacks=[tensorboard_cb])"
   ]
  },
  {
   "cell_type": "code",
   "execution_count": null,
   "id": "d2d17665",
   "metadata": {},
   "outputs": [],
   "source": []
  },
  {
   "cell_type": "code",
   "execution_count": null,
   "id": "3f2b5d96",
   "metadata": {},
   "outputs": [],
   "source": []
  }
 ],
 "metadata": {
  "kernelspec": {
   "display_name": "Python 3 (ipykernel)",
   "language": "python",
   "name": "python3"
  },
  "language_info": {
   "codemirror_mode": {
    "name": "ipython",
    "version": 3
   },
   "file_extension": ".py",
   "mimetype": "text/x-python",
   "name": "python",
   "nbconvert_exporter": "python",
   "pygments_lexer": "ipython3",
   "version": "3.9.17"
  }
 },
 "nbformat": 4,
 "nbformat_minor": 5
}
