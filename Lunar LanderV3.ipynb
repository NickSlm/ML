{
 "cells": [
  {
   "cell_type": "code",
   "execution_count": 1,
   "id": "3bf91a17-1bff-4c70-b2ee-f4d848dea3fb",
   "metadata": {},
   "outputs": [
    {
     "name": "stderr",
     "output_type": "stream",
     "text": [
      "2024-11-27 15:04:58.871689: I tensorflow/core/platform/cpu_feature_guard.cc:193] This TensorFlow binary is optimized with oneAPI Deep Neural Network Library (oneDNN) to use the following CPU instructions in performance-critical operations:  AVX2 FMA\n",
      "To enable them in other operations, rebuild TensorFlow with the appropriate compiler flags.\n",
      "2024-11-27 15:05:00.896570: W tensorflow/compiler/xla/stream_executor/platform/default/dso_loader.cc:64] Could not load dynamic library 'libnvinfer.so.7'; dlerror: libnvinfer.so.7: cannot open shared object file: No such file or directory; LD_LIBRARY_PATH: :/home/nick/miniconda3/envs/tf_env/lib/python3.9/site-packages/nvidia/cudnn/lib:/home/nick/miniconda3/envs/tf_env/lib/\n",
      "2024-11-27 15:05:00.896671: W tensorflow/compiler/xla/stream_executor/platform/default/dso_loader.cc:64] Could not load dynamic library 'libnvinfer_plugin.so.7'; dlerror: libnvinfer_plugin.so.7: cannot open shared object file: No such file or directory; LD_LIBRARY_PATH: :/home/nick/miniconda3/envs/tf_env/lib/python3.9/site-packages/nvidia/cudnn/lib:/home/nick/miniconda3/envs/tf_env/lib/\n",
      "2024-11-27 15:05:00.896681: W tensorflow/compiler/tf2tensorrt/utils/py_utils.cc:38] TF-TRT Warning: Cannot dlopen some TensorRT libraries. If you would like to use Nvidia GPU with TensorRT, please make sure the missing libraries mentioned above are installed properly.\n"
     ]
    }
   ],
   "source": [
    "%matplotlib ipympl\n",
    "\n",
    "import numpy as np\n",
    "import tensorflow as tf\n",
    "from tensorflow import keras\n",
    "import gymnasium\n",
    "\n",
    "import ale_py\n",
    "import matplotlib.animation as animation\n",
    "import matplotlib.pyplot as plt\n",
    "\n",
    "from collections import deque\n",
    "tf.keras.utils.disable_interactive_logging()\n",
    "tf.debugging.set_log_device_placement(False)\n",
    "tf.keras.backend.clear_session()"
   ]
  },
  {
   "cell_type": "code",
   "execution_count": 2,
   "id": "13bbcfc1-55af-47c8-94e3-27438c6058b9",
   "metadata": {},
   "outputs": [],
   "source": [
    "env = gymnasium.make(\"LunarLander-v3\", render_mode=\"rgb_array\")\n",
    "# obs space = [lander_x , lander_y, vel_x, vel_y, angle, angular_vel, l_contact, r_contact]"
   ]
  },
  {
   "cell_type": "code",
   "execution_count": 3,
   "id": "8ec84e2a-8c5b-4aab-afc4-69cecfd5ff84",
   "metadata": {},
   "outputs": [],
   "source": [
    "def update_scene(num, frames, patch):\n",
    "    patch.set_data(frames[num])\n",
    "    return patch,\n",
    "\n",
    "def plot_animation(frames, repeat=False, interval=40):\n",
    "    fig = plt.figure()\n",
    "    patch = plt.imshow(frames[0])\n",
    "    plt.axis('off')\n",
    "    anim = animation.FuncAnimation(\n",
    "        fig, update_scene, fargs=(frames, patch),\n",
    "        frames=len(frames), repeat=repeat, interval=interval)\n",
    "    plt.show()\n",
    "    return anim"
   ]
  },
  {
   "cell_type": "code",
   "execution_count": 4,
   "id": "28ff490b-a440-4d7f-90b9-706f75ba3bf8",
   "metadata": {},
   "outputs": [],
   "source": [
    "inputs = keras.layers.Input(shape=env.observation_space.shape)\n",
    "h_1 = keras.layers.Dense(32, activation=\"relu\")(inputs)\n",
    "h_2 = keras.layers.Dense(32, activation=\"relu\")(h_1)\n",
    "outputs = keras.layers.Dense(4)(h_2)\n",
    "q_net = keras.Model(inputs,outputs)\n",
    "\n",
    "target_net = keras.models.clone_model(q_net)\n",
    "target_net.set_weights(q_net.get_weights())"
   ]
  },
  {
   "cell_type": "code",
   "execution_count": 5,
   "id": "828974bc-02e0-410b-8cbb-45898c2ae49c",
   "metadata": {},
   "outputs": [],
   "source": [
    "def epsilon_greedy_policy(epsilon, state):\n",
    "    if np.random.rand() < epsilon:\n",
    "        return env.action_space.sample()\n",
    "    else:\n",
    "        q_val = q_net.predict(state[np.newaxis])\n",
    "        return np.argmax(q_val[0])"
   ]
  },
  {
   "cell_type": "code",
   "execution_count": 6,
   "id": "b64e5332-aa47-44db-b8c3-e1d4001a6ff9",
   "metadata": {},
   "outputs": [],
   "source": [
    "n_iterations = 10000\n",
    "# env.spec.max_episode_steps=1000 \n",
    "n_steps = 4\n",
    "\n",
    "replay_buffer = deque(maxlen=50000)\n",
    "loss_fn = keras.losses.huber\n",
    "optimizer = keras.optimizers.Adam(learning_rate=1e-4)\n",
    "epsilon_fn = keras.optimizers.schedules.PolynomialDecay(initial_learning_rate=1.0,\n",
    "                                                       decay_steps = 12000,\n",
    "                                                       end_learning_rate=0.01)"
   ]
  },
  {
   "cell_type": "code",
   "execution_count": 7,
   "id": "7e460a82-5491-4ecf-845d-72bbf85cd072",
   "metadata": {},
   "outputs": [],
   "source": [
    "def initialize_buffer(env, n_steps, replay_buffer):\n",
    "    state, _ = env.reset()\n",
    "    for _ in range(n_steps):\n",
    "        action = env.action_space.sample()\n",
    "        next_state, reward, terminated, truncated, _ = env.step(action)\n",
    "        done = terminated or truncated\n",
    "        replay_buffer.append((state, action, reward, next_state, done))\n",
    "        state = next_state\n",
    "        if done:\n",
    "            state, _ = env.reset()"
   ]
  },
  {
   "cell_type": "code",
   "execution_count": 8,
   "id": "271275e4-bcb2-49fe-b70e-8b1556d2f424",
   "metadata": {},
   "outputs": [],
   "source": [
    "def train_step(q_net, target_net, replay_buffer):\n",
    "    rnd_indices = np.random.randint(0, len(replay_buffer), 32)\n",
    "    samples = [replay_buffer[index] for index in rnd_indices]\n",
    "    states, actions, rewards, next_states, dones = [np.array([sample[index] for sample in samples]) for index in range(5)]\n",
    "\n",
    "    target_value = q_net.predict(next_states)\n",
    "    target_mask = tf.one_hot(np.argmax(target_value, axis=1), 4).numpy()\n",
    "\n",
    "    max_target_value = (target_net.predict(next_states) * target_mask).sum(axis=1) \n",
    "    max_target_value = (max_target_value * 0.99 * (1 - dones) + rewards)\n",
    "    max_target_value = max_target_value.reshape(-1, 1)\n",
    "\n",
    "    q_val_mask = tf.one_hot(actions, 4)\n",
    "\n",
    "    with tf.GradientTape() as tape:\n",
    "        q_value = q_net(states)\n",
    "        q_value = tf.reduce_sum(q_value * q_val_mask, axis=1, keepdims=True)\n",
    "        loss = tf.reduce_mean(loss_fn(max_target_value, q_value))\n",
    "    \n",
    "    gradients = tape.gradient(loss, q_net.trainable_variables)\n",
    "    grad_norm = tf.reduce_mean([tf.norm(g) for g in gradients if g is not None]).numpy()\n",
    "    optimizer.apply_gradients(zip(gradients, q_net.trainable_variables))\n",
    "    return loss, grad_norm"
   ]
  },
  {
   "cell_type": "code",
   "execution_count": 9,
   "id": "7063364e-edcb-4b98-85ab-f3248ce4eb0f",
   "metadata": {},
   "outputs": [],
   "source": [
    "initialize_buffer(env, 20000, replay_buffer)"
   ]
  },
  {
   "cell_type": "code",
   "execution_count": 11,
   "id": "157268fd-64d9-48a0-a8db-e18f66736447",
   "metadata": {},
   "outputs": [],
   "source": [
    "state,_ = env.reset()"
   ]
  },
  {
   "cell_type": "code",
   "execution_count": 10,
   "id": "08ab0d9a-41df-4210-9afd-3e6452d0829e",
   "metadata": {},
   "outputs": [
    {
     "name": "stdout",
     "output_type": "stream",
     "text": [
      "WARNING:tensorflow:5 out of the last 5 calls to <function _BaseOptimizer._update_step_xla at 0x7fa008aba040> triggered tf.function retracing. Tracing is expensive and the excessive number of tracings could be due to (1) creating @tf.function repeatedly in a loop, (2) passing tensors with different shapes, (3) passing Python objects instead of tensors. For (1), please define your @tf.function outside of the loop. For (2), @tf.function has reduce_retracing=True option that can avoid unnecessary retracing. For (3), please refer to https://www.tensorflow.org/guide/function#controlling_retracing and https://www.tensorflow.org/api_docs/python/tf/function for  more details.\n"
     ]
    },
    {
     "name": "stderr",
     "output_type": "stream",
     "text": [
      "WARNING:tensorflow:5 out of the last 5 calls to <function _BaseOptimizer._update_step_xla at 0x7fa008aba040> triggered tf.function retracing. Tracing is expensive and the excessive number of tracings could be due to (1) creating @tf.function repeatedly in a loop, (2) passing tensors with different shapes, (3) passing Python objects instead of tensors. For (1), please define your @tf.function outside of the loop. For (2), @tf.function has reduce_retracing=True option that can avoid unnecessary retracing. For (3), please refer to https://www.tensorflow.org/guide/function#controlling_retracing and https://www.tensorflow.org/api_docs/python/tf/function for  more details.\n"
     ]
    },
    {
     "name": "stdout",
     "output_type": "stream",
     "text": [
      "WARNING:tensorflow:6 out of the last 6 calls to <function _BaseOptimizer._update_step_xla at 0x7fa008aba040> triggered tf.function retracing. Tracing is expensive and the excessive number of tracings could be due to (1) creating @tf.function repeatedly in a loop, (2) passing tensors with different shapes, (3) passing Python objects instead of tensors. For (1), please define your @tf.function outside of the loop. For (2), @tf.function has reduce_retracing=True option that can avoid unnecessary retracing. For (3), please refer to https://www.tensorflow.org/guide/function#controlling_retracing and https://www.tensorflow.org/api_docs/python/tf/function for  more details.\n"
     ]
    },
    {
     "name": "stderr",
     "output_type": "stream",
     "text": [
      "WARNING:tensorflow:6 out of the last 6 calls to <function _BaseOptimizer._update_step_xla at 0x7fa008aba040> triggered tf.function retracing. Tracing is expensive and the excessive number of tracings could be due to (1) creating @tf.function repeatedly in a loop, (2) passing tensors with different shapes, (3) passing Python objects instead of tensors. For (1), please define your @tf.function outside of the loop. For (2), @tf.function has reduce_retracing=True option that can avoid unnecessary retracing. For (3), please refer to https://www.tensorflow.org/guide/function#controlling_retracing and https://www.tensorflow.org/api_docs/python/tf/function for  more details.\n"
     ]
    },
    {
     "name": "stdout",
     "output_type": "stream",
     "text": [
      "iteration:9999"
     ]
    }
   ],
   "source": [
    "global_step = 0\n",
    "\n",
    "state, _ = env.reset()\n",
    "for iteration in range(n_iterations):\n",
    "    for step in range(n_steps):\n",
    "        epsilon = epsilon_fn(global_step)\n",
    "        action = epsilon_greedy_policy(epsilon, state)\n",
    "        next_state, reward, terminated, truncated, _ = env.step(action)\n",
    "        global_step += 1\n",
    "        done = terminated or truncated\n",
    "        replay_buffer.append((state, action, reward, next_state, done))\n",
    "        state = next_state\n",
    "\n",
    "        if done:\n",
    "            state, _ = env.reset()\n",
    "            \n",
    "    loss, grad_norm  = train_step(q_net, target_net, replay_buffer)\n",
    "    print(f\"\\riteration:{iteration}\",end=\"\")\n",
    "    if global_step % 100 == 0:\n",
    "        tf.keras.backend.clear_session()  # Clear any lingering computation graphs\n",
    "    if global_step % 400 == 0:\n",
    "        target_net.set_weights(q_net.get_weights())"
   ]
  },
  {
   "cell_type": "code",
   "execution_count": null,
   "id": "ea636c5f-b92b-4441-97d1-291278bd4387",
   "metadata": {},
   "outputs": [],
   "source": []
  }
 ],
 "metadata": {
  "kernelspec": {
   "display_name": "Python 3 (ipykernel)",
   "language": "python",
   "name": "python3"
  },
  "language_info": {
   "codemirror_mode": {
    "name": "ipython",
    "version": 3
   },
   "file_extension": ".py",
   "mimetype": "text/x-python",
   "name": "python",
   "nbconvert_exporter": "python",
   "pygments_lexer": "ipython3",
   "version": "3.9.20"
  }
 },
 "nbformat": 4,
 "nbformat_minor": 5
}
