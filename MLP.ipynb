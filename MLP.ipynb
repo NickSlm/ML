{
 "cells": [
  {
   "cell_type": "code",
   "execution_count": 1,
   "id": "8628f56d",
   "metadata": {},
   "outputs": [],
   "source": [
    "import tensorflow as tf\n",
    "from tensorflow import keras\n",
    "import numpy as np"
   ]
  },
  {
   "cell_type": "code",
   "execution_count": 2,
   "id": "222626b9",
   "metadata": {},
   "outputs": [
    {
     "data": {
      "text/plain": [
       "'2.12.0'"
      ]
     },
     "execution_count": 2,
     "metadata": {},
     "output_type": "execute_result"
    }
   ],
   "source": [
    "tf.__version__"
   ]
  },
  {
   "cell_type": "code",
   "execution_count": 3,
   "id": "9c22eba5",
   "metadata": {},
   "outputs": [
    {
     "data": {
      "text/plain": [
       "'2.12.0'"
      ]
     },
     "execution_count": 3,
     "metadata": {},
     "output_type": "execute_result"
    }
   ],
   "source": [
    "keras.__version__"
   ]
  },
  {
   "cell_type": "code",
   "execution_count": 4,
   "id": "b5d9c7ca",
   "metadata": {},
   "outputs": [
    {
     "data": {
      "text/plain": [
       "<module 'keras.api._v2.keras.datasets.fashion_mnist' from 'D:\\\\ml1\\\\my_env\\\\lib\\\\site-packages\\\\keras\\\\api\\\\_v2\\\\keras\\\\datasets\\\\fashion_mnist\\\\__init__.py'>"
      ]
     },
     "execution_count": 4,
     "metadata": {},
     "output_type": "execute_result"
    }
   ],
   "source": [
    "fashion_mnist = keras.datasets.fashion_mnist\n",
    "fashion_mnist"
   ]
  },
  {
   "cell_type": "code",
   "execution_count": 23,
   "id": "d4510cb6",
   "metadata": {},
   "outputs": [],
   "source": [
    "(X_train_full, y_train_full), (X_test, y_test) = fashion_mnist.load_data()"
   ]
  },
  {
   "cell_type": "code",
   "execution_count": 45,
   "id": "61c7c6e1",
   "metadata": {},
   "outputs": [],
   "source": [
    "from sklearn.model_selection import train_test_split\n",
    "from sklearn.preprocessing import MinMaxScaler"
   ]
  },
  {
   "cell_type": "code",
   "execution_count": 46,
   "id": "96aeeb06",
   "metadata": {},
   "outputs": [],
   "source": [
    "X_valid, X_train = X_train_full[:5000] / 255., X_train_full[5000:] / 255.\n",
    "y_valid, y_train = y_train_full[:5000], y_train_full[5000:]\n",
    "X_test = X_test / 255."
   ]
  },
  {
   "cell_type": "code",
   "execution_count": 47,
   "id": "57fd062e",
   "metadata": {},
   "outputs": [],
   "source": [
    "import matplotlib.pyplot as plt"
   ]
  },
  {
   "cell_type": "code",
   "execution_count": 48,
   "id": "d3405959",
   "metadata": {},
   "outputs": [],
   "source": [
    "# plt.imshow(X_train[0],cmap=\"binary\")\n",
    "# plt.axis(\"off\")\n",
    "# plt.show()"
   ]
  },
  {
   "cell_type": "code",
   "execution_count": 49,
   "id": "dc6b5c95",
   "metadata": {},
   "outputs": [],
   "source": [
    "class_names = [\"T-shirt/top\", \"Trouser\", \"Pullover\", \"Dress\", \"Coat\",\n",
    "               \"Sandal\", \"Shirt\", \"Sneaker\", \"Bag\", \"Ankle boot\"]"
   ]
  },
  {
   "cell_type": "code",
   "execution_count": 50,
   "id": "daf8d5c6",
   "metadata": {},
   "outputs": [],
   "source": [
    "model = keras.models.Sequential([keras.layers.Flatten(input_shape=[28,28]),\n",
    "                                keras.layers.Dense(300,activation=\"tanh\"),\n",
    "                                keras.layers.Dense(100,activation=\"tanh\"),\n",
    "                                keras.layers.Dense(10,activation=\"softmax\")])"
   ]
  },
  {
   "cell_type": "code",
   "execution_count": 51,
   "id": "13ffb8a7",
   "metadata": {},
   "outputs": [
    {
     "name": "stdout",
     "output_type": "stream",
     "text": [
      "Model: \"sequential_1\"\n",
      "_________________________________________________________________\n",
      " Layer (type)                Output Shape              Param #   \n",
      "=================================================================\n",
      " flatten_1 (Flatten)         (None, 784)               0         \n",
      "                                                                 \n",
      " dense_3 (Dense)             (None, 300)               235500    \n",
      "                                                                 \n",
      " dense_4 (Dense)             (None, 100)               30100     \n",
      "                                                                 \n",
      " dense_5 (Dense)             (None, 10)                1010      \n",
      "                                                                 \n",
      "=================================================================\n",
      "Total params: 266,610\n",
      "Trainable params: 266,610\n",
      "Non-trainable params: 0\n",
      "_________________________________________________________________\n"
     ]
    }
   ],
   "source": [
    "model.summary()"
   ]
  },
  {
   "cell_type": "code",
   "execution_count": 52,
   "id": "437ba032",
   "metadata": {},
   "outputs": [],
   "source": [
    "model.compile(loss=\"sparse_categorical_crossentropy\",\n",
    "             optimizer=\"sgd\",\n",
    "             metrics=[\"accuracy\"])"
   ]
  },
  {
   "cell_type": "code",
   "execution_count": 53,
   "id": "a8c3b5a3",
   "metadata": {},
   "outputs": [
    {
     "name": "stdout",
     "output_type": "stream",
     "text": [
      "Epoch 1/30\n",
      "1719/1719 [==============================] - 4s 2ms/step - loss: 0.6630 - accuracy: 0.7788 - val_loss: 0.7437 - val_accuracy: 0.7494\n",
      "Epoch 2/30\n",
      "1719/1719 [==============================] - 3s 2ms/step - loss: 0.4700 - accuracy: 0.8339 - val_loss: 0.7149 - val_accuracy: 0.7704\n",
      "Epoch 3/30\n",
      "1719/1719 [==============================] - 3s 2ms/step - loss: 0.4309 - accuracy: 0.8471 - val_loss: 0.7004 - val_accuracy: 0.7774\n",
      "Epoch 4/30\n",
      "1719/1719 [==============================] - 3s 2ms/step - loss: 0.4085 - accuracy: 0.8545 - val_loss: 0.6748 - val_accuracy: 0.7844\n",
      "Epoch 5/30\n",
      "1719/1719 [==============================] - 3s 2ms/step - loss: 0.3928 - accuracy: 0.8603 - val_loss: 0.6567 - val_accuracy: 0.7916\n",
      "Epoch 6/30\n",
      "1719/1719 [==============================] - 3s 2ms/step - loss: 0.3801 - accuracy: 0.8638 - val_loss: 0.7131 - val_accuracy: 0.7800\n",
      "Epoch 7/30\n",
      "1719/1719 [==============================] - 3s 2ms/step - loss: 0.3693 - accuracy: 0.8684 - val_loss: 0.6722 - val_accuracy: 0.7890\n",
      "Epoch 8/30\n",
      "1719/1719 [==============================] - 4s 2ms/step - loss: 0.3608 - accuracy: 0.8711 - val_loss: 0.6652 - val_accuracy: 0.7878\n",
      "Epoch 9/30\n",
      "1719/1719 [==============================] - 4s 2ms/step - loss: 0.3526 - accuracy: 0.8735 - val_loss: 0.6285 - val_accuracy: 0.7944\n",
      "Epoch 10/30\n",
      "1719/1719 [==============================] - 3s 2ms/step - loss: 0.3459 - accuracy: 0.8764 - val_loss: 0.5939 - val_accuracy: 0.8094\n",
      "Epoch 11/30\n",
      "1719/1719 [==============================] - 3s 2ms/step - loss: 0.3394 - accuracy: 0.8781 - val_loss: 0.5633 - val_accuracy: 0.8148\n",
      "Epoch 12/30\n",
      "1719/1719 [==============================] - 3s 2ms/step - loss: 0.3335 - accuracy: 0.8804 - val_loss: 0.5611 - val_accuracy: 0.8170\n",
      "Epoch 13/30\n",
      "1719/1719 [==============================] - 3s 2ms/step - loss: 0.3276 - accuracy: 0.8818 - val_loss: 0.5526 - val_accuracy: 0.8186\n",
      "Epoch 14/30\n",
      "1719/1719 [==============================] - 3s 2ms/step - loss: 0.3235 - accuracy: 0.8825 - val_loss: 0.5598 - val_accuracy: 0.8194\n",
      "Epoch 15/30\n",
      "1719/1719 [==============================] - 3s 2ms/step - loss: 0.3182 - accuracy: 0.8854 - val_loss: 0.5356 - val_accuracy: 0.8270\n",
      "Epoch 16/30\n",
      "1719/1719 [==============================] - 3s 2ms/step - loss: 0.3133 - accuracy: 0.8860 - val_loss: 0.5310 - val_accuracy: 0.8240\n",
      "Epoch 17/30\n",
      "1719/1719 [==============================] - 3s 2ms/step - loss: 0.3083 - accuracy: 0.8886 - val_loss: 0.5126 - val_accuracy: 0.8346\n",
      "Epoch 18/30\n",
      "1719/1719 [==============================] - 3s 2ms/step - loss: 0.3046 - accuracy: 0.8888 - val_loss: 0.5104 - val_accuracy: 0.8336\n",
      "Epoch 19/30\n",
      "1719/1719 [==============================] - 3s 2ms/step - loss: 0.3009 - accuracy: 0.8916 - val_loss: 0.5314 - val_accuracy: 0.8208\n",
      "Epoch 20/30\n",
      "1719/1719 [==============================] - 3s 2ms/step - loss: 0.2962 - accuracy: 0.8928 - val_loss: 0.5470 - val_accuracy: 0.8198\n",
      "Epoch 21/30\n",
      "1719/1719 [==============================] - 3s 2ms/step - loss: 0.2921 - accuracy: 0.8948 - val_loss: 0.4879 - val_accuracy: 0.8390\n",
      "Epoch 22/30\n",
      "1719/1719 [==============================] - 4s 2ms/step - loss: 0.2888 - accuracy: 0.8952 - val_loss: 0.5348 - val_accuracy: 0.8266\n",
      "Epoch 23/30\n",
      "1719/1719 [==============================] - 4s 2ms/step - loss: 0.2853 - accuracy: 0.8967 - val_loss: 0.5047 - val_accuracy: 0.8304\n",
      "Epoch 24/30\n",
      "1719/1719 [==============================] - 4s 2ms/step - loss: 0.2819 - accuracy: 0.8976 - val_loss: 0.4776 - val_accuracy: 0.8400\n",
      "Epoch 25/30\n",
      "1719/1719 [==============================] - 3s 2ms/step - loss: 0.2783 - accuracy: 0.8981 - val_loss: 0.5031 - val_accuracy: 0.8352\n",
      "Epoch 26/30\n",
      "1719/1719 [==============================] - 3s 2ms/step - loss: 0.2749 - accuracy: 0.8997 - val_loss: 0.4947 - val_accuracy: 0.8410\n",
      "Epoch 27/30\n",
      "1719/1719 [==============================] - 3s 2ms/step - loss: 0.2713 - accuracy: 0.9014 - val_loss: 0.4958 - val_accuracy: 0.8396\n",
      "Epoch 28/30\n",
      "1719/1719 [==============================] - 3s 2ms/step - loss: 0.2688 - accuracy: 0.9012 - val_loss: 0.5066 - val_accuracy: 0.8320\n",
      "Epoch 29/30\n",
      "1719/1719 [==============================] - 4s 2ms/step - loss: 0.2653 - accuracy: 0.9042 - val_loss: 0.5107 - val_accuracy: 0.8354\n",
      "Epoch 30/30\n",
      "1719/1719 [==============================] - 4s 2ms/step - loss: 0.2617 - accuracy: 0.9056 - val_loss: 0.5291 - val_accuracy: 0.8284\n"
     ]
    }
   ],
   "source": [
    "history = model.fit(X_train, y_train, epochs=30, validation_data=(X_valid, y_valid))"
   ]
  },
  {
   "cell_type": "code",
   "execution_count": 54,
   "id": "147b3faf",
   "metadata": {
    "scrolled": true
   },
   "outputs": [
    {
     "data": {
      "text/plain": [
       "{'verbose': 1, 'epochs': 30, 'steps': 1719}"
      ]
     },
     "execution_count": 54,
     "metadata": {},
     "output_type": "execute_result"
    }
   ],
   "source": [
    "history.params"
   ]
  },
  {
   "cell_type": "code",
   "execution_count": 55,
   "id": "2368ebcb",
   "metadata": {},
   "outputs": [
    {
     "data": {
      "text/plain": [
       "{'loss': [0.6630210876464844,\n",
       "  0.46998926997184753,\n",
       "  0.43093472719192505,\n",
       "  0.4085448980331421,\n",
       "  0.39276862144470215,\n",
       "  0.38005250692367554,\n",
       "  0.3692866861820221,\n",
       "  0.3608483076095581,\n",
       "  0.3525652289390564,\n",
       "  0.34589236974716187,\n",
       "  0.33940234780311584,\n",
       "  0.3334704041481018,\n",
       "  0.3275531530380249,\n",
       "  0.3235257565975189,\n",
       "  0.3182336390018463,\n",
       "  0.3132745325565338,\n",
       "  0.3082810342311859,\n",
       "  0.3045974671840668,\n",
       "  0.3009166121482849,\n",
       "  0.2961919903755188,\n",
       "  0.2920778691768646,\n",
       "  0.28881826996803284,\n",
       "  0.2852911949157715,\n",
       "  0.2818955183029175,\n",
       "  0.2782537043094635,\n",
       "  0.2749154567718506,\n",
       "  0.27134162187576294,\n",
       "  0.26881343126296997,\n",
       "  0.2653177082538605,\n",
       "  0.2617214024066925],\n",
       " 'accuracy': [0.7788181900978088,\n",
       "  0.8338727355003357,\n",
       "  0.8470545411109924,\n",
       "  0.8545272946357727,\n",
       "  0.8603272438049316,\n",
       "  0.8637818098068237,\n",
       "  0.868363618850708,\n",
       "  0.8710908889770508,\n",
       "  0.8735454678535461,\n",
       "  0.8763818144798279,\n",
       "  0.8781454563140869,\n",
       "  0.8804181814193726,\n",
       "  0.8818181753158569,\n",
       "  0.8824909329414368,\n",
       "  0.885418176651001,\n",
       "  0.8859636187553406,\n",
       "  0.8885999917984009,\n",
       "  0.8888363838195801,\n",
       "  0.8915636539459229,\n",
       "  0.8928363919258118,\n",
       "  0.8948000073432922,\n",
       "  0.8952181935310364,\n",
       "  0.8966727256774902,\n",
       "  0.897599995136261,\n",
       "  0.8981272578239441,\n",
       "  0.8997454643249512,\n",
       "  0.9014000296592712,\n",
       "  0.901163637638092,\n",
       "  0.904236376285553,\n",
       "  0.9055636525154114],\n",
       " 'val_loss': [0.7437205910682678,\n",
       "  0.7149413824081421,\n",
       "  0.7003784775733948,\n",
       "  0.6748146414756775,\n",
       "  0.6566979289054871,\n",
       "  0.7131062150001526,\n",
       "  0.6722245812416077,\n",
       "  0.665235161781311,\n",
       "  0.6285051107406616,\n",
       "  0.5938683152198792,\n",
       "  0.5632606744766235,\n",
       "  0.5611363053321838,\n",
       "  0.5526424646377563,\n",
       "  0.5597711205482483,\n",
       "  0.5355982184410095,\n",
       "  0.5310220718383789,\n",
       "  0.5126476287841797,\n",
       "  0.5103957653045654,\n",
       "  0.5314202308654785,\n",
       "  0.5469945669174194,\n",
       "  0.4878648817539215,\n",
       "  0.5347663164138794,\n",
       "  0.5047380328178406,\n",
       "  0.47764354944229126,\n",
       "  0.5030659437179565,\n",
       "  0.4946582019329071,\n",
       "  0.4958162009716034,\n",
       "  0.5065696835517883,\n",
       "  0.5107015371322632,\n",
       "  0.529080331325531],\n",
       " 'val_accuracy': [0.7494000196456909,\n",
       "  0.7703999876976013,\n",
       "  0.777400016784668,\n",
       "  0.7843999862670898,\n",
       "  0.7915999889373779,\n",
       "  0.7799999713897705,\n",
       "  0.7889999747276306,\n",
       "  0.7878000140190125,\n",
       "  0.7943999767303467,\n",
       "  0.8094000220298767,\n",
       "  0.8148000240325928,\n",
       "  0.8169999718666077,\n",
       "  0.8185999989509583,\n",
       "  0.8194000124931335,\n",
       "  0.8270000219345093,\n",
       "  0.8240000009536743,\n",
       "  0.8345999717712402,\n",
       "  0.8335999846458435,\n",
       "  0.8208000063896179,\n",
       "  0.8198000192642212,\n",
       "  0.8389999866485596,\n",
       "  0.8266000151634216,\n",
       "  0.8303999900817871,\n",
       "  0.8399999737739563,\n",
       "  0.8352000117301941,\n",
       "  0.8410000205039978,\n",
       "  0.8396000266075134,\n",
       "  0.8320000171661377,\n",
       "  0.8353999853134155,\n",
       "  0.8284000158309937]}"
      ]
     },
     "execution_count": 55,
     "metadata": {},
     "output_type": "execute_result"
    }
   ],
   "source": [
    "history.history"
   ]
  },
  {
   "cell_type": "code",
   "execution_count": 56,
   "id": "1bd6a5a8",
   "metadata": {},
   "outputs": [
    {
     "data": {
      "text/plain": [
       "dict_keys(['loss', 'accuracy', 'val_loss', 'val_accuracy'])"
      ]
     },
     "execution_count": 56,
     "metadata": {},
     "output_type": "execute_result"
    }
   ],
   "source": [
    "history.history.keys()"
   ]
  },
  {
   "cell_type": "code",
   "execution_count": 57,
   "id": "d285ee86",
   "metadata": {},
   "outputs": [
    {
     "name": "stdout",
     "output_type": "stream",
     "text": [
      "313/313 [==============================] - 0s 1ms/step - loss: 0.3448 - accuracy: 0.8760\n"
     ]
    },
    {
     "data": {
      "text/plain": [
       "[0.34477508068084717, 0.8759999871253967]"
      ]
     },
     "execution_count": 57,
     "metadata": {},
     "output_type": "execute_result"
    }
   ],
   "source": [
    "model.evaluate(X_test, y_test)"
   ]
  }
 ],
 "metadata": {
  "kernelspec": {
   "display_name": "Python 3 (ipykernel)",
   "language": "python",
   "name": "python3"
  },
  "language_info": {
   "codemirror_mode": {
    "name": "ipython",
    "version": 3
   },
   "file_extension": ".py",
   "mimetype": "text/x-python",
   "name": "python",
   "nbconvert_exporter": "python",
   "pygments_lexer": "ipython3",
   "version": "3.8.6"
  }
 },
 "nbformat": 4,
 "nbformat_minor": 5
}
