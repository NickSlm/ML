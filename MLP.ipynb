{
 "cells": [
  {
   "cell_type": "code",
   "execution_count": 1,
   "id": "8628f56d",
   "metadata": {},
   "outputs": [],
   "source": [
    "import tensorflow as tf\n",
    "from tensorflow import keras\n",
    "import numpy as np"
   ]
  },
  {
   "cell_type": "code",
   "execution_count": 2,
   "id": "222626b9",
   "metadata": {},
   "outputs": [
    {
     "data": {
      "text/plain": [
       "'2.12.0'"
      ]
     },
     "execution_count": 2,
     "metadata": {},
     "output_type": "execute_result"
    }
   ],
   "source": [
    "tf.__version__"
   ]
  },
  {
   "cell_type": "code",
   "execution_count": 3,
   "id": "9c22eba5",
   "metadata": {},
   "outputs": [
    {
     "data": {
      "text/plain": [
       "'2.12.0'"
      ]
     },
     "execution_count": 3,
     "metadata": {},
     "output_type": "execute_result"
    }
   ],
   "source": [
    "keras.__version__"
   ]
  },
  {
   "cell_type": "code",
   "execution_count": 4,
   "id": "b5d9c7ca",
   "metadata": {},
   "outputs": [
    {
     "data": {
      "text/plain": [
       "<module 'keras.api._v2.keras.datasets.fashion_mnist' from 'D:\\\\ml1\\\\my_env\\\\lib\\\\site-packages\\\\keras\\\\api\\\\_v2\\\\keras\\\\datasets\\\\fashion_mnist\\\\__init__.py'>"
      ]
     },
     "execution_count": 4,
     "metadata": {},
     "output_type": "execute_result"
    }
   ],
   "source": [
    "fashion_mnist = keras.datasets.fashion_mnist\n",
    "fashion_mnist"
   ]
  },
  {
   "cell_type": "code",
   "execution_count": 5,
   "id": "d4510cb6",
   "metadata": {},
   "outputs": [],
   "source": [
    "(X_train_full, y_train_full), (X_test, y_test) = fashion_mnist.load_data()"
   ]
  },
  {
   "cell_type": "code",
   "execution_count": 6,
   "id": "61c7c6e1",
   "metadata": {},
   "outputs": [],
   "source": [
    "from sklearn.model_selection import train_test_split\n",
    "from sklearn.preprocessing import MinMaxScaler"
   ]
  },
  {
   "cell_type": "code",
   "execution_count": 7,
   "id": "96aeeb06",
   "metadata": {},
   "outputs": [],
   "source": [
    "X_valid, X_train = X_train_full[:5000] / 255., X_train_full[5000:] / 255.\n",
    "y_valid, y_train = y_train_full[:5000], y_train_full[5000:]\n",
    "X_test = X_test / 255."
   ]
  },
  {
   "cell_type": "code",
   "execution_count": 8,
   "id": "57fd062e",
   "metadata": {},
   "outputs": [],
   "source": [
    "import matplotlib.pyplot as plt"
   ]
  },
  {
   "cell_type": "code",
   "execution_count": 9,
   "id": "d3405959",
   "metadata": {},
   "outputs": [],
   "source": [
    "# plt.imshow(X_train[0],cmap=\"binary\")\n",
    "# plt.axis(\"off\")\n",
    "# plt.show()"
   ]
  },
  {
   "cell_type": "code",
   "execution_count": 10,
   "id": "dc6b5c95",
   "metadata": {},
   "outputs": [],
   "source": [
    "class_names = [\"T-shirt/top\", \"Trouser\", \"Pullover\", \"Dress\", \"Coat\",\n",
    "               \"Sandal\", \"Shirt\", \"Sneaker\", \"Bag\", \"Ankle boot\"]"
   ]
  },
  {
   "cell_type": "code",
   "execution_count": 11,
   "id": "daf8d5c6",
   "metadata": {},
   "outputs": [],
   "source": [
    "\n",
    "model = keras.models.Sequential([keras.layers.Flatten(input_shape=[28,28]),\n",
    "                                keras.layers.Dense(300,activation=\"tanh\"),\n",
    "                                keras.layers.Dense(100,activation=\"tanh\"),\n",
    "                                keras.layers.Dense(10,activation=\"softmax\")])"
   ]
  },
  {
   "cell_type": "code",
   "execution_count": 12,
   "id": "13ffb8a7",
   "metadata": {},
   "outputs": [
    {
     "name": "stdout",
     "output_type": "stream",
     "text": [
      "Model: \"sequential\"\n",
      "_________________________________________________________________\n",
      " Layer (type)                Output Shape              Param #   \n",
      "=================================================================\n",
      " flatten (Flatten)           (None, 784)               0         \n",
      "                                                                 \n",
      " dense (Dense)               (None, 300)               235500    \n",
      "                                                                 \n",
      " dense_1 (Dense)             (None, 100)               30100     \n",
      "                                                                 \n",
      " dense_2 (Dense)             (None, 10)                1010      \n",
      "                                                                 \n",
      "=================================================================\n",
      "Total params: 266,610\n",
      "Trainable params: 266,610\n",
      "Non-trainable params: 0\n",
      "_________________________________________________________________\n"
     ]
    }
   ],
   "source": [
    "model.summary()"
   ]
  },
  {
   "cell_type": "code",
   "execution_count": 13,
   "id": "437ba032",
   "metadata": {},
   "outputs": [],
   "source": [
    "model.compile(loss=\"sparse_categorical_crossentropy\",\n",
    "             optimizer=\"sgd\",\n",
    "             metrics=[\"accuracy\"])"
   ]
  },
  {
   "cell_type": "code",
   "execution_count": 14,
   "id": "a8c3b5a3",
   "metadata": {},
   "outputs": [
    {
     "name": "stdout",
     "output_type": "stream",
     "text": [
      "Epoch 1/30\n",
      "1719/1719 [==============================] - 4s 2ms/step - loss: 0.6716 - accuracy: 0.7797 - val_loss: 0.4968 - val_accuracy: 0.8250\n",
      "Epoch 2/30\n",
      "1719/1719 [==============================] - 4s 2ms/step - loss: 0.4696 - accuracy: 0.8340 - val_loss: 0.4528 - val_accuracy: 0.8398\n",
      "Epoch 3/30\n",
      "1719/1719 [==============================] - 4s 2ms/step - loss: 0.4305 - accuracy: 0.8460 - val_loss: 0.4102 - val_accuracy: 0.8564\n",
      "Epoch 4/30\n",
      "1719/1719 [==============================] - 4s 2ms/step - loss: 0.4078 - accuracy: 0.8545 - val_loss: 0.3929 - val_accuracy: 0.8638\n",
      "Epoch 5/30\n",
      "1719/1719 [==============================] - 4s 2ms/step - loss: 0.3912 - accuracy: 0.8599 - val_loss: 0.4228 - val_accuracy: 0.8500\n",
      "Epoch 6/30\n",
      "1719/1719 [==============================] - 4s 2ms/step - loss: 0.3789 - accuracy: 0.8644 - val_loss: 0.3717 - val_accuracy: 0.8728\n",
      "Epoch 7/30\n",
      "1719/1719 [==============================] - 4s 2ms/step - loss: 0.3681 - accuracy: 0.8679 - val_loss: 0.3703 - val_accuracy: 0.8710\n",
      "Epoch 8/30\n",
      "1719/1719 [==============================] - 4s 2ms/step - loss: 0.3597 - accuracy: 0.8725 - val_loss: 0.3580 - val_accuracy: 0.8702\n",
      "Epoch 9/30\n",
      "1719/1719 [==============================] - 4s 2ms/step - loss: 0.3513 - accuracy: 0.8754 - val_loss: 0.3863 - val_accuracy: 0.8592\n",
      "Epoch 10/30\n",
      "1719/1719 [==============================] - 4s 2ms/step - loss: 0.3444 - accuracy: 0.8762 - val_loss: 0.3519 - val_accuracy: 0.8736\n",
      "Epoch 11/30\n",
      "1719/1719 [==============================] - 4s 2ms/step - loss: 0.3377 - accuracy: 0.8791 - val_loss: 0.3487 - val_accuracy: 0.8742\n",
      "Epoch 12/30\n",
      "1719/1719 [==============================] - 4s 2ms/step - loss: 0.3318 - accuracy: 0.8817 - val_loss: 0.3456 - val_accuracy: 0.8740\n",
      "Epoch 13/30\n",
      "1719/1719 [==============================] - 4s 2ms/step - loss: 0.3250 - accuracy: 0.8829 - val_loss: 0.3350 - val_accuracy: 0.8764\n",
      "Epoch 14/30\n",
      "1719/1719 [==============================] - 4s 2ms/step - loss: 0.3207 - accuracy: 0.8846 - val_loss: 0.3401 - val_accuracy: 0.8754\n",
      "Epoch 15/30\n",
      "1719/1719 [==============================] - 4s 2ms/step - loss: 0.3152 - accuracy: 0.8860 - val_loss: 0.3359 - val_accuracy: 0.8766\n",
      "Epoch 16/30\n",
      "1719/1719 [==============================] - 4s 2ms/step - loss: 0.3102 - accuracy: 0.8870 - val_loss: 0.3379 - val_accuracy: 0.8800\n",
      "Epoch 17/30\n",
      "1719/1719 [==============================] - 4s 2ms/step - loss: 0.3057 - accuracy: 0.8893 - val_loss: 0.3427 - val_accuracy: 0.8796\n",
      "Epoch 18/30\n",
      "1719/1719 [==============================] - 4s 2ms/step - loss: 0.3014 - accuracy: 0.8909 - val_loss: 0.3257 - val_accuracy: 0.8822\n",
      "Epoch 19/30\n",
      "1719/1719 [==============================] - 4s 2ms/step - loss: 0.2965 - accuracy: 0.8924 - val_loss: 0.3302 - val_accuracy: 0.8814\n",
      "Epoch 20/30\n",
      "1719/1719 [==============================] - 4s 2ms/step - loss: 0.2928 - accuracy: 0.8942 - val_loss: 0.3222 - val_accuracy: 0.8834\n",
      "Epoch 21/30\n",
      "1719/1719 [==============================] - 4s 2ms/step - loss: 0.2886 - accuracy: 0.8953 - val_loss: 0.3209 - val_accuracy: 0.8812\n",
      "Epoch 22/30\n",
      "1719/1719 [==============================] - 4s 2ms/step - loss: 0.2855 - accuracy: 0.8958 - val_loss: 0.3156 - val_accuracy: 0.8854\n",
      "Epoch 23/30\n",
      "1719/1719 [==============================] - 4s 2ms/step - loss: 0.2816 - accuracy: 0.8974 - val_loss: 0.3157 - val_accuracy: 0.8844\n",
      "Epoch 24/30\n",
      "1719/1719 [==============================] - 4s 2ms/step - loss: 0.2779 - accuracy: 0.8999 - val_loss: 0.3116 - val_accuracy: 0.8842\n",
      "Epoch 25/30\n",
      "1719/1719 [==============================] - 4s 2ms/step - loss: 0.2742 - accuracy: 0.9007 - val_loss: 0.3219 - val_accuracy: 0.8838\n",
      "Epoch 26/30\n",
      "1719/1719 [==============================] - 4s 2ms/step - loss: 0.2719 - accuracy: 0.9007 - val_loss: 0.3152 - val_accuracy: 0.8854\n",
      "Epoch 27/30\n",
      "1719/1719 [==============================] - 4s 2ms/step - loss: 0.2681 - accuracy: 0.9024 - val_loss: 0.3094 - val_accuracy: 0.8834\n",
      "Epoch 28/30\n",
      "1719/1719 [==============================] - 4s 2ms/step - loss: 0.2643 - accuracy: 0.9039 - val_loss: 0.3102 - val_accuracy: 0.8842\n",
      "Epoch 29/30\n",
      "1719/1719 [==============================] - 4s 2ms/step - loss: 0.2625 - accuracy: 0.9041 - val_loss: 0.3115 - val_accuracy: 0.8876\n",
      "Epoch 30/30\n",
      "1719/1719 [==============================] - 4s 2ms/step - loss: 0.2587 - accuracy: 0.9062 - val_loss: 0.3131 - val_accuracy: 0.8864\n"
     ]
    }
   ],
   "source": [
    "history = model.fit(X_train, y_train, epochs=30, validation_data=(X_valid, y_valid))"
   ]
  },
  {
   "cell_type": "code",
   "execution_count": 15,
   "id": "147b3faf",
   "metadata": {
    "scrolled": true
   },
   "outputs": [
    {
     "data": {
      "text/plain": [
       "{'verbose': 1, 'epochs': 30, 'steps': 1719}"
      ]
     },
     "execution_count": 15,
     "metadata": {},
     "output_type": "execute_result"
    }
   ],
   "source": [
    "history.params"
   ]
  },
  {
   "cell_type": "code",
   "execution_count": 16,
   "id": "2368ebcb",
   "metadata": {},
   "outputs": [
    {
     "data": {
      "text/plain": [
       "{'loss': [0.6716053485870361,\n",
       "  0.46963417530059814,\n",
       "  0.43049970269203186,\n",
       "  0.4078247547149658,\n",
       "  0.3911503255367279,\n",
       "  0.37890198826789856,\n",
       "  0.3680667579174042,\n",
       "  0.3597409129142761,\n",
       "  0.35132256150245667,\n",
       "  0.34437304735183716,\n",
       "  0.33768752217292786,\n",
       "  0.33181601762771606,\n",
       "  0.324966162443161,\n",
       "  0.3207332491874695,\n",
       "  0.3151671886444092,\n",
       "  0.3101760745048523,\n",
       "  0.30567941069602966,\n",
       "  0.30135834217071533,\n",
       "  0.29652097821235657,\n",
       "  0.2927865982055664,\n",
       "  0.28856462240219116,\n",
       "  0.2854718863964081,\n",
       "  0.28162428736686707,\n",
       "  0.2778592109680176,\n",
       "  0.27422040700912476,\n",
       "  0.2718842029571533,\n",
       "  0.26810401678085327,\n",
       "  0.2642946243286133,\n",
       "  0.262452632188797,\n",
       "  0.258713960647583],\n",
       " 'accuracy': [0.7797454595565796,\n",
       "  0.8340363502502441,\n",
       "  0.8459818363189697,\n",
       "  0.854454517364502,\n",
       "  0.8598726987838745,\n",
       "  0.8644000291824341,\n",
       "  0.8679272532463074,\n",
       "  0.8725090622901917,\n",
       "  0.8754000067710876,\n",
       "  0.87616366147995,\n",
       "  0.8791454434394836,\n",
       "  0.8816909193992615,\n",
       "  0.8828545212745667,\n",
       "  0.8846363425254822,\n",
       "  0.8860363364219666,\n",
       "  0.8870363831520081,\n",
       "  0.8893091082572937,\n",
       "  0.890890896320343,\n",
       "  0.8924000263214111,\n",
       "  0.8942363858222961,\n",
       "  0.8953454494476318,\n",
       "  0.895799994468689,\n",
       "  0.8974363803863525,\n",
       "  0.8999454379081726,\n",
       "  0.9007090926170349,\n",
       "  0.9007272720336914,\n",
       "  0.902436375617981,\n",
       "  0.9038727283477783,\n",
       "  0.9040545225143433,\n",
       "  0.9062181711196899],\n",
       " 'val_loss': [0.4968179166316986,\n",
       "  0.45275941491127014,\n",
       "  0.41021114587783813,\n",
       "  0.39289742708206177,\n",
       "  0.4227812886238098,\n",
       "  0.3716660439968109,\n",
       "  0.3702772557735443,\n",
       "  0.35803937911987305,\n",
       "  0.3863365948200226,\n",
       "  0.3519022762775421,\n",
       "  0.3486593961715698,\n",
       "  0.3455647826194763,\n",
       "  0.33502107858657837,\n",
       "  0.3400534689426422,\n",
       "  0.3358769416809082,\n",
       "  0.3378693461418152,\n",
       "  0.3426801860332489,\n",
       "  0.3257308006286621,\n",
       "  0.3301774859428406,\n",
       "  0.32216617465019226,\n",
       "  0.3209487199783325,\n",
       "  0.3155995309352875,\n",
       "  0.31572794914245605,\n",
       "  0.31161952018737793,\n",
       "  0.3218803405761719,\n",
       "  0.3151665925979614,\n",
       "  0.30935731530189514,\n",
       "  0.31024056673049927,\n",
       "  0.3115203380584717,\n",
       "  0.3130570352077484],\n",
       " 'val_accuracy': [0.824999988079071,\n",
       "  0.8398000001907349,\n",
       "  0.8564000129699707,\n",
       "  0.8637999892234802,\n",
       "  0.8500000238418579,\n",
       "  0.8727999925613403,\n",
       "  0.8709999918937683,\n",
       "  0.870199978351593,\n",
       "  0.8592000007629395,\n",
       "  0.8736000061035156,\n",
       "  0.8741999864578247,\n",
       "  0.8740000128746033,\n",
       "  0.8763999938964844,\n",
       "  0.8754000067710876,\n",
       "  0.8766000270843506,\n",
       "  0.8799999952316284,\n",
       "  0.8795999884605408,\n",
       "  0.8822000026702881,\n",
       "  0.8813999891281128,\n",
       "  0.883400022983551,\n",
       "  0.8812000155448914,\n",
       "  0.8853999972343445,\n",
       "  0.8844000101089478,\n",
       "  0.8841999769210815,\n",
       "  0.8838000297546387,\n",
       "  0.8853999972343445,\n",
       "  0.883400022983551,\n",
       "  0.8841999769210815,\n",
       "  0.8876000046730042,\n",
       "  0.8863999843597412]}"
      ]
     },
     "execution_count": 16,
     "metadata": {},
     "output_type": "execute_result"
    }
   ],
   "source": [
    "history.history"
   ]
  },
  {
   "cell_type": "code",
   "execution_count": 17,
   "id": "1bd6a5a8",
   "metadata": {},
   "outputs": [
    {
     "data": {
      "text/plain": [
       "dict_keys(['loss', 'accuracy', 'val_loss', 'val_accuracy'])"
      ]
     },
     "execution_count": 17,
     "metadata": {},
     "output_type": "execute_result"
    }
   ],
   "source": [
    "history.history.keys()"
   ]
  },
  {
   "cell_type": "code",
   "execution_count": 19,
   "id": "d285ee86",
   "metadata": {},
   "outputs": [
    {
     "name": "stdout",
     "output_type": "stream",
     "text": [
      "313/313 [==============================] - 0s 1ms/step - loss: 0.3438 - accuracy: 0.8788\n"
     ]
    },
    {
     "data": {
      "text/plain": [
       "[0.3438413441181183, 0.8787999749183655]"
      ]
     },
     "execution_count": 19,
     "metadata": {},
     "output_type": "execute_result"
    }
   ],
   "source": [
    "model.evaluate(X_test, y_test)"
   ]
  },
  {
   "cell_type": "code",
   "execution_count": null,
   "id": "a8765fe3",
   "metadata": {},
   "outputs": [],
   "source": []
  }
 ],
 "metadata": {
  "kernelspec": {
   "display_name": "Python 3 (ipykernel)",
   "language": "python",
   "name": "python3"
  },
  "language_info": {
   "codemirror_mode": {
    "name": "ipython",
    "version": 3
   },
   "file_extension": ".py",
   "mimetype": "text/x-python",
   "name": "python",
   "nbconvert_exporter": "python",
   "pygments_lexer": "ipython3",
   "version": "3.8.6"
  }
 },
 "nbformat": 4,
 "nbformat_minor": 5
}
